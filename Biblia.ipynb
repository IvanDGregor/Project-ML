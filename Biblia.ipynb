{
 "cells": [
  {
   "cell_type": "markdown",
   "metadata": {},
   "source": [
    "# Biblia"
   ]
  },
  {
   "cell_type": "code",
   "execution_count": 122,
   "metadata": {},
   "outputs": [],
   "source": [
    "import pandas as pd\n",
    "import numpy as np\n",
    "\n",
    "# Import necessary modules\n",
    "from sklearn.model_selection import train_test_split\n",
    "from sklearn.metrics import mean_squared_error\n",
    "from sklearn.experimental import enable_hist_gradient_boosting\n",
    "from sklearn.ensemble import HistGradientBoostingClassifier\n",
    "from math import sqrt"
   ]
  },
  {
   "cell_type": "code",
   "execution_count": 123,
   "metadata": {},
   "outputs": [],
   "source": [
    "biblia = pd.read_csv('input/biblia_train.csv')"
   ]
  },
  {
   "cell_type": "code",
   "execution_count": 124,
   "metadata": {
    "scrolled": true
   },
   "outputs": [
    {
     "data": {
      "text/html": [
       "<div>\n",
       "<style scoped>\n",
       "    .dataframe tbody tr th:only-of-type {\n",
       "        vertical-align: middle;\n",
       "    }\n",
       "\n",
       "    .dataframe tbody tr th {\n",
       "        vertical-align: top;\n",
       "    }\n",
       "\n",
       "    .dataframe thead th {\n",
       "        text-align: right;\n",
       "    }\n",
       "</style>\n",
       "<table border=\"1\" class=\"dataframe\">\n",
       "  <thead>\n",
       "    <tr style=\"text-align: right;\">\n",
       "      <th></th>\n",
       "      <th>0</th>\n",
       "      <th>1</th>\n",
       "      <th>2</th>\n",
       "      <th>3</th>\n",
       "      <th>4</th>\n",
       "      <th>5</th>\n",
       "      <th>6</th>\n",
       "      <th>7</th>\n",
       "      <th>8</th>\n",
       "      <th>9</th>\n",
       "      <th>author</th>\n",
       "    </tr>\n",
       "  </thead>\n",
       "  <tbody>\n",
       "    <tr>\n",
       "      <th>0</th>\n",
       "      <td>0.142636</td>\n",
       "      <td>0.431070</td>\n",
       "      <td>0.032912</td>\n",
       "      <td>-0.486796</td>\n",
       "      <td>0.261718</td>\n",
       "      <td>-1.013906</td>\n",
       "      <td>-0.081827</td>\n",
       "      <td>0.330352</td>\n",
       "      <td>0.438262</td>\n",
       "      <td>-0.761088</td>\n",
       "      <td>Ubuntius</td>\n",
       "    </tr>\n",
       "    <tr>\n",
       "      <th>1</th>\n",
       "      <td>0.019197</td>\n",
       "      <td>0.525284</td>\n",
       "      <td>0.068476</td>\n",
       "      <td>0.166658</td>\n",
       "      <td>0.261718</td>\n",
       "      <td>0.231839</td>\n",
       "      <td>0.635431</td>\n",
       "      <td>0.133209</td>\n",
       "      <td>0.313536</td>\n",
       "      <td>-0.002374</td>\n",
       "      <td>Philippus</td>\n",
       "    </tr>\n",
       "    <tr>\n",
       "      <th>2</th>\n",
       "      <td>0.093260</td>\n",
       "      <td>-0.087108</td>\n",
       "      <td>-2.268081</td>\n",
       "      <td>-0.164963</td>\n",
       "      <td>0.261718</td>\n",
       "      <td>1.477585</td>\n",
       "      <td>0.635431</td>\n",
       "      <td>-0.370641</td>\n",
       "      <td>0.126447</td>\n",
       "      <td>1.078357</td>\n",
       "      <td>Marcus</td>\n",
       "    </tr>\n",
       "    <tr>\n",
       "      <th>3</th>\n",
       "      <td>-0.017834</td>\n",
       "      <td>-0.228430</td>\n",
       "      <td>0.370770</td>\n",
       "      <td>1.293671</td>\n",
       "      <td>0.172340</td>\n",
       "      <td>-0.058835</td>\n",
       "      <td>0.446679</td>\n",
       "      <td>1.609556</td>\n",
       "      <td>2.277968</td>\n",
       "      <td>-0.172339</td>\n",
       "      <td>Clarius</td>\n",
       "    </tr>\n",
       "    <tr>\n",
       "      <th>4</th>\n",
       "      <td>0.080916</td>\n",
       "      <td>-0.142067</td>\n",
       "      <td>0.171611</td>\n",
       "      <td>-0.470713</td>\n",
       "      <td>0.261718</td>\n",
       "      <td>-0.141884</td>\n",
       "      <td>-0.044076</td>\n",
       "      <td>0.375551</td>\n",
       "      <td>0.032902</td>\n",
       "      <td>0.009898</td>\n",
       "      <td>Philippus</td>\n",
       "    </tr>\n",
       "    <tr>\n",
       "      <th>...</th>\n",
       "      <td>...</td>\n",
       "      <td>...</td>\n",
       "      <td>...</td>\n",
       "      <td>...</td>\n",
       "      <td>...</td>\n",
       "      <td>...</td>\n",
       "      <td>...</td>\n",
       "      <td>...</td>\n",
       "      <td>...</td>\n",
       "      <td>...</td>\n",
       "      <td>...</td>\n",
       "    </tr>\n",
       "    <tr>\n",
       "      <th>12012</th>\n",
       "      <td>0.352481</td>\n",
       "      <td>0.211237</td>\n",
       "      <td>0.306755</td>\n",
       "      <td>-0.946242</td>\n",
       "      <td>0.172340</td>\n",
       "      <td>0.190314</td>\n",
       "      <td>0.371178</td>\n",
       "      <td>0.436691</td>\n",
       "      <td>0.064084</td>\n",
       "      <td>0.090426</td>\n",
       "      <td>Marcus</td>\n",
       "    </tr>\n",
       "    <tr>\n",
       "      <th>12013</th>\n",
       "      <td>0.019197</td>\n",
       "      <td>-0.087108</td>\n",
       "      <td>0.292529</td>\n",
       "      <td>0.240776</td>\n",
       "      <td>0.172340</td>\n",
       "      <td>0.148790</td>\n",
       "      <td>-0.195078</td>\n",
       "      <td>-0.999894</td>\n",
       "      <td>-0.590727</td>\n",
       "      <td>0.365946</td>\n",
       "      <td>Marcus</td>\n",
       "    </tr>\n",
       "    <tr>\n",
       "      <th>12014</th>\n",
       "      <td>0.624046</td>\n",
       "      <td>-2.426761</td>\n",
       "      <td>0.178724</td>\n",
       "      <td>0.711352</td>\n",
       "      <td>1.066121</td>\n",
       "      <td>-0.930856</td>\n",
       "      <td>-0.836835</td>\n",
       "      <td>0.397297</td>\n",
       "      <td>0.937165</td>\n",
       "      <td>-0.277726</td>\n",
       "      <td>Blanquius</td>\n",
       "    </tr>\n",
       "    <tr>\n",
       "      <th>12015</th>\n",
       "      <td>0.130292</td>\n",
       "      <td>0.870736</td>\n",
       "      <td>-3.210528</td>\n",
       "      <td>0.062493</td>\n",
       "      <td>0.261718</td>\n",
       "      <td>0.522513</td>\n",
       "      <td>0.446679</td>\n",
       "      <td>1.069283</td>\n",
       "      <td>0.188810</td>\n",
       "      <td>0.338859</td>\n",
       "      <td>Marcus</td>\n",
       "    </tr>\n",
       "    <tr>\n",
       "      <th>12016</th>\n",
       "      <td>0.253730</td>\n",
       "      <td>-2.426761</td>\n",
       "      <td>0.352988</td>\n",
       "      <td>-0.051190</td>\n",
       "      <td>-0.095795</td>\n",
       "      <td>1.643684</td>\n",
       "      <td>0.220177</td>\n",
       "      <td>-1.489842</td>\n",
       "      <td>-0.808997</td>\n",
       "      <td>1.484216</td>\n",
       "      <td>Marcus</td>\n",
       "    </tr>\n",
       "  </tbody>\n",
       "</table>\n",
       "<p>12017 rows × 11 columns</p>\n",
       "</div>"
      ],
      "text/plain": [
       "              0         1         2         3         4         5         6  \\\n",
       "0      0.142636  0.431070  0.032912 -0.486796  0.261718 -1.013906 -0.081827   \n",
       "1      0.019197  0.525284  0.068476  0.166658  0.261718  0.231839  0.635431   \n",
       "2      0.093260 -0.087108 -2.268081 -0.164963  0.261718  1.477585  0.635431   \n",
       "3     -0.017834 -0.228430  0.370770  1.293671  0.172340 -0.058835  0.446679   \n",
       "4      0.080916 -0.142067  0.171611 -0.470713  0.261718 -0.141884 -0.044076   \n",
       "...         ...       ...       ...       ...       ...       ...       ...   \n",
       "12012  0.352481  0.211237  0.306755 -0.946242  0.172340  0.190314  0.371178   \n",
       "12013  0.019197 -0.087108  0.292529  0.240776  0.172340  0.148790 -0.195078   \n",
       "12014  0.624046 -2.426761  0.178724  0.711352  1.066121 -0.930856 -0.836835   \n",
       "12015  0.130292  0.870736 -3.210528  0.062493  0.261718  0.522513  0.446679   \n",
       "12016  0.253730 -2.426761  0.352988 -0.051190 -0.095795  1.643684  0.220177   \n",
       "\n",
       "              7         8         9     author  \n",
       "0      0.330352  0.438262 -0.761088   Ubuntius  \n",
       "1      0.133209  0.313536 -0.002374  Philippus  \n",
       "2     -0.370641  0.126447  1.078357     Marcus  \n",
       "3      1.609556  2.277968 -0.172339    Clarius  \n",
       "4      0.375551  0.032902  0.009898  Philippus  \n",
       "...         ...       ...       ...        ...  \n",
       "12012  0.436691  0.064084  0.090426     Marcus  \n",
       "12013 -0.999894 -0.590727  0.365946     Marcus  \n",
       "12014  0.397297  0.937165 -0.277726  Blanquius  \n",
       "12015  1.069283  0.188810  0.338859     Marcus  \n",
       "12016 -1.489842 -0.808997  1.484216     Marcus  \n",
       "\n",
       "[12017 rows x 11 columns]"
      ]
     },
     "execution_count": 124,
     "metadata": {},
     "output_type": "execute_result"
    }
   ],
   "source": [
    "biblia.drop(columns=['id'], inplace=True)\n",
    "biblia"
   ]
  },
  {
   "cell_type": "code",
   "execution_count": 125,
   "metadata": {},
   "outputs": [],
   "source": [
    "X = biblia.iloc[:, :-1]\n",
    "y = biblia.iloc[:,-1]"
   ]
  },
  {
   "cell_type": "code",
   "execution_count": 126,
   "metadata": {},
   "outputs": [],
   "source": [
    "gbdt = HistGradientBoostingClassifier(min_samples_leaf=1).fit(X, y)"
   ]
  },
  {
   "cell_type": "code",
   "execution_count": 127,
   "metadata": {},
   "outputs": [],
   "source": [
    "X_train, X_test, y_train, y_test = train_test_split(X, y, random_state=42)"
   ]
  },
  {
   "cell_type": "code",
   "execution_count": 173,
   "metadata": {},
   "outputs": [
    {
     "data": {
      "text/plain": [
       "HistGradientBoostingClassifier(l2_regularization=0.0, learning_rate=0.1,\n",
       "                               loss='auto', max_bins=255, max_depth=None,\n",
       "                               max_iter=100, max_leaf_nodes=31,\n",
       "                               min_samples_leaf=150, n_iter_no_change=None,\n",
       "                               random_state=None, scoring=None, tol=1e-07,\n",
       "                               validation_fraction=0.1, verbose=0,\n",
       "                               warm_start=False)"
      ]
     },
     "execution_count": 173,
     "metadata": {},
     "output_type": "execute_result"
    }
   ],
   "source": [
    "gbdt = HistGradientBoostingClassifier(min_samples_leaf=150).fit(X, y)\n",
    "gbdt.fit(X_train, y_train)"
   ]
  },
  {
   "cell_type": "code",
   "execution_count": 174,
   "metadata": {
    "scrolled": true
   },
   "outputs": [
    {
     "name": "stdout",
     "output_type": "stream",
     "text": [
      "1.0\n",
      "0.9986688851913478\n"
     ]
    }
   ],
   "source": [
    "print(gbdt.score(X_train, y_train))\n",
    "print(gbdt.score(X_test, y_test))"
   ]
  },
  {
   "cell_type": "markdown",
   "metadata": {},
   "source": [
    "# Biblia Test"
   ]
  },
  {
   "cell_type": "code",
   "execution_count": 175,
   "metadata": {},
   "outputs": [],
   "source": [
    "biblia_test = pd.read_csv('input/biblia_test.csv')"
   ]
  },
  {
   "cell_type": "code",
   "execution_count": 176,
   "metadata": {},
   "outputs": [],
   "source": [
    "biblia_test.drop(columns=['id'], inplace=True)"
   ]
  },
  {
   "cell_type": "code",
   "execution_count": 177,
   "metadata": {},
   "outputs": [],
   "source": [
    "hist_grad_test = gbdt.predict(biblia_test)"
   ]
  },
  {
   "cell_type": "code",
   "execution_count": 178,
   "metadata": {},
   "outputs": [
    {
     "data": {
      "text/plain": [
       "array(['Philippus', 'Philippus', 'Marcus', ..., 'Blanquius', 'Marcus',\n",
       "       'Philippus'], dtype=object)"
      ]
     },
     "execution_count": 178,
     "metadata": {},
     "output_type": "execute_result"
    }
   ],
   "source": [
    "hist_grad_test"
   ]
  },
  {
   "cell_type": "code",
   "execution_count": 179,
   "metadata": {},
   "outputs": [],
   "source": [
    "df_hist_grad_test = pd.DataFrame(hist_grad_test)"
   ]
  },
  {
   "cell_type": "code",
   "execution_count": 180,
   "metadata": {},
   "outputs": [],
   "source": [
    "df_hist_grad_test.rename(columns={0:'author'},inplace=True)"
   ]
  },
  {
   "cell_type": "code",
   "execution_count": 181,
   "metadata": {},
   "outputs": [],
   "source": [
    "df_hist_grad_test.reset_index(inplace=True)"
   ]
  },
  {
   "cell_type": "code",
   "execution_count": 182,
   "metadata": {},
   "outputs": [],
   "source": [
    "df_hist_grad_test.rename(columns={'index':'id'},inplace=True)"
   ]
  },
  {
   "cell_type": "code",
   "execution_count": 183,
   "metadata": {},
   "outputs": [],
   "source": [
    "df_hist_grad_test.set_index('id',inplace=True)"
   ]
  },
  {
   "cell_type": "code",
   "execution_count": 184,
   "metadata": {},
   "outputs": [],
   "source": [
    "df_hist_grad_test.to_csv('output/biblia_predict_hist.csv')"
   ]
  }
 ],
 "metadata": {
  "kernelspec": {
   "display_name": "Python 3",
   "language": "python",
   "name": "python3"
  },
  "language_info": {
   "codemirror_mode": {
    "name": "ipython",
    "version": 3
   },
   "file_extension": ".py",
   "mimetype": "text/x-python",
   "name": "python",
   "nbconvert_exporter": "python",
   "pygments_lexer": "ipython3",
   "version": "3.6.9"
  }
 },
 "nbformat": 4,
 "nbformat_minor": 2
}
