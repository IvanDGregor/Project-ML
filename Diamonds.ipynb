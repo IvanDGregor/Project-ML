{
 "cells": [
  {
   "cell_type": "markdown",
   "metadata": {},
   "source": [
    "# Diamonds - "
   ]
  },
  {
   "cell_type": "code",
   "execution_count": 184,
   "metadata": {},
   "outputs": [],
   "source": [
    "import pandas as pd\n",
    "import numpy as np\n",
    "from sklearn.ensemble import RandomForestRegressor\n",
    "from sklearn.feature_selection import RFECV\n",
    "from sklearn.metrics import *\n",
    "from sklearn.model_selection import train_test_split\n",
    "import seaborn as sns; sns.set()\n",
    "import h2o\n",
    "import os\n",
    "from h2o.estimators.gbm import H2OGradientBoostingEstimator\n",
    "from h2o.estimators.random_forest import H2ORandomForestEstimator\n",
    "import matplotlib.pyplot as plt\n",
    "import sklearn\n",
    "\n",
    "# Import necessary modules\n",
    "from sklearn.model_selection import train_test_split\n",
    "from sklearn.metrics import mean_squared_error\n",
    "from math import sqrt\n",
    "\n",
    "# Keras specific\n",
    "import keras\n",
    "from keras.models import Sequential\n",
    "from keras.layers import Dense"
   ]
  },
  {
   "cell_type": "code",
   "execution_count": 119,
   "metadata": {},
   "outputs": [],
   "source": [
    "diamonds = pd.read_csv('input/diamonds_train.csv')\n",
    "diamonds_dumies = pd.read_csv('input/diamonds_train.csv')"
   ]
  },
  {
   "cell_type": "code",
   "execution_count": 120,
   "metadata": {},
   "outputs": [
    {
     "data": {
      "text/html": [
       "<div>\n",
       "<style scoped>\n",
       "    .dataframe tbody tr th:only-of-type {\n",
       "        vertical-align: middle;\n",
       "    }\n",
       "\n",
       "    .dataframe tbody tr th {\n",
       "        vertical-align: top;\n",
       "    }\n",
       "\n",
       "    .dataframe thead th {\n",
       "        text-align: right;\n",
       "    }\n",
       "</style>\n",
       "<table border=\"1\" class=\"dataframe\">\n",
       "  <thead>\n",
       "    <tr style=\"text-align: right;\">\n",
       "      <th></th>\n",
       "      <th>id</th>\n",
       "      <th>carat</th>\n",
       "      <th>cut</th>\n",
       "      <th>color</th>\n",
       "      <th>clarity</th>\n",
       "      <th>depth</th>\n",
       "      <th>table</th>\n",
       "      <th>x</th>\n",
       "      <th>y</th>\n",
       "      <th>z</th>\n",
       "      <th>price</th>\n",
       "    </tr>\n",
       "  </thead>\n",
       "  <tbody>\n",
       "    <tr>\n",
       "      <th>0</th>\n",
       "      <td>0</td>\n",
       "      <td>0.78</td>\n",
       "      <td>Premium</td>\n",
       "      <td>F</td>\n",
       "      <td>VS1</td>\n",
       "      <td>61.5</td>\n",
       "      <td>58.0</td>\n",
       "      <td>5.93</td>\n",
       "      <td>5.98</td>\n",
       "      <td>3.66</td>\n",
       "      <td>3446</td>\n",
       "    </tr>\n",
       "    <tr>\n",
       "      <th>1</th>\n",
       "      <td>1</td>\n",
       "      <td>0.31</td>\n",
       "      <td>Ideal</td>\n",
       "      <td>D</td>\n",
       "      <td>SI1</td>\n",
       "      <td>60.8</td>\n",
       "      <td>56.0</td>\n",
       "      <td>4.37</td>\n",
       "      <td>4.32</td>\n",
       "      <td>2.64</td>\n",
       "      <td>732</td>\n",
       "    </tr>\n",
       "    <tr>\n",
       "      <th>2</th>\n",
       "      <td>2</td>\n",
       "      <td>0.30</td>\n",
       "      <td>Ideal</td>\n",
       "      <td>F</td>\n",
       "      <td>SI1</td>\n",
       "      <td>62.3</td>\n",
       "      <td>54.0</td>\n",
       "      <td>4.30</td>\n",
       "      <td>4.34</td>\n",
       "      <td>2.69</td>\n",
       "      <td>475</td>\n",
       "    </tr>\n",
       "    <tr>\n",
       "      <th>3</th>\n",
       "      <td>3</td>\n",
       "      <td>1.04</td>\n",
       "      <td>Ideal</td>\n",
       "      <td>E</td>\n",
       "      <td>VVS2</td>\n",
       "      <td>62.0</td>\n",
       "      <td>58.0</td>\n",
       "      <td>6.54</td>\n",
       "      <td>6.46</td>\n",
       "      <td>4.03</td>\n",
       "      <td>9552</td>\n",
       "    </tr>\n",
       "    <tr>\n",
       "      <th>4</th>\n",
       "      <td>4</td>\n",
       "      <td>0.65</td>\n",
       "      <td>Ideal</td>\n",
       "      <td>J</td>\n",
       "      <td>SI1</td>\n",
       "      <td>61.4</td>\n",
       "      <td>55.0</td>\n",
       "      <td>5.58</td>\n",
       "      <td>5.62</td>\n",
       "      <td>3.44</td>\n",
       "      <td>1276</td>\n",
       "    </tr>\n",
       "    <tr>\n",
       "      <th>...</th>\n",
       "      <td>...</td>\n",
       "      <td>...</td>\n",
       "      <td>...</td>\n",
       "      <td>...</td>\n",
       "      <td>...</td>\n",
       "      <td>...</td>\n",
       "      <td>...</td>\n",
       "      <td>...</td>\n",
       "      <td>...</td>\n",
       "      <td>...</td>\n",
       "      <td>...</td>\n",
       "    </tr>\n",
       "    <tr>\n",
       "      <th>40340</th>\n",
       "      <td>40340</td>\n",
       "      <td>0.50</td>\n",
       "      <td>Ideal</td>\n",
       "      <td>E</td>\n",
       "      <td>VS1</td>\n",
       "      <td>61.9</td>\n",
       "      <td>56.0</td>\n",
       "      <td>5.09</td>\n",
       "      <td>5.12</td>\n",
       "      <td>3.16</td>\n",
       "      <td>1716</td>\n",
       "    </tr>\n",
       "    <tr>\n",
       "      <th>40341</th>\n",
       "      <td>40341</td>\n",
       "      <td>0.33</td>\n",
       "      <td>Ideal</td>\n",
       "      <td>D</td>\n",
       "      <td>VS2</td>\n",
       "      <td>61.8</td>\n",
       "      <td>56.0</td>\n",
       "      <td>4.40</td>\n",
       "      <td>4.44</td>\n",
       "      <td>2.73</td>\n",
       "      <td>781</td>\n",
       "    </tr>\n",
       "    <tr>\n",
       "      <th>40342</th>\n",
       "      <td>40342</td>\n",
       "      <td>0.40</td>\n",
       "      <td>Premium</td>\n",
       "      <td>G</td>\n",
       "      <td>VVS1</td>\n",
       "      <td>61.5</td>\n",
       "      <td>58.0</td>\n",
       "      <td>4.69</td>\n",
       "      <td>4.74</td>\n",
       "      <td>2.90</td>\n",
       "      <td>1123</td>\n",
       "    </tr>\n",
       "    <tr>\n",
       "      <th>40343</th>\n",
       "      <td>40343</td>\n",
       "      <td>1.06</td>\n",
       "      <td>Ideal</td>\n",
       "      <td>I</td>\n",
       "      <td>VS1</td>\n",
       "      <td>61.2</td>\n",
       "      <td>57.0</td>\n",
       "      <td>6.59</td>\n",
       "      <td>6.56</td>\n",
       "      <td>4.03</td>\n",
       "      <td>5651</td>\n",
       "    </tr>\n",
       "    <tr>\n",
       "      <th>40344</th>\n",
       "      <td>40344</td>\n",
       "      <td>1.01</td>\n",
       "      <td>Very Good</td>\n",
       "      <td>H</td>\n",
       "      <td>SI2</td>\n",
       "      <td>63.4</td>\n",
       "      <td>55.0</td>\n",
       "      <td>6.35</td>\n",
       "      <td>6.29</td>\n",
       "      <td>4.01</td>\n",
       "      <td>3959</td>\n",
       "    </tr>\n",
       "  </tbody>\n",
       "</table>\n",
       "<p>40345 rows × 11 columns</p>\n",
       "</div>"
      ],
      "text/plain": [
       "          id  carat        cut color clarity  depth  table     x     y     z  \\\n",
       "0          0   0.78    Premium     F     VS1   61.5   58.0  5.93  5.98  3.66   \n",
       "1          1   0.31      Ideal     D     SI1   60.8   56.0  4.37  4.32  2.64   \n",
       "2          2   0.30      Ideal     F     SI1   62.3   54.0  4.30  4.34  2.69   \n",
       "3          3   1.04      Ideal     E    VVS2   62.0   58.0  6.54  6.46  4.03   \n",
       "4          4   0.65      Ideal     J     SI1   61.4   55.0  5.58  5.62  3.44   \n",
       "...      ...    ...        ...   ...     ...    ...    ...   ...   ...   ...   \n",
       "40340  40340   0.50      Ideal     E     VS1   61.9   56.0  5.09  5.12  3.16   \n",
       "40341  40341   0.33      Ideal     D     VS2   61.8   56.0  4.40  4.44  2.73   \n",
       "40342  40342   0.40    Premium     G    VVS1   61.5   58.0  4.69  4.74  2.90   \n",
       "40343  40343   1.06      Ideal     I     VS1   61.2   57.0  6.59  6.56  4.03   \n",
       "40344  40344   1.01  Very Good     H     SI2   63.4   55.0  6.35  6.29  4.01   \n",
       "\n",
       "       price  \n",
       "0       3446  \n",
       "1        732  \n",
       "2        475  \n",
       "3       9552  \n",
       "4       1276  \n",
       "...      ...  \n",
       "40340   1716  \n",
       "40341    781  \n",
       "40342   1123  \n",
       "40343   5651  \n",
       "40344   3959  \n",
       "\n",
       "[40345 rows x 11 columns]"
      ]
     },
     "execution_count": 120,
     "metadata": {},
     "output_type": "execute_result"
    }
   ],
   "source": [
    "diamonds"
   ]
  },
  {
   "cell_type": "code",
   "execution_count": 121,
   "metadata": {},
   "outputs": [],
   "source": [
    "y = diamonds.price\n",
    "X = diamonds.iloc[:,:-1]"
   ]
  },
  {
   "cell_type": "code",
   "execution_count": 122,
   "metadata": {},
   "outputs": [],
   "source": [
    "X.set_index('id',inplace=True)"
   ]
  },
  {
   "cell_type": "code",
   "execution_count": 123,
   "metadata": {
    "scrolled": true
   },
   "outputs": [
    {
     "data": {
      "text/plain": [
       "0        3446\n",
       "1         732\n",
       "2         475\n",
       "3        9552\n",
       "4        1276\n",
       "         ... \n",
       "40340    1716\n",
       "40341     781\n",
       "40342    1123\n",
       "40343    5651\n",
       "40344    3959\n",
       "Name: price, Length: 40345, dtype: int64"
      ]
     },
     "execution_count": 123,
     "metadata": {},
     "output_type": "execute_result"
    }
   ],
   "source": [
    "y"
   ]
  },
  {
   "cell_type": "code",
   "execution_count": 124,
   "metadata": {},
   "outputs": [
    {
     "data": {
      "text/plain": [
       "carat      float64\n",
       "cut         object\n",
       "color       object\n",
       "clarity     object\n",
       "depth      float64\n",
       "table      float64\n",
       "x          float64\n",
       "y          float64\n",
       "z          float64\n",
       "dtype: object"
      ]
     },
     "execution_count": 124,
     "metadata": {},
     "output_type": "execute_result"
    }
   ],
   "source": [
    "X.dtypes"
   ]
  },
  {
   "cell_type": "code",
   "execution_count": 125,
   "metadata": {},
   "outputs": [
    {
     "data": {
      "text/html": [
       "<div>\n",
       "<style scoped>\n",
       "    .dataframe tbody tr th:only-of-type {\n",
       "        vertical-align: middle;\n",
       "    }\n",
       "\n",
       "    .dataframe tbody tr th {\n",
       "        vertical-align: top;\n",
       "    }\n",
       "\n",
       "    .dataframe thead th {\n",
       "        text-align: right;\n",
       "    }\n",
       "</style>\n",
       "<table border=\"1\" class=\"dataframe\">\n",
       "  <thead>\n",
       "    <tr style=\"text-align: right;\">\n",
       "      <th></th>\n",
       "      <th>carat</th>\n",
       "      <th>depth</th>\n",
       "      <th>table</th>\n",
       "      <th>x</th>\n",
       "      <th>y</th>\n",
       "      <th>z</th>\n",
       "    </tr>\n",
       "  </thead>\n",
       "  <tbody>\n",
       "    <tr>\n",
       "      <th>count</th>\n",
       "      <td>40345.000000</td>\n",
       "      <td>40345.000000</td>\n",
       "      <td>40345.000000</td>\n",
       "      <td>40345.000000</td>\n",
       "      <td>40345.000000</td>\n",
       "      <td>40345.000000</td>\n",
       "    </tr>\n",
       "    <tr>\n",
       "      <th>mean</th>\n",
       "      <td>0.797699</td>\n",
       "      <td>61.749721</td>\n",
       "      <td>57.449421</td>\n",
       "      <td>5.730824</td>\n",
       "      <td>5.734808</td>\n",
       "      <td>3.537958</td>\n",
       "    </tr>\n",
       "    <tr>\n",
       "      <th>std</th>\n",
       "      <td>0.474309</td>\n",
       "      <td>1.427728</td>\n",
       "      <td>2.234087</td>\n",
       "      <td>1.121767</td>\n",
       "      <td>1.151536</td>\n",
       "      <td>0.695039</td>\n",
       "    </tr>\n",
       "    <tr>\n",
       "      <th>min</th>\n",
       "      <td>0.200000</td>\n",
       "      <td>43.000000</td>\n",
       "      <td>43.000000</td>\n",
       "      <td>0.000000</td>\n",
       "      <td>0.000000</td>\n",
       "      <td>0.000000</td>\n",
       "    </tr>\n",
       "    <tr>\n",
       "      <th>25%</th>\n",
       "      <td>0.400000</td>\n",
       "      <td>61.000000</td>\n",
       "      <td>56.000000</td>\n",
       "      <td>4.710000</td>\n",
       "      <td>4.720000</td>\n",
       "      <td>2.910000</td>\n",
       "    </tr>\n",
       "    <tr>\n",
       "      <th>50%</th>\n",
       "      <td>0.700000</td>\n",
       "      <td>61.800000</td>\n",
       "      <td>57.000000</td>\n",
       "      <td>5.690000</td>\n",
       "      <td>5.710000</td>\n",
       "      <td>3.520000</td>\n",
       "    </tr>\n",
       "    <tr>\n",
       "      <th>75%</th>\n",
       "      <td>1.040000</td>\n",
       "      <td>62.500000</td>\n",
       "      <td>59.000000</td>\n",
       "      <td>6.540000</td>\n",
       "      <td>6.540000</td>\n",
       "      <td>4.030000</td>\n",
       "    </tr>\n",
       "    <tr>\n",
       "      <th>max</th>\n",
       "      <td>5.010000</td>\n",
       "      <td>79.000000</td>\n",
       "      <td>95.000000</td>\n",
       "      <td>10.740000</td>\n",
       "      <td>58.900000</td>\n",
       "      <td>8.060000</td>\n",
       "    </tr>\n",
       "  </tbody>\n",
       "</table>\n",
       "</div>"
      ],
      "text/plain": [
       "              carat         depth         table             x             y  \\\n",
       "count  40345.000000  40345.000000  40345.000000  40345.000000  40345.000000   \n",
       "mean       0.797699     61.749721     57.449421      5.730824      5.734808   \n",
       "std        0.474309      1.427728      2.234087      1.121767      1.151536   \n",
       "min        0.200000     43.000000     43.000000      0.000000      0.000000   \n",
       "25%        0.400000     61.000000     56.000000      4.710000      4.720000   \n",
       "50%        0.700000     61.800000     57.000000      5.690000      5.710000   \n",
       "75%        1.040000     62.500000     59.000000      6.540000      6.540000   \n",
       "max        5.010000     79.000000     95.000000     10.740000     58.900000   \n",
       "\n",
       "                  z  \n",
       "count  40345.000000  \n",
       "mean       3.537958  \n",
       "std        0.695039  \n",
       "min        0.000000  \n",
       "25%        2.910000  \n",
       "50%        3.520000  \n",
       "75%        4.030000  \n",
       "max        8.060000  "
      ]
     },
     "execution_count": 125,
     "metadata": {},
     "output_type": "execute_result"
    }
   ],
   "source": [
    "X.describe()"
   ]
  },
  {
   "cell_type": "code",
   "execution_count": 126,
   "metadata": {},
   "outputs": [
    {
     "data": {
      "text/html": [
       "<div>\n",
       "<style scoped>\n",
       "    .dataframe tbody tr th:only-of-type {\n",
       "        vertical-align: middle;\n",
       "    }\n",
       "\n",
       "    .dataframe tbody tr th {\n",
       "        vertical-align: top;\n",
       "    }\n",
       "\n",
       "    .dataframe thead th {\n",
       "        text-align: right;\n",
       "    }\n",
       "</style>\n",
       "<table border=\"1\" class=\"dataframe\">\n",
       "  <thead>\n",
       "    <tr style=\"text-align: right;\">\n",
       "      <th></th>\n",
       "      <th>carat</th>\n",
       "      <th>depth</th>\n",
       "      <th>table</th>\n",
       "      <th>x</th>\n",
       "      <th>y</th>\n",
       "      <th>z</th>\n",
       "    </tr>\n",
       "  </thead>\n",
       "  <tbody>\n",
       "    <tr>\n",
       "      <th>carat</th>\n",
       "      <td>1.000000</td>\n",
       "      <td>0.023118</td>\n",
       "      <td>0.181725</td>\n",
       "      <td>0.976267</td>\n",
       "      <td>0.945757</td>\n",
       "      <td>0.968685</td>\n",
       "    </tr>\n",
       "    <tr>\n",
       "      <th>depth</th>\n",
       "      <td>0.023118</td>\n",
       "      <td>1.000000</td>\n",
       "      <td>-0.299534</td>\n",
       "      <td>-0.028765</td>\n",
       "      <td>-0.032894</td>\n",
       "      <td>0.092482</td>\n",
       "    </tr>\n",
       "    <tr>\n",
       "      <th>table</th>\n",
       "      <td>0.181725</td>\n",
       "      <td>-0.299534</td>\n",
       "      <td>1.000000</td>\n",
       "      <td>0.195775</td>\n",
       "      <td>0.182559</td>\n",
       "      <td>0.154399</td>\n",
       "    </tr>\n",
       "    <tr>\n",
       "      <th>x</th>\n",
       "      <td>0.976267</td>\n",
       "      <td>-0.028765</td>\n",
       "      <td>0.195775</td>\n",
       "      <td>1.000000</td>\n",
       "      <td>0.967143</td>\n",
       "      <td>0.985385</td>\n",
       "    </tr>\n",
       "    <tr>\n",
       "      <th>y</th>\n",
       "      <td>0.945757</td>\n",
       "      <td>-0.032894</td>\n",
       "      <td>0.182559</td>\n",
       "      <td>0.967143</td>\n",
       "      <td>1.000000</td>\n",
       "      <td>0.960350</td>\n",
       "    </tr>\n",
       "    <tr>\n",
       "      <th>z</th>\n",
       "      <td>0.968685</td>\n",
       "      <td>0.092482</td>\n",
       "      <td>0.154399</td>\n",
       "      <td>0.985385</td>\n",
       "      <td>0.960350</td>\n",
       "      <td>1.000000</td>\n",
       "    </tr>\n",
       "  </tbody>\n",
       "</table>\n",
       "</div>"
      ],
      "text/plain": [
       "          carat     depth     table         x         y         z\n",
       "carat  1.000000  0.023118  0.181725  0.976267  0.945757  0.968685\n",
       "depth  0.023118  1.000000 -0.299534 -0.028765 -0.032894  0.092482\n",
       "table  0.181725 -0.299534  1.000000  0.195775  0.182559  0.154399\n",
       "x      0.976267 -0.028765  0.195775  1.000000  0.967143  0.985385\n",
       "y      0.945757 -0.032894  0.182559  0.967143  1.000000  0.960350\n",
       "z      0.968685  0.092482  0.154399  0.985385  0.960350  1.000000"
      ]
     },
     "execution_count": 126,
     "metadata": {},
     "output_type": "execute_result"
    }
   ],
   "source": [
    "X.corr()"
   ]
  },
  {
   "cell_type": "code",
   "execution_count": 127,
   "metadata": {},
   "outputs": [
    {
     "data": {
      "text/plain": [
       "G    8462\n",
       "E    7292\n",
       "F    7133\n",
       "H    6200\n",
       "D    5094\n",
       "I    4094\n",
       "J    2070\n",
       "Name: color, dtype: int64"
      ]
     },
     "execution_count": 127,
     "metadata": {},
     "output_type": "execute_result"
    }
   ],
   "source": [
    "X.color.value_counts()"
   ]
  },
  {
   "cell_type": "code",
   "execution_count": 128,
   "metadata": {},
   "outputs": [],
   "source": [
    "color = {'D': 1,'E': 2,'F':3, 'G':4, 'H':5, 'I': 6, 'J':7}\n",
    "X.color = [color[item] for item in X.color]"
   ]
  },
  {
   "cell_type": "code",
   "execution_count": 129,
   "metadata": {},
   "outputs": [
    {
     "data": {
      "text/html": [
       "<div>\n",
       "<style scoped>\n",
       "    .dataframe tbody tr th:only-of-type {\n",
       "        vertical-align: middle;\n",
       "    }\n",
       "\n",
       "    .dataframe tbody tr th {\n",
       "        vertical-align: top;\n",
       "    }\n",
       "\n",
       "    .dataframe thead th {\n",
       "        text-align: right;\n",
       "    }\n",
       "</style>\n",
       "<table border=\"1\" class=\"dataframe\">\n",
       "  <thead>\n",
       "    <tr style=\"text-align: right;\">\n",
       "      <th></th>\n",
       "      <th>carat</th>\n",
       "      <th>cut</th>\n",
       "      <th>color</th>\n",
       "      <th>clarity</th>\n",
       "      <th>depth</th>\n",
       "      <th>table</th>\n",
       "      <th>x</th>\n",
       "      <th>y</th>\n",
       "      <th>z</th>\n",
       "    </tr>\n",
       "    <tr>\n",
       "      <th>id</th>\n",
       "      <th></th>\n",
       "      <th></th>\n",
       "      <th></th>\n",
       "      <th></th>\n",
       "      <th></th>\n",
       "      <th></th>\n",
       "      <th></th>\n",
       "      <th></th>\n",
       "      <th></th>\n",
       "    </tr>\n",
       "  </thead>\n",
       "  <tbody>\n",
       "    <tr>\n",
       "      <th>0</th>\n",
       "      <td>0.78</td>\n",
       "      <td>Premium</td>\n",
       "      <td>3</td>\n",
       "      <td>VS1</td>\n",
       "      <td>61.5</td>\n",
       "      <td>58.0</td>\n",
       "      <td>5.93</td>\n",
       "      <td>5.98</td>\n",
       "      <td>3.66</td>\n",
       "    </tr>\n",
       "    <tr>\n",
       "      <th>1</th>\n",
       "      <td>0.31</td>\n",
       "      <td>Ideal</td>\n",
       "      <td>1</td>\n",
       "      <td>SI1</td>\n",
       "      <td>60.8</td>\n",
       "      <td>56.0</td>\n",
       "      <td>4.37</td>\n",
       "      <td>4.32</td>\n",
       "      <td>2.64</td>\n",
       "    </tr>\n",
       "    <tr>\n",
       "      <th>2</th>\n",
       "      <td>0.30</td>\n",
       "      <td>Ideal</td>\n",
       "      <td>3</td>\n",
       "      <td>SI1</td>\n",
       "      <td>62.3</td>\n",
       "      <td>54.0</td>\n",
       "      <td>4.30</td>\n",
       "      <td>4.34</td>\n",
       "      <td>2.69</td>\n",
       "    </tr>\n",
       "    <tr>\n",
       "      <th>3</th>\n",
       "      <td>1.04</td>\n",
       "      <td>Ideal</td>\n",
       "      <td>2</td>\n",
       "      <td>VVS2</td>\n",
       "      <td>62.0</td>\n",
       "      <td>58.0</td>\n",
       "      <td>6.54</td>\n",
       "      <td>6.46</td>\n",
       "      <td>4.03</td>\n",
       "    </tr>\n",
       "    <tr>\n",
       "      <th>4</th>\n",
       "      <td>0.65</td>\n",
       "      <td>Ideal</td>\n",
       "      <td>7</td>\n",
       "      <td>SI1</td>\n",
       "      <td>61.4</td>\n",
       "      <td>55.0</td>\n",
       "      <td>5.58</td>\n",
       "      <td>5.62</td>\n",
       "      <td>3.44</td>\n",
       "    </tr>\n",
       "    <tr>\n",
       "      <th>...</th>\n",
       "      <td>...</td>\n",
       "      <td>...</td>\n",
       "      <td>...</td>\n",
       "      <td>...</td>\n",
       "      <td>...</td>\n",
       "      <td>...</td>\n",
       "      <td>...</td>\n",
       "      <td>...</td>\n",
       "      <td>...</td>\n",
       "    </tr>\n",
       "    <tr>\n",
       "      <th>40340</th>\n",
       "      <td>0.50</td>\n",
       "      <td>Ideal</td>\n",
       "      <td>2</td>\n",
       "      <td>VS1</td>\n",
       "      <td>61.9</td>\n",
       "      <td>56.0</td>\n",
       "      <td>5.09</td>\n",
       "      <td>5.12</td>\n",
       "      <td>3.16</td>\n",
       "    </tr>\n",
       "    <tr>\n",
       "      <th>40341</th>\n",
       "      <td>0.33</td>\n",
       "      <td>Ideal</td>\n",
       "      <td>1</td>\n",
       "      <td>VS2</td>\n",
       "      <td>61.8</td>\n",
       "      <td>56.0</td>\n",
       "      <td>4.40</td>\n",
       "      <td>4.44</td>\n",
       "      <td>2.73</td>\n",
       "    </tr>\n",
       "    <tr>\n",
       "      <th>40342</th>\n",
       "      <td>0.40</td>\n",
       "      <td>Premium</td>\n",
       "      <td>4</td>\n",
       "      <td>VVS1</td>\n",
       "      <td>61.5</td>\n",
       "      <td>58.0</td>\n",
       "      <td>4.69</td>\n",
       "      <td>4.74</td>\n",
       "      <td>2.90</td>\n",
       "    </tr>\n",
       "    <tr>\n",
       "      <th>40343</th>\n",
       "      <td>1.06</td>\n",
       "      <td>Ideal</td>\n",
       "      <td>6</td>\n",
       "      <td>VS1</td>\n",
       "      <td>61.2</td>\n",
       "      <td>57.0</td>\n",
       "      <td>6.59</td>\n",
       "      <td>6.56</td>\n",
       "      <td>4.03</td>\n",
       "    </tr>\n",
       "    <tr>\n",
       "      <th>40344</th>\n",
       "      <td>1.01</td>\n",
       "      <td>Very Good</td>\n",
       "      <td>5</td>\n",
       "      <td>SI2</td>\n",
       "      <td>63.4</td>\n",
       "      <td>55.0</td>\n",
       "      <td>6.35</td>\n",
       "      <td>6.29</td>\n",
       "      <td>4.01</td>\n",
       "    </tr>\n",
       "  </tbody>\n",
       "</table>\n",
       "<p>40345 rows × 9 columns</p>\n",
       "</div>"
      ],
      "text/plain": [
       "       carat        cut  color clarity  depth  table     x     y     z\n",
       "id                                                                    \n",
       "0       0.78    Premium      3     VS1   61.5   58.0  5.93  5.98  3.66\n",
       "1       0.31      Ideal      1     SI1   60.8   56.0  4.37  4.32  2.64\n",
       "2       0.30      Ideal      3     SI1   62.3   54.0  4.30  4.34  2.69\n",
       "3       1.04      Ideal      2    VVS2   62.0   58.0  6.54  6.46  4.03\n",
       "4       0.65      Ideal      7     SI1   61.4   55.0  5.58  5.62  3.44\n",
       "...      ...        ...    ...     ...    ...    ...   ...   ...   ...\n",
       "40340   0.50      Ideal      2     VS1   61.9   56.0  5.09  5.12  3.16\n",
       "40341   0.33      Ideal      1     VS2   61.8   56.0  4.40  4.44  2.73\n",
       "40342   0.40    Premium      4    VVS1   61.5   58.0  4.69  4.74  2.90\n",
       "40343   1.06      Ideal      6     VS1   61.2   57.0  6.59  6.56  4.03\n",
       "40344   1.01  Very Good      5     SI2   63.4   55.0  6.35  6.29  4.01\n",
       "\n",
       "[40345 rows x 9 columns]"
      ]
     },
     "execution_count": 129,
     "metadata": {},
     "output_type": "execute_result"
    }
   ],
   "source": [
    "X"
   ]
  },
  {
   "cell_type": "code",
   "execution_count": 130,
   "metadata": {},
   "outputs": [
    {
     "data": {
      "text/plain": [
       "SI1     9710\n",
       "VS2     9164\n",
       "SI2     6884\n",
       "VS1     6092\n",
       "VVS2    3839\n",
       "VVS1    2738\n",
       "IF      1357\n",
       "I1       561\n",
       "Name: clarity, dtype: int64"
      ]
     },
     "execution_count": 130,
     "metadata": {},
     "output_type": "execute_result"
    }
   ],
   "source": [
    "X.clarity.value_counts()"
   ]
  },
  {
   "cell_type": "code",
   "execution_count": 131,
   "metadata": {},
   "outputs": [],
   "source": [
    "clarity = {'SI1': 1, 'VS2': 2,'SI2': 3,'VS1':4, 'VVS2':5, 'VVS1':6, 'IF': 7, 'I1':8}\n",
    "X.clarity = [clarity[item] for item in X.clarity]"
   ]
  },
  {
   "cell_type": "code",
   "execution_count": 132,
   "metadata": {},
   "outputs": [
    {
     "data": {
      "text/html": [
       "<div>\n",
       "<style scoped>\n",
       "    .dataframe tbody tr th:only-of-type {\n",
       "        vertical-align: middle;\n",
       "    }\n",
       "\n",
       "    .dataframe tbody tr th {\n",
       "        vertical-align: top;\n",
       "    }\n",
       "\n",
       "    .dataframe thead th {\n",
       "        text-align: right;\n",
       "    }\n",
       "</style>\n",
       "<table border=\"1\" class=\"dataframe\">\n",
       "  <thead>\n",
       "    <tr style=\"text-align: right;\">\n",
       "      <th></th>\n",
       "      <th>carat</th>\n",
       "      <th>cut</th>\n",
       "      <th>color</th>\n",
       "      <th>clarity</th>\n",
       "      <th>depth</th>\n",
       "      <th>table</th>\n",
       "      <th>x</th>\n",
       "      <th>y</th>\n",
       "      <th>z</th>\n",
       "    </tr>\n",
       "    <tr>\n",
       "      <th>id</th>\n",
       "      <th></th>\n",
       "      <th></th>\n",
       "      <th></th>\n",
       "      <th></th>\n",
       "      <th></th>\n",
       "      <th></th>\n",
       "      <th></th>\n",
       "      <th></th>\n",
       "      <th></th>\n",
       "    </tr>\n",
       "  </thead>\n",
       "  <tbody>\n",
       "    <tr>\n",
       "      <th>0</th>\n",
       "      <td>0.78</td>\n",
       "      <td>Premium</td>\n",
       "      <td>3</td>\n",
       "      <td>4</td>\n",
       "      <td>61.5</td>\n",
       "      <td>58.0</td>\n",
       "      <td>5.93</td>\n",
       "      <td>5.98</td>\n",
       "      <td>3.66</td>\n",
       "    </tr>\n",
       "    <tr>\n",
       "      <th>1</th>\n",
       "      <td>0.31</td>\n",
       "      <td>Ideal</td>\n",
       "      <td>1</td>\n",
       "      <td>1</td>\n",
       "      <td>60.8</td>\n",
       "      <td>56.0</td>\n",
       "      <td>4.37</td>\n",
       "      <td>4.32</td>\n",
       "      <td>2.64</td>\n",
       "    </tr>\n",
       "    <tr>\n",
       "      <th>2</th>\n",
       "      <td>0.30</td>\n",
       "      <td>Ideal</td>\n",
       "      <td>3</td>\n",
       "      <td>1</td>\n",
       "      <td>62.3</td>\n",
       "      <td>54.0</td>\n",
       "      <td>4.30</td>\n",
       "      <td>4.34</td>\n",
       "      <td>2.69</td>\n",
       "    </tr>\n",
       "    <tr>\n",
       "      <th>3</th>\n",
       "      <td>1.04</td>\n",
       "      <td>Ideal</td>\n",
       "      <td>2</td>\n",
       "      <td>5</td>\n",
       "      <td>62.0</td>\n",
       "      <td>58.0</td>\n",
       "      <td>6.54</td>\n",
       "      <td>6.46</td>\n",
       "      <td>4.03</td>\n",
       "    </tr>\n",
       "    <tr>\n",
       "      <th>4</th>\n",
       "      <td>0.65</td>\n",
       "      <td>Ideal</td>\n",
       "      <td>7</td>\n",
       "      <td>1</td>\n",
       "      <td>61.4</td>\n",
       "      <td>55.0</td>\n",
       "      <td>5.58</td>\n",
       "      <td>5.62</td>\n",
       "      <td>3.44</td>\n",
       "    </tr>\n",
       "    <tr>\n",
       "      <th>...</th>\n",
       "      <td>...</td>\n",
       "      <td>...</td>\n",
       "      <td>...</td>\n",
       "      <td>...</td>\n",
       "      <td>...</td>\n",
       "      <td>...</td>\n",
       "      <td>...</td>\n",
       "      <td>...</td>\n",
       "      <td>...</td>\n",
       "    </tr>\n",
       "    <tr>\n",
       "      <th>40340</th>\n",
       "      <td>0.50</td>\n",
       "      <td>Ideal</td>\n",
       "      <td>2</td>\n",
       "      <td>4</td>\n",
       "      <td>61.9</td>\n",
       "      <td>56.0</td>\n",
       "      <td>5.09</td>\n",
       "      <td>5.12</td>\n",
       "      <td>3.16</td>\n",
       "    </tr>\n",
       "    <tr>\n",
       "      <th>40341</th>\n",
       "      <td>0.33</td>\n",
       "      <td>Ideal</td>\n",
       "      <td>1</td>\n",
       "      <td>2</td>\n",
       "      <td>61.8</td>\n",
       "      <td>56.0</td>\n",
       "      <td>4.40</td>\n",
       "      <td>4.44</td>\n",
       "      <td>2.73</td>\n",
       "    </tr>\n",
       "    <tr>\n",
       "      <th>40342</th>\n",
       "      <td>0.40</td>\n",
       "      <td>Premium</td>\n",
       "      <td>4</td>\n",
       "      <td>6</td>\n",
       "      <td>61.5</td>\n",
       "      <td>58.0</td>\n",
       "      <td>4.69</td>\n",
       "      <td>4.74</td>\n",
       "      <td>2.90</td>\n",
       "    </tr>\n",
       "    <tr>\n",
       "      <th>40343</th>\n",
       "      <td>1.06</td>\n",
       "      <td>Ideal</td>\n",
       "      <td>6</td>\n",
       "      <td>4</td>\n",
       "      <td>61.2</td>\n",
       "      <td>57.0</td>\n",
       "      <td>6.59</td>\n",
       "      <td>6.56</td>\n",
       "      <td>4.03</td>\n",
       "    </tr>\n",
       "    <tr>\n",
       "      <th>40344</th>\n",
       "      <td>1.01</td>\n",
       "      <td>Very Good</td>\n",
       "      <td>5</td>\n",
       "      <td>3</td>\n",
       "      <td>63.4</td>\n",
       "      <td>55.0</td>\n",
       "      <td>6.35</td>\n",
       "      <td>6.29</td>\n",
       "      <td>4.01</td>\n",
       "    </tr>\n",
       "  </tbody>\n",
       "</table>\n",
       "<p>40345 rows × 9 columns</p>\n",
       "</div>"
      ],
      "text/plain": [
       "       carat        cut  color  clarity  depth  table     x     y     z\n",
       "id                                                                     \n",
       "0       0.78    Premium      3        4   61.5   58.0  5.93  5.98  3.66\n",
       "1       0.31      Ideal      1        1   60.8   56.0  4.37  4.32  2.64\n",
       "2       0.30      Ideal      3        1   62.3   54.0  4.30  4.34  2.69\n",
       "3       1.04      Ideal      2        5   62.0   58.0  6.54  6.46  4.03\n",
       "4       0.65      Ideal      7        1   61.4   55.0  5.58  5.62  3.44\n",
       "...      ...        ...    ...      ...    ...    ...   ...   ...   ...\n",
       "40340   0.50      Ideal      2        4   61.9   56.0  5.09  5.12  3.16\n",
       "40341   0.33      Ideal      1        2   61.8   56.0  4.40  4.44  2.73\n",
       "40342   0.40    Premium      4        6   61.5   58.0  4.69  4.74  2.90\n",
       "40343   1.06      Ideal      6        4   61.2   57.0  6.59  6.56  4.03\n",
       "40344   1.01  Very Good      5        3   63.4   55.0  6.35  6.29  4.01\n",
       "\n",
       "[40345 rows x 9 columns]"
      ]
     },
     "execution_count": 132,
     "metadata": {},
     "output_type": "execute_result"
    }
   ],
   "source": [
    "X"
   ]
  },
  {
   "cell_type": "code",
   "execution_count": 133,
   "metadata": {},
   "outputs": [
    {
     "data": {
      "text/plain": [
       "Ideal        16141\n",
       "Premium      10303\n",
       "Very Good     9068\n",
       "Good          3631\n",
       "Fair          1202\n",
       "Name: cut, dtype: int64"
      ]
     },
     "execution_count": 133,
     "metadata": {},
     "output_type": "execute_result"
    }
   ],
   "source": [
    "X.cut.value_counts()"
   ]
  },
  {
   "cell_type": "code",
   "execution_count": 134,
   "metadata": {},
   "outputs": [],
   "source": [
    "cut = {'Ideal': 1, 'Premium': 2,'Very Good': 3,'Good':4, 'Fair':5}\n",
    "X.cut = [cut[item] for item in X.cut]"
   ]
  },
  {
   "cell_type": "code",
   "execution_count": 135,
   "metadata": {
    "scrolled": false
   },
   "outputs": [
    {
     "data": {
      "text/html": [
       "<div>\n",
       "<style scoped>\n",
       "    .dataframe tbody tr th:only-of-type {\n",
       "        vertical-align: middle;\n",
       "    }\n",
       "\n",
       "    .dataframe tbody tr th {\n",
       "        vertical-align: top;\n",
       "    }\n",
       "\n",
       "    .dataframe thead th {\n",
       "        text-align: right;\n",
       "    }\n",
       "</style>\n",
       "<table border=\"1\" class=\"dataframe\">\n",
       "  <thead>\n",
       "    <tr style=\"text-align: right;\">\n",
       "      <th></th>\n",
       "      <th>carat</th>\n",
       "      <th>cut</th>\n",
       "      <th>color</th>\n",
       "      <th>clarity</th>\n",
       "      <th>depth</th>\n",
       "      <th>table</th>\n",
       "      <th>x</th>\n",
       "      <th>y</th>\n",
       "      <th>z</th>\n",
       "    </tr>\n",
       "    <tr>\n",
       "      <th>id</th>\n",
       "      <th></th>\n",
       "      <th></th>\n",
       "      <th></th>\n",
       "      <th></th>\n",
       "      <th></th>\n",
       "      <th></th>\n",
       "      <th></th>\n",
       "      <th></th>\n",
       "      <th></th>\n",
       "    </tr>\n",
       "  </thead>\n",
       "  <tbody>\n",
       "    <tr>\n",
       "      <th>0</th>\n",
       "      <td>0.78</td>\n",
       "      <td>2</td>\n",
       "      <td>3</td>\n",
       "      <td>4</td>\n",
       "      <td>61.5</td>\n",
       "      <td>58.0</td>\n",
       "      <td>5.93</td>\n",
       "      <td>5.98</td>\n",
       "      <td>3.66</td>\n",
       "    </tr>\n",
       "    <tr>\n",
       "      <th>1</th>\n",
       "      <td>0.31</td>\n",
       "      <td>1</td>\n",
       "      <td>1</td>\n",
       "      <td>1</td>\n",
       "      <td>60.8</td>\n",
       "      <td>56.0</td>\n",
       "      <td>4.37</td>\n",
       "      <td>4.32</td>\n",
       "      <td>2.64</td>\n",
       "    </tr>\n",
       "    <tr>\n",
       "      <th>2</th>\n",
       "      <td>0.30</td>\n",
       "      <td>1</td>\n",
       "      <td>3</td>\n",
       "      <td>1</td>\n",
       "      <td>62.3</td>\n",
       "      <td>54.0</td>\n",
       "      <td>4.30</td>\n",
       "      <td>4.34</td>\n",
       "      <td>2.69</td>\n",
       "    </tr>\n",
       "    <tr>\n",
       "      <th>3</th>\n",
       "      <td>1.04</td>\n",
       "      <td>1</td>\n",
       "      <td>2</td>\n",
       "      <td>5</td>\n",
       "      <td>62.0</td>\n",
       "      <td>58.0</td>\n",
       "      <td>6.54</td>\n",
       "      <td>6.46</td>\n",
       "      <td>4.03</td>\n",
       "    </tr>\n",
       "    <tr>\n",
       "      <th>4</th>\n",
       "      <td>0.65</td>\n",
       "      <td>1</td>\n",
       "      <td>7</td>\n",
       "      <td>1</td>\n",
       "      <td>61.4</td>\n",
       "      <td>55.0</td>\n",
       "      <td>5.58</td>\n",
       "      <td>5.62</td>\n",
       "      <td>3.44</td>\n",
       "    </tr>\n",
       "    <tr>\n",
       "      <th>...</th>\n",
       "      <td>...</td>\n",
       "      <td>...</td>\n",
       "      <td>...</td>\n",
       "      <td>...</td>\n",
       "      <td>...</td>\n",
       "      <td>...</td>\n",
       "      <td>...</td>\n",
       "      <td>...</td>\n",
       "      <td>...</td>\n",
       "    </tr>\n",
       "    <tr>\n",
       "      <th>40340</th>\n",
       "      <td>0.50</td>\n",
       "      <td>1</td>\n",
       "      <td>2</td>\n",
       "      <td>4</td>\n",
       "      <td>61.9</td>\n",
       "      <td>56.0</td>\n",
       "      <td>5.09</td>\n",
       "      <td>5.12</td>\n",
       "      <td>3.16</td>\n",
       "    </tr>\n",
       "    <tr>\n",
       "      <th>40341</th>\n",
       "      <td>0.33</td>\n",
       "      <td>1</td>\n",
       "      <td>1</td>\n",
       "      <td>2</td>\n",
       "      <td>61.8</td>\n",
       "      <td>56.0</td>\n",
       "      <td>4.40</td>\n",
       "      <td>4.44</td>\n",
       "      <td>2.73</td>\n",
       "    </tr>\n",
       "    <tr>\n",
       "      <th>40342</th>\n",
       "      <td>0.40</td>\n",
       "      <td>2</td>\n",
       "      <td>4</td>\n",
       "      <td>6</td>\n",
       "      <td>61.5</td>\n",
       "      <td>58.0</td>\n",
       "      <td>4.69</td>\n",
       "      <td>4.74</td>\n",
       "      <td>2.90</td>\n",
       "    </tr>\n",
       "    <tr>\n",
       "      <th>40343</th>\n",
       "      <td>1.06</td>\n",
       "      <td>1</td>\n",
       "      <td>6</td>\n",
       "      <td>4</td>\n",
       "      <td>61.2</td>\n",
       "      <td>57.0</td>\n",
       "      <td>6.59</td>\n",
       "      <td>6.56</td>\n",
       "      <td>4.03</td>\n",
       "    </tr>\n",
       "    <tr>\n",
       "      <th>40344</th>\n",
       "      <td>1.01</td>\n",
       "      <td>3</td>\n",
       "      <td>5</td>\n",
       "      <td>3</td>\n",
       "      <td>63.4</td>\n",
       "      <td>55.0</td>\n",
       "      <td>6.35</td>\n",
       "      <td>6.29</td>\n",
       "      <td>4.01</td>\n",
       "    </tr>\n",
       "  </tbody>\n",
       "</table>\n",
       "<p>40345 rows × 9 columns</p>\n",
       "</div>"
      ],
      "text/plain": [
       "       carat  cut  color  clarity  depth  table     x     y     z\n",
       "id                                                               \n",
       "0       0.78    2      3        4   61.5   58.0  5.93  5.98  3.66\n",
       "1       0.31    1      1        1   60.8   56.0  4.37  4.32  2.64\n",
       "2       0.30    1      3        1   62.3   54.0  4.30  4.34  2.69\n",
       "3       1.04    1      2        5   62.0   58.0  6.54  6.46  4.03\n",
       "4       0.65    1      7        1   61.4   55.0  5.58  5.62  3.44\n",
       "...      ...  ...    ...      ...    ...    ...   ...   ...   ...\n",
       "40340   0.50    1      2        4   61.9   56.0  5.09  5.12  3.16\n",
       "40341   0.33    1      1        2   61.8   56.0  4.40  4.44  2.73\n",
       "40342   0.40    2      4        6   61.5   58.0  4.69  4.74  2.90\n",
       "40343   1.06    1      6        4   61.2   57.0  6.59  6.56  4.03\n",
       "40344   1.01    3      5        3   63.4   55.0  6.35  6.29  4.01\n",
       "\n",
       "[40345 rows x 9 columns]"
      ]
     },
     "execution_count": 135,
     "metadata": {},
     "output_type": "execute_result"
    }
   ],
   "source": [
    "X"
   ]
  },
  {
   "cell_type": "code",
   "execution_count": 56,
   "metadata": {},
   "outputs": [
    {
     "data": {
      "text/html": [
       "<div>\n",
       "<style scoped>\n",
       "    .dataframe tbody tr th:only-of-type {\n",
       "        vertical-align: middle;\n",
       "    }\n",
       "\n",
       "    .dataframe tbody tr th {\n",
       "        vertical-align: top;\n",
       "    }\n",
       "\n",
       "    .dataframe thead th {\n",
       "        text-align: right;\n",
       "    }\n",
       "</style>\n",
       "<table border=\"1\" class=\"dataframe\">\n",
       "  <thead>\n",
       "    <tr style=\"text-align: right;\">\n",
       "      <th></th>\n",
       "      <th>carat</th>\n",
       "      <th>cut</th>\n",
       "      <th>color</th>\n",
       "      <th>clarity</th>\n",
       "      <th>depth</th>\n",
       "      <th>table</th>\n",
       "      <th>x</th>\n",
       "      <th>y</th>\n",
       "      <th>z</th>\n",
       "    </tr>\n",
       "  </thead>\n",
       "  <tbody>\n",
       "    <tr>\n",
       "      <th>carat</th>\n",
       "      <td>1.000000</td>\n",
       "      <td>0.132754</td>\n",
       "      <td>0.291382</td>\n",
       "      <td>-0.155052</td>\n",
       "      <td>0.023118</td>\n",
       "      <td>0.181725</td>\n",
       "      <td>0.976267</td>\n",
       "      <td>0.945757</td>\n",
       "      <td>0.968685</td>\n",
       "    </tr>\n",
       "    <tr>\n",
       "      <th>cut</th>\n",
       "      <td>0.132754</td>\n",
       "      <td>1.000000</td>\n",
       "      <td>0.018865</td>\n",
       "      <td>-0.093632</td>\n",
       "      <td>0.213022</td>\n",
       "      <td>0.432025</td>\n",
       "      <td>0.124552</td>\n",
       "      <td>0.119245</td>\n",
       "      <td>0.149094</td>\n",
       "    </tr>\n",
       "    <tr>\n",
       "      <th>color</th>\n",
       "      <td>0.291382</td>\n",
       "      <td>0.018865</td>\n",
       "      <td>1.000000</td>\n",
       "      <td>0.042550</td>\n",
       "      <td>0.044171</td>\n",
       "      <td>0.026576</td>\n",
       "      <td>0.270998</td>\n",
       "      <td>0.262095</td>\n",
       "      <td>0.273173</td>\n",
       "    </tr>\n",
       "    <tr>\n",
       "      <th>clarity</th>\n",
       "      <td>-0.155052</td>\n",
       "      <td>-0.093632</td>\n",
       "      <td>0.042550</td>\n",
       "      <td>1.000000</td>\n",
       "      <td>-0.028916</td>\n",
       "      <td>-0.089991</td>\n",
       "      <td>-0.182480</td>\n",
       "      <td>-0.174818</td>\n",
       "      <td>-0.183647</td>\n",
       "    </tr>\n",
       "    <tr>\n",
       "      <th>depth</th>\n",
       "      <td>0.023118</td>\n",
       "      <td>0.213022</td>\n",
       "      <td>0.044171</td>\n",
       "      <td>-0.028916</td>\n",
       "      <td>1.000000</td>\n",
       "      <td>-0.299534</td>\n",
       "      <td>-0.028765</td>\n",
       "      <td>-0.032894</td>\n",
       "      <td>0.092482</td>\n",
       "    </tr>\n",
       "    <tr>\n",
       "      <th>table</th>\n",
       "      <td>0.181725</td>\n",
       "      <td>0.432025</td>\n",
       "      <td>0.026576</td>\n",
       "      <td>-0.089991</td>\n",
       "      <td>-0.299534</td>\n",
       "      <td>1.000000</td>\n",
       "      <td>0.195775</td>\n",
       "      <td>0.182559</td>\n",
       "      <td>0.154399</td>\n",
       "    </tr>\n",
       "    <tr>\n",
       "      <th>x</th>\n",
       "      <td>0.976267</td>\n",
       "      <td>0.124552</td>\n",
       "      <td>0.270998</td>\n",
       "      <td>-0.182480</td>\n",
       "      <td>-0.028765</td>\n",
       "      <td>0.195775</td>\n",
       "      <td>1.000000</td>\n",
       "      <td>0.967143</td>\n",
       "      <td>0.985385</td>\n",
       "    </tr>\n",
       "    <tr>\n",
       "      <th>y</th>\n",
       "      <td>0.945757</td>\n",
       "      <td>0.119245</td>\n",
       "      <td>0.262095</td>\n",
       "      <td>-0.174818</td>\n",
       "      <td>-0.032894</td>\n",
       "      <td>0.182559</td>\n",
       "      <td>0.967143</td>\n",
       "      <td>1.000000</td>\n",
       "      <td>0.960350</td>\n",
       "    </tr>\n",
       "    <tr>\n",
       "      <th>z</th>\n",
       "      <td>0.968685</td>\n",
       "      <td>0.149094</td>\n",
       "      <td>0.273173</td>\n",
       "      <td>-0.183647</td>\n",
       "      <td>0.092482</td>\n",
       "      <td>0.154399</td>\n",
       "      <td>0.985385</td>\n",
       "      <td>0.960350</td>\n",
       "      <td>1.000000</td>\n",
       "    </tr>\n",
       "  </tbody>\n",
       "</table>\n",
       "</div>"
      ],
      "text/plain": [
       "            carat       cut     color   clarity     depth     table         x  \\\n",
       "carat    1.000000  0.132754  0.291382 -0.155052  0.023118  0.181725  0.976267   \n",
       "cut      0.132754  1.000000  0.018865 -0.093632  0.213022  0.432025  0.124552   \n",
       "color    0.291382  0.018865  1.000000  0.042550  0.044171  0.026576  0.270998   \n",
       "clarity -0.155052 -0.093632  0.042550  1.000000 -0.028916 -0.089991 -0.182480   \n",
       "depth    0.023118  0.213022  0.044171 -0.028916  1.000000 -0.299534 -0.028765   \n",
       "table    0.181725  0.432025  0.026576 -0.089991 -0.299534  1.000000  0.195775   \n",
       "x        0.976267  0.124552  0.270998 -0.182480 -0.028765  0.195775  1.000000   \n",
       "y        0.945757  0.119245  0.262095 -0.174818 -0.032894  0.182559  0.967143   \n",
       "z        0.968685  0.149094  0.273173 -0.183647  0.092482  0.154399  0.985385   \n",
       "\n",
       "                y         z  \n",
       "carat    0.945757  0.968685  \n",
       "cut      0.119245  0.149094  \n",
       "color    0.262095  0.273173  \n",
       "clarity -0.174818 -0.183647  \n",
       "depth   -0.032894  0.092482  \n",
       "table    0.182559  0.154399  \n",
       "x        0.967143  0.985385  \n",
       "y        1.000000  0.960350  \n",
       "z        0.960350  1.000000  "
      ]
     },
     "execution_count": 56,
     "metadata": {},
     "output_type": "execute_result"
    }
   ],
   "source": [
    "X.corr()"
   ]
  },
  {
   "cell_type": "code",
   "execution_count": 57,
   "metadata": {},
   "outputs": [
    {
     "data": {
      "image/png": "[encoded data removed]",
      "text/plain": [
       "<Figure size 432x288 with 2 Axes>"
      ]
     },
     "metadata": {},
     "output_type": "display_data"
    }
   ],
   "source": [
    "ax = sns.heatmap(X.corr())"
   ]
  },
  {
   "cell_type": "code",
   "execution_count": null,
   "metadata": {},
   "outputs": [],
   "source": [
    "from sklearn.preprocessing import StandardScaler, Normalizer\n",
    "from sklearn.pipeline import make_pipeline\n",
    "pipeline = [\n",
    "    StandardScaler(),\n",
    "#     Normalizer(),\n",
    "]\n",
    "\n",
    "tr = make_pipeline(*pipeline)\n",
    "\n",
    "X_norm = tr.fit_transform(X)\n",
    "X_norm = pd.DataFrame(X_norm, columns = X.columns)"
   ]
  },
  {
   "cell_type": "code",
   "execution_count": 172,
   "metadata": {
    "scrolled": true
   },
   "outputs": [
    {
     "data": {
      "text/html": [
       "<div>\n",
       "<style scoped>\n",
       "    .dataframe tbody tr th:only-of-type {\n",
       "        vertical-align: middle;\n",
       "    }\n",
       "\n",
       "    .dataframe tbody tr th {\n",
       "        vertical-align: top;\n",
       "    }\n",
       "\n",
       "    .dataframe thead th {\n",
       "        text-align: right;\n",
       "    }\n",
       "</style>\n",
       "<table border=\"1\" class=\"dataframe\">\n",
       "  <thead>\n",
       "    <tr style=\"text-align: right;\">\n",
       "      <th></th>\n",
       "      <th>carat</th>\n",
       "      <th>cut</th>\n",
       "      <th>color</th>\n",
       "      <th>clarity</th>\n",
       "      <th>depth</th>\n",
       "      <th>table</th>\n",
       "      <th>x</th>\n",
       "      <th>y</th>\n",
       "      <th>z</th>\n",
       "    </tr>\n",
       "  </thead>\n",
       "  <tbody>\n",
       "    <tr>\n",
       "      <th>0</th>\n",
       "      <td>-0.037316</td>\n",
       "      <td>-0.084332</td>\n",
       "      <td>-0.348974</td>\n",
       "      <td>0.535023</td>\n",
       "      <td>-0.174910</td>\n",
       "      <td>0.246448</td>\n",
       "      <td>0.177558</td>\n",
       "      <td>0.212929</td>\n",
       "      <td>0.175592</td>\n",
       "    </tr>\n",
       "    <tr>\n",
       "      <th>1</th>\n",
       "      <td>-1.028243</td>\n",
       "      <td>-0.980870</td>\n",
       "      <td>-1.524998</td>\n",
       "      <td>-1.137752</td>\n",
       "      <td>-0.665206</td>\n",
       "      <td>-0.648784</td>\n",
       "      <td>-1.213123</td>\n",
       "      <td>-1.228642</td>\n",
       "      <td>-1.291969</td>\n",
       "    </tr>\n",
       "    <tr>\n",
       "      <th>2</th>\n",
       "      <td>-1.049327</td>\n",
       "      <td>-0.980870</td>\n",
       "      <td>-0.348974</td>\n",
       "      <td>-1.137752</td>\n",
       "      <td>0.385428</td>\n",
       "      <td>-1.544015</td>\n",
       "      <td>-1.275525</td>\n",
       "      <td>-1.211273</td>\n",
       "      <td>-1.220030</td>\n",
       "    </tr>\n",
       "    <tr>\n",
       "      <th>3</th>\n",
       "      <td>0.510857</td>\n",
       "      <td>-0.980870</td>\n",
       "      <td>-0.936986</td>\n",
       "      <td>1.092614</td>\n",
       "      <td>0.175301</td>\n",
       "      <td>0.246448</td>\n",
       "      <td>0.721350</td>\n",
       "      <td>0.629768</td>\n",
       "      <td>0.707943</td>\n",
       "    </tr>\n",
       "    <tr>\n",
       "      <th>4</th>\n",
       "      <td>-0.311402</td>\n",
       "      <td>-0.980870</td>\n",
       "      <td>2.003073</td>\n",
       "      <td>-1.137752</td>\n",
       "      <td>-0.244952</td>\n",
       "      <td>-1.096399</td>\n",
       "      <td>-0.134454</td>\n",
       "      <td>-0.099701</td>\n",
       "      <td>-0.140941</td>\n",
       "    </tr>\n",
       "    <tr>\n",
       "      <th>...</th>\n",
       "      <td>...</td>\n",
       "      <td>...</td>\n",
       "      <td>...</td>\n",
       "      <td>...</td>\n",
       "      <td>...</td>\n",
       "      <td>...</td>\n",
       "      <td>...</td>\n",
       "      <td>...</td>\n",
       "      <td>...</td>\n",
       "    </tr>\n",
       "    <tr>\n",
       "      <th>40340</th>\n",
       "      <td>-0.627656</td>\n",
       "      <td>-0.980870</td>\n",
       "      <td>-0.936986</td>\n",
       "      <td>0.535023</td>\n",
       "      <td>0.105259</td>\n",
       "      <td>-0.648784</td>\n",
       "      <td>-0.571270</td>\n",
       "      <td>-0.533909</td>\n",
       "      <td>-0.543801</td>\n",
       "    </tr>\n",
       "    <tr>\n",
       "      <th>40341</th>\n",
       "      <td>-0.986076</td>\n",
       "      <td>-0.980870</td>\n",
       "      <td>-1.524998</td>\n",
       "      <td>-0.580161</td>\n",
       "      <td>0.035216</td>\n",
       "      <td>-0.648784</td>\n",
       "      <td>-1.186379</td>\n",
       "      <td>-1.124432</td>\n",
       "      <td>-1.162479</td>\n",
       "    </tr>\n",
       "    <tr>\n",
       "      <th>40342</th>\n",
       "      <td>-0.838491</td>\n",
       "      <td>-0.084332</td>\n",
       "      <td>0.239038</td>\n",
       "      <td>1.650206</td>\n",
       "      <td>-0.174910</td>\n",
       "      <td>0.246448</td>\n",
       "      <td>-0.927855</td>\n",
       "      <td>-0.863907</td>\n",
       "      <td>-0.917885</td>\n",
       "    </tr>\n",
       "    <tr>\n",
       "      <th>40343</th>\n",
       "      <td>0.553024</td>\n",
       "      <td>-0.980870</td>\n",
       "      <td>1.415062</td>\n",
       "      <td>0.535023</td>\n",
       "      <td>-0.385037</td>\n",
       "      <td>-0.201168</td>\n",
       "      <td>0.765923</td>\n",
       "      <td>0.716610</td>\n",
       "      <td>0.707943</td>\n",
       "    </tr>\n",
       "    <tr>\n",
       "      <th>40344</th>\n",
       "      <td>0.447606</td>\n",
       "      <td>0.812207</td>\n",
       "      <td>0.827050</td>\n",
       "      <td>-0.022569</td>\n",
       "      <td>1.155892</td>\n",
       "      <td>-1.096399</td>\n",
       "      <td>0.551972</td>\n",
       "      <td>0.482138</td>\n",
       "      <td>0.679167</td>\n",
       "    </tr>\n",
       "  </tbody>\n",
       "</table>\n",
       "<p>40345 rows × 9 columns</p>\n",
       "</div>"
      ],
      "text/plain": [
       "          carat       cut     color   clarity     depth     table         x  \\\n",
       "0     -0.037316 -0.084332 -0.348974  0.535023 -0.174910  0.246448  0.177558   \n",
       "1     -1.028243 -0.980870 -1.524998 -1.137752 -0.665206 -0.648784 -1.213123   \n",
       "2     -1.049327 -0.980870 -0.348974 -1.137752  0.385428 -1.544015 -1.275525   \n",
       "3      0.510857 -0.980870 -0.936986  1.092614  0.175301  0.246448  0.721350   \n",
       "4     -0.311402 -0.980870  2.003073 -1.137752 -0.244952 -1.096399 -0.134454   \n",
       "...         ...       ...       ...       ...       ...       ...       ...   \n",
       "40340 -0.627656 -0.980870 -0.936986  0.535023  0.105259 -0.648784 -0.571270   \n",
       "40341 -0.986076 -0.980870 -1.524998 -0.580161  0.035216 -0.648784 -1.186379   \n",
       "40342 -0.838491 -0.084332  0.239038  1.650206 -0.174910  0.246448 -0.927855   \n",
       "40343  0.553024 -0.980870  1.415062  0.535023 -0.385037 -0.201168  0.765923   \n",
       "40344  0.447606  0.812207  0.827050 -0.022569  1.155892 -1.096399  0.551972   \n",
       "\n",
       "              y         z  \n",
       "0      0.212929  0.175592  \n",
       "1     -1.228642 -1.291969  \n",
       "2     -1.211273 -1.220030  \n",
       "3      0.629768  0.707943  \n",
       "4     -0.099701 -0.140941  \n",
       "...         ...       ...  \n",
       "40340 -0.533909 -0.543801  \n",
       "40341 -1.124432 -1.162479  \n",
       "40342 -0.863907 -0.917885  \n",
       "40343  0.716610  0.707943  \n",
       "40344  0.482138  0.679167  \n",
       "\n",
       "[40345 rows x 9 columns]"
      ]
     },
     "execution_count": 172,
     "metadata": {},
     "output_type": "execute_result"
    }
   ],
   "source": [
    "X_norm"
   ]
  },
  {
   "cell_type": "code",
   "execution_count": null,
   "metadata": {},
   "outputs": [],
   "source": [
    "columns = ['carat', 'cut', 'color', 'clarity', 'depth']"
   ]
  },
  {
   "cell_type": "code",
   "execution_count": null,
   "metadata": {},
   "outputs": [],
   "source": [
    "X_train, X_test, y_train, y_test = train_test_split(X_norm[columns], y, test_size=0.01, random_state=42)"
   ]
  },
  {
   "cell_type": "markdown",
   "metadata": {},
   "source": [
    "# Random Forest"
   ]
  },
  {
   "cell_type": "code",
   "execution_count": 63,
   "metadata": {},
   "outputs": [],
   "source": [
    "from sklearn.model_selection import train_test_split\n",
    "from sklearn.ensemble import RandomForestRegressor\n",
    "from sklearn.feature_selection import RFECV"
   ]
  },
  {
   "cell_type": "code",
   "execution_count": 64,
   "metadata": {},
   "outputs": [],
   "source": [
    "columns = ['carat', 'cut', 'color', 'clarity', 'depth']"
   ]
  },
  {
   "cell_type": "code",
   "execution_count": 65,
   "metadata": {},
   "outputs": [],
   "source": [
    "rf_reg = RandomForestRegressor(n_estimators=500, max_depth=80, min_samples_leaf=3)"
   ]
  },
  {
   "cell_type": "code",
   "execution_count": 67,
   "metadata": {},
   "outputs": [],
   "source": [
    "X_train, X_test, y_train, y_test = train_test_split(X_norm[columns], y, test_size=0.01, random_state=42)"
   ]
  },
  {
   "cell_type": "code",
   "execution_count": 68,
   "metadata": {},
   "outputs": [
    {
     "data": {
      "text/plain": [
       "RandomForestRegressor(bootstrap=True, ccp_alpha=0.0, criterion='mse',\n",
       "                      max_depth=80, max_features='auto', max_leaf_nodes=None,\n",
       "                      max_samples=None, min_impurity_decrease=0.0,\n",
       "                      min_impurity_split=None, min_samples_leaf=3,\n",
       "                      min_samples_split=2, min_weight_fraction_leaf=0.0,\n",
       "                      n_estimators=500, n_jobs=None, oob_score=False,\n",
       "                      random_state=None, verbose=0, warm_start=False)"
      ]
     },
     "execution_count": 68,
     "metadata": {},
     "output_type": "execute_result"
    }
   ],
   "source": [
    "rf_reg.fit(X_train, y_train)"
   ]
  },
  {
   "cell_type": "code",
   "execution_count": 69,
   "metadata": {},
   "outputs": [
    {
     "name": "stdout",
     "output_type": "stream",
     "text": [
      "0.9908151934570772\n",
      "0.9815171339226366\n"
     ]
    }
   ],
   "source": [
    "print(rf_reg.score(X_train, y_train))\n",
    "print(rf_reg.score(X_test, y_test))"
   ]
  },
  {
   "cell_type": "code",
   "execution_count": 70,
   "metadata": {},
   "outputs": [
    {
     "name": "stdout",
     "output_type": "stream",
     "text": [
      "METRIC SUMMARY\n",
      "MSE 308778.1822857575\n",
      "RMSE 555.6781283132867\n",
      "MSLE 0.011896102363422839\n",
      "MAE 299.7467956585519\n",
      "R2 0.9815171339226366\n"
     ]
    }
   ],
   "source": [
    "print('METRIC SUMMARY')\n",
    "print('MSE', mean_squared_error(y_test, rf_reg.predict(X_test)))\n",
    "print('RMSE', np.sqrt(mean_squared_error(y_test, rf_reg.predict(X_test))))\n",
    "print('MSLE', mean_squared_log_error(y_test, rf_reg.predict(X_test)))\n",
    "print('MAE', mean_absolute_error(y_test, rf_reg.predict(X_test)))\n",
    "print('R2', r2_score(y_test, rf_reg.predict(X_test)))"
   ]
  },
  {
   "cell_type": "markdown",
   "metadata": {},
   "source": [
    "# Gradient Boosting"
   ]
  },
  {
   "cell_type": "code",
   "execution_count": 72,
   "metadata": {},
   "outputs": [],
   "source": [
    "from sklearn.ensemble import GradientBoostingRegressor"
   ]
  },
  {
   "cell_type": "code",
   "execution_count": 73,
   "metadata": {},
   "outputs": [
    {
     "data": {
      "text/plain": [
       "GradientBoostingRegressor(alpha=0.9, ccp_alpha=0.0, criterion='friedman_mse',\n",
       "                          init=None, learning_rate=0.01, loss='ls',\n",
       "                          max_depth=30, max_features=None, max_leaf_nodes=None,\n",
       "                          min_impurity_decrease=0.0, min_impurity_split=None,\n",
       "                          min_samples_leaf=1, min_samples_split=2,\n",
       "                          min_weight_fraction_leaf=0.0, n_estimators=500,\n",
       "                          n_iter_no_change=None, presort='deprecated',\n",
       "                          random_state=None, subsample=1.0, tol=0.0001,\n",
       "                          validation_fraction=0.1, verbose=0, warm_start=False)"
      ]
     },
     "execution_count": 73,
     "metadata": {},
     "output_type": "execute_result"
    }
   ],
   "source": [
    "gb_reg = GradientBoostingRegressor(n_estimators= 500, max_depth= 30, min_samples_split= 2, learning_rate= 0.01, loss='ls')\n",
    "\n",
    "gb_reg.fit(X_train, y_train)"
   ]
  },
  {
   "cell_type": "code",
   "execution_count": 74,
   "metadata": {},
   "outputs": [
    {
     "name": "stdout",
     "output_type": "stream",
     "text": [
      "0.999134177178367\n",
      "0.9715177075413237\n"
     ]
    }
   ],
   "source": [
    "print(gb_reg.score(X_train, y_train))\n",
    "print(gb_reg.score(X_test, y_test))"
   ]
  },
  {
   "cell_type": "code",
   "execution_count": 75,
   "metadata": {},
   "outputs": [
    {
     "name": "stdout",
     "output_type": "stream",
     "text": [
      "METRIC SUMMARY\n",
      "MSE 475830.4505323747\n",
      "RMSE 689.8046466445227\n",
      "MSLE 0.01788139792741579\n",
      "MAE 357.7452484239217\n",
      "R2 0.9715177075413238\n"
     ]
    }
   ],
   "source": [
    "print('METRIC SUMMARY')\n",
    "print('MSE', mean_squared_error(y_test, gb_reg.predict(X_test)))\n",
    "print('RMSE', np.sqrt(mean_squared_error(y_test, gb_reg.predict(X_test))))\n",
    "print('MSLE', mean_squared_log_error(y_test, gb_reg.predict(X_test)))\n",
    "print('MAE', mean_absolute_error(y_test, gb_reg.predict(X_test)))\n",
    "print('R2', r2_score(y_test, gb_reg.predict(X_test)))"
   ]
  },
  {
   "cell_type": "markdown",
   "metadata": {},
   "source": [
    "# H20"
   ]
  },
  {
   "cell_type": "code",
   "execution_count": 76,
   "metadata": {},
   "outputs": [],
   "source": [
    "import h2o\n",
    "from h2o.estimators.gbm import H2OGradientBoostingEstimator\n",
    "from h2o.automl import H2OAutoML"
   ]
  },
  {
   "cell_type": "code",
   "execution_count": 77,
   "metadata": {},
   "outputs": [
    {
     "name": "stdout",
     "output_type": "stream",
     "text": [
      "Checking whether there is an H2O instance running at http://127.0.0.1:8080 . connected.\n"
     ]
    },
    {
     "data": {
      "text/html": [
       "<div style=\"overflow:auto\"><table style=\"width:50%\"><tr><td>H2O cluster uptime:</td>\n",
       "<td>3 mins 18 secs</td></tr>\n",
       "<tr><td>H2O cluster timezone:</td>\n",
       "<td>Europe/Madrid</td></tr>\n",
       "<tr><td>H2O data parsing timezone:</td>\n",
       "<td>UTC</td></tr>\n",
       "<tr><td>H2O cluster version:</td>\n",
       "<td>3.28.0.3</td></tr>\n",
       "<tr><td>H2O cluster version age:</td>\n",
       "<td>24 days </td></tr>\n",
       "<tr><td>H2O cluster name:</td>\n",
       "<td>H2O_from_python_root_tkaxkd</td></tr>\n",
       "<tr><td>H2O cluster total nodes:</td>\n",
       "<td>1</td></tr>\n",
       "<tr><td>H2O cluster free memory:</td>\n",
       "<td>7.811 Gb</td></tr>\n",
       "<tr><td>H2O cluster total cores:</td>\n",
       "<td>4</td></tr>\n",
       "<tr><td>H2O cluster allowed cores:</td>\n",
       "<td>4</td></tr>\n",
       "<tr><td>H2O cluster status:</td>\n",
       "<td>locked, healthy</td></tr>\n",
       "<tr><td>H2O connection url:</td>\n",
       "<td>http://127.0.0.1:8080</td></tr>\n",
       "<tr><td>H2O connection proxy:</td>\n",
       "<td>{'http': None, 'https': None}</td></tr>\n",
       "<tr><td>H2O internal security:</td>\n",
       "<td>False</td></tr>\n",
       "<tr><td>H2O API Extensions:</td>\n",
       "<td>Amazon S3, XGBoost, Algos, AutoML, Core V3, TargetEncoder, Core V4</td></tr>\n",
       "<tr><td>Python version:</td>\n",
       "<td>3.6.9 final</td></tr></table></div>"
      ],
      "text/plain": [
       "--------------------------  ------------------------------------------------------------------\n",
       "H2O cluster uptime:         3 mins 18 secs\n",
       "H2O cluster timezone:       Europe/Madrid\n",
       "H2O data parsing timezone:  UTC\n",
       "H2O cluster version:        3.28.0.3\n",
       "H2O cluster version age:    24 days\n",
       "H2O cluster name:           H2O_from_python_root_tkaxkd\n",
       "H2O cluster total nodes:    1\n",
       "H2O cluster free memory:    7.811 Gb\n",
       "H2O cluster total cores:    4\n",
       "H2O cluster allowed cores:  4\n",
       "H2O cluster status:         locked, healthy\n",
       "H2O connection url:         http://127.0.0.1:8080\n",
       "H2O connection proxy:       {'http': None, 'https': None}\n",
       "H2O internal security:      False\n",
       "H2O API Extensions:         Amazon S3, XGBoost, Algos, AutoML, Core V3, TargetEncoder, Core V4\n",
       "Python version:             3.6.9 final\n",
       "--------------------------  ------------------------------------------------------------------"
      ]
     },
     "metadata": {},
     "output_type": "display_data"
    }
   ],
   "source": [
    "h2o.init(ip=\"127.0.0.1\", port=\"8080\")"
   ]
  },
  {
   "cell_type": "code",
   "execution_count": 104,
   "metadata": {},
   "outputs": [],
   "source": [
    "training_columns = ['carat', 'depth', 'table','cut']"
   ]
  },
  {
   "cell_type": "code",
   "execution_count": 105,
   "metadata": {},
   "outputs": [],
   "source": [
    "response_column = 'price'"
   ]
  },
  {
   "cell_type": "code",
   "execution_count": 106,
   "metadata": {},
   "outputs": [
    {
     "name": "stdout",
     "output_type": "stream",
     "text": [
      "Parse progress: |█████████████████████████████████████████████████████████| 100%\n"
     ]
    }
   ],
   "source": [
    "data = h2o.H2OFrame(diamonds_dumies)"
   ]
  },
  {
   "cell_type": "code",
   "execution_count": 107,
   "metadata": {},
   "outputs": [],
   "source": [
    "model_auto_h2o = H2OAutoML(max_models=30, nfolds = 5, max_runtime_secs=600)"
   ]
  },
  {
   "cell_type": "code",
   "execution_count": 108,
   "metadata": {},
   "outputs": [
    {
     "name": "stdout",
     "output_type": "stream",
     "text": [
      "AutoML progress: |████████████████████████████████████████████████████████| 100%\n"
     ]
    }
   ],
   "source": [
    "model_auto_h2o.train(y = y, training_frame = data)"
   ]
  },
  {
   "cell_type": "code",
   "execution_count": 109,
   "metadata": {},
   "outputs": [],
   "source": [
    "lb = model_auto_h2o.leaderboard"
   ]
  },
  {
   "cell_type": "code",
   "execution_count": 110,
   "metadata": {},
   "outputs": [
    {
     "data": {
      "text/html": [
       "<table>\n",
       "<thead>\n",
       "<tr><th>model_id                                           </th><th style=\"text-align: right;\">  mean_residual_deviance</th><th style=\"text-align: right;\">   rmse</th><th style=\"text-align: right;\">   mse</th><th style=\"text-align: right;\">    mae</th><th style=\"text-align: right;\">    rmsle</th></tr>\n",
       "</thead>\n",
       "<tbody>\n",
       "<tr><td>StackedEnsemble_AllModels_AutoML_20200301_151444   </td><td style=\"text-align: right;\">                  298075</td><td style=\"text-align: right;\">545.963</td><td style=\"text-align: right;\">298075</td><td style=\"text-align: right;\">273.286</td><td style=\"text-align: right;\">0.0947334</td></tr>\n",
       "<tr><td>StackedEnsemble_BestOfFamily_AutoML_20200301_151444</td><td style=\"text-align: right;\">                  298934</td><td style=\"text-align: right;\">546.748</td><td style=\"text-align: right;\">298934</td><td style=\"text-align: right;\">272.517</td><td style=\"text-align: right;\">0.0941733</td></tr>\n",
       "<tr><td>XGBoost_1_AutoML_20200301_151444                   </td><td style=\"text-align: right;\">                  300557</td><td style=\"text-align: right;\">548.231</td><td style=\"text-align: right;\">300557</td><td style=\"text-align: right;\">276.218</td><td style=\"text-align: right;\">0.09552  </td></tr>\n",
       "<tr><td>GBM_4_AutoML_20200301_151444                       </td><td style=\"text-align: right;\">                  309555</td><td style=\"text-align: right;\">556.377</td><td style=\"text-align: right;\">309555</td><td style=\"text-align: right;\">280.352</td><td style=\"text-align: right;\">0.0965692</td></tr>\n",
       "<tr><td>GBM_1_AutoML_20200301_151444                       </td><td style=\"text-align: right;\">                  310399</td><td style=\"text-align: right;\">557.134</td><td style=\"text-align: right;\">310399</td><td style=\"text-align: right;\">289.806</td><td style=\"text-align: right;\">0.105885 </td></tr>\n",
       "<tr><td>GBM_3_AutoML_20200301_151444                       </td><td style=\"text-align: right;\">                  311993</td><td style=\"text-align: right;\">558.564</td><td style=\"text-align: right;\">311993</td><td style=\"text-align: right;\">286.468</td><td style=\"text-align: right;\">0.10434  </td></tr>\n",
       "<tr><td>XGBoost_2_AutoML_20200301_151444                   </td><td style=\"text-align: right;\">                  313993</td><td style=\"text-align: right;\">560.351</td><td style=\"text-align: right;\">313993</td><td style=\"text-align: right;\">278.047</td><td style=\"text-align: right;\">0.0936042</td></tr>\n",
       "<tr><td>GBM_2_AutoML_20200301_151444                       </td><td style=\"text-align: right;\">                  316403</td><td style=\"text-align: right;\">562.497</td><td style=\"text-align: right;\">316403</td><td style=\"text-align: right;\">290.529</td><td style=\"text-align: right;\">0.106485 </td></tr>\n",
       "<tr><td>DRF_1_AutoML_20200301_151444                       </td><td style=\"text-align: right;\">                  317907</td><td style=\"text-align: right;\">563.832</td><td style=\"text-align: right;\">317907</td><td style=\"text-align: right;\">282.032</td><td style=\"text-align: right;\">0.0966801</td></tr>\n",
       "<tr><td>XGBoost_3_AutoML_20200301_151444                   </td><td style=\"text-align: right;\">                  321855</td><td style=\"text-align: right;\">567.323</td><td style=\"text-align: right;\">321855</td><td style=\"text-align: right;\">299.969</td><td style=\"text-align: right;\">0.113757 </td></tr>\n",
       "</tbody>\n",
       "</table>"
      ]
     },
     "metadata": {},
     "output_type": "display_data"
    },
    {
     "data": {
      "text/plain": []
     },
     "execution_count": 110,
     "metadata": {},
     "output_type": "execute_result"
    }
   ],
   "source": [
    "lb"
   ]
  },
  {
   "cell_type": "markdown",
   "metadata": {},
   "source": [
    "# Random Forest H2O"
   ]
  },
  {
   "cell_type": "code",
   "execution_count": 78,
   "metadata": {},
   "outputs": [],
   "source": [
    "y = pd.DataFrame(y)"
   ]
  },
  {
   "cell_type": "code",
   "execution_count": 79,
   "metadata": {},
   "outputs": [],
   "source": [
    "X_norm_price = X_norm.merge(y, left_index=True, right_index=True)"
   ]
  },
  {
   "cell_type": "code",
   "execution_count": 80,
   "metadata": {},
   "outputs": [
    {
     "name": "stdout",
     "output_type": "stream",
     "text": [
      "Parse progress: |█████████████████████████████████████████████████████████| 100%\n"
     ]
    }
   ],
   "source": [
    "data = h2o.H2OFrame(X_norm_price)"
   ]
  },
  {
   "cell_type": "code",
   "execution_count": 81,
   "metadata": {},
   "outputs": [],
   "source": [
    "training_columns = ['carat', 'cut', 'color', 'clarity', 'depth']\n",
    "response_column = 'price'"
   ]
  },
  {
   "cell_type": "code",
   "execution_count": 83,
   "metadata": {},
   "outputs": [],
   "source": [
    "train, test = data.split_frame(ratios=[0.99])"
   ]
  },
  {
   "cell_type": "code",
   "execution_count": 84,
   "metadata": {
    "scrolled": true
   },
   "outputs": [
    {
     "name": "stdout",
     "output_type": "stream",
     "text": [
      "drf Model Build progress: |███████████████████████████████████████████████| 100%\n"
     ]
    }
   ],
   "source": [
    "model_forest_h2o = H2ORandomForestEstimator(ntrees=400, max_depth=30, nfolds=20)\n",
    "model_forest_h2o.train(x=training_columns, y=response_column, training_frame=train)"
   ]
  },
  {
   "cell_type": "code",
   "execution_count": 85,
   "metadata": {},
   "outputs": [],
   "source": [
    "performance = model_forest_h2o.model_performance(test_data=test)"
   ]
  },
  {
   "cell_type": "code",
   "execution_count": 86,
   "metadata": {},
   "outputs": [
    {
     "name": "stdout",
     "output_type": "stream",
     "text": [
      "\n",
      "ModelMetricsRegression: drf\n",
      "** Reported on test data. **\n",
      "\n",
      "MSE: 2191087.024438967\n",
      "RMSE: 1480.232084653946\n",
      "MAE: 1024.3406395691707\n",
      "RMSLE: 0.5424994422511914\n",
      "Mean Residual Deviance: 2191087.024438967\n",
      "\n"
     ]
    }
   ],
   "source": [
    "print(performance)"
   ]
  },
  {
   "cell_type": "code",
   "execution_count": null,
   "metadata": {},
   "outputs": [],
   "source": []
  },
  {
   "cell_type": "markdown",
   "metadata": {},
   "source": [
    "# Auto Magic Learning H2O"
   ]
  },
  {
   "cell_type": "code",
   "execution_count": 87,
   "metadata": {},
   "outputs": [
    {
     "name": "stdout",
     "output_type": "stream",
     "text": [
      "Parse progress: |█████████████████████████████████████████████████████████| 100%\n"
     ]
    }
   ],
   "source": [
    "data = h2o.H2OFrame(X_norm_price)"
   ]
  },
  {
   "cell_type": "code",
   "execution_count": 95,
   "metadata": {},
   "outputs": [
    {
     "data": {
      "text/html": [
       "<div>\n",
       "<style scoped>\n",
       "    .dataframe tbody tr th:only-of-type {\n",
       "        vertical-align: middle;\n",
       "    }\n",
       "\n",
       "    .dataframe tbody tr th {\n",
       "        vertical-align: top;\n",
       "    }\n",
       "\n",
       "    .dataframe thead th {\n",
       "        text-align: right;\n",
       "    }\n",
       "</style>\n",
       "<table border=\"1\" class=\"dataframe\">\n",
       "  <thead>\n",
       "    <tr style=\"text-align: right;\">\n",
       "      <th></th>\n",
       "      <th>carat</th>\n",
       "      <th>cut</th>\n",
       "      <th>color</th>\n",
       "      <th>clarity</th>\n",
       "      <th>depth</th>\n",
       "      <th>table</th>\n",
       "      <th>x</th>\n",
       "      <th>y</th>\n",
       "      <th>z</th>\n",
       "      <th>price</th>\n",
       "    </tr>\n",
       "  </thead>\n",
       "  <tbody>\n",
       "    <tr>\n",
       "      <th>0</th>\n",
       "      <td>-0.037316</td>\n",
       "      <td>-0.084332</td>\n",
       "      <td>-0.348974</td>\n",
       "      <td>0.535023</td>\n",
       "      <td>-0.174910</td>\n",
       "      <td>0.246448</td>\n",
       "      <td>0.177558</td>\n",
       "      <td>0.212929</td>\n",
       "      <td>0.175592</td>\n",
       "      <td>3446</td>\n",
       "    </tr>\n",
       "    <tr>\n",
       "      <th>1</th>\n",
       "      <td>-1.028243</td>\n",
       "      <td>-0.980870</td>\n",
       "      <td>-1.524998</td>\n",
       "      <td>-1.137752</td>\n",
       "      <td>-0.665206</td>\n",
       "      <td>-0.648784</td>\n",
       "      <td>-1.213123</td>\n",
       "      <td>-1.228642</td>\n",
       "      <td>-1.291969</td>\n",
       "      <td>732</td>\n",
       "    </tr>\n",
       "    <tr>\n",
       "      <th>2</th>\n",
       "      <td>-1.049327</td>\n",
       "      <td>-0.980870</td>\n",
       "      <td>-0.348974</td>\n",
       "      <td>-1.137752</td>\n",
       "      <td>0.385428</td>\n",
       "      <td>-1.544015</td>\n",
       "      <td>-1.275525</td>\n",
       "      <td>-1.211273</td>\n",
       "      <td>-1.220030</td>\n",
       "      <td>475</td>\n",
       "    </tr>\n",
       "    <tr>\n",
       "      <th>3</th>\n",
       "      <td>0.510857</td>\n",
       "      <td>-0.980870</td>\n",
       "      <td>-0.936986</td>\n",
       "      <td>1.092614</td>\n",
       "      <td>0.175301</td>\n",
       "      <td>0.246448</td>\n",
       "      <td>0.721350</td>\n",
       "      <td>0.629768</td>\n",
       "      <td>0.707943</td>\n",
       "      <td>9552</td>\n",
       "    </tr>\n",
       "    <tr>\n",
       "      <th>4</th>\n",
       "      <td>-0.311402</td>\n",
       "      <td>-0.980870</td>\n",
       "      <td>2.003073</td>\n",
       "      <td>-1.137752</td>\n",
       "      <td>-0.244952</td>\n",
       "      <td>-1.096399</td>\n",
       "      <td>-0.134454</td>\n",
       "      <td>-0.099701</td>\n",
       "      <td>-0.140941</td>\n",
       "      <td>1276</td>\n",
       "    </tr>\n",
       "    <tr>\n",
       "      <th>...</th>\n",
       "      <td>...</td>\n",
       "      <td>...</td>\n",
       "      <td>...</td>\n",
       "      <td>...</td>\n",
       "      <td>...</td>\n",
       "      <td>...</td>\n",
       "      <td>...</td>\n",
       "      <td>...</td>\n",
       "      <td>...</td>\n",
       "      <td>...</td>\n",
       "    </tr>\n",
       "    <tr>\n",
       "      <th>40340</th>\n",
       "      <td>-0.627656</td>\n",
       "      <td>-0.980870</td>\n",
       "      <td>-0.936986</td>\n",
       "      <td>0.535023</td>\n",
       "      <td>0.105259</td>\n",
       "      <td>-0.648784</td>\n",
       "      <td>-0.571270</td>\n",
       "      <td>-0.533909</td>\n",
       "      <td>-0.543801</td>\n",
       "      <td>1716</td>\n",
       "    </tr>\n",
       "    <tr>\n",
       "      <th>40341</th>\n",
       "      <td>-0.986076</td>\n",
       "      <td>-0.980870</td>\n",
       "      <td>-1.524998</td>\n",
       "      <td>-0.580161</td>\n",
       "      <td>0.035216</td>\n",
       "      <td>-0.648784</td>\n",
       "      <td>-1.186379</td>\n",
       "      <td>-1.124432</td>\n",
       "      <td>-1.162479</td>\n",
       "      <td>781</td>\n",
       "    </tr>\n",
       "    <tr>\n",
       "      <th>40342</th>\n",
       "      <td>-0.838491</td>\n",
       "      <td>-0.084332</td>\n",
       "      <td>0.239038</td>\n",
       "      <td>1.650206</td>\n",
       "      <td>-0.174910</td>\n",
       "      <td>0.246448</td>\n",
       "      <td>-0.927855</td>\n",
       "      <td>-0.863907</td>\n",
       "      <td>-0.917885</td>\n",
       "      <td>1123</td>\n",
       "    </tr>\n",
       "    <tr>\n",
       "      <th>40343</th>\n",
       "      <td>0.553024</td>\n",
       "      <td>-0.980870</td>\n",
       "      <td>1.415062</td>\n",
       "      <td>0.535023</td>\n",
       "      <td>-0.385037</td>\n",
       "      <td>-0.201168</td>\n",
       "      <td>0.765923</td>\n",
       "      <td>0.716610</td>\n",
       "      <td>0.707943</td>\n",
       "      <td>5651</td>\n",
       "    </tr>\n",
       "    <tr>\n",
       "      <th>40344</th>\n",
       "      <td>0.447606</td>\n",
       "      <td>0.812207</td>\n",
       "      <td>0.827050</td>\n",
       "      <td>-0.022569</td>\n",
       "      <td>1.155892</td>\n",
       "      <td>-1.096399</td>\n",
       "      <td>0.551972</td>\n",
       "      <td>0.482138</td>\n",
       "      <td>0.679167</td>\n",
       "      <td>3959</td>\n",
       "    </tr>\n",
       "  </tbody>\n",
       "</table>\n",
       "<p>40345 rows × 10 columns</p>\n",
       "</div>"
      ],
      "text/plain": [
       "          carat       cut     color   clarity     depth     table         x  \\\n",
       "0     -0.037316 -0.084332 -0.348974  0.535023 -0.174910  0.246448  0.177558   \n",
       "1     -1.028243 -0.980870 -1.524998 -1.137752 -0.665206 -0.648784 -1.213123   \n",
       "2     -1.049327 -0.980870 -0.348974 -1.137752  0.385428 -1.544015 -1.275525   \n",
       "3      0.510857 -0.980870 -0.936986  1.092614  0.175301  0.246448  0.721350   \n",
       "4     -0.311402 -0.980870  2.003073 -1.137752 -0.244952 -1.096399 -0.134454   \n",
       "...         ...       ...       ...       ...       ...       ...       ...   \n",
       "40340 -0.627656 -0.980870 -0.936986  0.535023  0.105259 -0.648784 -0.571270   \n",
       "40341 -0.986076 -0.980870 -1.524998 -0.580161  0.035216 -0.648784 -1.186379   \n",
       "40342 -0.838491 -0.084332  0.239038  1.650206 -0.174910  0.246448 -0.927855   \n",
       "40343  0.553024 -0.980870  1.415062  0.535023 -0.385037 -0.201168  0.765923   \n",
       "40344  0.447606  0.812207  0.827050 -0.022569  1.155892 -1.096399  0.551972   \n",
       "\n",
       "              y         z  price  \n",
       "0      0.212929  0.175592   3446  \n",
       "1     -1.228642 -1.291969    732  \n",
       "2     -1.211273 -1.220030    475  \n",
       "3      0.629768  0.707943   9552  \n",
       "4     -0.099701 -0.140941   1276  \n",
       "...         ...       ...    ...  \n",
       "40340 -0.533909 -0.543801   1716  \n",
       "40341 -1.124432 -1.162479    781  \n",
       "40342 -0.863907 -0.917885   1123  \n",
       "40343  0.716610  0.707943   5651  \n",
       "40344  0.482138  0.679167   3959  \n",
       "\n",
       "[40345 rows x 10 columns]"
      ]
     },
     "execution_count": 95,
     "metadata": {},
     "output_type": "execute_result"
    }
   ],
   "source": [
    "X_norm_price"
   ]
  },
  {
   "cell_type": "code",
   "execution_count": 88,
   "metadata": {},
   "outputs": [],
   "source": [
    "y = 'price'"
   ]
  },
  {
   "cell_type": "code",
   "execution_count": 90,
   "metadata": {},
   "outputs": [],
   "source": [
    "    model_auto_h2o = H2OAutoML(max_models=30, nfolds = 5, max_runtime_secs=300)"
   ]
  },
  {
   "cell_type": "code",
   "execution_count": 91,
   "metadata": {},
   "outputs": [
    {
     "name": "stdout",
     "output_type": "stream",
     "text": [
      "AutoML progress: |████████████████████████████████████████████████████████| 100%\n"
     ]
    }
   ],
   "source": [
    "# model_auto_h2o.train(y=response_column, training_frame=train)\n",
    "model_auto_h2o.train(y = y, training_frame = data)"
   ]
  },
  {
   "cell_type": "code",
   "execution_count": 92,
   "metadata": {},
   "outputs": [
    {
     "data": {
      "text/plain": [
       "<h2o.automl.autoh2o.H2OAutoML at 0x7efe9a37cc88>"
      ]
     },
     "execution_count": 92,
     "metadata": {},
     "output_type": "execute_result"
    }
   ],
   "source": [
    "model_auto_h2o"
   ]
  },
  {
   "cell_type": "code",
   "execution_count": 93,
   "metadata": {},
   "outputs": [],
   "source": [
    "lb = model_auto_h2o.leaderboard"
   ]
  },
  {
   "cell_type": "code",
   "execution_count": 94,
   "metadata": {},
   "outputs": [
    {
     "data": {
      "text/html": [
       "<table>\n",
       "<thead>\n",
       "<tr><th>model_id                                           </th><th style=\"text-align: right;\">  mean_residual_deviance</th><th style=\"text-align: right;\">    rmse</th><th style=\"text-align: right;\">             mse</th><th style=\"text-align: right;\">     mae</th><th style=\"text-align: right;\">    rmsle</th></tr>\n",
       "</thead>\n",
       "<tbody>\n",
       "<tr><td>StackedEnsemble_AllModels_AutoML_20200301_145440   </td><td style=\"text-align: right;\">        285334          </td><td style=\"text-align: right;\"> 534.167</td><td style=\"text-align: right;\">285334          </td><td style=\"text-align: right;\"> 265.546</td><td style=\"text-align: right;\">0.0905687</td></tr>\n",
       "<tr><td>StackedEnsemble_BestOfFamily_AutoML_20200301_145440</td><td style=\"text-align: right;\">        288585          </td><td style=\"text-align: right;\"> 537.201</td><td style=\"text-align: right;\">288585          </td><td style=\"text-align: right;\"> 268.5  </td><td style=\"text-align: right;\">0.0925451</td></tr>\n",
       "<tr><td>XGBoost_1_AutoML_20200301_145440                   </td><td style=\"text-align: right;\">        288610          </td><td style=\"text-align: right;\"> 537.224</td><td style=\"text-align: right;\">288610          </td><td style=\"text-align: right;\"> 268.626</td><td style=\"text-align: right;\">0.0926432</td></tr>\n",
       "<tr><td>XGBoost_2_AutoML_20200301_145440                   </td><td style=\"text-align: right;\">        292952          </td><td style=\"text-align: right;\"> 541.25 </td><td style=\"text-align: right;\">292952          </td><td style=\"text-align: right;\"> 267.293</td><td style=\"text-align: right;\">0.0890564</td></tr>\n",
       "<tr><td>XGBoost_3_AutoML_20200301_145440                   </td><td style=\"text-align: right;\">        305796          </td><td style=\"text-align: right;\"> 552.989</td><td style=\"text-align: right;\">305796          </td><td style=\"text-align: right;\"> 289.589</td><td style=\"text-align: right;\">0.107966 </td></tr>\n",
       "<tr><td>GLM_1_AutoML_20200301_145440                       </td><td style=\"text-align: right;\">             1.59554e+07</td><td style=\"text-align: right;\">3994.42 </td><td style=\"text-align: right;\">     1.59554e+07</td><td style=\"text-align: right;\">3033.61 </td><td style=\"text-align: right;\">1.12611  </td></tr>\n",
       "</tbody>\n",
       "</table>"
      ]
     },
     "metadata": {},
     "output_type": "display_data"
    },
    {
     "data": {
      "text/plain": []
     },
     "execution_count": 94,
     "metadata": {},
     "output_type": "execute_result"
    }
   ],
   "source": [
    "lb"
   ]
  },
  {
   "cell_type": "code",
   "execution_count": null,
   "metadata": {},
   "outputs": [],
   "source": []
  },
  {
   "cell_type": "markdown",
   "metadata": {},
   "source": [
    "# KERAS"
   ]
  },
  {
   "cell_type": "code",
   "execution_count": 192,
   "metadata": {},
   "outputs": [],
   "source": [
    "columns = ['carat', 'cut', 'color', 'clarity', 'depth']"
   ]
  },
  {
   "cell_type": "code",
   "execution_count": 193,
   "metadata": {},
   "outputs": [],
   "source": [
    "X_train, X_test, y_train, y_test = train_test_split(X_norm[columns], y, test_size=0.01, random_state=42)"
   ]
  },
  {
   "cell_type": "code",
   "execution_count": 194,
   "metadata": {},
   "outputs": [
    {
     "name": "stdout",
     "output_type": "stream",
     "text": [
      "Model: \"sequential_18\"\n",
      "_________________________________________________________________\n",
      "Layer (type)                 Output Shape              Param #   \n",
      "=================================================================\n",
      "dense_43 (Dense)             (None, 500)               3000      \n",
      "_________________________________________________________________\n",
      "dense_44 (Dense)             (None, 100)               50100     \n",
      "_________________________________________________________________\n",
      "dense_45 (Dense)             (None, 50)                5050      \n",
      "_________________________________________________________________\n",
      "dense_46 (Dense)             (None, 1)                 51        \n",
      "=================================================================\n",
      "Total params: 58,201\n",
      "Trainable params: 58,201\n",
      "Non-trainable params: 0\n",
      "_________________________________________________________________\n"
     ]
    }
   ],
   "source": [
    "# Define model\n",
    "model_keras = Sequential()\n",
    "model_keras.add(Dense(500, input_dim=5, activation= \"relu\"))\n",
    "model_keras.add(Dense(100, activation= \"relu\"))\n",
    "model_keras.add(Dense(50, activation= \"relu\"))\n",
    "model_keras.add(Dense(1))\n",
    "model_keras.summary()"
   ]
  },
  {
   "cell_type": "code",
   "execution_count": 195,
   "metadata": {
    "scrolled": true
   },
   "outputs": [
    {
     "name": "stdout",
     "output_type": "stream",
     "text": [
      "Epoch 1/100\n",
      "39941/39941 [==============================] - ETA: 3:20 - loss: 29881548.0000 - mean_squared_error: 29881548.00 - ETA: 10s - loss: 32075006.4583 - mean_squared_error: 32075008.0000 - ETA: 6s - loss: 32439952.1556 - mean_squared_error: 32439950.000 - ETA: 5s - loss: 31758563.7794 - mean_squared_error: 31758562.00 - ETA: 4s - loss: 30903012.6444 - mean_squared_error: 30903008.00 - ETA: 4s - loss: 29441250.7798 - mean_squared_error: 29441244.00 - ETA: 3s - loss: 26593742.4015 - mean_squared_error: 26593738.00 - ETA: 3s - loss: 22981861.5813 - mean_squared_error: 22981854.00 - ETA: 3s - loss: 20729510.1968 - mean_squared_error: 20729504.00 - ETA: 3s - loss: 18644955.1332 - mean_squared_error: 18644950.00 - ETA: 2s - loss: 17049855.5890 - mean_squared_error: 17049850.00 - ETA: 2s - loss: 15564191.2950 - mean_squared_error: 15564185.00 - ETA: 2s - loss: 14491558.0591 - mean_squared_error: 14491552.00 - ETA: 2s - loss: 13567472.8263 - mean_squared_error: 13567467.00 - ETA: 2s - loss: 12681461.8713 - mean_squared_error: 12681459.00 - ETA: 2s - loss: 12033711.7299 - mean_squared_error: 12033710.00 - ETA: 2s - loss: 11359383.8670 - mean_squared_error: 11359384.00 - ETA: 2s - loss: 10857568.6328 - mean_squared_error: 10857570.00 - ETA: 2s - loss: 10309107.5759 - mean_squared_error: 10309109.00 - ETA: 2s - loss: 9896033.1598 - mean_squared_error: 9896033.0000 - ETA: 2s - loss: 9473137.5585 - mean_squared_error: 9473137.00 - ETA: 1s - loss: 9110486.6623 - mean_squared_error: 9110484.00 - ETA: 1s - loss: 8751247.2324 - mean_squared_error: 8751247.00 - ETA: 1s - loss: 8449695.0863 - mean_squared_error: 8449695.00 - ETA: 1s - loss: 8180412.2998 - mean_squared_error: 8180410.00 - ETA: 1s - loss: 7926651.3148 - mean_squared_error: 7926650.50 - ETA: 1s - loss: 7688185.6963 - mean_squared_error: 7688184.50 - ETA: 1s - loss: 7477862.5757 - mean_squared_error: 7477860.50 - ETA: 1s - loss: 7253522.2460 - mean_squared_error: 7253518.50 - ETA: 1s - loss: 7089571.8756 - mean_squared_error: 7089567.50 - ETA: 1s - loss: 6904349.8959 - mean_squared_error: 6904347.00 - ETA: 1s - loss: 6754527.3319 - mean_squared_error: 6754524.00 - ETA: 1s - loss: 6590146.2288 - mean_squared_error: 6590144.00 - ETA: 1s - loss: 6468383.9882 - mean_squared_error: 6468381.50 - ETA: 1s - loss: 6358034.1654 - mean_squared_error: 6358032.50 - ETA: 1s - loss: 6258357.2605 - mean_squared_error: 6258356.50 - ETA: 1s - loss: 6186200.1915 - mean_squared_error: 6186199.50 - ETA: 1s - loss: 6115530.0850 - mean_squared_error: 6115528.00 - ETA: 1s - loss: 6023575.9032 - mean_squared_error: 6023574.50 - ETA: 0s - loss: 5939488.4284 - mean_squared_error: 5939488.00 - ETA: 0s - loss: 5878438.1369 - mean_squared_error: 5878436.50 - ETA: 0s - loss: 5809629.1365 - mean_squared_error: 5809627.00 - ETA: 0s - loss: 5749390.7993 - mean_squared_error: 5749389.00 - ETA: 0s - loss: 5651138.2234 - mean_squared_error: 5651137.00 - ETA: 0s - loss: 5576711.9534 - mean_squared_error: 5576712.00 - ETA: 0s - loss: 5490851.2306 - mean_squared_error: 5490851.00 - ETA: 0s - loss: 5408950.8503 - mean_squared_error: 5408951.00 - ETA: 0s - loss: 5348958.3638 - mean_squared_error: 5348958.50 - ETA: 0s - loss: 5285678.0961 - mean_squared_error: 5285677.00 - ETA: 0s - loss: 5223189.4388 - mean_squared_error: 5223188.50 - ETA: 0s - loss: 5148022.4948 - mean_squared_error: 5148021.00 - ETA: 0s - loss: 5066410.8371 - mean_squared_error: 5066409.50 - ETA: 0s - loss: 4995350.0877 - mean_squared_error: 4995348.50 - ETA: 0s - loss: 4937750.4397 - mean_squared_error: 4937749.50 - ETA: 0s - loss: 4871714.2670 - mean_squared_error: 4871713.50 - ETA: 0s - loss: 4817898.5397 - mean_squared_error: 4817897.50 - ETA: 0s - loss: 4761323.5390 - mean_squared_error: 4761322.50 - ETA: 0s - loss: 4689348.0947 - mean_squared_error: 4689346.00 - 3s 77us/step - loss: 4688789.8056 - mean_squared_error: 4688787.5000\n",
      "Epoch 2/100\n",
      "39941/39941 [==============================] - ETA: 6s - loss: 1592676.7500 - mean_squared_error: 1592676.75 - ETA: 2s - loss: 1935541.8305 - mean_squared_error: 1935541.75 - ETA: 2s - loss: 1866189.8996 - mean_squared_error: 1866190.00 - ETA: 2s - loss: 2046933.2409 - mean_squared_error: 2046933.37 - ETA: 2s - loss: 2022448.9559 - mean_squared_error: 2022448.62 - ETA: 2s - loss: 2139677.5000 - mean_squared_error: 2139677.25 - ETA: 2s - loss: 2083624.0980 - mean_squared_error: 2083623.75 - ETA: 2s - loss: 2041170.8770 - mean_squared_error: 2041170.75 - ETA: 2s - loss: 2049334.2240 - mean_squared_error: 2049334.37 - ETA: 2s - loss: 1980297.9913 - mean_squared_error: 1980298.00 - ETA: 2s - loss: 1951329.2091 - mean_squared_error: 1951329.25 - ETA: 2s - loss: 1956743.4624 - mean_squared_error: 1956743.25 - ETA: 2s - loss: 1927672.2369 - mean_squared_error: 1927671.87 - ETA: 2s - loss: 1888202.0207 - mean_squared_error: 1888201.87 - ETA: 2s - loss: 1874590.9213 - mean_squared_error: 1874591.00 - ETA: 2s - loss: 1877070.2844 - mean_squared_error: 1877070.12 - ETA: 2s - loss: 1887391.2037 - mean_squared_error: 1887391.25 - ETA: 1s - loss: 1875232.2397 - mean_squared_error: 1875232.00 - ETA: 1s - loss: 1899863.9498 - mean_squared_error: 1899863.50 - ETA: 1s - loss: 1893096.6519 - mean_squared_error: 1893096.50 - ETA: 1s - loss: 1868585.3973 - mean_squared_error: 1868585.37 - ETA: 1s - loss: 1866260.7536 - mean_squared_error: 1866260.87 - ETA: 1s - loss: 1873199.1989 - mean_squared_error: 1873199.37 - ETA: 1s - loss: 1863475.2793 - mean_squared_error: 1863475.12 - ETA: 1s - loss: 1877702.7710 - mean_squared_error: 1877702.50 - ETA: 1s - loss: 1877612.8572 - mean_squared_error: 1877612.50 - ETA: 1s - loss: 1874241.2203 - mean_squared_error: 1874241.12 - ETA: 1s - loss: 1867290.7604 - mean_squared_error: 1867291.00 - ETA: 1s - loss: 1857711.4175 - mean_squared_error: 1857711.50 - ETA: 1s - loss: 1841845.5433 - mean_squared_error: 1841846.00 - ETA: 1s - loss: 1828130.0404 - mean_squared_error: 1828130.25 - ETA: 1s - loss: 1838421.8358 - mean_squared_error: 1838422.37 - ETA: 1s - loss: 1840585.3149 - mean_squared_error: 1840586.25 - ETA: 0s - loss: 1842979.3025 - mean_squared_error: 1842980.62 - ETA: 0s - loss: 1846711.6892 - mean_squared_error: 1846712.75 - ETA: 0s - loss: 1835923.9756 - mean_squared_error: 1835925.25 - ETA: 0s - loss: 1823305.5607 - mean_squared_error: 1823307.00 - ETA: 0s - loss: 1810764.6458 - mean_squared_error: 1810766.12 - ETA: 0s - loss: 1810723.2550 - mean_squared_error: 1810724.37 - ETA: 0s - loss: 1802018.3784 - mean_squared_error: 1802019.50 - ETA: 0s - loss: 1797100.1987 - mean_squared_error: 1797101.37 - ETA: 0s - loss: 1801374.8928 - mean_squared_error: 1801376.00 - ETA: 0s - loss: 1808080.3764 - mean_squared_error: 1808082.00 - ETA: 0s - loss: 1810096.2109 - mean_squared_error: 1810097.75 - ETA: 0s - loss: 1806639.9949 - mean_squared_error: 1806641.62 - ETA: 0s - loss: 1814097.7780 - mean_squared_error: 1814099.37 - ETA: 0s - loss: 1815911.8740 - mean_squared_error: 1815913.50 - ETA: 0s - loss: 1824370.9771 - mean_squared_error: 1824372.87 - ETA: 0s - loss: 1818989.3440 - mean_squared_error: 1818991.12 - ETA: 0s - loss: 1814899.2158 - mean_squared_error: 1814900.87 - ETA: 0s - loss: 1801934.1759 - mean_squared_error: 1801935.62 - ETA: 0s - loss: 1801820.8877 - mean_squared_error: 1801822.75 - 3s 65us/step - loss: 1800594.1240 - mean_squared_error: 1800595.8750\n",
      "Epoch 3/100\n",
      "39941/39941 [==============================] - ETA: 9s - loss: 1815753.3750 - mean_squared_error: 1815753.37 - ETA: 2s - loss: 1950491.9129 - mean_squared_error: 1950492.12 - ETA: 2s - loss: 1798688.8232 - mean_squared_error: 1798689.00 - ETA: 2s - loss: 1818559.0507 - mean_squared_error: 1818559.12 - ETA: 2s - loss: 1789080.3494 - mean_squared_error: 1789080.50 - ETA: 2s - loss: 1847753.7583 - mean_squared_error: 1847753.87 - ETA: 2s - loss: 1811505.5941 - mean_squared_error: 1811505.75 - ETA: 2s - loss: 1823434.5467 - mean_squared_error: 1823434.62 - ETA: 2s - loss: 1794062.6376 - mean_squared_error: 1794062.50 - ETA: 2s - loss: 1754663.9614 - mean_squared_error: 1754663.87 - ETA: 2s - loss: 1752585.9191 - mean_squared_error: 1752585.75 - ETA: 1s - loss: 1732080.9154 - mean_squared_error: 1732080.75 - ETA: 1s - loss: 1759432.7679 - mean_squared_error: 1759433.00 - ETA: 1s - loss: 1725650.9160 - mean_squared_error: 1725651.37 - ETA: 1s - loss: 1709483.9751 - mean_squared_error: 1709484.87 - ETA: 1s - loss: 1733455.3600 - mean_squared_error: 1733456.12 - ETA: 1s - loss: 1729286.0810 - mean_squared_error: 1729286.37 - ETA: 1s - loss: 1717664.2081 - mean_squared_error: 1717664.50 - ETA: 1s - loss: 1730265.8762 - mean_squared_error: 1730266.12 - ETA: 1s - loss: 1721335.5987 - mean_squared_error: 1721336.37 - ETA: 1s - loss: 1720585.0275 - mean_squared_error: 1720585.75 - ETA: 1s - loss: 1716317.6102 - mean_squared_error: 1716318.50 - ETA: 1s - loss: 1697979.1342 - mean_squared_error: 1697979.87 - ETA: 1s - loss: 1699803.2812 - mean_squared_error: 1699803.87 - ETA: 1s - loss: 1733564.3551 - mean_squared_error: 1733565.12 - ETA: 1s - loss: 1722052.0679 - mean_squared_error: 1722052.62 - ETA: 1s - loss: 1724516.9205 - mean_squared_error: 1724517.50 - ETA: 1s - loss: 1728706.0792 - mean_squared_error: 1728706.75 - ETA: 1s - loss: 1724555.8038 - mean_squared_error: 1724556.25 - ETA: 0s - loss: 1708798.8447 - mean_squared_error: 1708798.75 - ETA: 0s - loss: 1695514.9291 - mean_squared_error: 1695514.87 - ETA: 0s - loss: 1694538.2070 - mean_squared_error: 1694537.75 - ETA: 0s - loss: 1694578.4247 - mean_squared_error: 1694578.12 - ETA: 0s - loss: 1683924.5265 - mean_squared_error: 1683924.12 - ETA: 0s - loss: 1690305.5227 - mean_squared_error: 1690305.37 - ETA: 0s - loss: 1697283.9127 - mean_squared_error: 1697283.75 - ETA: 0s - loss: 1696372.6488 - mean_squared_error: 1696372.37 - ETA: 0s - loss: 1696024.8814 - mean_squared_error: 1696024.62 - ETA: 0s - loss: 1686169.8573 - mean_squared_error: 1686169.62 - ETA: 0s - loss: 1689254.9554 - mean_squared_error: 1689254.62 - ETA: 0s - loss: 1681736.7824 - mean_squared_error: 1681736.62 - ETA: 0s - loss: 1681253.2156 - mean_squared_error: 1681253.00 - ETA: 0s - loss: 1691794.4801 - mean_squared_error: 1691794.25 - ETA: 0s - loss: 1706488.4472 - mean_squared_error: 1706488.12 - ETA: 0s - loss: 1701132.0240 - mean_squared_error: 1701131.62 - ETA: 0s - loss: 1707244.5253 - mean_squared_error: 1707244.25 - ETA: 0s - loss: 1699263.2134 - mean_squared_error: 1699262.62 - ETA: 0s - loss: 1693538.3451 - mean_squared_error: 1693537.87 - ETA: 0s - loss: 1685590.8950 - mean_squared_error: 1685590.62 - 2s 62us/step - loss: 1684513.9766 - mean_squared_error: 1684513.5000\n",
      "Epoch 4/100\n",
      "39941/39941 [==============================] - ETA: 4s - loss: 1710276.8750 - mean_squared_error: 1710276.87 - ETA: 2s - loss: 1848170.7862 - mean_squared_error: 1848170.75 - ETA: 2s - loss: 1678207.9664 - mean_squared_error: 1678208.00 - ETA: 2s - loss: 1634903.8802 - mean_squared_error: 1634903.87 - ETA: 2s - loss: 1690223.2846 - mean_squared_error: 1690223.50 - ETA: 2s - loss: 1705485.8354 - mean_squared_error: 1705485.87 - ETA: 2s - loss: 1632528.9132 - mean_squared_error: 1632529.00 - ETA: 2s - loss: 1685989.9630 - mean_squared_error: 1685989.87 - ETA: 2s - loss: 1671308.9358 - mean_squared_error: 1671309.00 - ETA: 2s - loss: 1647782.5759 - mean_squared_error: 1647783.00 - ETA: 2s - loss: 1654984.6700 - mean_squared_error: 1654985.00 - ETA: 1s - loss: 1633564.5343 - mean_squared_error: 1633564.75 - ETA: 1s - loss: 1620799.2018 - mean_squared_error: 1620799.62 - ETA: 1s - loss: 1625025.3166 - mean_squared_error: 1625026.00 - ETA: 1s - loss: 1605427.5031 - mean_squared_error: 1605428.00 - ETA: 1s - loss: 1601764.2817 - mean_squared_error: 1601765.00 - ETA: 1s - loss: 1586348.0691 - mean_squared_error: 1586349.00 - ETA: 1s - loss: 1619823.2078 - mean_squared_error: 1619824.00 - ETA: 1s - loss: 1606130.4131 - mean_squared_error: 1606131.25 - ETA: 1s - loss: 1590989.8346 - mean_squared_error: 1590990.62 - ETA: 1s - loss: 1591582.7590 - mean_squared_error: 1591583.50 - ETA: 1s - loss: 1609618.8736 - mean_squared_error: 1609619.75 - ETA: 1s - loss: 1601182.8423 - mean_squared_error: 1601183.50 - ETA: 1s - loss: 1592909.3047 - mean_squared_error: 1592909.75 - ETA: 1s - loss: 1591354.6410 - mean_squared_error: 1591355.00 - ETA: 1s - loss: 1594635.9165 - mean_squared_error: 1594636.12 - ETA: 1s - loss: 1576208.5297 - mean_squared_error: 1576208.62 - ETA: 1s - loss: 1576681.6782 - mean_squared_error: 1576681.62 - ETA: 1s - loss: 1570334.4269 - mean_squared_error: 1570334.50 - ETA: 1s - loss: 1560069.2230 - mean_squared_error: 1560069.37 - ETA: 1s - loss: 1562306.1472 - mean_squared_error: 1562306.50 - ETA: 1s - loss: 1567502.6526 - mean_squared_error: 1567503.12 - ETA: 1s - loss: 1563883.1890 - mean_squared_error: 1563883.75 - ETA: 1s - loss: 1576550.8102 - mean_squared_error: 1576551.00 - ETA: 0s - loss: 1580295.6476 - mean_squared_error: 1580295.62 - ETA: 0s - loss: 1581189.3706 - mean_squared_error: 1581189.25 - ETA: 0s - loss: 1600559.0738 - mean_squared_error: 1600558.87 - ETA: 0s - loss: 1592978.5651 - mean_squared_error: 1592978.12 - ETA: 0s - loss: 1602029.2274 - mean_squared_error: 1602028.87 - ETA: 0s - loss: 1599452.7110 - mean_squared_error: 1599452.00 - ETA: 0s - loss: 1596816.0983 - mean_squared_error: 1596815.37 - ETA: 0s - loss: 1590076.1495 - mean_squared_error: 1590075.25 - ETA: 0s - loss: 1584456.8569 - mean_squared_error: 1584456.00 - ETA: 0s - loss: 1583159.6413 - mean_squared_error: 1583158.87 - ETA: 0s - loss: 1587312.9690 - mean_squared_error: 1587312.25 - ETA: 0s - loss: 1587336.0186 - mean_squared_error: 1587335.25 - ETA: 0s - loss: 1575791.3667 - mean_squared_error: 1575790.75 - ETA: 0s - loss: 1581809.2405 - mean_squared_error: 1581808.62 - ETA: 0s - loss: 1574825.7603 - mean_squared_error: 1574825.12 - ETA: 0s - loss: 1564976.0201 - mean_squared_error: 1564975.50 - ETA: 0s - loss: 1563322.4049 - mean_squared_error: 1563321.62 - ETA: 0s - loss: 1562485.1892 - mean_squared_error: 1562484.50 - 3s 66us/step - loss: 1563212.8520 - mean_squared_error: 1563212.0000\n",
      "Epoch 5/100\n"
     ]
    },
    {
     "name": "stdout",
     "output_type": "stream",
     "text": [
      "39941/39941 [==============================] - ETA: 5s - loss: 2582288.7500 - mean_squared_error: 2582288.75 - ETA: 2s - loss: 1370218.4861 - mean_squared_error: 1370218.62 - ETA: 2s - loss: 1609626.4888 - mean_squared_error: 1609626.75 - ETA: 2s - loss: 1665465.1979 - mean_squared_error: 1665465.50 - ETA: 2s - loss: 1586989.8151 - mean_squared_error: 1586990.37 - ETA: 2s - loss: 1552020.6820 - mean_squared_error: 1552021.12 - ETA: 2s - loss: 1492567.5320 - mean_squared_error: 1492568.00 - ETA: 2s - loss: 1493312.3269 - mean_squared_error: 1493312.75 - ETA: 2s - loss: 1477612.6016 - mean_squared_error: 1477612.50 - ETA: 2s - loss: 1514787.1634 - mean_squared_error: 1514787.25 - ETA: 2s - loss: 1548594.3802 - mean_squared_error: 1548594.62 - ETA: 2s - loss: 1519584.1793 - mean_squared_error: 1519584.50 - ETA: 2s - loss: 1490443.6518 - mean_squared_error: 1490444.00 - ETA: 1s - loss: 1487676.2862 - mean_squared_error: 1487676.50 - ETA: 1s - loss: 1475057.2823 - mean_squared_error: 1475057.50 - ETA: 1s - loss: 1475483.9505 - mean_squared_error: 1475484.37 - ETA: 1s - loss: 1472285.0148 - mean_squared_error: 1472285.25 - ETA: 1s - loss: 1465354.4068 - mean_squared_error: 1465354.37 - ETA: 1s - loss: 1477157.3781 - mean_squared_error: 1477157.50 - ETA: 1s - loss: 1475064.6506 - mean_squared_error: 1475064.87 - ETA: 1s - loss: 1480279.6180 - mean_squared_error: 1480280.12 - ETA: 1s - loss: 1474735.5751 - mean_squared_error: 1474736.12 - ETA: 1s - loss: 1482297.3882 - mean_squared_error: 1482297.75 - ETA: 1s - loss: 1486248.6097 - mean_squared_error: 1486248.87 - ETA: 1s - loss: 1484506.5128 - mean_squared_error: 1484506.37 - ETA: 1s - loss: 1475850.3055 - mean_squared_error: 1475850.37 - ETA: 1s - loss: 1469135.6538 - mean_squared_error: 1469135.75 - ETA: 1s - loss: 1460974.3592 - mean_squared_error: 1460974.62 - ETA: 1s - loss: 1454813.2938 - mean_squared_error: 1454813.62 - ETA: 1s - loss: 1442703.6307 - mean_squared_error: 1442703.87 - ETA: 1s - loss: 1440589.7255 - mean_squared_error: 1440589.87 - ETA: 1s - loss: 1437815.7628 - mean_squared_error: 1437815.75 - ETA: 0s - loss: 1433197.0988 - mean_squared_error: 1433197.12 - ETA: 0s - loss: 1439858.6233 - mean_squared_error: 1439858.62 - ETA: 0s - loss: 1441156.5128 - mean_squared_error: 1441156.37 - ETA: 0s - loss: 1430785.7730 - mean_squared_error: 1430785.50 - ETA: 0s - loss: 1434916.9007 - mean_squared_error: 1434916.87 - ETA: 0s - loss: 1434599.5773 - mean_squared_error: 1434599.37 - ETA: 0s - loss: 1432442.2838 - mean_squared_error: 1432442.00 - ETA: 0s - loss: 1431802.1458 - mean_squared_error: 1431801.87 - ETA: 0s - loss: 1429474.3000 - mean_squared_error: 1429474.25 - ETA: 0s - loss: 1426585.4540 - mean_squared_error: 1426585.75 - ETA: 0s - loss: 1424013.9424 - mean_squared_error: 1424014.12 - ETA: 0s - loss: 1419380.7423 - mean_squared_error: 1419381.12 - ETA: 0s - loss: 1416624.7005 - mean_squared_error: 1416625.00 - ETA: 0s - loss: 1415501.1900 - mean_squared_error: 1415501.62 - ETA: 0s - loss: 1418476.4278 - mean_squared_error: 1418476.87 - ETA: 0s - loss: 1414534.6344 - mean_squared_error: 1414535.12 - ETA: 0s - loss: 1411553.9754 - mean_squared_error: 1411554.50 - ETA: 0s - loss: 1412832.8900 - mean_squared_error: 1412833.50 - ETA: 0s - loss: 1410836.3318 - mean_squared_error: 1410837.12 - ETA: 0s - loss: 1417486.0338 - mean_squared_error: 1417487.00 - 3s 66us/step - loss: 1411260.1576 - mean_squared_error: 1411261.1250\n",
      "Epoch 6/100\n",
      "39941/39941 [==============================] - ETA: 6s - loss: 356552.6875 - mean_squared_error: 356552.68 - ETA: 2s - loss: 1424973.3895 - mean_squared_error: 1424973.37 - ETA: 2s - loss: 1413862.3253 - mean_squared_error: 1413862.12 - ETA: 2s - loss: 1359329.0213 - mean_squared_error: 1359329.12 - ETA: 2s - loss: 1338895.1700 - mean_squared_error: 1338895.25 - ETA: 2s - loss: 1312041.9005 - mean_squared_error: 1312041.87 - ETA: 2s - loss: 1334039.0961 - mean_squared_error: 1334038.87 - ETA: 2s - loss: 1349993.7683 - mean_squared_error: 1349993.87 - ETA: 2s - loss: 1356312.8620 - mean_squared_error: 1356313.00 - ETA: 1s - loss: 1362612.2359 - mean_squared_error: 1362612.12 - ETA: 1s - loss: 1330874.1048 - mean_squared_error: 1330874.25 - ETA: 1s - loss: 1336468.4489 - mean_squared_error: 1336468.37 - ETA: 1s - loss: 1336402.6857 - mean_squared_error: 1336402.37 - ETA: 1s - loss: 1340332.0807 - mean_squared_error: 1340331.50 - ETA: 1s - loss: 1334878.4460 - mean_squared_error: 1334877.87 - ETA: 1s - loss: 1328286.6641 - mean_squared_error: 1328286.00 - ETA: 1s - loss: 1308375.1871 - mean_squared_error: 1308374.50 - ETA: 1s - loss: 1311036.7113 - mean_squared_error: 1311036.12 - ETA: 1s - loss: 1308495.8915 - mean_squared_error: 1308495.25 - ETA: 1s - loss: 1298382.8320 - mean_squared_error: 1298382.00 - ETA: 1s - loss: 1303349.3123 - mean_squared_error: 1303348.62 - ETA: 1s - loss: 1300733.5551 - mean_squared_error: 1300733.00 - ETA: 1s - loss: 1298056.8431 - mean_squared_error: 1298056.50 - ETA: 1s - loss: 1286469.0544 - mean_squared_error: 1286468.62 - ETA: 1s - loss: 1286472.8730 - mean_squared_error: 1286472.25 - ETA: 1s - loss: 1276916.4619 - mean_squared_error: 1276915.75 - ETA: 1s - loss: 1271168.7257 - mean_squared_error: 1271167.75 - ETA: 1s - loss: 1270362.3337 - mean_squared_error: 1270361.62 - ETA: 0s - loss: 1271887.0566 - mean_squared_error: 1271886.37 - ETA: 0s - loss: 1279704.6841 - mean_squared_error: 1279704.00 - ETA: 0s - loss: 1271252.0740 - mean_squared_error: 1271251.50 - ETA: 0s - loss: 1276343.0312 - mean_squared_error: 1276342.37 - ETA: 0s - loss: 1276205.8570 - mean_squared_error: 1276205.25 - ETA: 0s - loss: 1273096.5824 - mean_squared_error: 1273095.75 - ETA: 0s - loss: 1269763.9550 - mean_squared_error: 1269763.50 - ETA: 0s - loss: 1265363.7823 - mean_squared_error: 1265363.37 - ETA: 0s - loss: 1260126.6379 - mean_squared_error: 1260126.37 - ETA: 0s - loss: 1256392.5311 - mean_squared_error: 1256392.25 - ETA: 0s - loss: 1259079.2808 - mean_squared_error: 1259079.25 - ETA: 0s - loss: 1258150.3085 - mean_squared_error: 1258150.50 - ETA: 0s - loss: 1251831.4916 - mean_squared_error: 1251831.50 - ETA: 0s - loss: 1258566.0608 - mean_squared_error: 1258566.00 - ETA: 0s - loss: 1257818.8495 - mean_squared_error: 1257818.62 - ETA: 0s - loss: 1253418.9515 - mean_squared_error: 1253418.62 - ETA: 0s - loss: 1256374.0990 - mean_squared_error: 1256374.00 - ETA: 0s - loss: 1263544.8567 - mean_squared_error: 1263545.25 - ETA: 0s - loss: 1262876.0595 - mean_squared_error: 1262876.25 - ETA: 0s - loss: 1260841.0261 - mean_squared_error: 1260841.12 - ETA: 0s - loss: 1259687.7528 - mean_squared_error: 1259687.75 - 2s 62us/step - loss: 1257904.0910 - mean_squared_error: 1257904.1250\n",
      "Epoch 7/100\n",
      "39941/39941 [==============================] - ETA: 6s - loss: 1012975.1250 - mean_squared_error: 1012975.12 - ETA: 3s - loss: 1125846.0878 - mean_squared_error: 1125846.12 - ETA: 2s - loss: 1079833.2337 - mean_squared_error: 1079833.25 - ETA: 2s - loss: 1106209.2190 - mean_squared_error: 1106209.12 - ETA: 2s - loss: 1136089.6326 - mean_squared_error: 1136089.75 - ETA: 2s - loss: 1122466.6993 - mean_squared_error: 1122466.62 - ETA: 2s - loss: 1150433.3827 - mean_squared_error: 1150433.50 - ETA: 2s - loss: 1161626.4034 - mean_squared_error: 1161626.50 - ETA: 2s - loss: 1164513.8033 - mean_squared_error: 1164513.87 - ETA: 2s - loss: 1169552.8776 - mean_squared_error: 1169553.25 - ETA: 2s - loss: 1173214.1770 - mean_squared_error: 1173214.50 - ETA: 2s - loss: 1187799.7944 - mean_squared_error: 1187800.00 - ETA: 2s - loss: 1213368.6514 - mean_squared_error: 1213369.12 - ETA: 1s - loss: 1190085.3103 - mean_squared_error: 1190085.75 - ETA: 1s - loss: 1188188.8855 - mean_squared_error: 1188189.12 - ETA: 1s - loss: 1171486.8074 - mean_squared_error: 1171487.25 - ETA: 1s - loss: 1178280.0525 - mean_squared_error: 1178280.37 - ETA: 1s - loss: 1171092.3626 - mean_squared_error: 1171092.62 - ETA: 1s - loss: 1160008.1739 - mean_squared_error: 1160008.50 - ETA: 1s - loss: 1155610.7287 - mean_squared_error: 1155611.12 - ETA: 1s - loss: 1167591.9496 - mean_squared_error: 1167592.37 - ETA: 1s - loss: 1170633.4609 - mean_squared_error: 1170634.00 - ETA: 1s - loss: 1169584.2131 - mean_squared_error: 1169584.75 - ETA: 1s - loss: 1167958.5484 - mean_squared_error: 1167959.00 - ETA: 1s - loss: 1158343.1821 - mean_squared_error: 1158343.50 - ETA: 1s - loss: 1177906.6773 - mean_squared_error: 1177907.12 - ETA: 1s - loss: 1179252.0167 - mean_squared_error: 1179252.25 - ETA: 1s - loss: 1187525.3442 - mean_squared_error: 1187525.62 - ETA: 1s - loss: 1192518.3440 - mean_squared_error: 1192518.50 - ETA: 1s - loss: 1184363.3667 - mean_squared_error: 1184363.37 - ETA: 1s - loss: 1183015.9931 - mean_squared_error: 1183016.00 - ETA: 1s - loss: 1177796.1775 - mean_squared_error: 1177796.12 - ETA: 1s - loss: 1179266.4660 - mean_squared_error: 1179266.12 - ETA: 0s - loss: 1176129.9536 - mean_squared_error: 1176129.75 - ETA: 0s - loss: 1169747.0427 - mean_squared_error: 1169746.87 - ETA: 0s - loss: 1166300.2656 - mean_squared_error: 1166300.00 - ETA: 0s - loss: 1164373.5842 - mean_squared_error: 1164373.37 - ETA: 0s - loss: 1167898.9339 - mean_squared_error: 1167898.75 - ETA: 0s - loss: 1166345.0903 - mean_squared_error: 1166345.00 - ETA: 0s - loss: 1160876.5667 - mean_squared_error: 1160876.50 - ETA: 0s - loss: 1160668.9312 - mean_squared_error: 1160669.00 - ETA: 0s - loss: 1151905.9048 - mean_squared_error: 1151906.00 - ETA: 0s - loss: 1146661.8542 - mean_squared_error: 1146662.12 - ETA: 0s - loss: 1145923.4947 - mean_squared_error: 1145923.62 - ETA: 0s - loss: 1145972.4763 - mean_squared_error: 1145972.75 - ETA: 0s - loss: 1143139.8729 - mean_squared_error: 1143139.87 - ETA: 0s - loss: 1145966.2162 - mean_squared_error: 1145966.25 - ETA: 0s - loss: 1143266.3575 - mean_squared_error: 1143266.62 - ETA: 0s - loss: 1139362.6191 - mean_squared_error: 1139362.87 - ETA: 0s - loss: 1136651.6775 - mean_squared_error: 1136651.62 - ETA: 0s - loss: 1140444.7291 - mean_squared_error: 1140444.62 - ETA: 0s - loss: 1139986.0606 - mean_squared_error: 1139986.00 - ETA: 0s - loss: 1140059.0218 - mean_squared_error: 1140059.00 - 3s 68us/step - loss: 1137353.9023 - mean_squared_error: 1137354.3750\n",
      "Epoch 8/100\n",
      "39941/39941 [==============================] - ETA: 3s - loss: 947674.7500 - mean_squared_error: 947674.75 - ETA: 2s - loss: 972231.9340 - mean_squared_error: 972231.87 - ETA: 2s - loss: 959740.3150 - mean_squared_error: 959740.25 - ETA: 2s - loss: 1001302.3239 - mean_squared_error: 1001302.18 - ETA: 2s - loss: 1037558.7509 - mean_squared_error: 1037558.81 - ETA: 2s - loss: 1079268.7295 - mean_squared_error: 1079268.62 - ETA: 2s - loss: 1058594.0000 - mean_squared_error: 1058594.00 - ETA: 2s - loss: 1045731.3885 - mean_squared_error: 1045731.43 - ETA: 2s - loss: 1059488.6163 - mean_squared_error: 1059488.50 - ETA: 2s - loss: 1058305.7241 - mean_squared_error: 1058305.62 - ETA: 1s - loss: 1042025.9067 - mean_squared_error: 1042025.81 - ETA: 1s - loss: 1027098.6281 - mean_squared_error: 1027098.56 - ETA: 1s - loss: 1033042.9929 - mean_squared_error: 1033042.75 - ETA: 1s - loss: 1048092.6149 - mean_squared_error: 1048092.50 - ETA: 1s - loss: 1044288.7914 - mean_squared_error: 1044288.68 - ETA: 1s - loss: 1038777.6883 - mean_squared_error: 1038777.56 - ETA: 1s - loss: 1030211.3847 - mean_squared_error: 1030211.18 - ETA: 1s - loss: 1036427.1878 - mean_squared_error: 1036427.25 - ETA: 1s - loss: 1031103.1248 - mean_squared_error: 1031103.25 - ETA: 1s - loss: 1034551.5935 - mean_squared_error: 1034551.75 - ETA: 1s - loss: 1024325.6050 - mean_squared_error: 1024325.81 - ETA: 1s - loss: 1036233.3637 - mean_squared_error: 1036233.37 - ETA: 1s - loss: 1031479.0682 - mean_squared_error: 1031479.06 - ETA: 1s - loss: 1029255.1522 - mean_squared_error: 1029255.18 - ETA: 1s - loss: 1026600.8480 - mean_squared_error: 1026600.81 - ETA: 1s - loss: 1019421.0348 - mean_squared_error: 1019421.00 - ETA: 1s - loss: 1021335.9257 - mean_squared_error: 1021335.87 - ETA: 1s - loss: 1031247.9614 - mean_squared_error: 1031248.00 - ETA: 0s - loss: 1031094.7458 - mean_squared_error: 1031095.12 - ETA: 0s - loss: 1029650.9022 - mean_squared_error: 1029651.25 - ETA: 0s - loss: 1020837.5906 - mean_squared_error: 1020837.93 - ETA: 0s - loss: 1029939.7696 - mean_squared_error: 1029940.37 - ETA: 0s - loss: 1026279.3118 - mean_squared_error: 1026279.87 - ETA: 0s - loss: 1023949.9335 - mean_squared_error: 1023950.62 - ETA: 0s - loss: 1021239.3861 - mean_squared_error: 1021240.06 - ETA: 0s - loss: 1014880.2670 - mean_squared_error: 1014880.81 - ETA: 0s - loss: 1017514.7358 - mean_squared_error: 1017515.37 - ETA: 0s - loss: 1016282.8663 - mean_squared_error: 1016283.43 - ETA: 0s - loss: 1019065.2732 - mean_squared_error: 1019065.68 - ETA: 0s - loss: 1020942.2875 - mean_squared_error: 1020942.62 - ETA: 0s - loss: 1018562.5507 - mean_squared_error: 1018562.93 - ETA: 0s - loss: 1016796.9983 - mean_squared_error: 1016797.37 - ETA: 0s - loss: 1015410.6260 - mean_squared_error: 1015411.06 - ETA: 0s - loss: 1013053.7939 - mean_squared_error: 1013054.25 - ETA: 0s - loss: 1010050.5548 - mean_squared_error: 1010051.31 - ETA: 0s - loss: 1007296.6590 - mean_squared_error: 1007297.56 - ETA: 0s - loss: 1006570.3119 - mean_squared_error: 1006571.12 - ETA: 0s - loss: 1009607.3186 - mean_squared_error: 1009608.25 - 2s 61us/step - loss: 1011353.0629 - mean_squared_error: 1011354.0000\n",
      "Epoch 9/100\n"
     ]
    },
    {
     "name": "stdout",
     "output_type": "stream",
     "text": [
      "39941/39941 [==============================] - ETA: 4s - loss: 383943.1250 - mean_squared_error: 383943.12 - ETA: 2s - loss: 910165.7243 - mean_squared_error: 910165.68 - ETA: 2s - loss: 855899.1700 - mean_squared_error: 855899.12 - ETA: 2s - loss: 912636.8226 - mean_squared_error: 912636.81 - ETA: 2s - loss: 919144.0417 - mean_squared_error: 919143.81 - ETA: 2s - loss: 915766.0301 - mean_squared_error: 915765.75 - ETA: 2s - loss: 903177.7695 - mean_squared_error: 903177.62 - ETA: 2s - loss: 929779.2213 - mean_squared_error: 929778.81 - ETA: 2s - loss: 925537.9179 - mean_squared_error: 925537.62 - ETA: 2s - loss: 928875.1610 - mean_squared_error: 928875.12 - ETA: 1s - loss: 941359.7071 - mean_squared_error: 941359.75 - ETA: 1s - loss: 949437.7389 - mean_squared_error: 949437.87 - ETA: 1s - loss: 942134.9473 - mean_squared_error: 942135.18 - ETA: 1s - loss: 926298.9912 - mean_squared_error: 926299.31 - ETA: 1s - loss: 926981.7676 - mean_squared_error: 926982.18 - ETA: 1s - loss: 929547.3570 - mean_squared_error: 929547.56 - ETA: 1s - loss: 925795.0000 - mean_squared_error: 925795.06 - ETA: 1s - loss: 919350.6508 - mean_squared_error: 919350.62 - ETA: 1s - loss: 921413.6367 - mean_squared_error: 921413.43 - ETA: 1s - loss: 921500.9049 - mean_squared_error: 921500.68 - ETA: 1s - loss: 930498.8057 - mean_squared_error: 930498.62 - ETA: 1s - loss: 930123.5172 - mean_squared_error: 930123.31 - ETA: 1s - loss: 925979.2356 - mean_squared_error: 925979.12 - ETA: 1s - loss: 934516.1596 - mean_squared_error: 934516.06 - ETA: 1s - loss: 935397.1965 - mean_squared_error: 935397.06 - ETA: 1s - loss: 934370.9675 - mean_squared_error: 934370.93 - ETA: 1s - loss: 932855.5238 - mean_squared_error: 932855.43 - ETA: 1s - loss: 928619.7058 - mean_squared_error: 928619.62 - ETA: 1s - loss: 922443.2247 - mean_squared_error: 922443.00 - ETA: 1s - loss: 920637.3528 - mean_squared_error: 920637.25 - ETA: 1s - loss: 912795.2858 - mean_squared_error: 912795.25 - ETA: 0s - loss: 911710.6755 - mean_squared_error: 911710.37 - ETA: 0s - loss: 913816.0404 - mean_squared_error: 913816.00 - ETA: 0s - loss: 907441.6951 - mean_squared_error: 907441.75 - ETA: 0s - loss: 907621.0781 - mean_squared_error: 907621.06 - ETA: 0s - loss: 903315.5297 - mean_squared_error: 903315.50 - ETA: 0s - loss: 900872.3885 - mean_squared_error: 900872.31 - ETA: 0s - loss: 903311.2904 - mean_squared_error: 903311.12 - ETA: 0s - loss: 899630.4392 - mean_squared_error: 899630.25 - ETA: 0s - loss: 902715.0266 - mean_squared_error: 902714.87 - ETA: 0s - loss: 903924.2288 - mean_squared_error: 903924.06 - ETA: 0s - loss: 902308.8991 - mean_squared_error: 902308.68 - ETA: 0s - loss: 894500.8435 - mean_squared_error: 894500.56 - ETA: 0s - loss: 892470.2938 - mean_squared_error: 892470.06 - ETA: 0s - loss: 888642.0914 - mean_squared_error: 888641.81 - ETA: 0s - loss: 889486.5939 - mean_squared_error: 889486.25 - ETA: 0s - loss: 894685.9084 - mean_squared_error: 894685.62 - ETA: 0s - loss: 893233.4375 - mean_squared_error: 893233.31 - ETA: 0s - loss: 887691.2956 - mean_squared_error: 887691.12 - ETA: 0s - loss: 881979.2956 - mean_squared_error: 881979.18 - ETA: 0s - loss: 881690.1109 - mean_squared_error: 881690.00 - 3s 65us/step - loss: 878039.3506 - mean_squared_error: 878039.3125\n",
      "Epoch 10/100\n",
      "39941/39941 [==============================] - ETA: 4s - loss: 544811.1875 - mean_squared_error: 544811.18 - ETA: 2s - loss: 805229.4075 - mean_squared_error: 805229.31 - ETA: 2s - loss: 810020.7530 - mean_squared_error: 810020.56 - ETA: 2s - loss: 920833.0677 - mean_squared_error: 920833.00 - ETA: 2s - loss: 956963.3477 - mean_squared_error: 956963.31 - ETA: 2s - loss: 922934.4757 - mean_squared_error: 922934.37 - ETA: 2s - loss: 877606.6886 - mean_squared_error: 877606.68 - ETA: 2s - loss: 849546.4110 - mean_squared_error: 849546.43 - ETA: 2s - loss: 839443.9544 - mean_squared_error: 839443.93 - ETA: 1s - loss: 830452.2226 - mean_squared_error: 830452.25 - ETA: 1s - loss: 835799.8256 - mean_squared_error: 835799.87 - ETA: 1s - loss: 826686.2951 - mean_squared_error: 826686.31 - ETA: 1s - loss: 825564.0265 - mean_squared_error: 825564.00 - ETA: 1s - loss: 832156.5232 - mean_squared_error: 832156.68 - ETA: 1s - loss: 834326.1664 - mean_squared_error: 834326.37 - ETA: 1s - loss: 827452.4371 - mean_squared_error: 827452.31 - ETA: 1s - loss: 829227.5548 - mean_squared_error: 829227.56 - ETA: 1s - loss: 818737.8581 - mean_squared_error: 818737.81 - ETA: 1s - loss: 813062.6670 - mean_squared_error: 813062.56 - ETA: 1s - loss: 810749.1223 - mean_squared_error: 810749.12 - ETA: 1s - loss: 814896.3708 - mean_squared_error: 814896.43 - ETA: 1s - loss: 807179.3371 - mean_squared_error: 807179.37 - ETA: 1s - loss: 795216.5558 - mean_squared_error: 795216.62 - ETA: 1s - loss: 789357.0939 - mean_squared_error: 789357.06 - ETA: 1s - loss: 796354.3829 - mean_squared_error: 796354.50 - ETA: 1s - loss: 795493.9921 - mean_squared_error: 795494.12 - ETA: 1s - loss: 791782.4590 - mean_squared_error: 791782.56 - ETA: 1s - loss: 781363.1702 - mean_squared_error: 781363.37 - ETA: 1s - loss: 778122.1982 - mean_squared_error: 778122.18 - ETA: 0s - loss: 777384.3237 - mean_squared_error: 777384.25 - ETA: 0s - loss: 770322.2922 - mean_squared_error: 770322.43 - ETA: 0s - loss: 768924.6362 - mean_squared_error: 768924.62 - ETA: 0s - loss: 765523.5477 - mean_squared_error: 765523.50 - ETA: 0s - loss: 764994.0589 - mean_squared_error: 764993.93 - ETA: 0s - loss: 761982.5405 - mean_squared_error: 761982.62 - ETA: 0s - loss: 757476.0171 - mean_squared_error: 757476.06 - ETA: 0s - loss: 756660.4696 - mean_squared_error: 756660.56 - ETA: 0s - loss: 756988.8155 - mean_squared_error: 756988.81 - ETA: 0s - loss: 750958.3829 - mean_squared_error: 750958.31 - ETA: 0s - loss: 752461.1934 - mean_squared_error: 752461.18 - ETA: 0s - loss: 747777.2847 - mean_squared_error: 747777.43 - ETA: 0s - loss: 744884.7890 - mean_squared_error: 744884.93 - ETA: 0s - loss: 743599.1608 - mean_squared_error: 743599.37 - ETA: 0s - loss: 743259.9669 - mean_squared_error: 743260.25 - ETA: 0s - loss: 743300.3855 - mean_squared_error: 743300.56 - ETA: 0s - loss: 741576.9502 - mean_squared_error: 741577.18 - ETA: 0s - loss: 740618.4911 - mean_squared_error: 740618.75 - ETA: 0s - loss: 737337.8171 - mean_squared_error: 737338.06 - ETA: 0s - loss: 734652.9275 - mean_squared_error: 734653.18 - 3s 63us/step - loss: 734553.3616 - mean_squared_error: 734553.5625\n",
      "Epoch 11/100\n",
      "39941/39941 [==============================] - ETA: 5s - loss: 401110.5000 - mean_squared_error: 401110.50 - ETA: 2s - loss: 704577.5150 - mean_squared_error: 704577.62 - ETA: 2s - loss: 714487.1916 - mean_squared_error: 714487.25 - ETA: 2s - loss: 763745.5755 - mean_squared_error: 763745.68 - ETA: 2s - loss: 804919.2250 - mean_squared_error: 804919.43 - ETA: 2s - loss: 770851.9880 - mean_squared_error: 770852.18 - ETA: 2s - loss: 759038.7468 - mean_squared_error: 759038.87 - ETA: 2s - loss: 752877.5158 - mean_squared_error: 752877.62 - ETA: 2s - loss: 738961.5548 - mean_squared_error: 738961.81 - ETA: 2s - loss: 725907.3202 - mean_squared_error: 725907.50 - ETA: 2s - loss: 715939.2300 - mean_squared_error: 715939.31 - ETA: 2s - loss: 709155.6945 - mean_squared_error: 709155.81 - ETA: 1s - loss: 707280.2019 - mean_squared_error: 707280.31 - ETA: 1s - loss: 696971.5496 - mean_squared_error: 696971.56 - ETA: 1s - loss: 697657.9239 - mean_squared_error: 697657.87 - ETA: 1s - loss: 709155.8066 - mean_squared_error: 709155.81 - ETA: 1s - loss: 712029.2117 - mean_squared_error: 712029.18 - ETA: 1s - loss: 703274.5927 - mean_squared_error: 703274.56 - ETA: 1s - loss: 700757.3888 - mean_squared_error: 700757.50 - ETA: 1s - loss: 692726.8650 - mean_squared_error: 692726.93 - ETA: 1s - loss: 690194.9601 - mean_squared_error: 690195.06 - ETA: 1s - loss: 687534.7407 - mean_squared_error: 687534.81 - ETA: 1s - loss: 682094.9901 - mean_squared_error: 682095.00 - ETA: 1s - loss: 676436.7116 - mean_squared_error: 676436.62 - ETA: 1s - loss: 672203.3272 - mean_squared_error: 672203.25 - ETA: 1s - loss: 664982.4582 - mean_squared_error: 664982.37 - ETA: 1s - loss: 667336.6710 - mean_squared_error: 667336.50 - ETA: 1s - loss: 671141.0654 - mean_squared_error: 671140.87 - ETA: 1s - loss: 670690.6780 - mean_squared_error: 670690.37 - ETA: 1s - loss: 664268.6890 - mean_squared_error: 664268.37 - ETA: 1s - loss: 659974.3924 - mean_squared_error: 659974.12 - ETA: 0s - loss: 661357.6024 - mean_squared_error: 661357.31 - ETA: 0s - loss: 656822.7888 - mean_squared_error: 656822.50 - ETA: 0s - loss: 653827.8158 - mean_squared_error: 653827.50 - ETA: 0s - loss: 650325.7555 - mean_squared_error: 650325.37 - ETA: 0s - loss: 650024.6711 - mean_squared_error: 650024.31 - ETA: 0s - loss: 648755.2514 - mean_squared_error: 648754.81 - ETA: 0s - loss: 649143.8077 - mean_squared_error: 649143.37 - ETA: 0s - loss: 647319.4055 - mean_squared_error: 647319.12 - ETA: 0s - loss: 646572.8311 - mean_squared_error: 646572.56 - ETA: 0s - loss: 645886.7565 - mean_squared_error: 645886.43 - ETA: 0s - loss: 643216.5646 - mean_squared_error: 643216.25 - ETA: 0s - loss: 641421.7426 - mean_squared_error: 641421.50 - ETA: 0s - loss: 639973.1542 - mean_squared_error: 639972.81 - ETA: 0s - loss: 635734.7321 - mean_squared_error: 635734.31 - ETA: 0s - loss: 634831.0740 - mean_squared_error: 634830.62 - ETA: 0s - loss: 633439.1089 - mean_squared_error: 633438.56 - ETA: 0s - loss: 630755.0107 - mean_squared_error: 630754.62 - ETA: 0s - loss: 629049.9491 - mean_squared_error: 629049.43 - 2s 62us/step - loss: 628129.8274 - mean_squared_error: 628129.2500\n",
      "Epoch 12/100\n",
      "39941/39941 [==============================] - ETA: 6s - loss: 797469.3125 - mean_squared_error: 797469.31 - ETA: 2s - loss: 740213.4459 - mean_squared_error: 740213.43 - ETA: 2s - loss: 645243.6103 - mean_squared_error: 645243.62 - ETA: 2s - loss: 582436.1473 - mean_squared_error: 582436.31 - ETA: 2s - loss: 567163.6533 - mean_squared_error: 567163.75 - ETA: 2s - loss: 596815.9159 - mean_squared_error: 596815.93 - ETA: 2s - loss: 578153.1061 - mean_squared_error: 578153.18 - ETA: 2s - loss: 566964.3654 - mean_squared_error: 566964.50 - ETA: 2s - loss: 568352.1343 - mean_squared_error: 568352.37 - ETA: 2s - loss: 567170.7340 - mean_squared_error: 567171.00 - ETA: 2s - loss: 576598.9586 - mean_squared_error: 576599.12 - ETA: 2s - loss: 568896.2611 - mean_squared_error: 568896.50 - ETA: 1s - loss: 563835.6744 - mean_squared_error: 563835.87 - ETA: 1s - loss: 569781.4643 - mean_squared_error: 569781.62 - ETA: 1s - loss: 565529.7507 - mean_squared_error: 565529.93 - ETA: 1s - loss: 567457.8009 - mean_squared_error: 567458.00 - ETA: 1s - loss: 568568.5582 - mean_squared_error: 568568.62 - ETA: 1s - loss: 574161.3073 - mean_squared_error: 574161.37 - ETA: 1s - loss: 577937.9899 - mean_squared_error: 577938.06 - ETA: 1s - loss: 576389.4315 - mean_squared_error: 576389.62 - ETA: 1s - loss: 574014.1457 - mean_squared_error: 574014.43 - ETA: 1s - loss: 565520.3979 - mean_squared_error: 565520.62 - ETA: 1s - loss: 569495.6286 - mean_squared_error: 569495.93 - ETA: 1s - loss: 569418.4305 - mean_squared_error: 569418.81 - ETA: 1s - loss: 566727.1723 - mean_squared_error: 566727.50 - ETA: 1s - loss: 571500.6949 - mean_squared_error: 571501.06 - ETA: 1s - loss: 569074.9097 - mean_squared_error: 569075.31 - ETA: 1s - loss: 568755.2605 - mean_squared_error: 568755.68 - ETA: 0s - loss: 566596.0132 - mean_squared_error: 566596.37 - ETA: 0s - loss: 569048.1977 - mean_squared_error: 569048.56 - ETA: 0s - loss: 567028.2014 - mean_squared_error: 567028.50 - ETA: 0s - loss: 564337.4540 - mean_squared_error: 564337.75 - ETA: 0s - loss: 564018.4788 - mean_squared_error: 564018.87 - ETA: 0s - loss: 560446.3360 - mean_squared_error: 560446.68 - ETA: 0s - loss: 565208.8766 - mean_squared_error: 565209.18 - ETA: 0s - loss: 562434.7831 - mean_squared_error: 562435.12 - ETA: 0s - loss: 560535.9903 - mean_squared_error: 560536.31 - ETA: 0s - loss: 560851.4273 - mean_squared_error: 560851.56 - ETA: 0s - loss: 563190.7552 - mean_squared_error: 563190.81 - ETA: 0s - loss: 561766.8132 - mean_squared_error: 561767.06 - ETA: 0s - loss: 559593.6621 - mean_squared_error: 559593.93 - ETA: 0s - loss: 564167.2771 - mean_squared_error: 564167.75 - ETA: 0s - loss: 562295.8224 - mean_squared_error: 562296.43 - ETA: 0s - loss: 559450.7989 - mean_squared_error: 559451.50 - ETA: 0s - loss: 559077.0230 - mean_squared_error: 559077.62 - ETA: 0s - loss: 558236.5021 - mean_squared_error: 558237.12 - ETA: 0s - loss: 556579.6576 - mean_squared_error: 556580.18 - ETA: 0s - loss: 555425.5068 - mean_squared_error: 555425.93 - 2s 60us/step - loss: 555629.0791 - mean_squared_error: 555629.5000\n",
      "Epoch 13/100\n"
     ]
    },
    {
     "name": "stdout",
     "output_type": "stream",
     "text": [
      "39941/39941 [==============================] - ETA: 4s - loss: 131109.2188 - mean_squared_error: 131109.21 - ETA: 2s - loss: 586555.4591 - mean_squared_error: 586555.56 - ETA: 2s - loss: 630020.4525 - mean_squared_error: 630020.50 - ETA: 2s - loss: 601864.3454 - mean_squared_error: 601864.31 - ETA: 2s - loss: 563266.9509 - mean_squared_error: 563266.93 - ETA: 2s - loss: 569220.2272 - mean_squared_error: 569220.25 - ETA: 2s - loss: 563514.8940 - mean_squared_error: 563514.93 - ETA: 2s - loss: 558319.7450 - mean_squared_error: 558319.62 - ETA: 2s - loss: 536140.2255 - mean_squared_error: 536140.12 - ETA: 2s - loss: 563988.2676 - mean_squared_error: 563988.18 - ETA: 2s - loss: 553985.7325 - mean_squared_error: 553985.68 - ETA: 2s - loss: 559323.1300 - mean_squared_error: 559323.06 - ETA: 1s - loss: 546126.3611 - mean_squared_error: 546126.37 - ETA: 1s - loss: 537053.4015 - mean_squared_error: 537053.56 - ETA: 1s - loss: 541866.3442 - mean_squared_error: 541866.56 - ETA: 1s - loss: 541036.9846 - mean_squared_error: 541037.06 - ETA: 1s - loss: 543062.3519 - mean_squared_error: 543062.43 - ETA: 1s - loss: 532651.0569 - mean_squared_error: 532651.18 - ETA: 1s - loss: 531201.6538 - mean_squared_error: 531201.75 - ETA: 1s - loss: 526971.4119 - mean_squared_error: 526971.50 - ETA: 1s - loss: 532619.5877 - mean_squared_error: 532619.75 - ETA: 1s - loss: 535350.7503 - mean_squared_error: 535350.87 - ETA: 1s - loss: 529686.0635 - mean_squared_error: 529686.18 - ETA: 1s - loss: 527121.8503 - mean_squared_error: 527122.00 - ETA: 1s - loss: 523071.8493 - mean_squared_error: 523072.00 - ETA: 1s - loss: 521001.5276 - mean_squared_error: 521001.65 - ETA: 1s - loss: 521281.1855 - mean_squared_error: 521281.40 - ETA: 1s - loss: 516650.1663 - mean_squared_error: 516650.37 - ETA: 1s - loss: 513805.1887 - mean_squared_error: 513805.28 - ETA: 0s - loss: 514571.2884 - mean_squared_error: 514571.43 - ETA: 0s - loss: 514217.3048 - mean_squared_error: 514217.46 - ETA: 0s - loss: 513629.6867 - mean_squared_error: 513629.81 - ETA: 0s - loss: 512669.2652 - mean_squared_error: 512669.40 - ETA: 0s - loss: 512156.3960 - mean_squared_error: 512156.56 - ETA: 0s - loss: 509770.5883 - mean_squared_error: 509770.75 - ETA: 0s - loss: 509419.5877 - mean_squared_error: 509419.75 - ETA: 0s - loss: 506516.3938 - mean_squared_error: 506516.59 - ETA: 0s - loss: 503638.9128 - mean_squared_error: 503639.03 - ETA: 0s - loss: 503088.3671 - mean_squared_error: 503088.50 - ETA: 0s - loss: 505396.9393 - mean_squared_error: 505397.12 - ETA: 0s - loss: 503725.2890 - mean_squared_error: 503725.50 - ETA: 0s - loss: 501190.0163 - mean_squared_error: 501190.15 - ETA: 0s - loss: 502136.7572 - mean_squared_error: 502136.90 - ETA: 0s - loss: 502888.6056 - mean_squared_error: 502888.87 - ETA: 0s - loss: 501677.3180 - mean_squared_error: 501677.65 - ETA: 0s - loss: 502245.3935 - mean_squared_error: 502245.68 - ETA: 0s - loss: 502763.0416 - mean_squared_error: 502763.37 - ETA: 0s - loss: 502564.0504 - mean_squared_error: 502564.53 - ETA: 0s - loss: 498522.5572 - mean_squared_error: 498523.09 - ETA: 0s - loss: 496400.3816 - mean_squared_error: 496400.90 - 3s 63us/step - loss: 495361.0892 - mean_squared_error: 495361.6250\n",
      "Epoch 14/100\n",
      "39941/39941 [==============================] - ETA: 4s - loss: 1884111.5000 - mean_squared_error: 1884111.50 - ETA: 3s - loss: 569468.2904 - mean_squared_error: 569468.3125 - ETA: 3s - loss: 501478.3624 - mean_squared_error: 501478.37 - ETA: 3s - loss: 544280.9947 - mean_squared_error: 544281.00 - ETA: 2s - loss: 544989.3335 - mean_squared_error: 544989.31 - ETA: 2s - loss: 511988.8482 - mean_squared_error: 511988.90 - ETA: 2s - loss: 503039.7009 - mean_squared_error: 503039.75 - ETA: 2s - loss: 495338.2371 - mean_squared_error: 495338.25 - ETA: 2s - loss: 488058.9641 - mean_squared_error: 488059.06 - ETA: 2s - loss: 488539.6416 - mean_squared_error: 488539.75 - ETA: 2s - loss: 476974.2760 - mean_squared_error: 476974.37 - ETA: 2s - loss: 463474.4552 - mean_squared_error: 463474.56 - ETA: 1s - loss: 462524.4499 - mean_squared_error: 462524.62 - ETA: 1s - loss: 469132.6502 - mean_squared_error: 469132.71 - ETA: 1s - loss: 467941.1145 - mean_squared_error: 467941.12 - ETA: 1s - loss: 469271.5618 - mean_squared_error: 469271.56 - ETA: 1s - loss: 469535.3497 - mean_squared_error: 469535.28 - ETA: 1s - loss: 466494.2128 - mean_squared_error: 466494.12 - ETA: 1s - loss: 479545.8681 - mean_squared_error: 479545.71 - ETA: 1s - loss: 484368.1866 - mean_squared_error: 484368.06 - ETA: 1s - loss: 483305.8034 - mean_squared_error: 483305.65 - ETA: 1s - loss: 482628.2588 - mean_squared_error: 482628.09 - ETA: 1s - loss: 488085.3542 - mean_squared_error: 488085.25 - ETA: 1s - loss: 484782.9985 - mean_squared_error: 484782.96 - ETA: 1s - loss: 479019.7133 - mean_squared_error: 479019.65 - ETA: 1s - loss: 482040.8977 - mean_squared_error: 482040.75 - ETA: 1s - loss: 477483.2715 - mean_squared_error: 477483.18 - ETA: 1s - loss: 477546.1290 - mean_squared_error: 477546.03 - ETA: 1s - loss: 475510.5785 - mean_squared_error: 475510.43 - ETA: 1s - loss: 481033.8787 - mean_squared_error: 481033.75 - ETA: 0s - loss: 476712.8612 - mean_squared_error: 476712.78 - ETA: 0s - loss: 475406.0683 - mean_squared_error: 475406.03 - ETA: 0s - loss: 472903.3260 - mean_squared_error: 472903.34 - ETA: 0s - loss: 471472.9409 - mean_squared_error: 471473.00 - ETA: 0s - loss: 470629.1097 - mean_squared_error: 470629.15 - ETA: 0s - loss: 471075.9557 - mean_squared_error: 471076.03 - ETA: 0s - loss: 472179.8771 - mean_squared_error: 472179.87 - ETA: 0s - loss: 467390.9552 - mean_squared_error: 467390.96 - ETA: 0s - loss: 467599.4540 - mean_squared_error: 467599.53 - ETA: 0s - loss: 466790.3859 - mean_squared_error: 466790.43 - ETA: 0s - loss: 464548.8357 - mean_squared_error: 464548.84 - ETA: 0s - loss: 464399.6067 - mean_squared_error: 464399.68 - ETA: 0s - loss: 464120.7441 - mean_squared_error: 464120.78 - ETA: 0s - loss: 464015.0863 - mean_squared_error: 464015.09 - ETA: 0s - loss: 464294.7947 - mean_squared_error: 464294.75 - ETA: 0s - loss: 462981.6548 - mean_squared_error: 462981.68 - ETA: 0s - loss: 462711.0978 - mean_squared_error: 462711.25 - ETA: 0s - loss: 462284.9412 - mean_squared_error: 462285.15 - 2s 61us/step - loss: 460934.0932 - mean_squared_error: 460934.2812\n",
      "Epoch 15/100\n",
      "39941/39941 [==============================] - ETA: 5s - loss: 975475.7500 - mean_squared_error: 975475.75 - ETA: 2s - loss: 375511.1800 - mean_squared_error: 375511.18 - ETA: 2s - loss: 437478.7219 - mean_squared_error: 437478.78 - ETA: 2s - loss: 464360.0434 - mean_squared_error: 464360.06 - ETA: 2s - loss: 451631.5912 - mean_squared_error: 451631.68 - ETA: 2s - loss: 443292.3763 - mean_squared_error: 443292.46 - ETA: 2s - loss: 447539.6715 - mean_squared_error: 447539.71 - ETA: 2s - loss: 437119.7124 - mean_squared_error: 437119.78 - ETA: 2s - loss: 428440.0545 - mean_squared_error: 428440.09 - ETA: 2s - loss: 423447.6039 - mean_squared_error: 423447.68 - ETA: 2s - loss: 412308.0462 - mean_squared_error: 412308.06 - ETA: 1s - loss: 406109.8073 - mean_squared_error: 406109.81 - ETA: 1s - loss: 410179.5845 - mean_squared_error: 410179.59 - ETA: 1s - loss: 416779.9120 - mean_squared_error: 416779.96 - ETA: 1s - loss: 426340.6164 - mean_squared_error: 426340.65 - ETA: 1s - loss: 431740.3596 - mean_squared_error: 431740.43 - ETA: 1s - loss: 438981.1898 - mean_squared_error: 438981.25 - ETA: 1s - loss: 437475.7168 - mean_squared_error: 437475.78 - ETA: 1s - loss: 437093.0005 - mean_squared_error: 437093.12 - ETA: 1s - loss: 441128.5063 - mean_squared_error: 441128.62 - ETA: 1s - loss: 438281.6326 - mean_squared_error: 438281.81 - ETA: 1s - loss: 438311.8179 - mean_squared_error: 438311.93 - ETA: 1s - loss: 434113.2701 - mean_squared_error: 434113.34 - ETA: 1s - loss: 432758.4926 - mean_squared_error: 432758.59 - ETA: 1s - loss: 433152.5254 - mean_squared_error: 433152.59 - ETA: 1s - loss: 427720.7002 - mean_squared_error: 427720.78 - ETA: 1s - loss: 427669.6398 - mean_squared_error: 427669.68 - ETA: 1s - loss: 422639.7282 - mean_squared_error: 422639.78 - ETA: 1s - loss: 424989.2751 - mean_squared_error: 424989.28 - ETA: 1s - loss: 426479.3378 - mean_squared_error: 426479.28 - ETA: 1s - loss: 428403.5767 - mean_squared_error: 428403.43 - ETA: 1s - loss: 430903.3911 - mean_squared_error: 430903.28 - ETA: 0s - loss: 430166.2218 - mean_squared_error: 430166.00 - ETA: 0s - loss: 431842.8973 - mean_squared_error: 431842.62 - ETA: 0s - loss: 430700.6471 - mean_squared_error: 430700.34 - ETA: 0s - loss: 432085.6738 - mean_squared_error: 432085.40 - ETA: 0s - loss: 429923.8109 - mean_squared_error: 429923.46 - ETA: 0s - loss: 429479.8866 - mean_squared_error: 429479.62 - ETA: 0s - loss: 433959.1703 - mean_squared_error: 433958.87 - ETA: 0s - loss: 436430.1612 - mean_squared_error: 436429.90 - ETA: 0s - loss: 438829.6104 - mean_squared_error: 438829.31 - ETA: 0s - loss: 439683.1311 - mean_squared_error: 439682.81 - ETA: 0s - loss: 437001.1570 - mean_squared_error: 437000.81 - ETA: 0s - loss: 438587.6739 - mean_squared_error: 438587.25 - ETA: 0s - loss: 439090.9531 - mean_squared_error: 439090.53 - ETA: 0s - loss: 441400.5802 - mean_squared_error: 441400.21 - ETA: 0s - loss: 443094.9190 - mean_squared_error: 443094.56 - ETA: 0s - loss: 441489.5637 - mean_squared_error: 441489.25 - ETA: 0s - loss: 441163.7298 - mean_squared_error: 441163.37 - ETA: 0s - loss: 442648.9452 - mean_squared_error: 442648.59 - ETA: 0s - loss: 443467.7300 - mean_squared_error: 443467.15 - 3s 64us/step - loss: 443307.9690 - mean_squared_error: 443307.3750\n",
      "Epoch 16/100\n",
      "39941/39941 [==============================] - ETA: 5s - loss: 341263.9375 - mean_squared_error: 341263.93 - ETA: 2s - loss: 331000.0984 - mean_squared_error: 331000.12 - ETA: 2s - loss: 360268.5955 - mean_squared_error: 360268.56 - ETA: 2s - loss: 378356.5700 - mean_squared_error: 378356.56 - ETA: 2s - loss: 372706.3811 - mean_squared_error: 372706.34 - ETA: 2s - loss: 376435.1033 - mean_squared_error: 376435.09 - ETA: 2s - loss: 374851.7089 - mean_squared_error: 374851.71 - ETA: 2s - loss: 390340.3293 - mean_squared_error: 390340.34 - ETA: 2s - loss: 383932.5659 - mean_squared_error: 383932.53 - ETA: 2s - loss: 394408.5383 - mean_squared_error: 394408.59 - ETA: 2s - loss: 391031.5704 - mean_squared_error: 391031.65 - ETA: 1s - loss: 392196.3334 - mean_squared_error: 392196.46 - ETA: 1s - loss: 395458.5562 - mean_squared_error: 395458.62 - ETA: 1s - loss: 396957.3805 - mean_squared_error: 396957.40 - ETA: 1s - loss: 394443.8321 - mean_squared_error: 394443.90 - ETA: 1s - loss: 392729.8414 - mean_squared_error: 392729.87 - ETA: 1s - loss: 399765.2190 - mean_squared_error: 399765.28 - ETA: 1s - loss: 399370.7652 - mean_squared_error: 399370.78 - ETA: 1s - loss: 399186.1525 - mean_squared_error: 399186.21 - ETA: 1s - loss: 399797.3956 - mean_squared_error: 399797.46 - ETA: 1s - loss: 398914.0601 - mean_squared_error: 398914.12 - ETA: 1s - loss: 398114.4293 - mean_squared_error: 398114.50 - ETA: 1s - loss: 398368.9432 - mean_squared_error: 398368.93 - ETA: 1s - loss: 402834.0601 - mean_squared_error: 402834.00 - ETA: 1s - loss: 403063.3063 - mean_squared_error: 403063.28 - ETA: 1s - loss: 406395.4705 - mean_squared_error: 406395.46 - ETA: 1s - loss: 404240.7049 - mean_squared_error: 404240.68 - ETA: 1s - loss: 406108.6031 - mean_squared_error: 406108.46 - ETA: 1s - loss: 409069.6737 - mean_squared_error: 409069.43 - ETA: 0s - loss: 407322.6233 - mean_squared_error: 407322.53 - ETA: 0s - loss: 408419.7718 - mean_squared_error: 408419.65 - ETA: 0s - loss: 407598.4982 - mean_squared_error: 407598.34 - ETA: 0s - loss: 408888.4544 - mean_squared_error: 408888.28 - ETA: 0s - loss: 412169.4579 - mean_squared_error: 412169.21 - ETA: 0s - loss: 414312.7466 - mean_squared_error: 414312.50 - ETA: 0s - loss: 417294.4214 - mean_squared_error: 417294.21 - ETA: 0s - loss: 418242.0618 - mean_squared_error: 418241.93 - ETA: 0s - loss: 418874.1571 - mean_squared_error: 418874.00 - ETA: 0s - loss: 417250.1401 - mean_squared_error: 417249.93 - ETA: 0s - loss: 420395.1645 - mean_squared_error: 420394.93 - ETA: 0s - loss: 420507.7795 - mean_squared_error: 420507.53 - ETA: 0s - loss: 422316.7017 - mean_squared_error: 422316.34 - ETA: 0s - loss: 422667.5232 - mean_squared_error: 422667.18 - ETA: 0s - loss: 424765.4724 - mean_squared_error: 424765.21 - ETA: 0s - loss: 424537.0868 - mean_squared_error: 424536.84 - ETA: 0s - loss: 425140.3995 - mean_squared_error: 425140.15 - ETA: 0s - loss: 425714.8652 - mean_squared_error: 425714.62 - ETA: 0s - loss: 423854.2400 - mean_squared_error: 423854.06 - ETA: 0s - loss: 423150.7547 - mean_squared_error: 423150.59 - 2s 62us/step - loss: 424659.8091 - mean_squared_error: 424659.6562\n",
      "Epoch 17/100\n"
     ]
    },
    {
     "name": "stdout",
     "output_type": "stream",
     "text": [
      "39941/39941 [==============================] - ETA: 4s - loss: 64229.2891 - mean_squared_error: 64229.28 - ETA: 2s - loss: 350294.1866 - mean_squared_error: 350294.18 - ETA: 2s - loss: 344868.6716 - mean_squared_error: 344868.65 - ETA: 2s - loss: 363733.1339 - mean_squared_error: 363733.18 - ETA: 2s - loss: 372533.7211 - mean_squared_error: 372533.78 - ETA: 2s - loss: 385524.0999 - mean_squared_error: 385524.28 - ETA: 2s - loss: 393553.7799 - mean_squared_error: 393553.90 - ETA: 2s - loss: 405515.8407 - mean_squared_error: 405515.96 - ETA: 2s - loss: 405199.0273 - mean_squared_error: 405199.15 - ETA: 2s - loss: 403595.2551 - mean_squared_error: 403595.43 - ETA: 2s - loss: 421860.1396 - mean_squared_error: 421860.25 - ETA: 1s - loss: 417856.4853 - mean_squared_error: 417856.56 - ETA: 1s - loss: 419323.9058 - mean_squared_error: 419324.00 - ETA: 1s - loss: 418467.0338 - mean_squared_error: 418467.15 - ETA: 1s - loss: 412077.1844 - mean_squared_error: 412077.28 - ETA: 1s - loss: 408021.3444 - mean_squared_error: 408021.40 - ETA: 1s - loss: 408863.2636 - mean_squared_error: 408863.43 - ETA: 1s - loss: 405377.4330 - mean_squared_error: 405377.56 - ETA: 1s - loss: 404273.3442 - mean_squared_error: 404273.46 - ETA: 1s - loss: 404180.9800 - mean_squared_error: 404181.09 - ETA: 1s - loss: 405016.7255 - mean_squared_error: 405016.84 - ETA: 1s - loss: 404527.8843 - mean_squared_error: 404528.00 - ETA: 1s - loss: 403048.4339 - mean_squared_error: 403048.56 - ETA: 1s - loss: 400152.5918 - mean_squared_error: 400152.65 - ETA: 1s - loss: 398570.5820 - mean_squared_error: 398570.59 - ETA: 1s - loss: 399110.0906 - mean_squared_error: 399110.06 - ETA: 1s - loss: 399669.0576 - mean_squared_error: 399669.03 - ETA: 1s - loss: 400551.6367 - mean_squared_error: 400551.71 - ETA: 1s - loss: 403256.4723 - mean_squared_error: 403256.56 - ETA: 1s - loss: 400873.9166 - mean_squared_error: 400874.12 - ETA: 0s - loss: 402643.3122 - mean_squared_error: 402643.53 - ETA: 0s - loss: 404511.5688 - mean_squared_error: 404511.78 - ETA: 0s - loss: 405425.0410 - mean_squared_error: 405425.25 - ETA: 0s - loss: 405024.0195 - mean_squared_error: 405024.28 - ETA: 0s - loss: 403914.4659 - mean_squared_error: 403914.62 - ETA: 0s - loss: 403394.2968 - mean_squared_error: 403394.40 - ETA: 0s - loss: 405022.2655 - mean_squared_error: 405022.40 - ETA: 0s - loss: 405233.8267 - mean_squared_error: 405233.93 - ETA: 0s - loss: 408212.6842 - mean_squared_error: 408212.78 - ETA: 0s - loss: 409742.0173 - mean_squared_error: 409742.09 - ETA: 0s - loss: 412466.4254 - mean_squared_error: 412466.50 - ETA: 0s - loss: 412031.5963 - mean_squared_error: 412031.62 - ETA: 0s - loss: 411179.5209 - mean_squared_error: 411179.59 - ETA: 0s - loss: 413770.3118 - mean_squared_error: 413770.34 - ETA: 0s - loss: 412023.2065 - mean_squared_error: 412023.28 - ETA: 0s - loss: 412910.2172 - mean_squared_error: 412910.31 - ETA: 0s - loss: 413457.5526 - mean_squared_error: 413457.62 - ETA: 0s - loss: 411694.9619 - mean_squared_error: 411695.06 - ETA: 0s - loss: 411736.8014 - mean_squared_error: 411736.84 - ETA: 0s - loss: 412033.5366 - mean_squared_error: 412033.56 - 3s 64us/step - loss: 413123.0202 - mean_squared_error: 413123.0312\n",
      "Epoch 18/100\n",
      "39941/39941 [==============================] - ETA: 4s - loss: 527427.3750 - mean_squared_error: 527427.37 - ETA: 2s - loss: 472604.5787 - mean_squared_error: 472604.56 - ETA: 2s - loss: 439356.8932 - mean_squared_error: 439356.96 - ETA: 2s - loss: 459598.9424 - mean_squared_error: 459599.00 - ETA: 2s - loss: 436215.0434 - mean_squared_error: 436215.25 - ETA: 2s - loss: 429456.5748 - mean_squared_error: 429456.68 - ETA: 2s - loss: 426484.2663 - mean_squared_error: 426484.34 - ETA: 2s - loss: 416526.9363 - mean_squared_error: 416527.03 - ETA: 2s - loss: 410781.5992 - mean_squared_error: 410781.78 - ETA: 2s - loss: 404436.7309 - mean_squared_error: 404436.84 - ETA: 2s - loss: 400544.5065 - mean_squared_error: 400544.59 - ETA: 2s - loss: 401965.2511 - mean_squared_error: 401965.31 - ETA: 1s - loss: 393815.3762 - mean_squared_error: 393815.46 - ETA: 1s - loss: 401761.7200 - mean_squared_error: 401761.75 - ETA: 1s - loss: 405318.5034 - mean_squared_error: 405318.56 - ETA: 1s - loss: 404443.5679 - mean_squared_error: 404443.46 - ETA: 1s - loss: 410047.8632 - mean_squared_error: 410047.78 - ETA: 1s - loss: 407965.0988 - mean_squared_error: 407965.00 - ETA: 1s - loss: 406574.6059 - mean_squared_error: 406574.53 - ETA: 1s - loss: 408512.9932 - mean_squared_error: 408512.96 - ETA: 1s - loss: 408205.5463 - mean_squared_error: 408205.46 - ETA: 1s - loss: 415208.3191 - mean_squared_error: 415208.18 - ETA: 1s - loss: 409818.3699 - mean_squared_error: 409818.21 - ETA: 1s - loss: 409083.3290 - mean_squared_error: 409083.15 - ETA: 1s - loss: 408291.2542 - mean_squared_error: 408291.00 - ETA: 1s - loss: 409099.5051 - mean_squared_error: 409099.21 - ETA: 1s - loss: 408407.5795 - mean_squared_error: 408407.25 - ETA: 1s - loss: 408134.8046 - mean_squared_error: 408134.56 - ETA: 1s - loss: 407009.9757 - mean_squared_error: 407009.71 - ETA: 1s - loss: 405477.9560 - mean_squared_error: 405477.68 - ETA: 0s - loss: 406568.9509 - mean_squared_error: 406568.71 - ETA: 0s - loss: 407234.5711 - mean_squared_error: 407234.34 - ETA: 0s - loss: 408453.7952 - mean_squared_error: 408453.53 - ETA: 0s - loss: 412538.5867 - mean_squared_error: 412538.34 - ETA: 0s - loss: 412776.2070 - mean_squared_error: 412776.03 - ETA: 0s - loss: 414089.6439 - mean_squared_error: 414089.46 - ETA: 0s - loss: 414804.5869 - mean_squared_error: 414804.37 - ETA: 0s - loss: 413854.8444 - mean_squared_error: 413854.68 - ETA: 0s - loss: 411417.8727 - mean_squared_error: 411417.75 - ETA: 0s - loss: 411851.1182 - mean_squared_error: 411851.03 - ETA: 0s - loss: 411830.5466 - mean_squared_error: 411830.46 - ETA: 0s - loss: 412922.0505 - mean_squared_error: 412921.96 - ETA: 0s - loss: 414021.6651 - mean_squared_error: 414021.65 - ETA: 0s - loss: 414226.3682 - mean_squared_error: 414226.37 - ETA: 0s - loss: 413120.4533 - mean_squared_error: 413120.43 - ETA: 0s - loss: 413760.4337 - mean_squared_error: 413760.37 - ETA: 0s - loss: 413576.1977 - mean_squared_error: 413576.09 - ETA: 0s - loss: 413854.0341 - mean_squared_error: 413853.93 - ETA: 0s - loss: 414261.7585 - mean_squared_error: 414261.71 - 2s 62us/step - loss: 413149.8539 - mean_squared_error: 413149.8750\n",
      "Epoch 19/100\n",
      "39941/39941 [==============================] - ETA: 4s - loss: 394225.5625 - mean_squared_error: 394225.56 - ETA: 2s - loss: 312527.3581 - mean_squared_error: 312527.37 - ETA: 2s - loss: 341159.8504 - mean_squared_error: 341159.87 - ETA: 2s - loss: 355129.6090 - mean_squared_error: 355129.59 - ETA: 2s - loss: 343660.6634 - mean_squared_error: 343660.68 - ETA: 2s - loss: 355864.5894 - mean_squared_error: 355864.50 - ETA: 2s - loss: 350874.6862 - mean_squared_error: 350874.59 - ETA: 2s - loss: 349268.5242 - mean_squared_error: 349268.43 - ETA: 2s - loss: 354312.0246 - mean_squared_error: 354311.90 - ETA: 2s - loss: 359538.3033 - mean_squared_error: 359538.18 - ETA: 2s - loss: 355760.3043 - mean_squared_error: 355760.21 - ETA: 2s - loss: 355565.1202 - mean_squared_error: 355565.03 - ETA: 2s - loss: 355009.1145 - mean_squared_error: 355009.03 - ETA: 1s - loss: 357125.7491 - mean_squared_error: 357125.68 - ETA: 1s - loss: 366143.7264 - mean_squared_error: 366143.68 - ETA: 1s - loss: 367214.7590 - mean_squared_error: 367214.71 - ETA: 1s - loss: 373059.3664 - mean_squared_error: 373059.34 - ETA: 1s - loss: 382248.2636 - mean_squared_error: 382248.37 - ETA: 1s - loss: 387810.2948 - mean_squared_error: 387810.40 - ETA: 1s - loss: 386391.3341 - mean_squared_error: 386391.43 - ETA: 1s - loss: 387745.8176 - mean_squared_error: 387745.90 - ETA: 1s - loss: 388090.6955 - mean_squared_error: 388090.68 - ETA: 1s - loss: 395818.4030 - mean_squared_error: 395818.37 - ETA: 1s - loss: 395025.9962 - mean_squared_error: 395025.96 - ETA: 1s - loss: 393543.8279 - mean_squared_error: 393543.78 - ETA: 1s - loss: 392522.6134 - mean_squared_error: 392522.65 - ETA: 1s - loss: 395138.5019 - mean_squared_error: 395138.62 - ETA: 1s - loss: 393379.9400 - mean_squared_error: 393380.09 - ETA: 1s - loss: 392701.3901 - mean_squared_error: 392701.46 - ETA: 1s - loss: 390089.6050 - mean_squared_error: 390089.62 - ETA: 1s - loss: 388024.3910 - mean_squared_error: 388024.46 - ETA: 0s - loss: 388204.2667 - mean_squared_error: 388204.28 - ETA: 0s - loss: 390801.5801 - mean_squared_error: 390801.56 - ETA: 0s - loss: 390329.4561 - mean_squared_error: 390329.43 - ETA: 0s - loss: 389550.5218 - mean_squared_error: 389550.43 - ETA: 0s - loss: 389578.0326 - mean_squared_error: 389578.00 - ETA: 0s - loss: 390935.6113 - mean_squared_error: 390935.59 - ETA: 0s - loss: 390219.8609 - mean_squared_error: 390219.81 - ETA: 0s - loss: 391986.0481 - mean_squared_error: 391986.03 - ETA: 0s - loss: 391187.3993 - mean_squared_error: 391187.37 - ETA: 0s - loss: 392122.0893 - mean_squared_error: 392122.12 - ETA: 0s - loss: 394065.0642 - mean_squared_error: 394065.06 - ETA: 0s - loss: 392796.4547 - mean_squared_error: 392796.40 - ETA: 0s - loss: 394381.0239 - mean_squared_error: 394381.00 - ETA: 0s - loss: 393567.8743 - mean_squared_error: 393567.84 - ETA: 0s - loss: 393117.8217 - mean_squared_error: 393117.84 - ETA: 0s - loss: 393147.2341 - mean_squared_error: 393147.28 - ETA: 0s - loss: 393089.6229 - mean_squared_error: 393089.68 - ETA: 0s - loss: 393279.8613 - mean_squared_error: 393279.93 - ETA: 0s - loss: 394498.9218 - mean_squared_error: 394499.03 - 3s 63us/step - loss: 394492.1394 - mean_squared_error: 394492.2500\n",
      "Epoch 20/100\n",
      "39941/39941 [==============================] - ETA: 6s - loss: 230230.9844 - mean_squared_error: 230230.98 - ETA: 2s - loss: 372120.2818 - mean_squared_error: 372120.28 - ETA: 2s - loss: 365371.2352 - mean_squared_error: 365371.25 - ETA: 2s - loss: 353459.5570 - mean_squared_error: 353459.53 - ETA: 2s - loss: 354914.9828 - mean_squared_error: 354914.96 - ETA: 2s - loss: 343640.3709 - mean_squared_error: 343640.31 - ETA: 2s - loss: 366025.9153 - mean_squared_error: 366025.84 - ETA: 2s - loss: 370547.2903 - mean_squared_error: 370547.21 - ETA: 2s - loss: 371966.0690 - mean_squared_error: 371966.12 - ETA: 2s - loss: 364931.8638 - mean_squared_error: 364932.03 - ETA: 2s - loss: 362978.8689 - mean_squared_error: 362978.93 - ETA: 2s - loss: 359938.4351 - mean_squared_error: 359938.46 - ETA: 1s - loss: 360419.6514 - mean_squared_error: 360419.71 - ETA: 1s - loss: 357091.8444 - mean_squared_error: 357091.90 - ETA: 1s - loss: 361424.7615 - mean_squared_error: 361424.87 - ETA: 1s - loss: 364043.6082 - mean_squared_error: 364043.71 - ETA: 1s - loss: 370400.0955 - mean_squared_error: 370400.15 - ETA: 1s - loss: 370837.2338 - mean_squared_error: 370837.31 - ETA: 1s - loss: 367003.9286 - mean_squared_error: 367003.93 - ETA: 1s - loss: 367081.8170 - mean_squared_error: 367081.81 - ETA: 1s - loss: 369040.4799 - mean_squared_error: 369040.50 - ETA: 1s - loss: 372436.6345 - mean_squared_error: 372436.62 - ETA: 1s - loss: 374004.2007 - mean_squared_error: 374004.21 - ETA: 1s - loss: 372255.8667 - mean_squared_error: 372255.90 - ETA: 1s - loss: 372547.7842 - mean_squared_error: 372547.81 - ETA: 1s - loss: 375083.4979 - mean_squared_error: 375083.46 - ETA: 1s - loss: 374563.6215 - mean_squared_error: 374563.56 - ETA: 1s - loss: 375459.4212 - mean_squared_error: 375459.40 - ETA: 1s - loss: 376987.7054 - mean_squared_error: 376987.62 - ETA: 0s - loss: 381634.6613 - mean_squared_error: 381634.50 - ETA: 0s - loss: 385824.2190 - mean_squared_error: 385824.00 - ETA: 0s - loss: 385013.3180 - mean_squared_error: 385013.06 - ETA: 0s - loss: 385604.2967 - mean_squared_error: 385604.09 - ETA: 0s - loss: 382313.0377 - mean_squared_error: 382312.84 - ETA: 0s - loss: 383672.3811 - mean_squared_error: 383672.15 - ETA: 0s - loss: 382043.0535 - mean_squared_error: 382042.81 - ETA: 0s - loss: 383785.3615 - mean_squared_error: 383785.15 - ETA: 0s - loss: 384672.9832 - mean_squared_error: 384672.71 - ETA: 0s - loss: 385718.5616 - mean_squared_error: 385718.25 - ETA: 0s - loss: 385359.2897 - mean_squared_error: 385359.03 - ETA: 0s - loss: 387429.1209 - mean_squared_error: 387428.84 - ETA: 0s - loss: 387509.2534 - mean_squared_error: 387509.00 - ETA: 0s - loss: 391082.2661 - mean_squared_error: 391082.03 - ETA: 0s - loss: 393072.2024 - mean_squared_error: 393071.96 - ETA: 0s - loss: 392028.9330 - mean_squared_error: 392028.71 - ETA: 0s - loss: 390866.2975 - mean_squared_error: 390866.12 - ETA: 0s - loss: 390245.9615 - mean_squared_error: 390245.81 - ETA: 0s - loss: 391003.5992 - mean_squared_error: 391003.46 - 2s 60us/step - loss: 390963.7218 - mean_squared_error: 390963.5938\n",
      "Epoch 21/100\n"
     ]
    },
    {
     "name": "stdout",
     "output_type": "stream",
     "text": [
      "39941/39941 [==============================] - ETA: 5s - loss: 146079.5156 - mean_squared_error: 146079.51 - ETA: 2s - loss: 484888.4925 - mean_squared_error: 484888.53 - ETA: 2s - loss: 434617.5989 - mean_squared_error: 434617.53 - ETA: 2s - loss: 397876.8075 - mean_squared_error: 397876.75 - ETA: 2s - loss: 409304.8168 - mean_squared_error: 409304.78 - ETA: 2s - loss: 392368.3707 - mean_squared_error: 392368.34 - ETA: 2s - loss: 407428.5624 - mean_squared_error: 407428.50 - ETA: 2s - loss: 396736.4437 - mean_squared_error: 396736.37 - ETA: 1s - loss: 392092.6283 - mean_squared_error: 392092.56 - ETA: 1s - loss: 389761.3540 - mean_squared_error: 389761.31 - ETA: 1s - loss: 391012.8167 - mean_squared_error: 391012.78 - ETA: 1s - loss: 395532.3966 - mean_squared_error: 395532.43 - ETA: 1s - loss: 394000.3856 - mean_squared_error: 394000.46 - ETA: 1s - loss: 390161.1944 - mean_squared_error: 390161.28 - ETA: 1s - loss: 389052.2960 - mean_squared_error: 389052.40 - ETA: 1s - loss: 388645.0428 - mean_squared_error: 388645.25 - ETA: 1s - loss: 391332.4962 - mean_squared_error: 391332.65 - ETA: 1s - loss: 389575.3728 - mean_squared_error: 389575.53 - ETA: 1s - loss: 384764.2388 - mean_squared_error: 384764.43 - ETA: 1s - loss: 389969.4443 - mean_squared_error: 389969.59 - ETA: 1s - loss: 387609.4929 - mean_squared_error: 387609.71 - ETA: 1s - loss: 395773.1562 - mean_squared_error: 395773.37 - ETA: 1s - loss: 395006.4903 - mean_squared_error: 395006.62 - ETA: 1s - loss: 392994.7472 - mean_squared_error: 392994.87 - ETA: 1s - loss: 393938.2863 - mean_squared_error: 393938.37 - ETA: 1s - loss: 396642.7335 - mean_squared_error: 396642.81 - ETA: 1s - loss: 391970.7498 - mean_squared_error: 391970.84 - ETA: 1s - loss: 390466.0005 - mean_squared_error: 390466.06 - ETA: 0s - loss: 388661.7181 - mean_squared_error: 388661.78 - ETA: 0s - loss: 388816.2464 - mean_squared_error: 388816.31 - ETA: 0s - loss: 391423.6000 - mean_squared_error: 391423.62 - ETA: 0s - loss: 389304.8184 - mean_squared_error: 389304.96 - ETA: 0s - loss: 385904.1655 - mean_squared_error: 385904.40 - ETA: 0s - loss: 384463.2239 - mean_squared_error: 384463.40 - ETA: 0s - loss: 385397.5978 - mean_squared_error: 385397.75 - ETA: 0s - loss: 383804.6215 - mean_squared_error: 383804.78 - ETA: 0s - loss: 383008.7815 - mean_squared_error: 383008.96 - ETA: 0s - loss: 384453.2210 - mean_squared_error: 384453.37 - ETA: 0s - loss: 382464.8998 - mean_squared_error: 382465.00 - ETA: 0s - loss: 380910.0266 - mean_squared_error: 380910.12 - ETA: 0s - loss: 380793.4916 - mean_squared_error: 380793.59 - ETA: 0s - loss: 385575.3076 - mean_squared_error: 385575.37 - ETA: 0s - loss: 385999.7058 - mean_squared_error: 385999.71 - ETA: 0s - loss: 388850.9260 - mean_squared_error: 388850.90 - ETA: 0s - loss: 387271.2133 - mean_squared_error: 387271.21 - ETA: 0s - loss: 385869.7880 - mean_squared_error: 385869.71 - ETA: 0s - loss: 386384.3211 - mean_squared_error: 386384.25 - 2s 60us/step - loss: 386363.8143 - mean_squared_error: 386363.7500\n",
      "Epoch 22/100\n",
      "39941/39941 [==============================] - ETA: 4s - loss: 748624.8125 - mean_squared_error: 748624.81 - ETA: 2s - loss: 470652.7497 - mean_squared_error: 470652.81 - ETA: 2s - loss: 440227.6841 - mean_squared_error: 440227.71 - ETA: 2s - loss: 459991.9202 - mean_squared_error: 459992.00 - ETA: 2s - loss: 464420.0248 - mean_squared_error: 464420.15 - ETA: 2s - loss: 442823.8295 - mean_squared_error: 442823.93 - ETA: 2s - loss: 429837.5588 - mean_squared_error: 429837.65 - ETA: 2s - loss: 420479.7458 - mean_squared_error: 420479.90 - ETA: 2s - loss: 410579.6546 - mean_squared_error: 410579.81 - ETA: 2s - loss: 410214.6736 - mean_squared_error: 410214.75 - ETA: 2s - loss: 412349.4712 - mean_squared_error: 412349.43 - ETA: 2s - loss: 402519.8549 - mean_squared_error: 402519.78 - ETA: 2s - loss: 405271.2063 - mean_squared_error: 405271.09 - ETA: 1s - loss: 405764.4401 - mean_squared_error: 405764.31 - ETA: 1s - loss: 397294.8778 - mean_squared_error: 397294.71 - ETA: 1s - loss: 392613.6133 - mean_squared_error: 392613.43 - ETA: 1s - loss: 389849.8583 - mean_squared_error: 389849.62 - ETA: 1s - loss: 390763.5857 - mean_squared_error: 390763.31 - ETA: 1s - loss: 386559.4747 - mean_squared_error: 386559.34 - ETA: 1s - loss: 381658.2416 - mean_squared_error: 381658.00 - ETA: 1s - loss: 379537.2555 - mean_squared_error: 379537.06 - ETA: 1s - loss: 382701.4967 - mean_squared_error: 382701.37 - ETA: 1s - loss: 385105.4272 - mean_squared_error: 385105.34 - ETA: 1s - loss: 387393.0054 - mean_squared_error: 387392.90 - ETA: 1s - loss: 387005.7776 - mean_squared_error: 387005.65 - ETA: 1s - loss: 387810.4696 - mean_squared_error: 387810.37 - ETA: 1s - loss: 384426.7966 - mean_squared_error: 384426.65 - ETA: 1s - loss: 383536.6802 - mean_squared_error: 383536.53 - ETA: 1s - loss: 383259.8979 - mean_squared_error: 383259.78 - ETA: 1s - loss: 382429.1090 - mean_squared_error: 382429.03 - ETA: 0s - loss: 387552.3606 - mean_squared_error: 387552.34 - ETA: 0s - loss: 385737.7652 - mean_squared_error: 385737.84 - ETA: 0s - loss: 387236.7552 - mean_squared_error: 387236.84 - ETA: 0s - loss: 387327.8208 - mean_squared_error: 387327.87 - ETA: 0s - loss: 387259.8323 - mean_squared_error: 387259.90 - ETA: 0s - loss: 386697.4474 - mean_squared_error: 386697.53 - ETA: 0s - loss: 385780.8957 - mean_squared_error: 385781.06 - ETA: 0s - loss: 385554.8255 - mean_squared_error: 385555.03 - ETA: 0s - loss: 384655.3058 - mean_squared_error: 384655.46 - ETA: 0s - loss: 384821.1802 - mean_squared_error: 384821.31 - ETA: 0s - loss: 383497.5545 - mean_squared_error: 383497.68 - ETA: 0s - loss: 383892.6079 - mean_squared_error: 383892.78 - ETA: 0s - loss: 385501.2592 - mean_squared_error: 385501.43 - ETA: 0s - loss: 384570.4578 - mean_squared_error: 384570.68 - ETA: 0s - loss: 383754.3007 - mean_squared_error: 383754.53 - ETA: 0s - loss: 381996.0616 - mean_squared_error: 381996.34 - ETA: 0s - loss: 385265.5915 - mean_squared_error: 385265.90 - ETA: 0s - loss: 383335.8031 - mean_squared_error: 383336.12 - 2s 61us/step - loss: 385440.7532 - mean_squared_error: 385441.0938\n",
      "Epoch 23/100\n",
      "39941/39941 [==============================] - ETA: 4s - loss: 315209.4375 - mean_squared_error: 315209.43 - ETA: 2s - loss: 418205.6113 - mean_squared_error: 418205.65 - ETA: 2s - loss: 388772.9222 - mean_squared_error: 388772.96 - ETA: 2s - loss: 388416.0358 - mean_squared_error: 388416.12 - ETA: 2s - loss: 384892.8271 - mean_squared_error: 384892.84 - ETA: 2s - loss: 392264.3159 - mean_squared_error: 392264.28 - ETA: 2s - loss: 389524.2947 - mean_squared_error: 389524.34 - ETA: 2s - loss: 385003.6686 - mean_squared_error: 385003.68 - ETA: 2s - loss: 383487.3952 - mean_squared_error: 383487.31 - ETA: 2s - loss: 385492.8319 - mean_squared_error: 385492.78 - ETA: 2s - loss: 391354.2284 - mean_squared_error: 391354.12 - ETA: 1s - loss: 380207.6253 - mean_squared_error: 380207.53 - ETA: 1s - loss: 380651.9777 - mean_squared_error: 380651.78 - ETA: 1s - loss: 382383.5859 - mean_squared_error: 382383.43 - ETA: 1s - loss: 384225.0496 - mean_squared_error: 384224.87 - ETA: 1s - loss: 388668.4846 - mean_squared_error: 388668.28 - ETA: 1s - loss: 386748.8619 - mean_squared_error: 386748.59 - ETA: 1s - loss: 380867.4110 - mean_squared_error: 380867.18 - ETA: 1s - loss: 382774.8056 - mean_squared_error: 382774.59 - ETA: 1s - loss: 379607.4765 - mean_squared_error: 379607.31 - ETA: 1s - loss: 378757.3741 - mean_squared_error: 378757.18 - ETA: 1s - loss: 375604.9933 - mean_squared_error: 375604.84 - ETA: 1s - loss: 378570.3873 - mean_squared_error: 378570.25 - ETA: 1s - loss: 377073.1093 - mean_squared_error: 377072.96 - ETA: 1s - loss: 376487.9199 - mean_squared_error: 376487.81 - ETA: 1s - loss: 376271.2613 - mean_squared_error: 376271.15 - ETA: 1s - loss: 379513.4724 - mean_squared_error: 379513.37 - ETA: 1s - loss: 380066.9970 - mean_squared_error: 380066.90 - ETA: 1s - loss: 378505.3253 - mean_squared_error: 378505.28 - ETA: 0s - loss: 377284.5068 - mean_squared_error: 377284.56 - ETA: 0s - loss: 379321.3983 - mean_squared_error: 379321.53 - ETA: 0s - loss: 379600.9899 - mean_squared_error: 379601.06 - ETA: 0s - loss: 377531.0213 - mean_squared_error: 377531.12 - ETA: 0s - loss: 379871.2963 - mean_squared_error: 379871.43 - ETA: 0s - loss: 378065.7068 - mean_squared_error: 378065.84 - ETA: 0s - loss: 376706.3926 - mean_squared_error: 376706.50 - ETA: 0s - loss: 377548.5161 - mean_squared_error: 377548.62 - ETA: 0s - loss: 377197.3331 - mean_squared_error: 377197.37 - ETA: 0s - loss: 376929.5602 - mean_squared_error: 376929.53 - ETA: 0s - loss: 378173.0615 - mean_squared_error: 378173.09 - ETA: 0s - loss: 378796.9346 - mean_squared_error: 378796.96 - ETA: 0s - loss: 378912.0249 - mean_squared_error: 378912.03 - ETA: 0s - loss: 379771.0569 - mean_squared_error: 379771.09 - ETA: 0s - loss: 379922.3839 - mean_squared_error: 379922.46 - ETA: 0s - loss: 380045.4410 - mean_squared_error: 380045.53 - ETA: 0s - loss: 380687.7759 - mean_squared_error: 380687.90 - ETA: 0s - loss: 380247.0157 - mean_squared_error: 380247.12 - ETA: 0s - loss: 379517.2316 - mean_squared_error: 379517.37 - 2s 61us/step - loss: 380321.2810 - mean_squared_error: 380321.4062\n",
      "Epoch 24/100\n",
      "39941/39941 [==============================] - ETA: 4s - loss: 332129.6875 - mean_squared_error: 332129.68 - ETA: 2s - loss: 467407.9195 - mean_squared_error: 467407.93 - ETA: 2s - loss: 442079.6690 - mean_squared_error: 442079.71 - ETA: 2s - loss: 424172.4733 - mean_squared_error: 424172.50 - ETA: 2s - loss: 400584.4006 - mean_squared_error: 400584.34 - ETA: 2s - loss: 416954.9868 - mean_squared_error: 416955.06 - ETA: 2s - loss: 403380.9231 - mean_squared_error: 403381.00 - ETA: 2s - loss: 392511.0138 - mean_squared_error: 392511.12 - ETA: 2s - loss: 384455.0280 - mean_squared_error: 384455.03 - ETA: 1s - loss: 376149.9680 - mean_squared_error: 376150.03 - ETA: 1s - loss: 380757.8983 - mean_squared_error: 380757.93 - ETA: 1s - loss: 387152.6257 - mean_squared_error: 387152.59 - ETA: 1s - loss: 389290.6285 - mean_squared_error: 389290.56 - ETA: 1s - loss: 390181.2329 - mean_squared_error: 390181.18 - ETA: 1s - loss: 388974.1452 - mean_squared_error: 388974.06 - ETA: 1s - loss: 395024.8860 - mean_squared_error: 395024.71 - ETA: 1s - loss: 391170.0084 - mean_squared_error: 391169.81 - ETA: 1s - loss: 391672.6092 - mean_squared_error: 391672.28 - ETA: 1s - loss: 388830.1532 - mean_squared_error: 388829.84 - ETA: 1s - loss: 386463.1189 - mean_squared_error: 386462.84 - ETA: 1s - loss: 384053.1256 - mean_squared_error: 384052.90 - ETA: 1s - loss: 383095.4280 - mean_squared_error: 383095.15 - ETA: 1s - loss: 382803.2547 - mean_squared_error: 382802.93 - ETA: 1s - loss: 382653.8651 - mean_squared_error: 382653.53 - ETA: 1s - loss: 382490.0241 - mean_squared_error: 382489.65 - ETA: 1s - loss: 383277.8117 - mean_squared_error: 383277.40 - ETA: 1s - loss: 383509.1273 - mean_squared_error: 383508.71 - ETA: 1s - loss: 381505.3365 - mean_squared_error: 381504.96 - ETA: 1s - loss: 381085.7546 - mean_squared_error: 381085.43 - ETA: 1s - loss: 381329.5491 - mean_squared_error: 381329.28 - ETA: 0s - loss: 384182.8358 - mean_squared_error: 384182.53 - ETA: 0s - loss: 381959.6461 - mean_squared_error: 381959.37 - ETA: 0s - loss: 383207.5554 - mean_squared_error: 383207.28 - ETA: 0s - loss: 383317.8158 - mean_squared_error: 383317.62 - ETA: 0s - loss: 382732.9062 - mean_squared_error: 382732.78 - ETA: 0s - loss: 383506.0823 - mean_squared_error: 383505.96 - ETA: 0s - loss: 383810.3633 - mean_squared_error: 383810.21 - ETA: 0s - loss: 385197.9252 - mean_squared_error: 385197.78 - ETA: 0s - loss: 383548.0325 - mean_squared_error: 383547.87 - ETA: 0s - loss: 381649.5648 - mean_squared_error: 381649.46 - ETA: 0s - loss: 381757.9518 - mean_squared_error: 381757.84 - ETA: 0s - loss: 381257.5416 - mean_squared_error: 381257.37 - ETA: 0s - loss: 380071.0726 - mean_squared_error: 380070.90 - ETA: 0s - loss: 379497.7739 - mean_squared_error: 379497.53 - ETA: 0s - loss: 377486.4126 - mean_squared_error: 377486.15 - ETA: 0s - loss: 378761.8457 - mean_squared_error: 378761.65 - ETA: 0s - loss: 379022.3021 - mean_squared_error: 379022.12 - ETA: 0s - loss: 376978.7625 - mean_squared_error: 376978.50 - ETA: 0s - loss: 378225.3375 - mean_squared_error: 378225.12 - ETA: 0s - loss: 378318.3634 - mean_squared_error: 378318.15 - 3s 63us/step - loss: 377864.9764 - mean_squared_error: 377864.8125\n",
      "Epoch 25/100\n"
     ]
    },
    {
     "name": "stdout",
     "output_type": "stream",
     "text": [
      "39941/39941 [==============================] - ETA: 5s - loss: 401328.6562 - mean_squared_error: 401328.65 - ETA: 2s - loss: 373346.1599 - mean_squared_error: 373346.15 - ETA: 2s - loss: 329543.4030 - mean_squared_error: 329543.40 - ETA: 2s - loss: 327279.5139 - mean_squared_error: 327279.50 - ETA: 2s - loss: 357125.2733 - mean_squared_error: 357125.25 - ETA: 2s - loss: 360561.0155 - mean_squared_error: 360560.93 - ETA: 2s - loss: 369292.4086 - mean_squared_error: 369292.37 - ETA: 2s - loss: 374373.1779 - mean_squared_error: 374373.15 - ETA: 2s - loss: 385069.4536 - mean_squared_error: 385069.37 - ETA: 2s - loss: 395071.3222 - mean_squared_error: 395071.37 - ETA: 2s - loss: 389876.9646 - mean_squared_error: 389877.03 - ETA: 2s - loss: 378480.6316 - mean_squared_error: 378480.65 - ETA: 2s - loss: 371629.4941 - mean_squared_error: 371629.46 - ETA: 2s - loss: 367582.3729 - mean_squared_error: 367582.31 - ETA: 1s - loss: 372484.3166 - mean_squared_error: 372484.25 - ETA: 1s - loss: 373914.7459 - mean_squared_error: 373914.68 - ETA: 1s - loss: 373727.3060 - mean_squared_error: 373727.28 - ETA: 1s - loss: 374808.5757 - mean_squared_error: 374808.56 - ETA: 1s - loss: 371837.8314 - mean_squared_error: 371837.81 - ETA: 1s - loss: 370799.5928 - mean_squared_error: 370799.59 - ETA: 1s - loss: 371142.8147 - mean_squared_error: 371142.87 - ETA: 1s - loss: 377018.9559 - mean_squared_error: 377019.09 - ETA: 1s - loss: 378504.3982 - mean_squared_error: 378504.59 - ETA: 1s - loss: 380042.4756 - mean_squared_error: 380042.62 - ETA: 1s - loss: 379093.1120 - mean_squared_error: 379093.31 - ETA: 1s - loss: 377658.7762 - mean_squared_error: 377658.90 - ETA: 1s - loss: 378786.5704 - mean_squared_error: 378786.71 - ETA: 1s - loss: 376123.1560 - mean_squared_error: 376123.34 - ETA: 1s - loss: 373538.0211 - mean_squared_error: 373538.21 - ETA: 1s - loss: 375462.4522 - mean_squared_error: 375462.59 - ETA: 1s - loss: 375519.6435 - mean_squared_error: 375519.78 - ETA: 1s - loss: 378380.7832 - mean_squared_error: 378380.93 - ETA: 1s - loss: 374507.5690 - mean_squared_error: 374507.71 - ETA: 0s - loss: 376373.1017 - mean_squared_error: 376373.18 - ETA: 0s - loss: 375619.7732 - mean_squared_error: 375619.90 - ETA: 0s - loss: 376366.0483 - mean_squared_error: 376366.06 - ETA: 0s - loss: 374685.6115 - mean_squared_error: 374685.71 - ETA: 0s - loss: 375061.2968 - mean_squared_error: 375061.43 - ETA: 0s - loss: 374441.4919 - mean_squared_error: 374441.62 - ETA: 0s - loss: 373276.3003 - mean_squared_error: 373276.40 - ETA: 0s - loss: 373791.8741 - mean_squared_error: 373792.00 - ETA: 0s - loss: 372345.7160 - mean_squared_error: 372345.84 - ETA: 0s - loss: 371178.6816 - mean_squared_error: 371178.81 - ETA: 0s - loss: 370913.1145 - mean_squared_error: 370913.21 - ETA: 0s - loss: 372746.7301 - mean_squared_error: 372746.93 - ETA: 0s - loss: 371484.7594 - mean_squared_error: 371485.00 - ETA: 0s - loss: 371892.6560 - mean_squared_error: 371892.84 - ETA: 0s - loss: 371436.1246 - mean_squared_error: 371436.31 - ETA: 0s - loss: 369853.4235 - mean_squared_error: 369853.56 - ETA: 0s - loss: 368743.0990 - mean_squared_error: 368743.28 - ETA: 0s - loss: 368165.1911 - mean_squared_error: 368165.37 - 3s 64us/step - loss: 368125.1553 - mean_squared_error: 368125.3438\n",
      "Epoch 26/100\n",
      "39941/39941 [==============================] - ETA: 4s - loss: 144136.1875 - mean_squared_error: 144136.18 - ETA: 2s - loss: 401040.2230 - mean_squared_error: 401040.28 - ETA: 2s - loss: 400659.1232 - mean_squared_error: 400659.18 - ETA: 2s - loss: 382135.7146 - mean_squared_error: 382135.71 - ETA: 2s - loss: 383712.3592 - mean_squared_error: 383712.31 - ETA: 2s - loss: 363300.5759 - mean_squared_error: 363300.53 - ETA: 2s - loss: 373712.7644 - mean_squared_error: 373712.71 - ETA: 2s - loss: 371838.6309 - mean_squared_error: 371838.62 - ETA: 2s - loss: 364123.1505 - mean_squared_error: 364123.12 - ETA: 2s - loss: 369089.8610 - mean_squared_error: 369089.81 - ETA: 2s - loss: 369605.1869 - mean_squared_error: 369605.12 - ETA: 1s - loss: 385099.1238 - mean_squared_error: 385099.03 - ETA: 1s - loss: 381361.6621 - mean_squared_error: 381361.59 - ETA: 1s - loss: 379510.0294 - mean_squared_error: 379509.96 - ETA: 1s - loss: 374241.4520 - mean_squared_error: 374241.43 - ETA: 1s - loss: 370972.3917 - mean_squared_error: 370972.28 - ETA: 1s - loss: 372622.0811 - mean_squared_error: 372622.00 - ETA: 1s - loss: 366690.1337 - mean_squared_error: 366690.15 - ETA: 1s - loss: 365181.0195 - mean_squared_error: 365180.93 - ETA: 1s - loss: 362694.4219 - mean_squared_error: 362694.28 - ETA: 1s - loss: 363325.8304 - mean_squared_error: 363325.71 - ETA: 1s - loss: 364473.3835 - mean_squared_error: 364473.34 - ETA: 1s - loss: 367313.9096 - mean_squared_error: 367313.84 - ETA: 1s - loss: 371960.8448 - mean_squared_error: 371960.78 - ETA: 1s - loss: 369862.0258 - mean_squared_error: 369861.93 - ETA: 1s - loss: 375584.7130 - mean_squared_error: 375584.65 - ETA: 1s - loss: 372881.8301 - mean_squared_error: 372881.71 - ETA: 1s - loss: 371858.8075 - mean_squared_error: 371858.71 - ETA: 1s - loss: 371457.8231 - mean_squared_error: 371457.68 - ETA: 0s - loss: 369581.1688 - mean_squared_error: 369581.00 - ETA: 0s - loss: 368683.6791 - mean_squared_error: 368683.53 - ETA: 0s - loss: 366655.5147 - mean_squared_error: 366655.43 - ETA: 0s - loss: 365711.9409 - mean_squared_error: 365711.78 - ETA: 0s - loss: 370109.4313 - mean_squared_error: 370109.25 - ETA: 0s - loss: 370168.9415 - mean_squared_error: 370168.75 - ETA: 0s - loss: 374222.3624 - mean_squared_error: 374222.15 - ETA: 0s - loss: 374548.1254 - mean_squared_error: 374547.90 - ETA: 0s - loss: 373497.0961 - mean_squared_error: 373496.81 - ETA: 0s - loss: 373456.9856 - mean_squared_error: 373456.62 - ETA: 0s - loss: 373675.4996 - mean_squared_error: 373675.15 - ETA: 0s - loss: 380415.0618 - mean_squared_error: 380414.71 - ETA: 0s - loss: 378524.1443 - mean_squared_error: 378523.81 - ETA: 0s - loss: 378995.2862 - mean_squared_error: 378994.96 - ETA: 0s - loss: 377363.0112 - mean_squared_error: 377362.65 - ETA: 0s - loss: 376356.7318 - mean_squared_error: 376356.34 - ETA: 0s - loss: 376916.9404 - mean_squared_error: 376916.56 - ETA: 0s - loss: 376438.2610 - mean_squared_error: 376437.87 - ETA: 0s - loss: 377088.1508 - mean_squared_error: 377087.71 - ETA: 0s - loss: 376048.8446 - mean_squared_error: 376048.43 - ETA: 0s - loss: 374672.0891 - mean_squared_error: 374671.71 - 3s 63us/step - loss: 374497.0500 - mean_squared_error: 374496.6875\n",
      "Epoch 27/100\n",
      "39941/39941 [==============================] - ETA: 3s - loss: 201026.1719 - mean_squared_error: 201026.17 - ETA: 2s - loss: 272121.4959 - mean_squared_error: 272121.50 - ETA: 2s - loss: 351868.2561 - mean_squared_error: 351868.25 - ETA: 2s - loss: 356467.8058 - mean_squared_error: 356467.75 - ETA: 2s - loss: 375644.0531 - mean_squared_error: 375643.93 - ETA: 2s - loss: 374815.7575 - mean_squared_error: 374815.65 - ETA: 2s - loss: 372152.2964 - mean_squared_error: 372152.15 - ETA: 2s - loss: 380796.9449 - mean_squared_error: 380796.84 - ETA: 2s - loss: 380137.5277 - mean_squared_error: 380137.53 - ETA: 1s - loss: 388310.7187 - mean_squared_error: 388310.68 - ETA: 1s - loss: 383583.8580 - mean_squared_error: 383583.84 - ETA: 1s - loss: 380992.2182 - mean_squared_error: 380992.12 - ETA: 1s - loss: 382103.9883 - mean_squared_error: 382103.87 - ETA: 1s - loss: 380402.6796 - mean_squared_error: 380402.56 - ETA: 1s - loss: 378598.0648 - mean_squared_error: 378597.93 - ETA: 1s - loss: 373811.3004 - mean_squared_error: 373811.06 - ETA: 1s - loss: 371341.1979 - mean_squared_error: 371340.93 - ETA: 1s - loss: 370303.1017 - mean_squared_error: 370302.90 - ETA: 1s - loss: 366678.9370 - mean_squared_error: 366678.78 - ETA: 1s - loss: 368016.8841 - mean_squared_error: 368016.81 - ETA: 1s - loss: 365028.0883 - mean_squared_error: 365028.00 - ETA: 1s - loss: 366076.5680 - mean_squared_error: 366076.50 - ETA: 1s - loss: 365242.8576 - mean_squared_error: 365242.71 - ETA: 1s - loss: 363425.2522 - mean_squared_error: 363425.12 - ETA: 1s - loss: 361186.8930 - mean_squared_error: 361186.75 - ETA: 1s - loss: 359711.1605 - mean_squared_error: 359711.00 - ETA: 1s - loss: 361231.9474 - mean_squared_error: 361231.75 - ETA: 1s - loss: 364073.5806 - mean_squared_error: 364073.40 - ETA: 1s - loss: 364377.7829 - mean_squared_error: 364377.65 - ETA: 1s - loss: 362120.7958 - mean_squared_error: 362120.68 - ETA: 0s - loss: 365079.4538 - mean_squared_error: 365079.37 - ETA: 0s - loss: 364421.6124 - mean_squared_error: 364421.43 - ETA: 0s - loss: 365833.0488 - mean_squared_error: 365832.81 - ETA: 0s - loss: 363683.3155 - mean_squared_error: 363683.06 - ETA: 0s - loss: 363943.3979 - mean_squared_error: 363943.18 - ETA: 0s - loss: 363017.4917 - mean_squared_error: 363017.31 - ETA: 0s - loss: 362514.7183 - mean_squared_error: 362514.59 - ETA: 0s - loss: 362830.7838 - mean_squared_error: 362830.65 - ETA: 0s - loss: 364605.3121 - mean_squared_error: 364605.25 - ETA: 0s - loss: 362992.3980 - mean_squared_error: 362992.37 - ETA: 0s - loss: 364366.8190 - mean_squared_error: 364366.78 - ETA: 0s - loss: 365622.9140 - mean_squared_error: 365622.78 - ETA: 0s - loss: 366348.5259 - mean_squared_error: 366348.40 - ETA: 0s - loss: 367933.1540 - mean_squared_error: 367933.03 - ETA: 0s - loss: 365859.8273 - mean_squared_error: 365859.75 - ETA: 0s - loss: 367411.7229 - mean_squared_error: 367411.62 - ETA: 0s - loss: 367972.9516 - mean_squared_error: 367972.81 - ETA: 0s - loss: 369289.0993 - mean_squared_error: 369288.96 - ETA: 0s - loss: 368832.0894 - mean_squared_error: 368832.00 - ETA: 0s - loss: 369507.4408 - mean_squared_error: 369507.40 - ETA: 0s - loss: 369429.8480 - mean_squared_error: 369429.71 - ETA: 0s - loss: 370961.9350 - mean_squared_error: 370961.78 - 3s 65us/step - loss: 370807.0055 - mean_squared_error: 370806.8438\n",
      "Epoch 28/100\n",
      "39941/39941 [==============================] - ETA: 4s - loss: 331049.1250 - mean_squared_error: 331049.12 - ETA: 2s - loss: 502028.4872 - mean_squared_error: 502028.46 - ETA: 2s - loss: 472903.0289 - mean_squared_error: 472903.00 - ETA: 2s - loss: 408549.5618 - mean_squared_error: 408549.59 - ETA: 2s - loss: 407876.3778 - mean_squared_error: 407876.40 - ETA: 2s - loss: 392218.5020 - mean_squared_error: 392218.56 - ETA: 2s - loss: 388094.7342 - mean_squared_error: 388094.81 - ETA: 2s - loss: 399337.5885 - mean_squared_error: 399337.62 - ETA: 2s - loss: 395099.4875 - mean_squared_error: 395099.53 - ETA: 2s - loss: 388196.6376 - mean_squared_error: 388196.65 - ETA: 2s - loss: 383642.9367 - mean_squared_error: 383642.96 - ETA: 2s - loss: 384971.4484 - mean_squared_error: 384971.46 - ETA: 2s - loss: 383558.5976 - mean_squared_error: 383558.62 - ETA: 2s - loss: 379067.9255 - mean_squared_error: 379067.93 - ETA: 1s - loss: 377239.8251 - mean_squared_error: 377239.87 - ETA: 1s - loss: 376597.4002 - mean_squared_error: 376597.46 - ETA: 1s - loss: 376620.9660 - mean_squared_error: 376621.09 - ETA: 1s - loss: 374630.1892 - mean_squared_error: 374630.21 - ETA: 1s - loss: 379331.6825 - mean_squared_error: 379331.68 - ETA: 1s - loss: 377439.4946 - mean_squared_error: 377439.53 - ETA: 1s - loss: 371743.6114 - mean_squared_error: 371743.68 - ETA: 1s - loss: 372669.7685 - mean_squared_error: 372669.84 - ETA: 1s - loss: 369086.9408 - mean_squared_error: 369087.03 - ETA: 1s - loss: 370838.0549 - mean_squared_error: 370838.09 - ETA: 1s - loss: 373017.5719 - mean_squared_error: 373017.65 - ETA: 1s - loss: 371937.8102 - mean_squared_error: 371937.90 - ETA: 1s - loss: 375678.7076 - mean_squared_error: 375678.78 - ETA: 1s - loss: 374328.4486 - mean_squared_error: 374328.53 - ETA: 1s - loss: 376310.5742 - mean_squared_error: 376310.71 - ETA: 1s - loss: 375471.0056 - mean_squared_error: 375471.09 - ETA: 1s - loss: 375753.0903 - mean_squared_error: 375753.21 - ETA: 0s - loss: 374352.7248 - mean_squared_error: 374352.90 - ETA: 0s - loss: 372774.8876 - mean_squared_error: 372775.18 - ETA: 0s - loss: 373734.4483 - mean_squared_error: 373734.87 - ETA: 0s - loss: 373260.6001 - mean_squared_error: 373260.96 - ETA: 0s - loss: 373797.0135 - mean_squared_error: 373797.37 - ETA: 0s - loss: 373161.8239 - mean_squared_error: 373162.09 - ETA: 0s - loss: 371153.0120 - mean_squared_error: 371153.31 - ETA: 0s - loss: 371274.8160 - mean_squared_error: 371275.18 - ETA: 0s - loss: 373613.6643 - mean_squared_error: 373614.03 - ETA: 0s - loss: 372784.3963 - mean_squared_error: 372784.75 - ETA: 0s - loss: 373055.4501 - mean_squared_error: 373055.81 - ETA: 0s - loss: 370969.4911 - mean_squared_error: 370969.84 - ETA: 0s - loss: 371976.7233 - mean_squared_error: 371977.00 - ETA: 0s - loss: 369871.6626 - mean_squared_error: 369871.93 - ETA: 0s - loss: 369486.1954 - mean_squared_error: 369486.40 - ETA: 0s - loss: 368832.7544 - mean_squared_error: 368832.96 - ETA: 0s - loss: 368515.6099 - mean_squared_error: 368515.84 - ETA: 0s - loss: 367585.6439 - mean_squared_error: 367585.90 - ETA: 0s - loss: 366843.9364 - mean_squared_error: 366844.18 - 3s 63us/step - loss: 366969.9854 - mean_squared_error: 366970.2500\n",
      "Epoch 29/100\n"
     ]
    },
    {
     "name": "stdout",
     "output_type": "stream",
     "text": [
      "39941/39941 [==============================] - ETA: 7s - loss: 341926.1562 - mean_squared_error: 341926.15 - ETA: 2s - loss: 299461.0019 - mean_squared_error: 299460.96 - ETA: 2s - loss: 318831.3159 - mean_squared_error: 318831.31 - ETA: 2s - loss: 340627.9774 - mean_squared_error: 340627.96 - ETA: 2s - loss: 360914.4086 - mean_squared_error: 360914.37 - ETA: 2s - loss: 371744.6749 - mean_squared_error: 371744.65 - ETA: 2s - loss: 364810.2132 - mean_squared_error: 364810.18 - ETA: 2s - loss: 359802.3938 - mean_squared_error: 359802.31 - ETA: 2s - loss: 355241.0595 - mean_squared_error: 355241.00 - ETA: 2s - loss: 359628.3017 - mean_squared_error: 359628.25 - ETA: 2s - loss: 352453.3565 - mean_squared_error: 352453.25 - ETA: 2s - loss: 351220.1170 - mean_squared_error: 351219.93 - ETA: 2s - loss: 350561.3901 - mean_squared_error: 350561.25 - ETA: 1s - loss: 348394.4251 - mean_squared_error: 348394.25 - ETA: 1s - loss: 354171.8443 - mean_squared_error: 354171.71 - ETA: 1s - loss: 360378.3606 - mean_squared_error: 360378.28 - ETA: 1s - loss: 360684.5546 - mean_squared_error: 360684.56 - ETA: 1s - loss: 358372.1339 - mean_squared_error: 358372.12 - ETA: 1s - loss: 359327.5802 - mean_squared_error: 359327.50 - ETA: 1s - loss: 358996.3091 - mean_squared_error: 358996.28 - ETA: 1s - loss: 360717.8520 - mean_squared_error: 360717.78 - ETA: 1s - loss: 360268.0349 - mean_squared_error: 360268.03 - ETA: 1s - loss: 360801.5731 - mean_squared_error: 360801.59 - ETA: 1s - loss: 356982.4724 - mean_squared_error: 356982.43 - ETA: 1s - loss: 358285.8076 - mean_squared_error: 358285.78 - ETA: 1s - loss: 358609.1613 - mean_squared_error: 358609.09 - ETA: 1s - loss: 361705.1402 - mean_squared_error: 361705.09 - ETA: 1s - loss: 360979.6792 - mean_squared_error: 360979.62 - ETA: 1s - loss: 361238.2260 - mean_squared_error: 361238.25 - ETA: 1s - loss: 361200.3284 - mean_squared_error: 361200.28 - ETA: 1s - loss: 361241.6207 - mean_squared_error: 361241.56 - ETA: 0s - loss: 366549.4211 - mean_squared_error: 366549.28 - ETA: 0s - loss: 364268.4632 - mean_squared_error: 364268.40 - ETA: 0s - loss: 364275.2012 - mean_squared_error: 364275.18 - ETA: 0s - loss: 367905.3831 - mean_squared_error: 367905.28 - ETA: 0s - loss: 368616.9666 - mean_squared_error: 368616.87 - ETA: 0s - loss: 366927.8998 - mean_squared_error: 366927.81 - ETA: 0s - loss: 367701.3479 - mean_squared_error: 367701.15 - ETA: 0s - loss: 368922.5976 - mean_squared_error: 368922.25 - ETA: 0s - loss: 371047.1120 - mean_squared_error: 371046.78 - ETA: 0s - loss: 371352.7103 - mean_squared_error: 371352.40 - ETA: 0s - loss: 373155.1256 - mean_squared_error: 373154.78 - ETA: 0s - loss: 372003.2252 - mean_squared_error: 372002.87 - ETA: 0s - loss: 371825.6615 - mean_squared_error: 371825.28 - ETA: 0s - loss: 371112.4267 - mean_squared_error: 371112.06 - ETA: 0s - loss: 371010.5398 - mean_squared_error: 371010.15 - ETA: 0s - loss: 370145.6169 - mean_squared_error: 370145.25 - ETA: 0s - loss: 368666.8695 - mean_squared_error: 368666.50 - ETA: 0s - loss: 368035.7113 - mean_squared_error: 368035.31 - 2s 62us/step - loss: 367540.0472 - mean_squared_error: 367539.6875\n",
      "Epoch 30/100\n",
      "39941/39941 [==============================] - ETA: 5s - loss: 228426.6562 - mean_squared_error: 228426.65 - ETA: 2s - loss: 386341.2807 - mean_squared_error: 386341.25 - ETA: 2s - loss: 368050.3583 - mean_squared_error: 368050.34 - ETA: 2s - loss: 366973.6114 - mean_squared_error: 366973.59 - ETA: 2s - loss: 380782.5024 - mean_squared_error: 380782.46 - ETA: 2s - loss: 365467.9412 - mean_squared_error: 365467.90 - ETA: 2s - loss: 359394.8405 - mean_squared_error: 359394.84 - ETA: 2s - loss: 353327.1510 - mean_squared_error: 353327.12 - ETA: 2s - loss: 355656.2886 - mean_squared_error: 355656.25 - ETA: 2s - loss: 352125.2057 - mean_squared_error: 352125.18 - ETA: 2s - loss: 349561.8769 - mean_squared_error: 349561.84 - ETA: 2s - loss: 347445.4579 - mean_squared_error: 347445.46 - ETA: 1s - loss: 349266.2993 - mean_squared_error: 349266.31 - ETA: 1s - loss: 356535.0283 - mean_squared_error: 356535.06 - ETA: 1s - loss: 363557.5663 - mean_squared_error: 363557.59 - ETA: 1s - loss: 361545.5311 - mean_squared_error: 361545.56 - ETA: 1s - loss: 364865.5540 - mean_squared_error: 364865.50 - ETA: 1s - loss: 363772.2144 - mean_squared_error: 363772.06 - ETA: 1s - loss: 360670.7759 - mean_squared_error: 360670.68 - ETA: 1s - loss: 365781.4717 - mean_squared_error: 365781.34 - ETA: 1s - loss: 361667.3177 - mean_squared_error: 361667.18 - ETA: 1s - loss: 359707.0850 - mean_squared_error: 359706.93 - ETA: 1s - loss: 361097.3760 - mean_squared_error: 361097.25 - ETA: 1s - loss: 362282.2037 - mean_squared_error: 362282.06 - ETA: 1s - loss: 360008.3327 - mean_squared_error: 360008.06 - ETA: 1s - loss: 357245.1219 - mean_squared_error: 357244.90 - ETA: 1s - loss: 353840.3412 - mean_squared_error: 353840.15 - ETA: 1s - loss: 352475.7037 - mean_squared_error: 352475.53 - ETA: 1s - loss: 357783.6198 - mean_squared_error: 357783.46 - ETA: 0s - loss: 360600.5913 - mean_squared_error: 360600.34 - ETA: 0s - loss: 359480.6163 - mean_squared_error: 359480.34 - ETA: 0s - loss: 357112.7988 - mean_squared_error: 357112.40 - ETA: 0s - loss: 358988.2202 - mean_squared_error: 358987.75 - ETA: 0s - loss: 357898.4583 - mean_squared_error: 357898.03 - ETA: 0s - loss: 356929.8774 - mean_squared_error: 356929.40 - ETA: 0s - loss: 358343.5021 - mean_squared_error: 358343.03 - ETA: 0s - loss: 361348.4971 - mean_squared_error: 361348.12 - ETA: 0s - loss: 363007.9784 - mean_squared_error: 363007.59 - ETA: 0s - loss: 363651.1073 - mean_squared_error: 363650.81 - ETA: 0s - loss: 364666.0893 - mean_squared_error: 364665.81 - ETA: 0s - loss: 362624.6370 - mean_squared_error: 362624.37 - ETA: 0s - loss: 363789.3203 - mean_squared_error: 363789.06 - ETA: 0s - loss: 364314.2509 - mean_squared_error: 364313.96 - ETA: 0s - loss: 364269.6925 - mean_squared_error: 364269.40 - ETA: 0s - loss: 363872.6816 - mean_squared_error: 363872.40 - ETA: 0s - loss: 365668.5443 - mean_squared_error: 365668.25 - ETA: 0s - loss: 365612.8560 - mean_squared_error: 365612.53 - ETA: 0s - loss: 367029.4495 - mean_squared_error: 367029.12 - ETA: 0s - loss: 367224.8320 - mean_squared_error: 367224.50 - ETA: 0s - loss: 366330.7603 - mean_squared_error: 366330.37 - 3s 63us/step - loss: 366522.1223 - mean_squared_error: 366521.7188\n",
      "Epoch 31/100\n",
      "39941/39941 [==============================] - ETA: 5s - loss: 116360.0234 - mean_squared_error: 116360.02 - ETA: 2s - loss: 498905.8705 - mean_squared_error: 498905.87 - ETA: 2s - loss: 461258.9040 - mean_squared_error: 461258.93 - ETA: 2s - loss: 403994.5064 - mean_squared_error: 403994.56 - ETA: 2s - loss: 395167.6001 - mean_squared_error: 395167.75 - ETA: 2s - loss: 392546.4788 - mean_squared_error: 392546.62 - ETA: 2s - loss: 400239.6563 - mean_squared_error: 400239.78 - ETA: 2s - loss: 392102.8302 - mean_squared_error: 392102.93 - ETA: 2s - loss: 384535.2097 - mean_squared_error: 384535.25 - ETA: 2s - loss: 391201.4948 - mean_squared_error: 391201.53 - ETA: 2s - loss: 384758.8076 - mean_squared_error: 384758.93 - ETA: 2s - loss: 381282.9429 - mean_squared_error: 381283.06 - ETA: 1s - loss: 378680.0641 - mean_squared_error: 378680.21 - ETA: 1s - loss: 379641.5178 - mean_squared_error: 379641.62 - ETA: 1s - loss: 375724.0546 - mean_squared_error: 375724.18 - ETA: 1s - loss: 375112.5810 - mean_squared_error: 375112.59 - ETA: 1s - loss: 376116.1011 - mean_squared_error: 376116.21 - ETA: 1s - loss: 381050.4108 - mean_squared_error: 381050.56 - ETA: 1s - loss: 378091.8768 - mean_squared_error: 378092.03 - ETA: 1s - loss: 375898.2878 - mean_squared_error: 375898.37 - ETA: 1s - loss: 373496.8524 - mean_squared_error: 373496.87 - ETA: 1s - loss: 369694.5356 - mean_squared_error: 369694.65 - ETA: 1s - loss: 371477.7436 - mean_squared_error: 371477.90 - ETA: 1s - loss: 369766.8691 - mean_squared_error: 369767.06 - ETA: 1s - loss: 369160.8284 - mean_squared_error: 369160.96 - ETA: 1s - loss: 372857.7298 - mean_squared_error: 372857.84 - ETA: 1s - loss: 374080.0668 - mean_squared_error: 374080.18 - ETA: 1s - loss: 375273.6744 - mean_squared_error: 375273.81 - ETA: 1s - loss: 374171.8253 - mean_squared_error: 374172.00 - ETA: 1s - loss: 372343.5949 - mean_squared_error: 372343.78 - ETA: 0s - loss: 371348.4926 - mean_squared_error: 371348.65 - ETA: 0s - loss: 371245.1503 - mean_squared_error: 371245.18 - ETA: 0s - loss: 372826.7957 - mean_squared_error: 372826.84 - ETA: 0s - loss: 373707.0734 - mean_squared_error: 373707.12 - ETA: 0s - loss: 371470.2497 - mean_squared_error: 371470.34 - ETA: 0s - loss: 368878.2438 - mean_squared_error: 368878.31 - ETA: 0s - loss: 367939.7239 - mean_squared_error: 367939.81 - ETA: 0s - loss: 367920.7202 - mean_squared_error: 367920.84 - ETA: 0s - loss: 366779.1446 - mean_squared_error: 366779.28 - ETA: 0s - loss: 366536.0043 - mean_squared_error: 366536.12 - ETA: 0s - loss: 366322.2737 - mean_squared_error: 366322.34 - ETA: 0s - loss: 366937.4871 - mean_squared_error: 366937.56 - ETA: 0s - loss: 366976.6205 - mean_squared_error: 366976.71 - ETA: 0s - loss: 367536.0817 - mean_squared_error: 367536.12 - ETA: 0s - loss: 366987.1265 - mean_squared_error: 366987.18 - ETA: 0s - loss: 364758.2670 - mean_squared_error: 364758.34 - ETA: 0s - loss: 365541.3917 - mean_squared_error: 365541.46 - ETA: 0s - loss: 366653.9528 - mean_squared_error: 366653.93 - ETA: 0s - loss: 366477.7127 - mean_squared_error: 366477.71 - ETA: 0s - loss: 367085.2178 - mean_squared_error: 367085.21 - ETA: 0s - loss: 366713.2668 - mean_squared_error: 366713.18 - 3s 64us/step - loss: 367327.6194 - mean_squared_error: 367327.5312\n",
      "Epoch 32/100\n",
      "39941/39941 [==============================] - ETA: 4s - loss: 670104.0000 - mean_squared_error: 670104.00 - ETA: 3s - loss: 360676.7017 - mean_squared_error: 360676.71 - ETA: 2s - loss: 346319.9281 - mean_squared_error: 346319.90 - ETA: 2s - loss: 356761.2922 - mean_squared_error: 356761.25 - ETA: 2s - loss: 356452.1164 - mean_squared_error: 356452.00 - ETA: 2s - loss: 363136.3690 - mean_squared_error: 363136.28 - ETA: 2s - loss: 352183.5731 - mean_squared_error: 352183.50 - ETA: 2s - loss: 340428.5151 - mean_squared_error: 340428.46 - ETA: 2s - loss: 342626.5966 - mean_squared_error: 342626.53 - ETA: 2s - loss: 357515.1528 - mean_squared_error: 357515.15 - ETA: 2s - loss: 360351.8615 - mean_squared_error: 360351.81 - ETA: 2s - loss: 355432.6207 - mean_squared_error: 355432.59 - ETA: 1s - loss: 357271.4047 - mean_squared_error: 357271.37 - ETA: 1s - loss: 356063.6226 - mean_squared_error: 356063.62 - ETA: 1s - loss: 353011.9185 - mean_squared_error: 353011.90 - ETA: 1s - loss: 350863.5729 - mean_squared_error: 350863.56 - ETA: 1s - loss: 348404.3377 - mean_squared_error: 348404.37 - ETA: 1s - loss: 349071.7595 - mean_squared_error: 349071.78 - ETA: 1s - loss: 352827.7421 - mean_squared_error: 352827.81 - ETA: 1s - loss: 350274.3928 - mean_squared_error: 350274.46 - ETA: 1s - loss: 349981.1956 - mean_squared_error: 349981.31 - ETA: 1s - loss: 346885.0379 - mean_squared_error: 346885.06 - ETA: 1s - loss: 347958.6591 - mean_squared_error: 347958.78 - ETA: 1s - loss: 345131.3392 - mean_squared_error: 345131.43 - ETA: 1s - loss: 344823.6271 - mean_squared_error: 344823.71 - ETA: 1s - loss: 346529.9497 - mean_squared_error: 346530.03 - ETA: 1s - loss: 344363.5361 - mean_squared_error: 344363.62 - ETA: 1s - loss: 345852.3901 - mean_squared_error: 345852.43 - ETA: 1s - loss: 345301.8574 - mean_squared_error: 345301.90 - ETA: 1s - loss: 345166.3431 - mean_squared_error: 345166.34 - ETA: 0s - loss: 344643.5624 - mean_squared_error: 344643.56 - ETA: 0s - loss: 347894.4039 - mean_squared_error: 347894.40 - ETA: 0s - loss: 351641.9022 - mean_squared_error: 351641.90 - ETA: 0s - loss: 353019.4846 - mean_squared_error: 353019.34 - ETA: 0s - loss: 354641.7117 - mean_squared_error: 354641.59 - ETA: 0s - loss: 356722.7679 - mean_squared_error: 356722.59 - ETA: 0s - loss: 355803.9130 - mean_squared_error: 355803.75 - ETA: 0s - loss: 358274.1329 - mean_squared_error: 358274.03 - ETA: 0s - loss: 357408.2551 - mean_squared_error: 357408.06 - ETA: 0s - loss: 359943.2853 - mean_squared_error: 359943.15 - ETA: 0s - loss: 359090.7539 - mean_squared_error: 359090.75 - ETA: 0s - loss: 360652.1673 - mean_squared_error: 360652.21 - ETA: 0s - loss: 360611.7350 - mean_squared_error: 360611.68 - ETA: 0s - loss: 360598.6680 - mean_squared_error: 360598.59 - ETA: 0s - loss: 360076.4291 - mean_squared_error: 360076.34 - ETA: 0s - loss: 359582.8307 - mean_squared_error: 359582.71 - ETA: 0s - loss: 358439.4106 - mean_squared_error: 358439.37 - ETA: 0s - loss: 358549.5103 - mean_squared_error: 358549.56 - ETA: 0s - loss: 359188.5050 - mean_squared_error: 359188.43 - ETA: 0s - loss: 357863.6544 - mean_squared_error: 357863.59 - ETA: 0s - loss: 358405.5020 - mean_squared_error: 358405.46 - 3s 64us/step - loss: 358471.2136 - mean_squared_error: 358471.1562\n",
      "Epoch 33/100\n"
     ]
    },
    {
     "name": "stdout",
     "output_type": "stream",
     "text": [
      "39941/39941 [==============================] - ETA: 4s - loss: 307925.5000 - mean_squared_error: 307925.50 - ETA: 2s - loss: 338211.5986 - mean_squared_error: 338211.59 - ETA: 2s - loss: 313428.3758 - mean_squared_error: 313428.37 - ETA: 2s - loss: 317657.0379 - mean_squared_error: 317657.06 - ETA: 2s - loss: 324326.6468 - mean_squared_error: 324326.68 - ETA: 2s - loss: 316266.2234 - mean_squared_error: 316266.28 - ETA: 2s - loss: 340461.9689 - mean_squared_error: 340462.03 - ETA: 2s - loss: 339304.4544 - mean_squared_error: 339304.53 - ETA: 2s - loss: 339329.1836 - mean_squared_error: 339329.21 - ETA: 2s - loss: 335405.1481 - mean_squared_error: 335405.15 - ETA: 2s - loss: 326395.0472 - mean_squared_error: 326395.06 - ETA: 1s - loss: 323460.8864 - mean_squared_error: 323460.84 - ETA: 1s - loss: 322332.8622 - mean_squared_error: 322332.84 - ETA: 1s - loss: 321972.3197 - mean_squared_error: 321972.25 - ETA: 1s - loss: 330121.0436 - mean_squared_error: 330120.96 - ETA: 1s - loss: 333101.7004 - mean_squared_error: 333101.65 - ETA: 1s - loss: 334221.9255 - mean_squared_error: 334221.87 - ETA: 1s - loss: 330872.5493 - mean_squared_error: 330872.50 - ETA: 1s - loss: 333217.5138 - mean_squared_error: 333217.50 - ETA: 1s - loss: 332118.5532 - mean_squared_error: 332118.59 - ETA: 1s - loss: 334104.3600 - mean_squared_error: 334104.40 - ETA: 1s - loss: 339679.9882 - mean_squared_error: 339680.03 - ETA: 1s - loss: 340602.1364 - mean_squared_error: 340602.09 - ETA: 1s - loss: 340474.5795 - mean_squared_error: 340474.50 - ETA: 1s - loss: 341408.2753 - mean_squared_error: 341408.21 - ETA: 1s - loss: 340351.4615 - mean_squared_error: 340351.40 - ETA: 1s - loss: 342086.9099 - mean_squared_error: 342086.81 - ETA: 1s - loss: 342665.0898 - mean_squared_error: 342665.00 - ETA: 1s - loss: 342548.4264 - mean_squared_error: 342548.28 - ETA: 0s - loss: 340964.6623 - mean_squared_error: 340964.46 - ETA: 0s - loss: 338637.0160 - mean_squared_error: 338636.84 - ETA: 0s - loss: 341134.5356 - mean_squared_error: 341134.25 - ETA: 0s - loss: 340147.4843 - mean_squared_error: 340147.21 - ETA: 0s - loss: 341000.3385 - mean_squared_error: 341000.06 - ETA: 0s - loss: 338910.9701 - mean_squared_error: 338910.78 - ETA: 0s - loss: 340768.3055 - mean_squared_error: 340768.12 - ETA: 0s - loss: 342456.8490 - mean_squared_error: 342456.78 - ETA: 0s - loss: 342258.1553 - mean_squared_error: 342258.15 - ETA: 0s - loss: 342136.8795 - mean_squared_error: 342136.90 - ETA: 0s - loss: 345442.4355 - mean_squared_error: 345442.46 - ETA: 0s - loss: 346206.8210 - mean_squared_error: 346206.90 - ETA: 0s - loss: 346378.0062 - mean_squared_error: 346378.09 - ETA: 0s - loss: 346898.4981 - mean_squared_error: 346898.65 - ETA: 0s - loss: 347779.4008 - mean_squared_error: 347779.59 - ETA: 0s - loss: 346997.3856 - mean_squared_error: 346997.59 - ETA: 0s - loss: 348319.2163 - mean_squared_error: 348319.31 - ETA: 0s - loss: 350120.2720 - mean_squared_error: 350120.40 - ETA: 0s - loss: 350815.9789 - mean_squared_error: 350816.12 - 2s 61us/step - loss: 350844.3000 - mean_squared_error: 350844.4688\n",
      "Epoch 34/100\n",
      "39941/39941 [==============================] - ETA: 6s - loss: 472228.5625 - mean_squared_error: 472228.56 - ETA: 2s - loss: 384572.2809 - mean_squared_error: 384572.28 - ETA: 2s - loss: 393417.8025 - mean_squared_error: 393417.81 - ETA: 2s - loss: 380186.3582 - mean_squared_error: 380186.37 - ETA: 2s - loss: 372457.6839 - mean_squared_error: 372457.71 - ETA: 2s - loss: 378986.5336 - mean_squared_error: 378986.46 - ETA: 2s - loss: 371556.5132 - mean_squared_error: 371556.43 - ETA: 2s - loss: 370317.5517 - mean_squared_error: 370317.50 - ETA: 2s - loss: 373844.9879 - mean_squared_error: 373844.90 - ETA: 2s - loss: 381859.3835 - mean_squared_error: 381859.28 - ETA: 2s - loss: 373482.0972 - mean_squared_error: 373482.06 - ETA: 2s - loss: 374180.3216 - mean_squared_error: 374180.37 - ETA: 2s - loss: 367461.6176 - mean_squared_error: 367461.68 - ETA: 2s - loss: 373447.4162 - mean_squared_error: 373447.50 - ETA: 2s - loss: 372295.9623 - mean_squared_error: 372296.06 - ETA: 1s - loss: 372253.5815 - mean_squared_error: 372253.65 - ETA: 1s - loss: 365276.3242 - mean_squared_error: 365276.37 - ETA: 1s - loss: 366129.3128 - mean_squared_error: 366129.28 - ETA: 1s - loss: 362136.7277 - mean_squared_error: 362136.78 - ETA: 1s - loss: 362268.0042 - mean_squared_error: 362268.00 - ETA: 1s - loss: 361085.8318 - mean_squared_error: 361085.90 - ETA: 1s - loss: 363209.5822 - mean_squared_error: 363209.68 - ETA: 1s - loss: 361105.2312 - mean_squared_error: 361105.31 - ETA: 1s - loss: 363957.2667 - mean_squared_error: 363957.31 - ETA: 1s - loss: 360628.3930 - mean_squared_error: 360628.43 - ETA: 1s - loss: 357838.6994 - mean_squared_error: 357838.78 - ETA: 1s - loss: 358613.4550 - mean_squared_error: 358613.53 - ETA: 1s - loss: 359283.5700 - mean_squared_error: 359283.62 - ETA: 1s - loss: 359194.7938 - mean_squared_error: 359194.81 - ETA: 1s - loss: 361620.2559 - mean_squared_error: 361620.28 - ETA: 0s - loss: 362431.5172 - mean_squared_error: 362431.53 - ETA: 0s - loss: 358139.3350 - mean_squared_error: 358139.31 - ETA: 0s - loss: 356630.9120 - mean_squared_error: 356630.96 - ETA: 0s - loss: 355090.8470 - mean_squared_error: 355090.90 - ETA: 0s - loss: 354988.6129 - mean_squared_error: 354988.75 - ETA: 0s - loss: 358099.5538 - mean_squared_error: 358099.59 - ETA: 0s - loss: 355741.4629 - mean_squared_error: 355741.43 - ETA: 0s - loss: 355863.3884 - mean_squared_error: 355863.31 - ETA: 0s - loss: 356240.5195 - mean_squared_error: 356240.40 - ETA: 0s - loss: 357585.5084 - mean_squared_error: 357585.34 - ETA: 0s - loss: 358393.7992 - mean_squared_error: 358393.68 - ETA: 0s - loss: 359629.8644 - mean_squared_error: 359629.75 - ETA: 0s - loss: 358297.1872 - mean_squared_error: 358297.12 - ETA: 0s - loss: 358157.3029 - mean_squared_error: 358157.21 - ETA: 0s - loss: 356032.7404 - mean_squared_error: 356032.68 - ETA: 0s - loss: 355261.4967 - mean_squared_error: 355261.46 - ETA: 0s - loss: 355219.2103 - mean_squared_error: 355219.18 - ETA: 0s - loss: 353658.2207 - mean_squared_error: 353658.18 - ETA: 0s - loss: 353792.6078 - mean_squared_error: 353792.50 - ETA: 0s - loss: 354556.8323 - mean_squared_error: 354556.71 - 3s 63us/step - loss: 354004.9694 - mean_squared_error: 354004.8438\n",
      "Epoch 35/100\n",
      "39941/39941 [==============================] - ETA: 4s - loss: 79623.5469 - mean_squared_error: 79623.54 - ETA: 2s - loss: 314905.6643 - mean_squared_error: 314905.71 - ETA: 2s - loss: 312605.1153 - mean_squared_error: 312605.15 - ETA: 2s - loss: 352688.9670 - mean_squared_error: 352689.00 - ETA: 2s - loss: 344120.4988 - mean_squared_error: 344120.50 - ETA: 2s - loss: 359819.8515 - mean_squared_error: 359819.84 - ETA: 2s - loss: 352142.9470 - mean_squared_error: 352142.90 - ETA: 2s - loss: 350518.7610 - mean_squared_error: 350518.68 - ETA: 2s - loss: 339630.6895 - mean_squared_error: 339630.62 - ETA: 2s - loss: 334970.2996 - mean_squared_error: 334970.21 - ETA: 2s - loss: 333771.0529 - mean_squared_error: 333770.90 - ETA: 2s - loss: 335827.9203 - mean_squared_error: 335827.84 - ETA: 1s - loss: 329452.5494 - mean_squared_error: 329452.50 - ETA: 1s - loss: 331207.5980 - mean_squared_error: 331207.53 - ETA: 1s - loss: 347745.1522 - mean_squared_error: 347745.06 - ETA: 1s - loss: 351746.0317 - mean_squared_error: 351745.90 - ETA: 1s - loss: 351605.2276 - mean_squared_error: 351605.09 - ETA: 1s - loss: 351933.7539 - mean_squared_error: 351933.68 - ETA: 1s - loss: 354411.3872 - mean_squared_error: 354411.40 - ETA: 1s - loss: 359606.6265 - mean_squared_error: 359606.68 - ETA: 1s - loss: 358582.0903 - mean_squared_error: 358582.18 - ETA: 1s - loss: 358379.1587 - mean_squared_error: 358379.25 - ETA: 1s - loss: 358033.3664 - mean_squared_error: 358033.43 - ETA: 1s - loss: 357061.1903 - mean_squared_error: 357061.28 - ETA: 1s - loss: 358609.4406 - mean_squared_error: 358609.56 - ETA: 1s - loss: 357540.5811 - mean_squared_error: 357540.75 - ETA: 1s - loss: 356963.5208 - mean_squared_error: 356963.71 - ETA: 1s - loss: 357838.4565 - mean_squared_error: 357838.71 - ETA: 1s - loss: 360458.9506 - mean_squared_error: 360459.18 - ETA: 1s - loss: 358694.0845 - mean_squared_error: 358694.31 - ETA: 0s - loss: 358856.1368 - mean_squared_error: 358856.31 - ETA: 0s - loss: 358933.9750 - mean_squared_error: 358934.15 - ETA: 0s - loss: 358056.7683 - mean_squared_error: 358057.00 - ETA: 0s - loss: 357411.0151 - mean_squared_error: 357411.28 - ETA: 0s - loss: 358841.0496 - mean_squared_error: 358841.37 - ETA: 0s - loss: 359590.4008 - mean_squared_error: 359590.62 - ETA: 0s - loss: 358915.2562 - mean_squared_error: 358915.46 - ETA: 0s - loss: 356376.9956 - mean_squared_error: 356377.15 - ETA: 0s - loss: 355904.8538 - mean_squared_error: 355904.96 - ETA: 0s - loss: 357402.0621 - mean_squared_error: 357402.15 - ETA: 0s - loss: 357258.1297 - mean_squared_error: 357258.15 - ETA: 0s - loss: 355930.1080 - mean_squared_error: 355930.15 - ETA: 0s - loss: 354533.7877 - mean_squared_error: 354533.81 - ETA: 0s - loss: 353438.3477 - mean_squared_error: 353438.40 - ETA: 0s - loss: 353988.3651 - mean_squared_error: 353988.50 - ETA: 0s - loss: 355105.1249 - mean_squared_error: 355105.31 - ETA: 0s - loss: 355225.3938 - mean_squared_error: 355225.62 - ETA: 0s - loss: 355241.3321 - mean_squared_error: 355241.62 - ETA: 0s - loss: 354775.7295 - mean_squared_error: 354776.00 - 2s 62us/step - loss: 355388.2618 - mean_squared_error: 355388.5000\n",
      "Epoch 36/100\n",
      "39941/39941 [==============================] - ETA: 7s - loss: 406499.6250 - mean_squared_error: 406499.62 - ETA: 2s - loss: 417638.2762 - mean_squared_error: 417638.28 - ETA: 2s - loss: 379302.0849 - mean_squared_error: 379302.09 - ETA: 2s - loss: 385185.2081 - mean_squared_error: 385185.18 - ETA: 2s - loss: 373050.3636 - mean_squared_error: 373050.37 - ETA: 2s - loss: 368074.0750 - mean_squared_error: 368074.06 - ETA: 2s - loss: 370537.4984 - mean_squared_error: 370537.46 - ETA: 2s - loss: 354387.1460 - mean_squared_error: 354387.18 - ETA: 2s - loss: 349345.2774 - mean_squared_error: 349345.28 - ETA: 2s - loss: 337104.6392 - mean_squared_error: 337104.75 - ETA: 2s - loss: 332791.0694 - mean_squared_error: 332791.18 - ETA: 2s - loss: 334159.3207 - mean_squared_error: 334159.40 - ETA: 2s - loss: 334267.5262 - mean_squared_error: 334267.65 - ETA: 1s - loss: 342256.7533 - mean_squared_error: 342256.90 - ETA: 1s - loss: 341739.2060 - mean_squared_error: 341739.37 - ETA: 1s - loss: 341209.2325 - mean_squared_error: 341209.34 - ETA: 1s - loss: 346276.1245 - mean_squared_error: 346276.18 - ETA: 1s - loss: 349358.3444 - mean_squared_error: 349358.43 - ETA: 1s - loss: 347950.9943 - mean_squared_error: 347951.18 - ETA: 1s - loss: 348994.1701 - mean_squared_error: 348994.43 - ETA: 1s - loss: 350180.6763 - mean_squared_error: 350180.90 - ETA: 1s - loss: 351669.2173 - mean_squared_error: 351669.37 - ETA: 1s - loss: 351057.1331 - mean_squared_error: 351057.31 - ETA: 1s - loss: 353672.4990 - mean_squared_error: 353672.65 - ETA: 1s - loss: 354252.3810 - mean_squared_error: 354252.56 - ETA: 1s - loss: 355704.1022 - mean_squared_error: 355704.31 - ETA: 1s - loss: 361829.6575 - mean_squared_error: 361829.87 - ETA: 1s - loss: 360333.8743 - mean_squared_error: 360334.06 - ETA: 1s - loss: 358294.3005 - mean_squared_error: 358294.50 - ETA: 0s - loss: 357193.8845 - mean_squared_error: 357194.03 - ETA: 0s - loss: 356433.6902 - mean_squared_error: 356433.81 - ETA: 0s - loss: 355985.6979 - mean_squared_error: 355985.78 - ETA: 0s - loss: 357851.3142 - mean_squared_error: 357851.37 - ETA: 0s - loss: 357785.7565 - mean_squared_error: 357785.81 - ETA: 0s - loss: 355837.1096 - mean_squared_error: 355837.15 - ETA: 0s - loss: 355812.9056 - mean_squared_error: 355812.90 - ETA: 0s - loss: 355012.2066 - mean_squared_error: 355012.18 - ETA: 0s - loss: 353923.3082 - mean_squared_error: 353923.28 - ETA: 0s - loss: 353029.7571 - mean_squared_error: 353029.81 - ETA: 0s - loss: 352393.5370 - mean_squared_error: 352393.62 - ETA: 0s - loss: 350615.5322 - mean_squared_error: 350615.62 - ETA: 0s - loss: 351104.4254 - mean_squared_error: 351104.56 - ETA: 0s - loss: 351956.8779 - mean_squared_error: 351957.06 - ETA: 0s - loss: 351033.2826 - mean_squared_error: 351033.50 - ETA: 0s - loss: 351158.4355 - mean_squared_error: 351158.65 - ETA: 0s - loss: 352046.4627 - mean_squared_error: 352046.75 - ETA: 0s - loss: 352462.1597 - mean_squared_error: 352462.46 - ETA: 0s - loss: 352853.0183 - mean_squared_error: 352853.37 - ETA: 0s - loss: 352168.8074 - mean_squared_error: 352169.15 - 2s 61us/step - loss: 352555.1306 - mean_squared_error: 352555.5000\n",
      "Epoch 37/100\n"
     ]
    },
    {
     "name": "stdout",
     "output_type": "stream",
     "text": [
      "39941/39941 [==============================] - ETA: 5s - loss: 399727.3125 - mean_squared_error: 399727.31 - ETA: 2s - loss: 297822.4832 - mean_squared_error: 297822.46 - ETA: 2s - loss: 365225.6977 - mean_squared_error: 365225.65 - ETA: 2s - loss: 376170.6154 - mean_squared_error: 376170.59 - ETA: 2s - loss: 383311.2400 - mean_squared_error: 383311.25 - ETA: 2s - loss: 376381.9997 - mean_squared_error: 376382.09 - ETA: 2s - loss: 357690.0749 - mean_squared_error: 357690.15 - ETA: 2s - loss: 348027.1158 - mean_squared_error: 348027.12 - ETA: 2s - loss: 361088.5528 - mean_squared_error: 361088.53 - ETA: 2s - loss: 368927.4313 - mean_squared_error: 368927.50 - ETA: 2s - loss: 369985.3105 - mean_squared_error: 369985.34 - ETA: 2s - loss: 366920.3303 - mean_squared_error: 366920.34 - ETA: 1s - loss: 357702.8141 - mean_squared_error: 357702.93 - ETA: 1s - loss: 362495.9419 - mean_squared_error: 362496.06 - ETA: 1s - loss: 363250.4420 - mean_squared_error: 363250.53 - ETA: 1s - loss: 365217.0845 - mean_squared_error: 365217.15 - ETA: 1s - loss: 360346.2236 - mean_squared_error: 360346.28 - ETA: 1s - loss: 360477.7583 - mean_squared_error: 360477.81 - ETA: 1s - loss: 357386.2343 - mean_squared_error: 357386.28 - ETA: 1s - loss: 355006.0795 - mean_squared_error: 355006.09 - ETA: 1s - loss: 354071.6290 - mean_squared_error: 354071.68 - ETA: 1s - loss: 352176.7837 - mean_squared_error: 352176.81 - ETA: 1s - loss: 352462.7254 - mean_squared_error: 352462.71 - ETA: 1s - loss: 355241.3356 - mean_squared_error: 355241.34 - ETA: 1s - loss: 353145.8699 - mean_squared_error: 353145.84 - ETA: 1s - loss: 352948.2513 - mean_squared_error: 352948.25 - ETA: 1s - loss: 352632.4134 - mean_squared_error: 352632.46 - ETA: 1s - loss: 354654.3837 - mean_squared_error: 354654.40 - ETA: 1s - loss: 353488.2978 - mean_squared_error: 353488.37 - ETA: 1s - loss: 354432.5841 - mean_squared_error: 354432.62 - ETA: 1s - loss: 351809.3860 - mean_squared_error: 351809.40 - ETA: 0s - loss: 351213.9410 - mean_squared_error: 351213.90 - ETA: 0s - loss: 353689.2183 - mean_squared_error: 353689.21 - ETA: 0s - loss: 354700.0174 - mean_squared_error: 354700.00 - ETA: 0s - loss: 356837.5387 - mean_squared_error: 356837.43 - ETA: 0s - loss: 355009.5051 - mean_squared_error: 355009.43 - ETA: 0s - loss: 356863.5441 - mean_squared_error: 356863.43 - ETA: 0s - loss: 355926.3410 - mean_squared_error: 355926.18 - ETA: 0s - loss: 357047.4976 - mean_squared_error: 357047.43 - ETA: 0s - loss: 354367.2435 - mean_squared_error: 354367.25 - ETA: 0s - loss: 353274.2990 - mean_squared_error: 353274.31 - ETA: 0s - loss: 355809.5023 - mean_squared_error: 355809.56 - ETA: 0s - loss: 356781.0261 - mean_squared_error: 356781.09 - ETA: 0s - loss: 356385.4830 - mean_squared_error: 356385.46 - ETA: 0s - loss: 356068.9791 - mean_squared_error: 356068.96 - ETA: 0s - loss: 355131.6942 - mean_squared_error: 355131.68 - ETA: 0s - loss: 353783.8745 - mean_squared_error: 353783.90 - ETA: 0s - loss: 353218.3877 - mean_squared_error: 353218.40 - ETA: 0s - loss: 353568.0002 - mean_squared_error: 353567.93 - 2s 62us/step - loss: 352080.6861 - mean_squared_error: 352080.6250\n",
      "Epoch 38/100\n",
      "39941/39941 [==============================] - ETA: 5s - loss: 311226.1250 - mean_squared_error: 311226.12 - ETA: 2s - loss: 417096.7244 - mean_squared_error: 417096.75 - ETA: 2s - loss: 401303.2341 - mean_squared_error: 401303.25 - ETA: 2s - loss: 362735.9571 - mean_squared_error: 362736.00 - ETA: 2s - loss: 335496.6178 - mean_squared_error: 335496.65 - ETA: 2s - loss: 351396.8101 - mean_squared_error: 351396.84 - ETA: 2s - loss: 353071.7925 - mean_squared_error: 353071.81 - ETA: 2s - loss: 346777.3900 - mean_squared_error: 346777.37 - ETA: 2s - loss: 348522.7101 - mean_squared_error: 348522.68 - ETA: 2s - loss: 347000.2475 - mean_squared_error: 347000.18 - ETA: 2s - loss: 348139.4490 - mean_squared_error: 348139.50 - ETA: 2s - loss: 344404.1437 - mean_squared_error: 344404.25 - ETA: 2s - loss: 347545.6986 - mean_squared_error: 347545.78 - ETA: 2s - loss: 352223.6299 - mean_squared_error: 352223.65 - ETA: 2s - loss: 352642.0019 - mean_squared_error: 352642.00 - ETA: 2s - loss: 349238.7662 - mean_squared_error: 349238.71 - ETA: 1s - loss: 350589.3742 - mean_squared_error: 350589.31 - ETA: 1s - loss: 355391.9811 - mean_squared_error: 355391.96 - ETA: 1s - loss: 356198.6643 - mean_squared_error: 356198.56 - ETA: 1s - loss: 361995.9368 - mean_squared_error: 361995.90 - ETA: 1s - loss: 362706.5010 - mean_squared_error: 362706.50 - ETA: 1s - loss: 363972.5476 - mean_squared_error: 363972.56 - ETA: 1s - loss: 365577.8482 - mean_squared_error: 365577.93 - ETA: 1s - loss: 365005.9313 - mean_squared_error: 365005.93 - ETA: 1s - loss: 364003.3094 - mean_squared_error: 364003.34 - ETA: 1s - loss: 364314.5412 - mean_squared_error: 364314.56 - ETA: 1s - loss: 360575.9727 - mean_squared_error: 360575.93 - ETA: 1s - loss: 356744.6939 - mean_squared_error: 356744.62 - ETA: 1s - loss: 353740.4347 - mean_squared_error: 353740.34 - ETA: 1s - loss: 354847.3197 - mean_squared_error: 354847.21 - ETA: 1s - loss: 357973.3026 - mean_squared_error: 357973.21 - ETA: 1s - loss: 356192.8984 - mean_squared_error: 356192.84 - ETA: 0s - loss: 356277.9039 - mean_squared_error: 356277.87 - ETA: 0s - loss: 354499.5989 - mean_squared_error: 354499.53 - ETA: 0s - loss: 353203.1163 - mean_squared_error: 353202.96 - ETA: 0s - loss: 352078.3136 - mean_squared_error: 352078.09 - ETA: 0s - loss: 351514.5934 - mean_squared_error: 351514.34 - ETA: 0s - loss: 350322.2268 - mean_squared_error: 350322.03 - ETA: 0s - loss: 350074.0431 - mean_squared_error: 350073.87 - ETA: 0s - loss: 349511.9154 - mean_squared_error: 349511.84 - ETA: 0s - loss: 349563.7714 - mean_squared_error: 349563.68 - ETA: 0s - loss: 348744.7115 - mean_squared_error: 348744.71 - ETA: 0s - loss: 348617.2936 - mean_squared_error: 348617.31 - ETA: 0s - loss: 347974.2201 - mean_squared_error: 347974.12 - ETA: 0s - loss: 348606.0771 - mean_squared_error: 348606.00 - ETA: 0s - loss: 348025.9297 - mean_squared_error: 348025.90 - ETA: 0s - loss: 346279.8916 - mean_squared_error: 346279.84 - ETA: 0s - loss: 346073.3020 - mean_squared_error: 346073.21 - ETA: 0s - loss: 346441.9162 - mean_squared_error: 346441.87 - ETA: 0s - loss: 348253.0158 - mean_squared_error: 348252.90 - ETA: 0s - loss: 349926.3032 - mean_squared_error: 349926.28 - ETA: 0s - loss: 350484.4247 - mean_squared_error: 350484.34 - 3s 66us/step - loss: 349822.7004 - mean_squared_error: 349822.5938\n",
      "Epoch 39/100\n",
      "39941/39941 [==============================] - ETA: 6s - loss: 123777.0625 - mean_squared_error: 123777.06 - ETA: 2s - loss: 303353.7981 - mean_squared_error: 303353.78 - ETA: 2s - loss: 274380.0712 - mean_squared_error: 274380.06 - ETA: 2s - loss: 276495.7435 - mean_squared_error: 276495.75 - ETA: 2s - loss: 308493.5591 - mean_squared_error: 308493.53 - ETA: 2s - loss: 335083.0640 - mean_squared_error: 335083.06 - ETA: 2s - loss: 344669.2129 - mean_squared_error: 344669.21 - ETA: 2s - loss: 347540.6381 - mean_squared_error: 347540.62 - ETA: 2s - loss: 371486.7836 - mean_squared_error: 371486.78 - ETA: 2s - loss: 375862.6665 - mean_squared_error: 375862.65 - ETA: 2s - loss: 374653.2194 - mean_squared_error: 374653.21 - ETA: 1s - loss: 374196.9276 - mean_squared_error: 374197.00 - ETA: 1s - loss: 367729.9751 - mean_squared_error: 367730.03 - ETA: 1s - loss: 370771.7249 - mean_squared_error: 370771.78 - ETA: 1s - loss: 368322.7341 - mean_squared_error: 368322.75 - ETA: 1s - loss: 367088.3316 - mean_squared_error: 367088.37 - ETA: 1s - loss: 366997.6703 - mean_squared_error: 366997.81 - ETA: 1s - loss: 368796.6179 - mean_squared_error: 368796.78 - ETA: 1s - loss: 369469.3244 - mean_squared_error: 369469.46 - ETA: 1s - loss: 367897.7418 - mean_squared_error: 367897.93 - ETA: 1s - loss: 362683.6772 - mean_squared_error: 362683.87 - ETA: 1s - loss: 359841.0169 - mean_squared_error: 359841.25 - ETA: 1s - loss: 357804.1060 - mean_squared_error: 357804.40 - ETA: 1s - loss: 359167.9579 - mean_squared_error: 359168.31 - ETA: 1s - loss: 357271.8777 - mean_squared_error: 357272.18 - ETA: 1s - loss: 355193.6162 - mean_squared_error: 355193.96 - ETA: 1s - loss: 353687.1396 - mean_squared_error: 353687.53 - ETA: 1s - loss: 351636.0744 - mean_squared_error: 351636.46 - ETA: 1s - loss: 348783.5436 - mean_squared_error: 348783.90 - ETA: 0s - loss: 351253.9544 - mean_squared_error: 351254.31 - ETA: 0s - loss: 355312.8248 - mean_squared_error: 355313.15 - ETA: 0s - loss: 356695.9858 - mean_squared_error: 356696.31 - ETA: 0s - loss: 354963.6080 - mean_squared_error: 354963.96 - ETA: 0s - loss: 352916.7417 - mean_squared_error: 352917.03 - ETA: 0s - loss: 354804.8837 - mean_squared_error: 354805.12 - ETA: 0s - loss: 354286.8818 - mean_squared_error: 354286.96 - ETA: 0s - loss: 354323.9347 - mean_squared_error: 354324.00 - ETA: 0s - loss: 353789.1702 - mean_squared_error: 353789.28 - ETA: 0s - loss: 354722.5944 - mean_squared_error: 354722.75 - ETA: 0s - loss: 355519.7066 - mean_squared_error: 355519.87 - ETA: 0s - loss: 356539.9673 - mean_squared_error: 356540.09 - ETA: 0s - loss: 356036.9926 - mean_squared_error: 356037.15 - ETA: 0s - loss: 355547.8152 - mean_squared_error: 355548.03 - ETA: 0s - loss: 355731.6849 - mean_squared_error: 355731.81 - ETA: 0s - loss: 356041.1911 - mean_squared_error: 356041.40 - ETA: 0s - loss: 354003.2249 - mean_squared_error: 354003.37 - ETA: 0s - loss: 354040.0044 - mean_squared_error: 354040.06 - ETA: 0s - loss: 354971.7266 - mean_squared_error: 354971.84 - ETA: 0s - loss: 354974.5556 - mean_squared_error: 354974.71 - ETA: 0s - loss: 355479.2054 - mean_squared_error: 355479.34 - 3s 63us/step - loss: 355655.1990 - mean_squared_error: 355655.3750\n",
      "Epoch 40/100\n",
      "39941/39941 [==============================] - ETA: 6s - loss: 382862.6875 - mean_squared_error: 382862.68 - ETA: 2s - loss: 372031.6181 - mean_squared_error: 372031.59 - ETA: 2s - loss: 367811.8555 - mean_squared_error: 367811.87 - ETA: 2s - loss: 318795.3242 - mean_squared_error: 318795.37 - ETA: 2s - loss: 310084.2486 - mean_squared_error: 310084.28 - ETA: 2s - loss: 331162.5015 - mean_squared_error: 331162.53 - ETA: 2s - loss: 327769.9096 - mean_squared_error: 327769.93 - ETA: 2s - loss: 327043.0661 - mean_squared_error: 327043.09 - ETA: 2s - loss: 325037.7424 - mean_squared_error: 325037.78 - ETA: 2s - loss: 325159.6892 - mean_squared_error: 325159.68 - ETA: 1s - loss: 322670.9597 - mean_squared_error: 322670.93 - ETA: 1s - loss: 326194.4967 - mean_squared_error: 326194.50 - ETA: 1s - loss: 336720.2565 - mean_squared_error: 336720.25 - ETA: 1s - loss: 341516.5357 - mean_squared_error: 341516.56 - ETA: 1s - loss: 349238.6658 - mean_squared_error: 349238.62 - ETA: 1s - loss: 350057.1720 - mean_squared_error: 350057.12 - ETA: 1s - loss: 347638.9383 - mean_squared_error: 347638.87 - ETA: 1s - loss: 348860.7175 - mean_squared_error: 348860.68 - ETA: 1s - loss: 347572.6237 - mean_squared_error: 347572.59 - ETA: 1s - loss: 341916.4767 - mean_squared_error: 341916.50 - ETA: 1s - loss: 343082.3380 - mean_squared_error: 343082.37 - ETA: 1s - loss: 347732.8826 - mean_squared_error: 347732.90 - ETA: 1s - loss: 344316.9130 - mean_squared_error: 344316.87 - ETA: 1s - loss: 344280.7155 - mean_squared_error: 344280.65 - ETA: 1s - loss: 342697.2201 - mean_squared_error: 342697.21 - ETA: 1s - loss: 342070.7918 - mean_squared_error: 342070.84 - ETA: 1s - loss: 341397.4778 - mean_squared_error: 341397.56 - ETA: 1s - loss: 343278.3675 - mean_squared_error: 343278.43 - ETA: 1s - loss: 344024.0906 - mean_squared_error: 344024.15 - ETA: 1s - loss: 347831.7470 - mean_squared_error: 347831.78 - ETA: 0s - loss: 350010.8101 - mean_squared_error: 350010.87 - ETA: 0s - loss: 347910.6611 - mean_squared_error: 347910.62 - ETA: 0s - loss: 347433.6880 - mean_squared_error: 347433.65 - ETA: 0s - loss: 345798.5847 - mean_squared_error: 345798.62 - ETA: 0s - loss: 343914.7876 - mean_squared_error: 343914.87 - ETA: 0s - loss: 344094.3312 - mean_squared_error: 344094.37 - ETA: 0s - loss: 347533.5634 - mean_squared_error: 347533.68 - ETA: 0s - loss: 347961.9525 - mean_squared_error: 347962.15 - ETA: 0s - loss: 347021.3445 - mean_squared_error: 347021.59 - ETA: 0s - loss: 348384.8023 - mean_squared_error: 348385.06 - ETA: 0s - loss: 350570.7219 - mean_squared_error: 350570.93 - ETA: 0s - loss: 351805.5742 - mean_squared_error: 351805.81 - ETA: 0s - loss: 351988.4945 - mean_squared_error: 351988.78 - ETA: 0s - loss: 352018.3803 - mean_squared_error: 352018.62 - ETA: 0s - loss: 352764.8705 - mean_squared_error: 352765.12 - ETA: 0s - loss: 354694.7494 - mean_squared_error: 354694.96 - ETA: 0s - loss: 353384.9463 - mean_squared_error: 353385.15 - ETA: 0s - loss: 356137.9313 - mean_squared_error: 356138.09 - ETA: 0s - loss: 355137.1151 - mean_squared_error: 355137.34 - 2s 62us/step - loss: 355468.2158 - mean_squared_error: 355468.5000\n",
      "Epoch 41/100\n"
     ]
    },
    {
     "name": "stdout",
     "output_type": "stream",
     "text": [
      "39941/39941 [==============================] - ETA: 7s - loss: 352825.1250 - mean_squared_error: 352825.12 - ETA: 2s - loss: 350871.7486 - mean_squared_error: 350871.71 - ETA: 2s - loss: 349780.8444 - mean_squared_error: 349780.81 - ETA: 2s - loss: 383789.2707 - mean_squared_error: 383789.28 - ETA: 2s - loss: 365867.6728 - mean_squared_error: 365867.68 - ETA: 2s - loss: 377200.4701 - mean_squared_error: 377200.50 - ETA: 2s - loss: 386355.4136 - mean_squared_error: 386355.43 - ETA: 2s - loss: 377890.5863 - mean_squared_error: 377890.59 - ETA: 2s - loss: 378538.7701 - mean_squared_error: 378538.78 - ETA: 2s - loss: 375357.1659 - mean_squared_error: 375357.15 - ETA: 2s - loss: 371852.1919 - mean_squared_error: 371852.18 - ETA: 1s - loss: 367476.1342 - mean_squared_error: 367476.12 - ETA: 1s - loss: 365952.9832 - mean_squared_error: 365952.93 - ETA: 1s - loss: 361951.3801 - mean_squared_error: 361951.34 - ETA: 1s - loss: 361858.3720 - mean_squared_error: 361858.34 - ETA: 1s - loss: 358054.5045 - mean_squared_error: 358054.43 - ETA: 1s - loss: 364645.8505 - mean_squared_error: 364645.71 - ETA: 1s - loss: 366007.2194 - mean_squared_error: 366007.03 - ETA: 1s - loss: 360630.1349 - mean_squared_error: 360629.90 - ETA: 1s - loss: 357484.4213 - mean_squared_error: 357484.15 - ETA: 1s - loss: 358489.8587 - mean_squared_error: 358489.56 - ETA: 1s - loss: 355775.0351 - mean_squared_error: 355774.75 - ETA: 1s - loss: 355227.5277 - mean_squared_error: 355227.31 - ETA: 1s - loss: 354753.0843 - mean_squared_error: 354752.84 - ETA: 1s - loss: 354868.6452 - mean_squared_error: 354868.50 - ETA: 1s - loss: 354562.0108 - mean_squared_error: 354561.78 - ETA: 1s - loss: 355149.8230 - mean_squared_error: 355149.56 - ETA: 1s - loss: 356329.2290 - mean_squared_error: 356328.93 - ETA: 0s - loss: 353638.0449 - mean_squared_error: 353637.71 - ETA: 0s - loss: 351453.7724 - mean_squared_error: 351453.46 - ETA: 0s - loss: 353952.4525 - mean_squared_error: 353952.15 - ETA: 0s - loss: 351996.6888 - mean_squared_error: 351996.37 - ETA: 0s - loss: 352749.6132 - mean_squared_error: 352749.34 - ETA: 0s - loss: 352800.0506 - mean_squared_error: 352799.78 - ETA: 0s - loss: 354381.5521 - mean_squared_error: 354381.40 - ETA: 0s - loss: 354119.0351 - mean_squared_error: 354118.84 - ETA: 0s - loss: 354143.3660 - mean_squared_error: 354143.21 - ETA: 0s - loss: 353401.2445 - mean_squared_error: 353401.03 - ETA: 0s - loss: 353248.8118 - mean_squared_error: 353248.53 - ETA: 0s - loss: 353089.4563 - mean_squared_error: 353089.18 - ETA: 0s - loss: 354342.5887 - mean_squared_error: 354342.28 - ETA: 0s - loss: 352903.4540 - mean_squared_error: 352903.15 - ETA: 0s - loss: 352123.7538 - mean_squared_error: 352123.46 - ETA: 0s - loss: 349851.1814 - mean_squared_error: 349850.96 - ETA: 0s - loss: 348259.1121 - mean_squared_error: 348258.84 - ETA: 0s - loss: 348676.9553 - mean_squared_error: 348676.71 - ETA: 0s - loss: 347602.6004 - mean_squared_error: 347602.31 - ETA: 0s - loss: 347083.6377 - mean_squared_error: 347083.37 - 2s 60us/step - loss: 347174.6582 - mean_squared_error: 347174.3750\n",
      "Epoch 42/100\n",
      "39941/39941 [==============================] - ETA: 5s - loss: 144730.3594 - mean_squared_error: 144730.35 - ETA: 2s - loss: 362335.6722 - mean_squared_error: 362335.65 - ETA: 2s - loss: 382330.6376 - mean_squared_error: 382330.59 - ETA: 2s - loss: 386949.8047 - mean_squared_error: 386949.75 - ETA: 2s - loss: 392408.5600 - mean_squared_error: 392408.53 - ETA: 2s - loss: 380654.8185 - mean_squared_error: 380654.84 - ETA: 2s - loss: 363854.2899 - mean_squared_error: 363854.31 - ETA: 2s - loss: 359649.7693 - mean_squared_error: 359649.81 - ETA: 2s - loss: 358180.0579 - mean_squared_error: 358180.06 - ETA: 1s - loss: 353648.8273 - mean_squared_error: 353648.81 - ETA: 1s - loss: 353148.5959 - mean_squared_error: 353148.53 - ETA: 1s - loss: 352151.7876 - mean_squared_error: 352151.68 - ETA: 1s - loss: 345856.6795 - mean_squared_error: 345856.62 - ETA: 1s - loss: 344715.2379 - mean_squared_error: 344715.15 - ETA: 1s - loss: 342095.1491 - mean_squared_error: 342095.06 - ETA: 1s - loss: 334355.1052 - mean_squared_error: 334355.06 - ETA: 1s - loss: 334712.0420 - mean_squared_error: 334712.03 - ETA: 1s - loss: 337234.6006 - mean_squared_error: 337234.59 - ETA: 1s - loss: 337747.5083 - mean_squared_error: 337747.50 - ETA: 1s - loss: 336801.2135 - mean_squared_error: 336801.28 - ETA: 1s - loss: 337493.8445 - mean_squared_error: 337493.90 - ETA: 1s - loss: 335584.8980 - mean_squared_error: 335585.00 - ETA: 1s - loss: 337880.1428 - mean_squared_error: 337880.18 - ETA: 1s - loss: 333293.9743 - mean_squared_error: 333294.00 - ETA: 1s - loss: 332373.2150 - mean_squared_error: 332373.25 - ETA: 1s - loss: 334688.3827 - mean_squared_error: 334688.40 - ETA: 1s - loss: 333845.7323 - mean_squared_error: 333845.71 - ETA: 1s - loss: 335516.1822 - mean_squared_error: 335516.12 - ETA: 0s - loss: 340450.9341 - mean_squared_error: 340450.84 - ETA: 0s - loss: 340473.3840 - mean_squared_error: 340473.25 - ETA: 0s - loss: 340681.5390 - mean_squared_error: 340681.37 - ETA: 0s - loss: 342085.9409 - mean_squared_error: 342085.71 - ETA: 0s - loss: 343306.1943 - mean_squared_error: 343306.06 - ETA: 0s - loss: 345837.1560 - mean_squared_error: 345837.06 - ETA: 0s - loss: 347256.2772 - mean_squared_error: 347256.12 - ETA: 0s - loss: 345407.4890 - mean_squared_error: 345407.25 - ETA: 0s - loss: 346688.5212 - mean_squared_error: 346688.25 - ETA: 0s - loss: 345694.3320 - mean_squared_error: 345694.06 - ETA: 0s - loss: 347892.2708 - mean_squared_error: 347892.06 - ETA: 0s - loss: 348565.5851 - mean_squared_error: 348565.31 - ETA: 0s - loss: 348419.2708 - mean_squared_error: 348419.03 - ETA: 0s - loss: 348065.9866 - mean_squared_error: 348065.71 - ETA: 0s - loss: 347071.0000 - mean_squared_error: 347070.84 - ETA: 0s - loss: 349076.0439 - mean_squared_error: 349075.87 - ETA: 0s - loss: 348795.5711 - mean_squared_error: 348795.40 - ETA: 0s - loss: 348926.0969 - mean_squared_error: 348925.93 - ETA: 0s - loss: 348595.2439 - mean_squared_error: 348595.12 - 2s 60us/step - loss: 348410.1386 - mean_squared_error: 348410.0000\n",
      "Epoch 43/100\n",
      "39941/39941 [==============================] - ETA: 5s - loss: 459823.3438 - mean_squared_error: 459823.34 - ETA: 2s - loss: 305751.2332 - mean_squared_error: 305751.25 - ETA: 2s - loss: 289910.4772 - mean_squared_error: 289910.46 - ETA: 2s - loss: 322091.4958 - mean_squared_error: 322091.46 - ETA: 2s - loss: 310864.0999 - mean_squared_error: 310864.09 - ETA: 2s - loss: 309234.5439 - mean_squared_error: 309234.53 - ETA: 2s - loss: 329750.4833 - mean_squared_error: 329750.40 - ETA: 2s - loss: 342328.8013 - mean_squared_error: 342328.75 - ETA: 2s - loss: 342604.1377 - mean_squared_error: 342604.03 - ETA: 2s - loss: 341496.0157 - mean_squared_error: 341495.87 - ETA: 1s - loss: 337403.6580 - mean_squared_error: 337403.50 - ETA: 1s - loss: 345021.5354 - mean_squared_error: 345021.34 - ETA: 1s - loss: 343014.0967 - mean_squared_error: 343014.00 - ETA: 1s - loss: 340642.4708 - mean_squared_error: 340642.34 - ETA: 1s - loss: 339337.2730 - mean_squared_error: 339337.15 - ETA: 1s - loss: 336483.7146 - mean_squared_error: 336483.62 - ETA: 1s - loss: 343333.3165 - mean_squared_error: 343333.21 - ETA: 1s - loss: 342878.6964 - mean_squared_error: 342878.65 - ETA: 1s - loss: 344690.3207 - mean_squared_error: 344690.34 - ETA: 1s - loss: 346218.4338 - mean_squared_error: 346218.50 - ETA: 1s - loss: 342598.7678 - mean_squared_error: 342598.81 - ETA: 1s - loss: 343046.3851 - mean_squared_error: 343046.46 - ETA: 1s - loss: 342904.4330 - mean_squared_error: 342904.56 - ETA: 1s - loss: 342012.9574 - mean_squared_error: 342013.12 - ETA: 1s - loss: 344992.5582 - mean_squared_error: 344992.65 - ETA: 1s - loss: 345219.8084 - mean_squared_error: 345219.90 - ETA: 1s - loss: 343590.4024 - mean_squared_error: 343590.46 - ETA: 1s - loss: 342121.6782 - mean_squared_error: 342121.65 - ETA: 1s - loss: 342303.8489 - mean_squared_error: 342303.87 - ETA: 1s - loss: 340911.6759 - mean_squared_error: 340911.75 - ETA: 0s - loss: 338649.6988 - mean_squared_error: 338649.75 - ETA: 0s - loss: 338372.8562 - mean_squared_error: 338372.90 - ETA: 0s - loss: 339151.2230 - mean_squared_error: 339151.28 - ETA: 0s - loss: 338780.5960 - mean_squared_error: 338780.65 - ETA: 0s - loss: 340420.8307 - mean_squared_error: 340420.90 - ETA: 0s - loss: 339941.3866 - mean_squared_error: 339941.50 - ETA: 0s - loss: 339632.9479 - mean_squared_error: 339632.96 - ETA: 0s - loss: 340306.5629 - mean_squared_error: 340306.59 - ETA: 0s - loss: 340272.1895 - mean_squared_error: 340272.28 - ETA: 0s - loss: 339477.9226 - mean_squared_error: 339478.06 - ETA: 0s - loss: 340321.3558 - mean_squared_error: 340321.46 - ETA: 0s - loss: 341218.0686 - mean_squared_error: 341218.25 - ETA: 0s - loss: 343600.5618 - mean_squared_error: 343600.68 - ETA: 0s - loss: 342807.8284 - mean_squared_error: 342807.90 - ETA: 0s - loss: 343348.2868 - mean_squared_error: 343348.31 - ETA: 0s - loss: 344473.0959 - mean_squared_error: 344473.18 - ETA: 0s - loss: 343533.5255 - mean_squared_error: 343533.59 - ETA: 0s - loss: 344645.9151 - mean_squared_error: 344646.00 - ETA: 0s - loss: 344990.4731 - mean_squared_error: 344990.56 - 2s 63us/step - loss: 345210.6355 - mean_squared_error: 345210.7188\n",
      "Epoch 44/100\n",
      "39941/39941 [==============================] - ETA: 5s - loss: 376176.0625 - mean_squared_error: 376176.06 - ETA: 2s - loss: 424124.3093 - mean_squared_error: 424124.31 - ETA: 2s - loss: 364007.8532 - mean_squared_error: 364007.84 - ETA: 2s - loss: 374695.5614 - mean_squared_error: 374695.59 - ETA: 2s - loss: 392566.0028 - mean_squared_error: 392566.09 - ETA: 2s - loss: 377697.2138 - mean_squared_error: 377697.31 - ETA: 2s - loss: 371051.7652 - mean_squared_error: 371051.90 - ETA: 2s - loss: 367949.6662 - mean_squared_error: 367949.75 - ETA: 2s - loss: 361361.6280 - mean_squared_error: 361361.75 - ETA: 2s - loss: 358202.3744 - mean_squared_error: 358202.50 - ETA: 2s - loss: 344136.5920 - mean_squared_error: 344136.65 - ETA: 2s - loss: 338745.6144 - mean_squared_error: 338745.68 - ETA: 2s - loss: 332234.3049 - mean_squared_error: 332234.34 - ETA: 2s - loss: 334147.0150 - mean_squared_error: 334147.00 - ETA: 2s - loss: 337470.4211 - mean_squared_error: 337470.37 - ETA: 2s - loss: 333437.8470 - mean_squared_error: 333437.84 - ETA: 1s - loss: 330322.9331 - mean_squared_error: 330322.93 - ETA: 1s - loss: 331993.8610 - mean_squared_error: 331993.87 - ETA: 1s - loss: 334091.7769 - mean_squared_error: 334091.78 - ETA: 1s - loss: 334729.0005 - mean_squared_error: 334728.93 - ETA: 1s - loss: 334775.0050 - mean_squared_error: 334774.93 - ETA: 1s - loss: 338291.6303 - mean_squared_error: 338291.56 - ETA: 1s - loss: 336354.2224 - mean_squared_error: 336354.15 - ETA: 1s - loss: 336424.8786 - mean_squared_error: 336424.84 - ETA: 1s - loss: 335740.8240 - mean_squared_error: 335740.75 - ETA: 1s - loss: 335806.5331 - mean_squared_error: 335806.43 - ETA: 1s - loss: 334234.9219 - mean_squared_error: 334234.78 - ETA: 1s - loss: 337219.4617 - mean_squared_error: 337219.28 - ETA: 1s - loss: 338472.4848 - mean_squared_error: 338472.31 - ETA: 1s - loss: 339294.9690 - mean_squared_error: 339294.84 - ETA: 1s - loss: 337416.5096 - mean_squared_error: 337416.40 - ETA: 1s - loss: 336159.6297 - mean_squared_error: 336159.50 - ETA: 0s - loss: 335523.1587 - mean_squared_error: 335523.03 - ETA: 0s - loss: 336411.1598 - mean_squared_error: 336411.03 - ETA: 0s - loss: 336479.4519 - mean_squared_error: 336479.37 - ETA: 0s - loss: 338859.9669 - mean_squared_error: 338859.84 - ETA: 0s - loss: 339065.4539 - mean_squared_error: 339065.21 - ETA: 0s - loss: 337647.0358 - mean_squared_error: 337646.84 - ETA: 0s - loss: 338384.4753 - mean_squared_error: 338384.25 - ETA: 0s - loss: 338044.1573 - mean_squared_error: 338043.93 - ETA: 0s - loss: 337281.4666 - mean_squared_error: 337281.28 - ETA: 0s - loss: 336936.2849 - mean_squared_error: 336936.15 - ETA: 0s - loss: 337814.8709 - mean_squared_error: 337814.78 - ETA: 0s - loss: 336985.2063 - mean_squared_error: 336985.18 - ETA: 0s - loss: 338394.8103 - mean_squared_error: 338394.71 - ETA: 0s - loss: 340492.0858 - mean_squared_error: 340491.96 - ETA: 0s - loss: 343901.7218 - mean_squared_error: 343901.62 - ETA: 0s - loss: 343317.9686 - mean_squared_error: 343317.90 - ETA: 0s - loss: 343007.5325 - mean_squared_error: 343007.50 - ETA: 0s - loss: 343419.5762 - mean_squared_error: 343419.62 - 3s 63us/step - loss: 344111.9722 - mean_squared_error: 344112.0312\n",
      "Epoch 45/100\n"
     ]
    },
    {
     "name": "stdout",
     "output_type": "stream",
     "text": [
      "39941/39941 [==============================] - ETA: 3s - loss: 527582.8750 - mean_squared_error: 527582.87 - ETA: 2s - loss: 337925.7943 - mean_squared_error: 337925.81 - ETA: 2s - loss: 305530.7998 - mean_squared_error: 305530.75 - ETA: 2s - loss: 342375.2758 - mean_squared_error: 342375.31 - ETA: 2s - loss: 363374.7506 - mean_squared_error: 363374.87 - ETA: 2s - loss: 353694.8104 - mean_squared_error: 353694.90 - ETA: 2s - loss: 363320.5448 - mean_squared_error: 363320.62 - ETA: 2s - loss: 356676.2302 - mean_squared_error: 356676.28 - ETA: 2s - loss: 357375.6240 - mean_squared_error: 357375.71 - ETA: 2s - loss: 355343.3987 - mean_squared_error: 355343.50 - ETA: 2s - loss: 353944.8560 - mean_squared_error: 353944.90 - ETA: 2s - loss: 354365.2444 - mean_squared_error: 354365.25 - ETA: 1s - loss: 357328.4375 - mean_squared_error: 357328.43 - ETA: 1s - loss: 353627.5067 - mean_squared_error: 353627.50 - ETA: 1s - loss: 359706.1344 - mean_squared_error: 359706.15 - ETA: 1s - loss: 359968.1832 - mean_squared_error: 359968.09 - ETA: 1s - loss: 359470.2724 - mean_squared_error: 359470.18 - ETA: 1s - loss: 360369.8986 - mean_squared_error: 360369.78 - ETA: 1s - loss: 366352.7164 - mean_squared_error: 366352.56 - ETA: 1s - loss: 364480.6019 - mean_squared_error: 364480.43 - ETA: 1s - loss: 362934.9069 - mean_squared_error: 362934.75 - ETA: 1s - loss: 359799.9083 - mean_squared_error: 359799.75 - ETA: 1s - loss: 359746.2150 - mean_squared_error: 359746.06 - ETA: 1s - loss: 360203.3651 - mean_squared_error: 360203.25 - ETA: 1s - loss: 360820.6069 - mean_squared_error: 360820.43 - ETA: 1s - loss: 359363.5107 - mean_squared_error: 359363.34 - ETA: 1s - loss: 357333.7737 - mean_squared_error: 357333.62 - ETA: 1s - loss: 355308.2760 - mean_squared_error: 355308.09 - ETA: 1s - loss: 353494.6866 - mean_squared_error: 353494.46 - ETA: 1s - loss: 352357.0638 - mean_squared_error: 352356.81 - ETA: 1s - loss: 355028.4044 - mean_squared_error: 355028.18 - ETA: 1s - loss: 354581.4750 - mean_squared_error: 354581.28 - ETA: 1s - loss: 351556.9413 - mean_squared_error: 351556.71 - ETA: 0s - loss: 350307.0429 - mean_squared_error: 350306.87 - ETA: 0s - loss: 348888.6723 - mean_squared_error: 348888.46 - ETA: 0s - loss: 345267.3944 - mean_squared_error: 345267.18 - ETA: 0s - loss: 345776.0403 - mean_squared_error: 345775.84 - ETA: 0s - loss: 345999.0865 - mean_squared_error: 345998.93 - ETA: 0s - loss: 346448.3556 - mean_squared_error: 346448.15 - ETA: 0s - loss: 346737.0648 - mean_squared_error: 346736.90 - ETA: 0s - loss: 346668.8398 - mean_squared_error: 346668.65 - ETA: 0s - loss: 347412.9657 - mean_squared_error: 347412.87 - ETA: 0s - loss: 346372.8897 - mean_squared_error: 346372.75 - ETA: 0s - loss: 344863.7279 - mean_squared_error: 344863.56 - ETA: 0s - loss: 347195.5313 - mean_squared_error: 347195.37 - ETA: 0s - loss: 347491.3294 - mean_squared_error: 347491.21 - ETA: 0s - loss: 347005.3386 - mean_squared_error: 347005.21 - ETA: 0s - loss: 345697.5455 - mean_squared_error: 345697.46 - ETA: 0s - loss: 345385.8452 - mean_squared_error: 345385.75 - ETA: 0s - loss: 344860.0820 - mean_squared_error: 344860.06 - ETA: 0s - loss: 345782.8231 - mean_squared_error: 345782.78 - ETA: 0s - loss: 344885.6613 - mean_squared_error: 344885.59 - 3s 65us/step - loss: 344853.5351 - mean_squared_error: 344853.4688\n",
      "Epoch 46/100\n",
      "39941/39941 [==============================] - ETA: 5s - loss: 289053.4062 - mean_squared_error: 289053.40 - ETA: 3s - loss: 343496.4148 - mean_squared_error: 343496.43 - ETA: 2s - loss: 329013.9293 - mean_squared_error: 329013.93 - ETA: 2s - loss: 335985.4615 - mean_squared_error: 335985.53 - ETA: 2s - loss: 343781.2316 - mean_squared_error: 343781.28 - ETA: 2s - loss: 327662.2936 - mean_squared_error: 327662.40 - ETA: 2s - loss: 320428.5852 - mean_squared_error: 320428.71 - ETA: 2s - loss: 321310.8372 - mean_squared_error: 321310.90 - ETA: 2s - loss: 322006.8235 - mean_squared_error: 322006.93 - ETA: 2s - loss: 323882.9433 - mean_squared_error: 323883.03 - ETA: 2s - loss: 328435.6578 - mean_squared_error: 328435.68 - ETA: 2s - loss: 324913.9766 - mean_squared_error: 324913.93 - ETA: 2s - loss: 319169.7972 - mean_squared_error: 319169.75 - ETA: 2s - loss: 324347.2655 - mean_squared_error: 324347.25 - ETA: 2s - loss: 325978.2493 - mean_squared_error: 325978.18 - ETA: 1s - loss: 332994.2007 - mean_squared_error: 332994.15 - ETA: 1s - loss: 332750.2127 - mean_squared_error: 332750.12 - ETA: 1s - loss: 337890.0919 - mean_squared_error: 337890.03 - ETA: 1s - loss: 339838.4632 - mean_squared_error: 339838.46 - ETA: 1s - loss: 335342.7132 - mean_squared_error: 335342.68 - ETA: 1s - loss: 339184.1465 - mean_squared_error: 339184.09 - ETA: 1s - loss: 339874.8492 - mean_squared_error: 339874.78 - ETA: 1s - loss: 338380.7558 - mean_squared_error: 338380.65 - ETA: 1s - loss: 337596.2650 - mean_squared_error: 337596.09 - ETA: 1s - loss: 337506.7185 - mean_squared_error: 337506.53 - ETA: 1s - loss: 335827.5159 - mean_squared_error: 335827.28 - ETA: 1s - loss: 336470.6333 - mean_squared_error: 336470.43 - ETA: 1s - loss: 338391.1140 - mean_squared_error: 338390.93 - ETA: 1s - loss: 337610.5377 - mean_squared_error: 337610.37 - ETA: 1s - loss: 338987.4521 - mean_squared_error: 338987.31 - ETA: 1s - loss: 338790.1188 - mean_squared_error: 338789.96 - ETA: 1s - loss: 335775.0620 - mean_squared_error: 335774.93 - ETA: 0s - loss: 336801.8786 - mean_squared_error: 336801.71 - ETA: 0s - loss: 337378.6248 - mean_squared_error: 337378.46 - ETA: 0s - loss: 336558.6744 - mean_squared_error: 336558.40 - ETA: 0s - loss: 337654.8850 - mean_squared_error: 337654.62 - ETA: 0s - loss: 339276.3663 - mean_squared_error: 339276.15 - ETA: 0s - loss: 338487.3130 - mean_squared_error: 338487.12 - ETA: 0s - loss: 337511.1568 - mean_squared_error: 337510.93 - ETA: 0s - loss: 338114.1691 - mean_squared_error: 338113.96 - ETA: 0s - loss: 339239.9319 - mean_squared_error: 339239.68 - ETA: 0s - loss: 340036.6740 - mean_squared_error: 340036.43 - ETA: 0s - loss: 339894.3513 - mean_squared_error: 339894.18 - ETA: 0s - loss: 339937.4735 - mean_squared_error: 339937.40 - ETA: 0s - loss: 340761.4170 - mean_squared_error: 340761.28 - ETA: 0s - loss: 339594.9378 - mean_squared_error: 339594.75 - ETA: 0s - loss: 340355.2438 - mean_squared_error: 340355.03 - ETA: 0s - loss: 340239.5906 - mean_squared_error: 340239.40 - ETA: 0s - loss: 339929.3089 - mean_squared_error: 339929.12 - ETA: 0s - loss: 340900.1354 - mean_squared_error: 340899.93 - 3s 64us/step - loss: 341792.4214 - mean_squared_error: 341792.2500\n",
      "Epoch 47/100\n",
      "39941/39941 [==============================] - ETA: 3s - loss: 382739.6250 - mean_squared_error: 382739.62 - ETA: 2s - loss: 306488.3209 - mean_squared_error: 306488.37 - ETA: 2s - loss: 333060.2156 - mean_squared_error: 333060.25 - ETA: 2s - loss: 319678.3862 - mean_squared_error: 319678.46 - ETA: 2s - loss: 307738.3839 - mean_squared_error: 307738.46 - ETA: 2s - loss: 313044.8437 - mean_squared_error: 313044.93 - ETA: 2s - loss: 313636.3658 - mean_squared_error: 313636.40 - ETA: 2s - loss: 320085.1598 - mean_squared_error: 320085.18 - ETA: 2s - loss: 319411.4373 - mean_squared_error: 319411.46 - ETA: 2s - loss: 321766.1428 - mean_squared_error: 321766.15 - ETA: 2s - loss: 316729.0711 - mean_squared_error: 316729.03 - ETA: 1s - loss: 328476.6159 - mean_squared_error: 328476.59 - ETA: 1s - loss: 325315.2545 - mean_squared_error: 325315.28 - ETA: 1s - loss: 332963.3383 - mean_squared_error: 332963.34 - ETA: 1s - loss: 332317.6376 - mean_squared_error: 332317.62 - ETA: 1s - loss: 335262.7549 - mean_squared_error: 335262.71 - ETA: 1s - loss: 335202.2711 - mean_squared_error: 335202.25 - ETA: 1s - loss: 337046.4481 - mean_squared_error: 337046.50 - ETA: 1s - loss: 335023.4478 - mean_squared_error: 335023.40 - ETA: 1s - loss: 339903.0846 - mean_squared_error: 339903.09 - ETA: 1s - loss: 343815.1247 - mean_squared_error: 343815.09 - ETA: 1s - loss: 342381.0211 - mean_squared_error: 342380.96 - ETA: 1s - loss: 343589.3982 - mean_squared_error: 343589.31 - ETA: 1s - loss: 346482.2105 - mean_squared_error: 346482.09 - ETA: 1s - loss: 346131.6205 - mean_squared_error: 346131.53 - ETA: 1s - loss: 341724.1090 - mean_squared_error: 341724.03 - ETA: 1s - loss: 342648.9412 - mean_squared_error: 342648.90 - ETA: 1s - loss: 342631.5287 - mean_squared_error: 342631.50 - ETA: 1s - loss: 343646.8038 - mean_squared_error: 343646.75 - ETA: 0s - loss: 343755.6026 - mean_squared_error: 343755.56 - ETA: 0s - loss: 343642.7247 - mean_squared_error: 343642.68 - ETA: 0s - loss: 346029.9260 - mean_squared_error: 346029.96 - ETA: 0s - loss: 348032.4798 - mean_squared_error: 348032.59 - ETA: 0s - loss: 345983.7890 - mean_squared_error: 345983.87 - ETA: 0s - loss: 342863.9740 - mean_squared_error: 342864.12 - ETA: 0s - loss: 341325.4474 - mean_squared_error: 341325.56 - ETA: 0s - loss: 343009.8669 - mean_squared_error: 343010.03 - ETA: 0s - loss: 342971.6301 - mean_squared_error: 342971.81 - ETA: 0s - loss: 343872.6983 - mean_squared_error: 343872.84 - ETA: 0s - loss: 343828.8102 - mean_squared_error: 343828.93 - ETA: 0s - loss: 342333.0166 - mean_squared_error: 342333.15 - ETA: 0s - loss: 340362.4499 - mean_squared_error: 340362.62 - ETA: 0s - loss: 339260.7271 - mean_squared_error: 339260.87 - ETA: 0s - loss: 338103.8972 - mean_squared_error: 338104.06 - ETA: 0s - loss: 338224.6730 - mean_squared_error: 338224.87 - ETA: 0s - loss: 340226.3187 - mean_squared_error: 340226.50 - ETA: 0s - loss: 342565.3044 - mean_squared_error: 342565.43 - ETA: 0s - loss: 344873.4393 - mean_squared_error: 344873.65 - 2s 61us/step - loss: 344431.9441 - mean_squared_error: 344432.2188\n",
      "Epoch 48/100\n",
      "39941/39941 [==============================] - ETA: 5s - loss: 602254.7500 - mean_squared_error: 602254.75 - ETA: 2s - loss: 334328.0463 - mean_squared_error: 334328.06 - ETA: 2s - loss: 319582.8587 - mean_squared_error: 319582.81 - ETA: 2s - loss: 325550.0665 - mean_squared_error: 325550.06 - ETA: 2s - loss: 330519.9923 - mean_squared_error: 330519.90 - ETA: 2s - loss: 328612.4929 - mean_squared_error: 328612.40 - ETA: 2s - loss: 323944.9397 - mean_squared_error: 323944.87 - ETA: 2s - loss: 329647.9242 - mean_squared_error: 329647.93 - ETA: 2s - loss: 327230.5783 - mean_squared_error: 327230.59 - ETA: 2s - loss: 312004.6631 - mean_squared_error: 312004.65 - ETA: 2s - loss: 317081.8212 - mean_squared_error: 317081.81 - ETA: 1s - loss: 320059.8066 - mean_squared_error: 320059.87 - ETA: 1s - loss: 316069.4812 - mean_squared_error: 316069.53 - ETA: 2s - loss: 315761.2766 - mean_squared_error: 315761.28 - ETA: 2s - loss: 315099.8422 - mean_squared_error: 315099.87 - ETA: 1s - loss: 313891.1043 - mean_squared_error: 313891.18 - ETA: 1s - loss: 314367.0138 - mean_squared_error: 314367.09 - ETA: 1s - loss: 320450.4243 - mean_squared_error: 320450.53 - ETA: 1s - loss: 321169.1757 - mean_squared_error: 321169.18 - ETA: 1s - loss: 320839.5778 - mean_squared_error: 320839.59 - ETA: 1s - loss: 317768.6473 - mean_squared_error: 317768.62 - ETA: 1s - loss: 323225.2052 - mean_squared_error: 323225.18 - ETA: 1s - loss: 328209.6602 - mean_squared_error: 328209.65 - ETA: 1s - loss: 326655.1314 - mean_squared_error: 326655.06 - ETA: 1s - loss: 329810.1850 - mean_squared_error: 329810.09 - ETA: 1s - loss: 331061.7651 - mean_squared_error: 331061.68 - ETA: 1s - loss: 330139.8717 - mean_squared_error: 330139.75 - ETA: 1s - loss: 333467.3432 - mean_squared_error: 333467.21 - ETA: 1s - loss: 333081.1686 - mean_squared_error: 333081.09 - ETA: 1s - loss: 334034.0512 - mean_squared_error: 334034.00 - ETA: 1s - loss: 332901.0765 - mean_squared_error: 332901.00 - ETA: 1s - loss: 333669.1377 - mean_squared_error: 333669.09 - ETA: 0s - loss: 335002.0147 - mean_squared_error: 335001.96 - ETA: 0s - loss: 335135.1622 - mean_squared_error: 335135.12 - ETA: 0s - loss: 337553.5205 - mean_squared_error: 337553.46 - ETA: 0s - loss: 335228.2249 - mean_squared_error: 335228.21 - ETA: 0s - loss: 335425.4749 - mean_squared_error: 335425.50 - ETA: 0s - loss: 335580.9745 - mean_squared_error: 335580.96 - ETA: 0s - loss: 336527.5647 - mean_squared_error: 336527.56 - ETA: 0s - loss: 339121.6547 - mean_squared_error: 339121.68 - ETA: 0s - loss: 341860.3644 - mean_squared_error: 341860.37 - ETA: 0s - loss: 341075.4900 - mean_squared_error: 341075.56 - ETA: 0s - loss: 340566.2544 - mean_squared_error: 340566.37 - ETA: 0s - loss: 342617.2990 - mean_squared_error: 342617.43 - ETA: 0s - loss: 342716.9692 - mean_squared_error: 342717.12 - ETA: 0s - loss: 341279.7091 - mean_squared_error: 341279.78 - ETA: 0s - loss: 341761.5800 - mean_squared_error: 341761.68 - ETA: 0s - loss: 341547.4229 - mean_squared_error: 341547.46 - ETA: 0s - loss: 341033.0928 - mean_squared_error: 341033.15 - ETA: 0s - loss: 341335.5173 - mean_squared_error: 341335.53 - ETA: 0s - loss: 341102.6889 - mean_squared_error: 341102.71 - ETA: 0s - loss: 341077.6513 - mean_squared_error: 341077.68 - ETA: 0s - loss: 341527.1643 - mean_squared_error: 341527.18 - ETA: 0s - loss: 344341.1746 - mean_squared_error: 344341.21 - 3s 69us/step - loss: 343632.8518 - mean_squared_error: 343632.9062\n",
      "Epoch 49/100\n"
     ]
    },
    {
     "name": "stdout",
     "output_type": "stream",
     "text": [
      "39941/39941 [==============================] - ETA: 3s - loss: 259298.8438 - mean_squared_error: 259298.84 - ETA: 2s - loss: 394083.7419 - mean_squared_error: 394083.71 - ETA: 1s - loss: 374415.4337 - mean_squared_error: 374415.46 - ETA: 1s - loss: 353918.3181 - mean_squared_error: 353918.34 - ETA: 1s - loss: 363219.4554 - mean_squared_error: 363219.43 - ETA: 1s - loss: 347934.3222 - mean_squared_error: 347934.28 - ETA: 1s - loss: 337459.0863 - mean_squared_error: 337459.09 - ETA: 1s - loss: 342208.0911 - mean_squared_error: 342208.06 - ETA: 1s - loss: 328162.5546 - mean_squared_error: 328162.56 - ETA: 1s - loss: 322628.1228 - mean_squared_error: 322628.06 - ETA: 1s - loss: 319357.5209 - mean_squared_error: 319357.56 - ETA: 1s - loss: 320441.0877 - mean_squared_error: 320441.15 - ETA: 1s - loss: 314442.6398 - mean_squared_error: 314442.68 - ETA: 1s - loss: 313573.2455 - mean_squared_error: 313573.21 - ETA: 1s - loss: 312469.3381 - mean_squared_error: 312469.28 - ETA: 1s - loss: 315588.8167 - mean_squared_error: 315588.87 - ETA: 1s - loss: 317899.6935 - mean_squared_error: 317899.71 - ETA: 1s - loss: 320364.7527 - mean_squared_error: 320364.81 - ETA: 1s - loss: 322865.0944 - mean_squared_error: 322865.15 - ETA: 1s - loss: 328196.6171 - mean_squared_error: 328196.68 - ETA: 1s - loss: 332734.3115 - mean_squared_error: 332734.37 - ETA: 1s - loss: 333555.4853 - mean_squared_error: 333555.53 - ETA: 1s - loss: 331898.1073 - mean_squared_error: 331898.15 - ETA: 1s - loss: 331695.7627 - mean_squared_error: 331695.84 - ETA: 0s - loss: 330482.0748 - mean_squared_error: 330482.12 - ETA: 0s - loss: 331352.4381 - mean_squared_error: 331352.50 - ETA: 0s - loss: 333769.3266 - mean_squared_error: 333769.43 - ETA: 0s - loss: 335059.5401 - mean_squared_error: 335059.59 - ETA: 0s - loss: 339027.0443 - mean_squared_error: 339027.15 - ETA: 0s - loss: 339788.6452 - mean_squared_error: 339788.65 - ETA: 0s - loss: 340259.2268 - mean_squared_error: 340259.18 - ETA: 0s - loss: 340973.5191 - mean_squared_error: 340973.50 - ETA: 0s - loss: 341608.0080 - mean_squared_error: 341607.93 - ETA: 0s - loss: 339979.3217 - mean_squared_error: 339979.28 - ETA: 0s - loss: 342740.7134 - mean_squared_error: 342740.62 - ETA: 0s - loss: 342637.0147 - mean_squared_error: 342636.87 - ETA: 0s - loss: 343475.2243 - mean_squared_error: 343475.12 - ETA: 0s - loss: 343976.5105 - mean_squared_error: 343976.46 - ETA: 0s - loss: 344389.3097 - mean_squared_error: 344389.28 - ETA: 0s - loss: 344529.9823 - mean_squared_error: 344529.93 - ETA: 0s - loss: 343445.1569 - mean_squared_error: 343445.09 - ETA: 0s - loss: 344684.8961 - mean_squared_error: 344684.75 - ETA: 0s - loss: 344288.9492 - mean_squared_error: 344288.81 - 2s 54us/step - loss: 342735.0671 - mean_squared_error: 342734.9062\n",
      "Epoch 50/100\n",
      "39941/39941 [==============================] - ETA: 4s - loss: 156096.9062 - mean_squared_error: 156096.90 - ETA: 2s - loss: 293801.6428 - mean_squared_error: 293801.68 - ETA: 1s - loss: 333531.2691 - mean_squared_error: 333531.37 - ETA: 2s - loss: 390818.2344 - mean_squared_error: 390818.34 - ETA: 2s - loss: 368117.2687 - mean_squared_error: 368117.40 - ETA: 2s - loss: 359586.4482 - mean_squared_error: 359586.53 - ETA: 2s - loss: 356114.9644 - mean_squared_error: 356115.09 - ETA: 2s - loss: 359921.3595 - mean_squared_error: 359921.50 - ETA: 2s - loss: 364181.7234 - mean_squared_error: 364181.78 - ETA: 2s - loss: 360017.5933 - mean_squared_error: 360017.59 - ETA: 1s - loss: 355691.7327 - mean_squared_error: 355691.71 - ETA: 1s - loss: 351911.1238 - mean_squared_error: 351911.09 - ETA: 1s - loss: 352383.4764 - mean_squared_error: 352383.37 - ETA: 1s - loss: 347880.6197 - mean_squared_error: 347880.50 - ETA: 1s - loss: 354542.5309 - mean_squared_error: 354542.40 - ETA: 1s - loss: 353932.8358 - mean_squared_error: 353932.78 - ETA: 1s - loss: 355801.4113 - mean_squared_error: 355801.31 - ETA: 1s - loss: 350976.5407 - mean_squared_error: 350976.46 - ETA: 1s - loss: 348504.0884 - mean_squared_error: 348504.15 - ETA: 1s - loss: 349821.3176 - mean_squared_error: 349821.40 - ETA: 1s - loss: 350400.7004 - mean_squared_error: 350400.71 - ETA: 1s - loss: 347867.6711 - mean_squared_error: 347867.56 - ETA: 1s - loss: 344196.3603 - mean_squared_error: 344196.18 - ETA: 1s - loss: 341783.4903 - mean_squared_error: 341783.28 - ETA: 1s - loss: 341647.0587 - mean_squared_error: 341646.84 - ETA: 1s - loss: 337957.4802 - mean_squared_error: 337957.34 - ETA: 1s - loss: 340454.5656 - mean_squared_error: 340454.37 - ETA: 0s - loss: 339497.1606 - mean_squared_error: 339496.93 - ETA: 0s - loss: 338934.3287 - mean_squared_error: 338934.09 - ETA: 0s - loss: 337170.9875 - mean_squared_error: 337170.75 - ETA: 0s - loss: 336663.9893 - mean_squared_error: 336663.75 - ETA: 0s - loss: 340209.2103 - mean_squared_error: 340209.00 - ETA: 0s - loss: 345937.2126 - mean_squared_error: 345936.96 - ETA: 0s - loss: 344395.7345 - mean_squared_error: 344395.37 - ETA: 0s - loss: 343675.0589 - mean_squared_error: 343674.81 - ETA: 0s - loss: 343944.2158 - mean_squared_error: 343943.96 - ETA: 0s - loss: 343072.9376 - mean_squared_error: 343072.71 - ETA: 0s - loss: 342135.5605 - mean_squared_error: 342135.37 - ETA: 0s - loss: 342561.7155 - mean_squared_error: 342561.59 - ETA: 0s - loss: 341962.6188 - mean_squared_error: 341962.50 - ETA: 0s - loss: 340611.2326 - mean_squared_error: 340611.15 - ETA: 0s - loss: 340188.6148 - mean_squared_error: 340188.59 - ETA: 0s - loss: 340467.8429 - mean_squared_error: 340467.75 - ETA: 0s - loss: 339658.0701 - mean_squared_error: 339657.96 - ETA: 0s - loss: 339543.4420 - mean_squared_error: 339543.40 - ETA: 0s - loss: 339749.5306 - mean_squared_error: 339749.50 - 2s 59us/step - loss: 339903.2801 - mean_squared_error: 339903.2812\n",
      "Epoch 51/100\n",
      "39941/39941 [==============================] - ETA: 3s - loss: 334985.0625 - mean_squared_error: 334985.06 - ETA: 2s - loss: 468831.6725 - mean_squared_error: 468831.68 - ETA: 2s - loss: 386628.1574 - mean_squared_error: 386628.12 - ETA: 2s - loss: 350418.6883 - mean_squared_error: 350418.65 - ETA: 2s - loss: 343077.0176 - mean_squared_error: 343077.03 - ETA: 2s - loss: 316142.6781 - mean_squared_error: 316142.71 - ETA: 1s - loss: 346102.3684 - mean_squared_error: 346102.37 - ETA: 1s - loss: 345788.1607 - mean_squared_error: 345788.18 - ETA: 1s - loss: 341285.7575 - mean_squared_error: 341285.81 - ETA: 1s - loss: 341436.0689 - mean_squared_error: 341436.12 - ETA: 1s - loss: 341252.6675 - mean_squared_error: 341252.75 - ETA: 1s - loss: 339776.6815 - mean_squared_error: 339776.71 - ETA: 1s - loss: 344637.6863 - mean_squared_error: 344637.68 - ETA: 1s - loss: 341255.7437 - mean_squared_error: 341255.71 - ETA: 1s - loss: 344184.5229 - mean_squared_error: 344184.53 - ETA: 1s - loss: 338316.1606 - mean_squared_error: 338316.09 - ETA: 1s - loss: 334717.5362 - mean_squared_error: 334717.50 - ETA: 1s - loss: 332473.4058 - mean_squared_error: 332473.31 - ETA: 1s - loss: 337020.2341 - mean_squared_error: 337020.15 - ETA: 1s - loss: 340009.6888 - mean_squared_error: 340009.62 - ETA: 1s - loss: 341210.6268 - mean_squared_error: 341210.56 - ETA: 1s - loss: 338134.5124 - mean_squared_error: 338134.40 - ETA: 1s - loss: 339283.2635 - mean_squared_error: 339283.15 - ETA: 1s - loss: 337533.0008 - mean_squared_error: 337532.90 - ETA: 1s - loss: 333313.2965 - mean_squared_error: 333313.15 - ETA: 1s - loss: 333132.3940 - mean_squared_error: 333132.25 - ETA: 1s - loss: 332092.3755 - mean_squared_error: 332092.25 - ETA: 1s - loss: 332395.6899 - mean_squared_error: 332395.59 - ETA: 0s - loss: 332757.2395 - mean_squared_error: 332757.12 - ETA: 0s - loss: 330690.7158 - mean_squared_error: 330690.62 - ETA: 0s - loss: 329573.5766 - mean_squared_error: 329573.50 - ETA: 0s - loss: 327922.8795 - mean_squared_error: 327922.81 - ETA: 0s - loss: 330839.2656 - mean_squared_error: 330839.18 - ETA: 0s - loss: 329111.8118 - mean_squared_error: 329111.78 - ETA: 0s - loss: 330033.1827 - mean_squared_error: 330033.15 - ETA: 0s - loss: 333879.0270 - mean_squared_error: 333879.15 - ETA: 0s - loss: 337524.4848 - mean_squared_error: 337524.59 - ETA: 0s - loss: 338305.3073 - mean_squared_error: 338305.40 - ETA: 0s - loss: 341197.6524 - mean_squared_error: 341197.71 - ETA: 0s - loss: 343930.2984 - mean_squared_error: 343930.34 - ETA: 0s - loss: 342804.3678 - mean_squared_error: 342804.37 - ETA: 0s - loss: 344665.7178 - mean_squared_error: 344665.75 - ETA: 0s - loss: 345403.9283 - mean_squared_error: 345403.96 - ETA: 0s - loss: 346359.9312 - mean_squared_error: 346360.00 - ETA: 0s - loss: 345968.1385 - mean_squared_error: 345968.18 - 2s 57us/step - loss: 345301.6670 - mean_squared_error: 345301.7188\n",
      "Epoch 52/100\n",
      "39941/39941 [==============================] - ETA: 3s - loss: 237181.6094 - mean_squared_error: 237181.60 - ETA: 2s - loss: 295913.5518 - mean_squared_error: 295913.56 - ETA: 1s - loss: 309461.8506 - mean_squared_error: 309461.87 - ETA: 1s - loss: 318471.0377 - mean_squared_error: 318471.06 - ETA: 1s - loss: 334603.1872 - mean_squared_error: 334603.21 - ETA: 1s - loss: 327967.7216 - mean_squared_error: 327967.75 - ETA: 1s - loss: 333563.3139 - mean_squared_error: 333563.28 - ETA: 1s - loss: 338802.2065 - mean_squared_error: 338802.21 - ETA: 1s - loss: 340367.1099 - mean_squared_error: 340367.09 - ETA: 1s - loss: 328962.6695 - mean_squared_error: 328962.65 - ETA: 1s - loss: 327284.5773 - mean_squared_error: 327284.56 - ETA: 1s - loss: 331594.2094 - mean_squared_error: 331594.18 - ETA: 1s - loss: 333288.5888 - mean_squared_error: 333288.59 - ETA: 1s - loss: 334675.8528 - mean_squared_error: 334675.81 - ETA: 1s - loss: 336935.2072 - mean_squared_error: 336935.18 - ETA: 1s - loss: 337893.3353 - mean_squared_error: 337893.34 - ETA: 1s - loss: 339886.8873 - mean_squared_error: 339886.90 - ETA: 1s - loss: 338086.1716 - mean_squared_error: 338086.25 - ETA: 1s - loss: 337022.2465 - mean_squared_error: 337022.34 - ETA: 1s - loss: 339501.5091 - mean_squared_error: 339501.65 - ETA: 1s - loss: 338004.0383 - mean_squared_error: 338004.18 - ETA: 0s - loss: 336582.3086 - mean_squared_error: 336582.46 - ETA: 0s - loss: 335211.8658 - mean_squared_error: 335211.96 - ETA: 0s - loss: 338587.3833 - mean_squared_error: 338587.50 - ETA: 0s - loss: 341002.0544 - mean_squared_error: 341002.12 - ETA: 0s - loss: 338812.6979 - mean_squared_error: 338812.68 - ETA: 0s - loss: 339557.8166 - mean_squared_error: 339557.84 - ETA: 0s - loss: 339918.8434 - mean_squared_error: 339918.84 - ETA: 0s - loss: 339907.9484 - mean_squared_error: 339907.96 - ETA: 0s - loss: 338809.4001 - mean_squared_error: 338809.34 - ETA: 0s - loss: 339349.1859 - mean_squared_error: 339349.09 - ETA: 0s - loss: 338853.0530 - mean_squared_error: 338852.93 - ETA: 0s - loss: 340329.6499 - mean_squared_error: 340329.59 - ETA: 0s - loss: 339630.7430 - mean_squared_error: 339630.68 - ETA: 0s - loss: 339287.0791 - mean_squared_error: 339287.03 - ETA: 0s - loss: 338035.8272 - mean_squared_error: 338035.75 - ETA: 0s - loss: 337714.2641 - mean_squared_error: 337714.15 - ETA: 0s - loss: 337901.2835 - mean_squared_error: 337901.15 - ETA: 0s - loss: 339303.4118 - mean_squared_error: 339303.31 - ETA: 0s - loss: 338243.1609 - mean_squared_error: 338243.09 - ETA: 0s - loss: 336432.7669 - mean_squared_error: 336432.81 - ETA: 0s - loss: 338514.2937 - mean_squared_error: 338514.28 - ETA: 0s - loss: 337007.6963 - mean_squared_error: 337007.68 - 2s 55us/step - loss: 338206.1392 - mean_squared_error: 338206.0938\n",
      "Epoch 53/100\n"
     ]
    },
    {
     "name": "stdout",
     "output_type": "stream",
     "text": [
      "39941/39941 [==============================] - ETA: 4s - loss: 165933.6875 - mean_squared_error: 165933.68 - ETA: 1s - loss: 326271.0440 - mean_squared_error: 326271.03 - ETA: 1s - loss: 333475.9702 - mean_squared_error: 333475.96 - ETA: 1s - loss: 319527.3784 - mean_squared_error: 319527.34 - ETA: 1s - loss: 333939.6182 - mean_squared_error: 333939.68 - ETA: 1s - loss: 342631.7234 - mean_squared_error: 342631.75 - ETA: 1s - loss: 347489.3662 - mean_squared_error: 347489.34 - ETA: 1s - loss: 344219.5280 - mean_squared_error: 344219.53 - ETA: 1s - loss: 337062.3514 - mean_squared_error: 337062.31 - ETA: 1s - loss: 338905.2039 - mean_squared_error: 338905.15 - ETA: 1s - loss: 333789.3829 - mean_squared_error: 333789.31 - ETA: 1s - loss: 334149.2190 - mean_squared_error: 334149.12 - ETA: 1s - loss: 336008.6935 - mean_squared_error: 336008.59 - ETA: 1s - loss: 334963.6668 - mean_squared_error: 334963.59 - ETA: 1s - loss: 334544.8527 - mean_squared_error: 334544.81 - ETA: 1s - loss: 338107.8191 - mean_squared_error: 338107.75 - ETA: 1s - loss: 340330.7874 - mean_squared_error: 340330.78 - ETA: 1s - loss: 344857.3204 - mean_squared_error: 344857.31 - ETA: 1s - loss: 344994.4518 - mean_squared_error: 344994.50 - ETA: 1s - loss: 346371.5664 - mean_squared_error: 346371.59 - ETA: 1s - loss: 342271.1303 - mean_squared_error: 342271.21 - ETA: 0s - loss: 345035.0101 - mean_squared_error: 345035.12 - ETA: 0s - loss: 345927.6617 - mean_squared_error: 345927.81 - ETA: 0s - loss: 346370.6439 - mean_squared_error: 346370.78 - ETA: 0s - loss: 345671.6034 - mean_squared_error: 345671.75 - ETA: 0s - loss: 345007.9653 - mean_squared_error: 345008.06 - ETA: 0s - loss: 344129.5473 - mean_squared_error: 344129.65 - ETA: 0s - loss: 344286.6600 - mean_squared_error: 344286.78 - ETA: 0s - loss: 343832.5376 - mean_squared_error: 343832.65 - ETA: 0s - loss: 344683.5661 - mean_squared_error: 344683.65 - ETA: 0s - loss: 345498.6961 - mean_squared_error: 345498.87 - ETA: 0s - loss: 343609.9122 - mean_squared_error: 343610.06 - ETA: 0s - loss: 344440.1365 - mean_squared_error: 344440.25 - ETA: 0s - loss: 340709.8443 - mean_squared_error: 340710.06 - ETA: 0s - loss: 342103.8509 - mean_squared_error: 342104.06 - ETA: 0s - loss: 341515.4316 - mean_squared_error: 341515.68 - ETA: 0s - loss: 339548.5767 - mean_squared_error: 339548.81 - ETA: 0s - loss: 339128.6625 - mean_squared_error: 339128.90 - ETA: 0s - loss: 340159.1047 - mean_squared_error: 340159.31 - ETA: 0s - loss: 339484.1226 - mean_squared_error: 339484.40 - ETA: 0s - loss: 339123.1654 - mean_squared_error: 339123.50 - 2s 51us/step - loss: 338439.4851 - mean_squared_error: 338439.8125\n",
      "Epoch 54/100\n",
      "39941/39941 [==============================] - ETA: 4s - loss: 264716.1250 - mean_squared_error: 264716.12 - ETA: 2s - loss: 340742.3906 - mean_squared_error: 340742.43 - ETA: 1s - loss: 352610.8263 - mean_squared_error: 352610.78 - ETA: 1s - loss: 339722.9017 - mean_squared_error: 339722.87 - ETA: 1s - loss: 350657.7432 - mean_squared_error: 350657.75 - ETA: 1s - loss: 354873.8234 - mean_squared_error: 354873.78 - ETA: 1s - loss: 348032.2584 - mean_squared_error: 348032.18 - ETA: 1s - loss: 349176.5791 - mean_squared_error: 349176.53 - ETA: 1s - loss: 343789.5838 - mean_squared_error: 343789.43 - ETA: 1s - loss: 345993.2975 - mean_squared_error: 345993.15 - ETA: 1s - loss: 340842.2777 - mean_squared_error: 340842.21 - ETA: 1s - loss: 343774.4697 - mean_squared_error: 343774.43 - ETA: 1s - loss: 342558.3885 - mean_squared_error: 342558.34 - ETA: 1s - loss: 346669.9481 - mean_squared_error: 346669.87 - ETA: 1s - loss: 348088.9458 - mean_squared_error: 348088.81 - ETA: 1s - loss: 343634.5268 - mean_squared_error: 343634.31 - ETA: 1s - loss: 350116.7713 - mean_squared_error: 350116.53 - ETA: 1s - loss: 350108.3120 - mean_squared_error: 350108.03 - ETA: 1s - loss: 352260.7159 - mean_squared_error: 352260.43 - ETA: 1s - loss: 352074.7409 - mean_squared_error: 352074.40 - ETA: 1s - loss: 347499.2941 - mean_squared_error: 347499.00 - ETA: 1s - loss: 349478.5756 - mean_squared_error: 349478.25 - ETA: 0s - loss: 347592.6892 - mean_squared_error: 347592.40 - ETA: 0s - loss: 348597.3046 - mean_squared_error: 348597.03 - ETA: 0s - loss: 346691.8648 - mean_squared_error: 346691.65 - ETA: 0s - loss: 348146.7988 - mean_squared_error: 348146.59 - ETA: 0s - loss: 347732.1238 - mean_squared_error: 347731.96 - ETA: 0s - loss: 345709.1524 - mean_squared_error: 345709.00 - ETA: 0s - loss: 343060.6984 - mean_squared_error: 343060.56 - ETA: 0s - loss: 344174.2506 - mean_squared_error: 344174.09 - ETA: 0s - loss: 344581.6345 - mean_squared_error: 344581.53 - ETA: 0s - loss: 344440.1839 - mean_squared_error: 344440.09 - ETA: 0s - loss: 342356.4551 - mean_squared_error: 342356.37 - ETA: 0s - loss: 340017.4162 - mean_squared_error: 340017.28 - ETA: 0s - loss: 339566.3106 - mean_squared_error: 339566.25 - ETA: 0s - loss: 340347.2963 - mean_squared_error: 340347.12 - ETA: 0s - loss: 341865.3703 - mean_squared_error: 341865.18 - ETA: 0s - loss: 342018.9871 - mean_squared_error: 342018.81 - ETA: 0s - loss: 341029.7027 - mean_squared_error: 341029.53 - ETA: 0s - loss: 340487.4281 - mean_squared_error: 340487.25 - ETA: 0s - loss: 338468.2216 - mean_squared_error: 338467.96 - ETA: 0s - loss: 341452.6937 - mean_squared_error: 341452.50 - 2s 52us/step - loss: 341115.9757 - mean_squared_error: 341115.7812\n",
      "Epoch 55/100\n",
      "39941/39941 [==============================] - ETA: 4s - loss: 578937.3750 - mean_squared_error: 578937.37 - ETA: 2s - loss: 350334.2952 - mean_squared_error: 350334.28 - ETA: 1s - loss: 356085.4035 - mean_squared_error: 356085.34 - ETA: 1s - loss: 319309.6878 - mean_squared_error: 319309.68 - ETA: 1s - loss: 324939.2288 - mean_squared_error: 324939.25 - ETA: 1s - loss: 324668.7094 - mean_squared_error: 324668.65 - ETA: 1s - loss: 313782.4150 - mean_squared_error: 313782.40 - ETA: 1s - loss: 325504.3939 - mean_squared_error: 325504.31 - ETA: 1s - loss: 339144.9847 - mean_squared_error: 339144.93 - ETA: 1s - loss: 335142.7547 - mean_squared_error: 335142.65 - ETA: 1s - loss: 335148.8533 - mean_squared_error: 335148.75 - ETA: 1s - loss: 331927.2736 - mean_squared_error: 331927.09 - ETA: 1s - loss: 332654.9399 - mean_squared_error: 332654.78 - ETA: 1s - loss: 334452.3686 - mean_squared_error: 334452.25 - ETA: 1s - loss: 333324.0287 - mean_squared_error: 333323.75 - ETA: 1s - loss: 336118.7572 - mean_squared_error: 336118.43 - ETA: 1s - loss: 334682.0957 - mean_squared_error: 334681.81 - ETA: 1s - loss: 341271.7694 - mean_squared_error: 341271.53 - ETA: 1s - loss: 337764.1826 - mean_squared_error: 337764.03 - ETA: 1s - loss: 335819.5302 - mean_squared_error: 335819.31 - ETA: 1s - loss: 339207.9155 - mean_squared_error: 339207.68 - ETA: 0s - loss: 340380.5738 - mean_squared_error: 340380.28 - ETA: 0s - loss: 342464.0680 - mean_squared_error: 342463.68 - ETA: 0s - loss: 339951.8911 - mean_squared_error: 339951.50 - ETA: 0s - loss: 341130.3262 - mean_squared_error: 341129.90 - ETA: 0s - loss: 338355.9564 - mean_squared_error: 338355.53 - ETA: 0s - loss: 336166.2428 - mean_squared_error: 336165.81 - ETA: 0s - loss: 336367.8894 - mean_squared_error: 336367.46 - ETA: 0s - loss: 337829.5683 - mean_squared_error: 337829.18 - ETA: 0s - loss: 336981.6619 - mean_squared_error: 336981.25 - ETA: 0s - loss: 335117.1478 - mean_squared_error: 335116.75 - ETA: 0s - loss: 335530.6663 - mean_squared_error: 335530.31 - ETA: 0s - loss: 336186.2951 - mean_squared_error: 336185.90 - ETA: 0s - loss: 338022.6347 - mean_squared_error: 338022.18 - ETA: 0s - loss: 336942.6686 - mean_squared_error: 336942.18 - ETA: 0s - loss: 337378.6937 - mean_squared_error: 337378.28 - ETA: 0s - loss: 336600.1382 - mean_squared_error: 336599.75 - ETA: 0s - loss: 337595.9481 - mean_squared_error: 337595.59 - ETA: 0s - loss: 338208.4970 - mean_squared_error: 338208.18 - ETA: 0s - loss: 340170.2663 - mean_squared_error: 340169.93 - ETA: 0s - loss: 338601.9748 - mean_squared_error: 338601.56 - ETA: 0s - loss: 338094.9340 - mean_squared_error: 338094.53 - ETA: 0s - loss: 338857.8578 - mean_squared_error: 338857.43 - 2s 54us/step - loss: 338384.9201 - mean_squared_error: 338384.5312\n",
      "Epoch 56/100\n"
     ]
    },
    {
     "name": "stdout",
     "output_type": "stream",
     "text": [
      "39941/39941 [==============================] - ETA: 4s - loss: 392579.5000 - mean_squared_error: 392579.50 - ETA: 2s - loss: 282255.6837 - mean_squared_error: 282255.68 - ETA: 2s - loss: 285928.3374 - mean_squared_error: 285928.34 - ETA: 2s - loss: 289394.7112 - mean_squared_error: 289394.71 - ETA: 2s - loss: 299938.8114 - mean_squared_error: 299938.81 - ETA: 2s - loss: 315479.9325 - mean_squared_error: 315479.96 - ETA: 2s - loss: 321269.6365 - mean_squared_error: 321269.65 - ETA: 2s - loss: 333108.5990 - mean_squared_error: 333108.62 - ETA: 1s - loss: 343226.2000 - mean_squared_error: 343226.28 - ETA: 1s - loss: 337104.8272 - mean_squared_error: 337104.87 - ETA: 1s - loss: 335180.1028 - mean_squared_error: 335180.06 - ETA: 1s - loss: 328968.5215 - mean_squared_error: 328968.50 - ETA: 1s - loss: 329972.8248 - mean_squared_error: 329972.78 - ETA: 1s - loss: 332142.9043 - mean_squared_error: 332142.96 - ETA: 1s - loss: 327077.9076 - mean_squared_error: 327078.00 - ETA: 1s - loss: 333886.3776 - mean_squared_error: 333886.43 - ETA: 1s - loss: 336633.0615 - mean_squared_error: 336633.15 - ETA: 1s - loss: 333293.2290 - mean_squared_error: 333293.31 - ETA: 1s - loss: 331869.6989 - mean_squared_error: 331869.81 - ETA: 1s - loss: 336644.3660 - mean_squared_error: 336644.50 - ETA: 1s - loss: 336537.6905 - mean_squared_error: 336537.75 - ETA: 1s - loss: 338714.0396 - mean_squared_error: 338714.15 - ETA: 1s - loss: 343472.8058 - mean_squared_error: 343472.90 - ETA: 0s - loss: 344428.4953 - mean_squared_error: 344428.59 - ETA: 0s - loss: 349504.5188 - mean_squared_error: 349504.59 - ETA: 0s - loss: 349013.3277 - mean_squared_error: 349013.37 - ETA: 0s - loss: 347450.9005 - mean_squared_error: 347450.93 - ETA: 0s - loss: 348052.1034 - mean_squared_error: 348052.15 - ETA: 0s - loss: 353417.2333 - mean_squared_error: 353417.21 - ETA: 0s - loss: 350790.8331 - mean_squared_error: 350790.84 - ETA: 0s - loss: 351275.0664 - mean_squared_error: 351275.09 - ETA: 0s - loss: 351554.7365 - mean_squared_error: 351554.84 - ETA: 0s - loss: 348244.6481 - mean_squared_error: 348244.87 - ETA: 0s - loss: 346882.2687 - mean_squared_error: 346882.62 - ETA: 0s - loss: 346699.8147 - mean_squared_error: 346700.18 - ETA: 0s - loss: 345199.6385 - mean_squared_error: 345199.90 - ETA: 0s - loss: 344373.2510 - mean_squared_error: 344373.50 - ETA: 0s - loss: 343861.4264 - mean_squared_error: 343861.62 - ETA: 0s - loss: 343277.1381 - mean_squared_error: 343277.34 - ETA: 0s - loss: 343255.8529 - mean_squared_error: 343256.00 - ETA: 0s - loss: 343758.0724 - mean_squared_error: 343758.21 - ETA: 0s - loss: 343462.7774 - mean_squared_error: 343462.93 - ETA: 0s - loss: 342016.1986 - mean_squared_error: 342016.31 - 2s 54us/step - loss: 342030.9273 - mean_squared_error: 342031.0312\n",
      "Epoch 57/100\n",
      "39941/39941 [==============================] - ETA: 3s - loss: 178161.0469 - mean_squared_error: 178161.04 - ETA: 2s - loss: 370538.6881 - mean_squared_error: 370538.65 - ETA: 2s - loss: 346354.6170 - mean_squared_error: 346354.56 - ETA: 2s - loss: 339649.3051 - mean_squared_error: 339649.28 - ETA: 2s - loss: 337180.8707 - mean_squared_error: 337180.84 - ETA: 2s - loss: 346565.9453 - mean_squared_error: 346565.90 - ETA: 2s - loss: 359433.8216 - mean_squared_error: 359433.78 - ETA: 1s - loss: 360388.2631 - mean_squared_error: 360388.15 - ETA: 1s - loss: 349124.3108 - mean_squared_error: 349124.15 - ETA: 1s - loss: 349497.9587 - mean_squared_error: 349497.78 - ETA: 1s - loss: 344835.9690 - mean_squared_error: 344835.71 - ETA: 1s - loss: 342762.7369 - mean_squared_error: 342762.46 - ETA: 1s - loss: 340090.9199 - mean_squared_error: 340090.62 - ETA: 1s - loss: 334038.7023 - mean_squared_error: 334038.46 - ETA: 1s - loss: 328989.7590 - mean_squared_error: 328989.56 - ETA: 1s - loss: 326091.8348 - mean_squared_error: 326091.65 - ETA: 1s - loss: 325368.0290 - mean_squared_error: 325367.93 - ETA: 1s - loss: 328220.3611 - mean_squared_error: 328220.31 - ETA: 1s - loss: 326246.4472 - mean_squared_error: 326246.43 - ETA: 1s - loss: 328343.5692 - mean_squared_error: 328343.62 - ETA: 1s - loss: 326226.1200 - mean_squared_error: 326226.21 - ETA: 1s - loss: 324354.0383 - mean_squared_error: 324354.06 - ETA: 1s - loss: 322401.5281 - mean_squared_error: 322401.53 - ETA: 1s - loss: 325572.7487 - mean_squared_error: 325572.75 - ETA: 0s - loss: 325096.5380 - mean_squared_error: 325096.50 - ETA: 0s - loss: 323300.9137 - mean_squared_error: 323300.90 - ETA: 0s - loss: 320767.3952 - mean_squared_error: 320767.40 - ETA: 0s - loss: 319868.9923 - mean_squared_error: 319869.00 - ETA: 0s - loss: 319807.4466 - mean_squared_error: 319807.43 - ETA: 0s - loss: 322269.3404 - mean_squared_error: 322269.34 - ETA: 0s - loss: 325216.1230 - mean_squared_error: 325216.18 - ETA: 0s - loss: 323747.3505 - mean_squared_error: 323747.37 - ETA: 0s - loss: 325325.7904 - mean_squared_error: 325325.93 - ETA: 0s - loss: 326130.5052 - mean_squared_error: 326130.68 - ETA: 0s - loss: 326558.0989 - mean_squared_error: 326558.18 - ETA: 0s - loss: 327719.9263 - mean_squared_error: 327719.96 - ETA: 0s - loss: 329551.7412 - mean_squared_error: 329551.84 - ETA: 0s - loss: 330749.0567 - mean_squared_error: 330749.15 - ETA: 0s - loss: 332380.0571 - mean_squared_error: 332380.15 - ETA: 0s - loss: 334602.1181 - mean_squared_error: 334602.25 - ETA: 0s - loss: 338973.7463 - mean_squared_error: 338973.87 - ETA: 0s - loss: 340008.2442 - mean_squared_error: 340008.34 - 2s 53us/step - loss: 338694.9690 - mean_squared_error: 338695.0938\n",
      "Epoch 58/100\n",
      "39941/39941 [==============================] - ETA: 5s - loss: 133522.1719 - mean_squared_error: 133522.17 - ETA: 2s - loss: 291080.0199 - mean_squared_error: 291080.00 - ETA: 1s - loss: 318311.7739 - mean_squared_error: 318311.71 - ETA: 1s - loss: 326956.0507 - mean_squared_error: 326956.03 - ETA: 1s - loss: 338134.3969 - mean_squared_error: 338134.34 - ETA: 1s - loss: 325973.3121 - mean_squared_error: 325973.25 - ETA: 1s - loss: 331732.6703 - mean_squared_error: 331732.62 - ETA: 1s - loss: 341974.0366 - mean_squared_error: 341973.96 - ETA: 1s - loss: 335129.6215 - mean_squared_error: 335129.56 - ETA: 1s - loss: 334510.2480 - mean_squared_error: 334510.18 - ETA: 1s - loss: 343646.1605 - mean_squared_error: 343646.03 - ETA: 1s - loss: 342677.7790 - mean_squared_error: 342677.65 - ETA: 1s - loss: 340070.2020 - mean_squared_error: 340070.15 - ETA: 1s - loss: 335602.4830 - mean_squared_error: 335602.43 - ETA: 1s - loss: 336060.8598 - mean_squared_error: 336060.75 - ETA: 1s - loss: 332357.6605 - mean_squared_error: 332357.53 - ETA: 1s - loss: 333328.0450 - mean_squared_error: 333327.93 - ETA: 1s - loss: 332284.1650 - mean_squared_error: 332284.03 - ETA: 1s - loss: 332227.9963 - mean_squared_error: 332227.84 - ETA: 1s - loss: 333620.9447 - mean_squared_error: 333620.71 - ETA: 1s - loss: 328619.9250 - mean_squared_error: 328619.68 - ETA: 1s - loss: 326007.6222 - mean_squared_error: 326007.34 - ETA: 1s - loss: 328573.4664 - mean_squared_error: 328573.18 - ETA: 0s - loss: 330719.5760 - mean_squared_error: 330719.28 - ETA: 0s - loss: 328725.7693 - mean_squared_error: 328725.50 - ETA: 0s - loss: 330921.9526 - mean_squared_error: 330921.68 - ETA: 0s - loss: 335054.0214 - mean_squared_error: 335053.78 - ETA: 0s - loss: 336400.8103 - mean_squared_error: 336400.56 - ETA: 0s - loss: 335587.4468 - mean_squared_error: 335587.25 - ETA: 0s - loss: 335386.3142 - mean_squared_error: 335386.15 - ETA: 0s - loss: 334219.1776 - mean_squared_error: 334219.03 - ETA: 0s - loss: 336714.8289 - mean_squared_error: 336714.65 - ETA: 0s - loss: 334522.8383 - mean_squared_error: 334522.68 - ETA: 0s - loss: 336737.3555 - mean_squared_error: 336737.18 - ETA: 0s - loss: 336544.7522 - mean_squared_error: 336544.56 - ETA: 0s - loss: 334785.0297 - mean_squared_error: 334784.81 - ETA: 0s - loss: 334586.1357 - mean_squared_error: 334585.96 - ETA: 0s - loss: 334768.9912 - mean_squared_error: 334768.84 - ETA: 0s - loss: 334963.6117 - mean_squared_error: 334963.43 - ETA: 0s - loss: 335255.2105 - mean_squared_error: 335254.96 - ETA: 0s - loss: 335084.4010 - mean_squared_error: 335084.12 - ETA: 0s - loss: 335097.6858 - mean_squared_error: 335097.43 - ETA: 0s - loss: 334617.9655 - mean_squared_error: 334617.71 - ETA: 0s - loss: 336068.0947 - mean_squared_error: 336067.81 - ETA: 0s - loss: 334895.7802 - mean_squared_error: 334895.50 - 2s 57us/step - loss: 335471.2309 - mean_squared_error: 335470.8750\n",
      "Epoch 59/100\n",
      "39941/39941 [==============================] - ETA: 3s - loss: 814057.6250 - mean_squared_error: 814057.62 - ETA: 2s - loss: 304584.4097 - mean_squared_error: 304584.43 - ETA: 1s - loss: 306113.4002 - mean_squared_error: 306113.40 - ETA: 1s - loss: 308143.5243 - mean_squared_error: 308143.50 - ETA: 1s - loss: 335953.9971 - mean_squared_error: 335953.96 - ETA: 1s - loss: 330826.5225 - mean_squared_error: 330826.53 - ETA: 1s - loss: 338070.1800 - mean_squared_error: 338070.18 - ETA: 1s - loss: 333518.5499 - mean_squared_error: 333518.59 - ETA: 1s - loss: 323757.0331 - mean_squared_error: 323757.09 - ETA: 1s - loss: 318124.7516 - mean_squared_error: 318124.81 - ETA: 1s - loss: 325265.2418 - mean_squared_error: 325265.28 - ETA: 1s - loss: 323614.2803 - mean_squared_error: 323614.28 - ETA: 1s - loss: 324109.3312 - mean_squared_error: 324109.34 - ETA: 1s - loss: 327243.8497 - mean_squared_error: 327243.84 - ETA: 1s - loss: 328390.4776 - mean_squared_error: 328390.43 - ETA: 1s - loss: 330680.7632 - mean_squared_error: 330680.75 - ETA: 1s - loss: 331012.4291 - mean_squared_error: 331012.43 - ETA: 1s - loss: 330147.4937 - mean_squared_error: 330147.50 - ETA: 1s - loss: 333738.4219 - mean_squared_error: 333738.46 - ETA: 1s - loss: 341197.5809 - mean_squared_error: 341197.59 - ETA: 1s - loss: 340470.7308 - mean_squared_error: 340470.68 - ETA: 1s - loss: 340855.6189 - mean_squared_error: 340855.59 - ETA: 1s - loss: 343941.8819 - mean_squared_error: 343941.87 - ETA: 1s - loss: 341406.1319 - mean_squared_error: 341406.09 - ETA: 1s - loss: 342284.8062 - mean_squared_error: 342284.75 - ETA: 0s - loss: 341455.9162 - mean_squared_error: 341455.93 - ETA: 0s - loss: 343860.1418 - mean_squared_error: 343860.15 - ETA: 0s - loss: 342261.9810 - mean_squared_error: 342262.03 - ETA: 0s - loss: 342065.3672 - mean_squared_error: 342065.43 - ETA: 0s - loss: 338879.6290 - mean_squared_error: 338879.68 - ETA: 0s - loss: 339980.3427 - mean_squared_error: 339980.25 - ETA: 0s - loss: 339161.0586 - mean_squared_error: 339160.87 - ETA: 0s - loss: 339731.2448 - mean_squared_error: 339731.12 - ETA: 0s - loss: 339020.5200 - mean_squared_error: 339020.40 - ETA: 0s - loss: 337262.7198 - mean_squared_error: 337262.56 - ETA: 0s - loss: 338154.0194 - mean_squared_error: 338153.84 - ETA: 0s - loss: 338753.3282 - mean_squared_error: 338753.15 - ETA: 0s - loss: 338772.7899 - mean_squared_error: 338772.65 - ETA: 0s - loss: 337564.1970 - mean_squared_error: 337564.00 - ETA: 0s - loss: 337529.9276 - mean_squared_error: 337529.78 - ETA: 0s - loss: 338964.6334 - mean_squared_error: 338964.46 - ETA: 0s - loss: 338457.6627 - mean_squared_error: 338457.50 - ETA: 0s - loss: 338664.1231 - mean_squared_error: 338663.96 - ETA: 0s - loss: 338516.1071 - mean_squared_error: 338515.96 - 2s 56us/step - loss: 338999.7890 - mean_squared_error: 338999.6250\n",
      "Epoch 60/100\n"
     ]
    },
    {
     "name": "stdout",
     "output_type": "stream",
     "text": [
      "39941/39941 [==============================] - ETA: 5s - loss: 98926.9141 - mean_squared_error: 98926.91 - ETA: 1s - loss: 289771.4439 - mean_squared_error: 289771.40 - ETA: 1s - loss: 299872.4806 - mean_squared_error: 299872.46 - ETA: 1s - loss: 280624.3708 - mean_squared_error: 280624.37 - ETA: 1s - loss: 315946.3290 - mean_squared_error: 315946.34 - ETA: 1s - loss: 320801.6277 - mean_squared_error: 320801.62 - ETA: 1s - loss: 314783.1036 - mean_squared_error: 314783.03 - ETA: 1s - loss: 323827.2253 - mean_squared_error: 323827.21 - ETA: 1s - loss: 317890.4426 - mean_squared_error: 317890.40 - ETA: 1s - loss: 327426.4045 - mean_squared_error: 327426.37 - ETA: 1s - loss: 326661.0932 - mean_squared_error: 326661.03 - ETA: 1s - loss: 325048.1464 - mean_squared_error: 325048.09 - ETA: 1s - loss: 328423.6157 - mean_squared_error: 328423.53 - ETA: 1s - loss: 328758.5804 - mean_squared_error: 328758.56 - ETA: 1s - loss: 332205.0488 - mean_squared_error: 332205.00 - ETA: 1s - loss: 329436.4421 - mean_squared_error: 329436.40 - ETA: 1s - loss: 327824.1665 - mean_squared_error: 327824.12 - ETA: 1s - loss: 329125.1592 - mean_squared_error: 329125.15 - ETA: 1s - loss: 327807.2756 - mean_squared_error: 327807.31 - ETA: 1s - loss: 328301.6751 - mean_squared_error: 328301.71 - ETA: 1s - loss: 328170.1576 - mean_squared_error: 328170.15 - ETA: 1s - loss: 325623.0429 - mean_squared_error: 325623.06 - ETA: 1s - loss: 324772.4328 - mean_squared_error: 324772.40 - ETA: 1s - loss: 324164.0353 - mean_squared_error: 324164.06 - ETA: 1s - loss: 322730.0084 - mean_squared_error: 322730.00 - ETA: 0s - loss: 319771.5663 - mean_squared_error: 319771.59 - ETA: 0s - loss: 321910.1948 - mean_squared_error: 321910.21 - ETA: 0s - loss: 323842.6704 - mean_squared_error: 323842.65 - ETA: 0s - loss: 325010.5419 - mean_squared_error: 325010.53 - ETA: 0s - loss: 328437.0796 - mean_squared_error: 328437.12 - ETA: 0s - loss: 330056.0801 - mean_squared_error: 330056.06 - ETA: 0s - loss: 330790.5728 - mean_squared_error: 330790.59 - ETA: 0s - loss: 332523.2722 - mean_squared_error: 332523.31 - ETA: 0s - loss: 330522.8006 - mean_squared_error: 330522.84 - ETA: 0s - loss: 330370.5416 - mean_squared_error: 330370.53 - ETA: 0s - loss: 331353.6227 - mean_squared_error: 331353.71 - ETA: 0s - loss: 331356.2163 - mean_squared_error: 331356.28 - ETA: 0s - loss: 332737.2112 - mean_squared_error: 332737.31 - ETA: 0s - loss: 336109.0348 - mean_squared_error: 336109.09 - ETA: 0s - loss: 336005.1266 - mean_squared_error: 336005.25 - ETA: 0s - loss: 335946.4550 - mean_squared_error: 335946.40 - ETA: 0s - loss: 336348.1445 - mean_squared_error: 336348.09 - ETA: 0s - loss: 335257.6800 - mean_squared_error: 335257.62 - 2s 54us/step - loss: 335223.5133 - mean_squared_error: 335223.4375\n",
      "Epoch 61/100\n",
      "39941/39941 [==============================] - ETA: 5s - loss: 190592.0938 - mean_squared_error: 190592.09 - ETA: 2s - loss: 263378.9434 - mean_squared_error: 263378.96 - ETA: 2s - loss: 266664.1386 - mean_squared_error: 266664.15 - ETA: 1s - loss: 294550.1124 - mean_squared_error: 294550.09 - ETA: 1s - loss: 316085.8074 - mean_squared_error: 316085.81 - ETA: 1s - loss: 305187.5813 - mean_squared_error: 305187.53 - ETA: 1s - loss: 323879.0857 - mean_squared_error: 323879.03 - ETA: 1s - loss: 315673.0628 - mean_squared_error: 315673.03 - ETA: 1s - loss: 323880.6692 - mean_squared_error: 323880.75 - ETA: 1s - loss: 324398.7604 - mean_squared_error: 324398.84 - ETA: 1s - loss: 331714.6921 - mean_squared_error: 331714.75 - ETA: 1s - loss: 336822.9843 - mean_squared_error: 336823.03 - ETA: 1s - loss: 335600.4876 - mean_squared_error: 335600.53 - ETA: 1s - loss: 331221.9512 - mean_squared_error: 331221.96 - ETA: 1s - loss: 328394.4732 - mean_squared_error: 328394.50 - ETA: 1s - loss: 330168.7460 - mean_squared_error: 330168.81 - ETA: 1s - loss: 327951.0758 - mean_squared_error: 327951.18 - ETA: 1s - loss: 324449.6915 - mean_squared_error: 324449.75 - ETA: 1s - loss: 321275.4738 - mean_squared_error: 321275.56 - ETA: 1s - loss: 322576.5733 - mean_squared_error: 322576.68 - ETA: 1s - loss: 322747.6028 - mean_squared_error: 322747.65 - ETA: 0s - loss: 322272.9572 - mean_squared_error: 322273.00 - ETA: 0s - loss: 323940.3007 - mean_squared_error: 323940.37 - ETA: 0s - loss: 323118.8691 - mean_squared_error: 323118.90 - ETA: 0s - loss: 322537.3780 - mean_squared_error: 322537.43 - ETA: 0s - loss: 323041.8814 - mean_squared_error: 323041.93 - ETA: 0s - loss: 324560.7202 - mean_squared_error: 324560.78 - ETA: 0s - loss: 323663.0707 - mean_squared_error: 323663.12 - ETA: 0s - loss: 322674.0636 - mean_squared_error: 322674.12 - ETA: 0s - loss: 325711.4734 - mean_squared_error: 325711.56 - ETA: 0s - loss: 326968.8643 - mean_squared_error: 326968.81 - ETA: 0s - loss: 331756.4894 - mean_squared_error: 331756.40 - ETA: 0s - loss: 331673.3731 - mean_squared_error: 331673.25 - ETA: 0s - loss: 330904.2839 - mean_squared_error: 330904.15 - ETA: 0s - loss: 332342.2392 - mean_squared_error: 332342.12 - ETA: 0s - loss: 333684.1854 - mean_squared_error: 333684.00 - ETA: 0s - loss: 334621.0136 - mean_squared_error: 334620.84 - ETA: 0s - loss: 334273.6149 - mean_squared_error: 334273.46 - ETA: 0s - loss: 335872.3392 - mean_squared_error: 335872.21 - ETA: 0s - loss: 335076.3710 - mean_squared_error: 335076.21 - ETA: 0s - loss: 333380.3855 - mean_squared_error: 333380.21 - ETA: 0s - loss: 335584.0153 - mean_squared_error: 335583.87 - 2s 53us/step - loss: 335824.0496 - mean_squared_error: 335823.9375\n",
      "Epoch 62/100\n",
      "39941/39941 [==============================] - ETA: 5s - loss: 393553.1875 - mean_squared_error: 393553.18 - ETA: 2s - loss: 420637.0971 - mean_squared_error: 420637.06 - ETA: 2s - loss: 359565.9185 - mean_squared_error: 359565.90 - ETA: 2s - loss: 368606.9044 - mean_squared_error: 368606.90 - ETA: 2s - loss: 343426.9566 - mean_squared_error: 343427.00 - ETA: 2s - loss: 339145.8544 - mean_squared_error: 339145.78 - ETA: 2s - loss: 333318.1447 - mean_squared_error: 333318.09 - ETA: 1s - loss: 336861.9801 - mean_squared_error: 336861.93 - ETA: 1s - loss: 348356.5449 - mean_squared_error: 348356.50 - ETA: 1s - loss: 346958.9815 - mean_squared_error: 346958.90 - ETA: 1s - loss: 343265.2997 - mean_squared_error: 343265.25 - ETA: 1s - loss: 346806.8184 - mean_squared_error: 346806.71 - ETA: 1s - loss: 351484.2608 - mean_squared_error: 351484.15 - ETA: 1s - loss: 351010.6258 - mean_squared_error: 351010.46 - ETA: 1s - loss: 355825.5178 - mean_squared_error: 355825.40 - ETA: 1s - loss: 354822.9160 - mean_squared_error: 354822.84 - ETA: 1s - loss: 352984.8994 - mean_squared_error: 352984.78 - ETA: 1s - loss: 356091.7207 - mean_squared_error: 356091.62 - ETA: 1s - loss: 357852.9586 - mean_squared_error: 357852.87 - ETA: 1s - loss: 356751.0450 - mean_squared_error: 356750.93 - ETA: 1s - loss: 356557.1400 - mean_squared_error: 356557.09 - ETA: 1s - loss: 352900.2738 - mean_squared_error: 352900.31 - ETA: 1s - loss: 353894.4047 - mean_squared_error: 353894.40 - ETA: 1s - loss: 351376.9158 - mean_squared_error: 351376.87 - ETA: 0s - loss: 347071.3332 - mean_squared_error: 347071.31 - ETA: 0s - loss: 343666.7548 - mean_squared_error: 343666.78 - ETA: 0s - loss: 340478.8652 - mean_squared_error: 340478.90 - ETA: 0s - loss: 336381.5871 - mean_squared_error: 336381.68 - ETA: 0s - loss: 338360.7815 - mean_squared_error: 338360.87 - ETA: 0s - loss: 338898.3254 - mean_squared_error: 338898.40 - ETA: 0s - loss: 340095.3210 - mean_squared_error: 340095.37 - ETA: 0s - loss: 337059.1443 - mean_squared_error: 337059.18 - ETA: 0s - loss: 338789.0517 - mean_squared_error: 338789.06 - ETA: 0s - loss: 338811.4985 - mean_squared_error: 338811.37 - ETA: 0s - loss: 338415.0215 - mean_squared_error: 338414.90 - ETA: 0s - loss: 338391.2237 - mean_squared_error: 338391.12 - ETA: 0s - loss: 340196.3959 - mean_squared_error: 340196.34 - ETA: 0s - loss: 339920.1934 - mean_squared_error: 339920.15 - ETA: 0s - loss: 338724.3834 - mean_squared_error: 338724.25 - ETA: 0s - loss: 340371.1683 - mean_squared_error: 340371.03 - ETA: 0s - loss: 340337.3358 - mean_squared_error: 340337.21 - ETA: 0s - loss: 340438.7284 - mean_squared_error: 340438.68 - 2s 53us/step - loss: 340191.1615 - mean_squared_error: 340191.1250\n"
     ]
    },
    {
     "name": "stdout",
     "output_type": "stream",
     "text": [
      "Epoch 63/100\n",
      "39941/39941 [==============================] - ETA: 4s - loss: 704852.5625 - mean_squared_error: 704852.56 - ETA: 1s - loss: 332523.7466 - mean_squared_error: 332523.68 - ETA: 1s - loss: 324926.5114 - mean_squared_error: 324926.43 - ETA: 2s - loss: 305753.6506 - mean_squared_error: 305753.62 - ETA: 2s - loss: 319170.5752 - mean_squared_error: 319170.53 - ETA: 2s - loss: 319883.1719 - mean_squared_error: 319883.09 - ETA: 1s - loss: 329446.0949 - mean_squared_error: 329446.03 - ETA: 1s - loss: 334538.2798 - mean_squared_error: 334538.21 - ETA: 1s - loss: 338544.8475 - mean_squared_error: 338544.78 - ETA: 1s - loss: 337181.7975 - mean_squared_error: 337181.78 - ETA: 1s - loss: 335573.2461 - mean_squared_error: 335573.21 - ETA: 1s - loss: 343429.1257 - mean_squared_error: 343429.12 - ETA: 1s - loss: 341285.8549 - mean_squared_error: 341285.87 - ETA: 1s - loss: 345693.6676 - mean_squared_error: 345693.65 - ETA: 1s - loss: 339044.6947 - mean_squared_error: 339044.62 - ETA: 1s - loss: 336303.2283 - mean_squared_error: 336303.06 - ETA: 1s - loss: 334435.6137 - mean_squared_error: 334435.46 - ETA: 1s - loss: 334018.6083 - mean_squared_error: 334018.46 - ETA: 1s - loss: 334204.5277 - mean_squared_error: 334204.37 - ETA: 1s - loss: 333288.0675 - mean_squared_error: 333287.93 - ETA: 1s - loss: 331721.8719 - mean_squared_error: 331721.65 - ETA: 1s - loss: 328972.5621 - mean_squared_error: 328972.31 - ETA: 1s - loss: 329199.4277 - mean_squared_error: 329199.18 - ETA: 1s - loss: 332126.9378 - mean_squared_error: 332126.78 - ETA: 1s - loss: 331608.0041 - mean_squared_error: 331607.84 - ETA: 1s - loss: 329755.0035 - mean_squared_error: 329754.90 - ETA: 0s - loss: 331086.6517 - mean_squared_error: 331086.56 - ETA: 0s - loss: 330223.8394 - mean_squared_error: 330223.78 - ETA: 0s - loss: 330663.9837 - mean_squared_error: 330664.03 - ETA: 0s - loss: 329746.0890 - mean_squared_error: 329746.15 - ETA: 0s - loss: 332224.6592 - mean_squared_error: 332224.71 - ETA: 0s - loss: 332659.3762 - mean_squared_error: 332659.40 - ETA: 0s - loss: 332506.0245 - mean_squared_error: 332506.03 - ETA: 0s - loss: 333958.7309 - mean_squared_error: 333958.65 - ETA: 0s - loss: 332694.0507 - mean_squared_error: 332694.00 - ETA: 0s - loss: 332960.4099 - mean_squared_error: 332960.37 - ETA: 0s - loss: 332331.2405 - mean_squared_error: 332331.15 - ETA: 0s - loss: 330726.3320 - mean_squared_error: 330726.25 - ETA: 0s - loss: 330280.5361 - mean_squared_error: 330280.40 - ETA: 0s - loss: 330319.8318 - mean_squared_error: 330319.75 - ETA: 0s - loss: 331062.7120 - mean_squared_error: 331062.65 - ETA: 0s - loss: 329467.0520 - mean_squared_error: 329466.96 - ETA: 0s - loss: 332166.9590 - mean_squared_error: 332166.90 - 2s 55us/step - loss: 334210.9663 - mean_squared_error: 334210.8750\n",
      "Epoch 64/100\n",
      "39941/39941 [==============================] - ETA: 4s - loss: 185826.5781 - mean_squared_error: 185826.57 - ETA: 1s - loss: 228191.0636 - mean_squared_error: 228191.03 - ETA: 1s - loss: 282065.2165 - mean_squared_error: 282065.12 - ETA: 1s - loss: 310119.2414 - mean_squared_error: 310119.18 - ETA: 1s - loss: 315019.7312 - mean_squared_error: 315019.62 - ETA: 1s - loss: 307779.5806 - mean_squared_error: 307779.56 - ETA: 1s - loss: 313978.2788 - mean_squared_error: 313978.21 - ETA: 1s - loss: 309535.6421 - mean_squared_error: 309535.65 - ETA: 1s - loss: 307770.7336 - mean_squared_error: 307770.78 - ETA: 1s - loss: 301244.4994 - mean_squared_error: 301244.56 - ETA: 1s - loss: 301891.7158 - mean_squared_error: 301891.78 - ETA: 1s - loss: 313509.5168 - mean_squared_error: 313509.56 - ETA: 1s - loss: 335199.7349 - mean_squared_error: 335199.78 - ETA: 1s - loss: 337875.4598 - mean_squared_error: 337875.40 - ETA: 1s - loss: 343114.5026 - mean_squared_error: 343114.53 - ETA: 1s - loss: 343349.3231 - mean_squared_error: 343349.21 - ETA: 1s - loss: 344092.4035 - mean_squared_error: 344092.25 - ETA: 1s - loss: 342457.4889 - mean_squared_error: 342457.28 - ETA: 1s - loss: 340996.7774 - mean_squared_error: 340996.53 - ETA: 1s - loss: 341099.5205 - mean_squared_error: 341099.31 - ETA: 1s - loss: 335791.4986 - mean_squared_error: 335791.21 - ETA: 0s - loss: 334305.9107 - mean_squared_error: 334305.68 - ETA: 0s - loss: 334775.1295 - mean_squared_error: 334774.90 - ETA: 0s - loss: 333960.1453 - mean_squared_error: 333959.93 - ETA: 0s - loss: 336574.9548 - mean_squared_error: 336574.75 - ETA: 0s - loss: 339735.8800 - mean_squared_error: 339735.68 - ETA: 0s - loss: 340163.7031 - mean_squared_error: 340163.40 - ETA: 0s - loss: 337893.8384 - mean_squared_error: 337893.62 - ETA: 0s - loss: 337584.9726 - mean_squared_error: 337584.75 - ETA: 0s - loss: 338045.9344 - mean_squared_error: 338045.78 - ETA: 0s - loss: 341385.2446 - mean_squared_error: 341385.03 - ETA: 0s - loss: 341779.2399 - mean_squared_error: 341779.06 - ETA: 0s - loss: 341072.0306 - mean_squared_error: 341071.87 - ETA: 0s - loss: 346098.8164 - mean_squared_error: 346098.59 - ETA: 0s - loss: 344480.0784 - mean_squared_error: 344479.81 - ETA: 0s - loss: 342269.8999 - mean_squared_error: 342269.71 - ETA: 0s - loss: 340011.4963 - mean_squared_error: 340011.37 - ETA: 0s - loss: 339782.5907 - mean_squared_error: 339782.53 - ETA: 0s - loss: 339396.2145 - mean_squared_error: 339396.21 - ETA: 0s - loss: 339656.2364 - mean_squared_error: 339656.25 - 2s 51us/step - loss: 340126.7751 - mean_squared_error: 340126.7500\n",
      "Epoch 65/100\n",
      "39941/39941 [==============================] - ETA: 3s - loss: 311537.1250 - mean_squared_error: 311537.12 - ETA: 2s - loss: 408793.7632 - mean_squared_error: 408793.68 - ETA: 1s - loss: 411217.9634 - mean_squared_error: 411217.90 - ETA: 1s - loss: 375904.7853 - mean_squared_error: 375904.71 - ETA: 1s - loss: 366672.5909 - mean_squared_error: 366672.43 - ETA: 1s - loss: 353090.4631 - mean_squared_error: 353090.34 - ETA: 1s - loss: 356872.7117 - mean_squared_error: 356872.56 - ETA: 1s - loss: 358712.0468 - mean_squared_error: 358711.96 - ETA: 1s - loss: 348753.0004 - mean_squared_error: 348753.06 - ETA: 1s - loss: 346731.9157 - mean_squared_error: 346732.03 - ETA: 1s - loss: 339965.0657 - mean_squared_error: 339965.15 - ETA: 1s - loss: 339377.8441 - mean_squared_error: 339377.96 - ETA: 1s - loss: 339085.4495 - mean_squared_error: 339085.62 - ETA: 1s - loss: 338876.9525 - mean_squared_error: 338877.15 - ETA: 1s - loss: 340737.6901 - mean_squared_error: 340737.81 - ETA: 1s - loss: 336120.3252 - mean_squared_error: 336120.40 - ETA: 1s - loss: 339620.7087 - mean_squared_error: 339620.78 - ETA: 1s - loss: 339996.8667 - mean_squared_error: 339996.87 - ETA: 1s - loss: 342316.7124 - mean_squared_error: 342316.65 - ETA: 1s - loss: 339645.3339 - mean_squared_error: 339645.25 - ETA: 1s - loss: 339755.7300 - mean_squared_error: 339755.68 - ETA: 0s - loss: 339670.4862 - mean_squared_error: 339670.46 - ETA: 0s - loss: 337543.6520 - mean_squared_error: 337543.59 - ETA: 0s - loss: 338054.6342 - mean_squared_error: 338054.56 - ETA: 0s - loss: 338275.6209 - mean_squared_error: 338275.53 - ETA: 0s - loss: 339884.1416 - mean_squared_error: 339884.06 - ETA: 0s - loss: 340439.9846 - mean_squared_error: 340439.84 - ETA: 0s - loss: 340228.9666 - mean_squared_error: 340228.75 - ETA: 0s - loss: 338159.7365 - mean_squared_error: 338159.56 - ETA: 0s - loss: 337584.1952 - mean_squared_error: 337584.09 - ETA: 0s - loss: 338817.3203 - mean_squared_error: 338817.18 - ETA: 0s - loss: 339772.6270 - mean_squared_error: 339772.53 - ETA: 0s - loss: 339012.8997 - mean_squared_error: 339012.84 - ETA: 0s - loss: 338433.6580 - mean_squared_error: 338433.62 - ETA: 0s - loss: 340577.3336 - mean_squared_error: 340577.34 - ETA: 0s - loss: 336960.6287 - mean_squared_error: 336960.56 - ETA: 0s - loss: 338339.0296 - mean_squared_error: 338338.96 - ETA: 0s - loss: 337869.4553 - mean_squared_error: 337869.43 - ETA: 0s - loss: 337076.1102 - mean_squared_error: 337076.12 - ETA: 0s - loss: 337470.8834 - mean_squared_error: 337470.96 - 2s 51us/step - loss: 335809.9308 - mean_squared_error: 335810.0312\n",
      "Epoch 66/100\n",
      "39941/39941 [==============================] - ETA: 4s - loss: 230453.1719 - mean_squared_error: 230453.17 - ETA: 2s - loss: 317451.8896 - mean_squared_error: 317451.87 - ETA: 2s - loss: 301385.5483 - mean_squared_error: 301385.50 - ETA: 1s - loss: 282827.3029 - mean_squared_error: 282827.25 - ETA: 1s - loss: 291418.9866 - mean_squared_error: 291418.90 - ETA: 1s - loss: 308180.5299 - mean_squared_error: 308180.43 - ETA: 1s - loss: 302037.9126 - mean_squared_error: 302037.81 - ETA: 1s - loss: 310988.0329 - mean_squared_error: 310988.00 - ETA: 1s - loss: 306151.7369 - mean_squared_error: 306151.71 - ETA: 1s - loss: 311944.7596 - mean_squared_error: 311944.71 - ETA: 1s - loss: 312548.7977 - mean_squared_error: 312548.81 - ETA: 1s - loss: 313686.7593 - mean_squared_error: 313686.81 - ETA: 1s - loss: 322482.0136 - mean_squared_error: 322482.06 - ETA: 1s - loss: 326374.5042 - mean_squared_error: 326374.56 - ETA: 1s - loss: 332102.0027 - mean_squared_error: 332102.15 - ETA: 1s - loss: 333194.5479 - mean_squared_error: 333194.71 - ETA: 1s - loss: 329672.6234 - mean_squared_error: 329672.78 - ETA: 1s - loss: 330477.1256 - mean_squared_error: 330477.25 - ETA: 1s - loss: 338247.5028 - mean_squared_error: 338247.62 - ETA: 1s - loss: 337172.9338 - mean_squared_error: 337173.03 - ETA: 1s - loss: 336356.1571 - mean_squared_error: 336356.25 - ETA: 0s - loss: 334323.5154 - mean_squared_error: 334323.68 - ETA: 0s - loss: 333224.4241 - mean_squared_error: 333224.62 - ETA: 0s - loss: 334490.3430 - mean_squared_error: 334490.59 - ETA: 0s - loss: 336072.9359 - mean_squared_error: 336073.18 - ETA: 0s - loss: 334868.3651 - mean_squared_error: 334868.62 - ETA: 0s - loss: 332858.9691 - mean_squared_error: 332859.21 - ETA: 0s - loss: 332811.5360 - mean_squared_error: 332811.62 - ETA: 0s - loss: 331646.9178 - mean_squared_error: 331647.18 - ETA: 0s - loss: 332364.6188 - mean_squared_error: 332364.87 - ETA: 0s - loss: 332461.4388 - mean_squared_error: 332461.68 - ETA: 0s - loss: 331865.2721 - mean_squared_error: 331865.50 - ETA: 0s - loss: 333253.0164 - mean_squared_error: 333253.28 - ETA: 0s - loss: 335404.1704 - mean_squared_error: 335404.37 - ETA: 0s - loss: 335966.2008 - mean_squared_error: 335966.40 - ETA: 0s - loss: 337729.0933 - mean_squared_error: 337729.28 - ETA: 0s - loss: 335863.1112 - mean_squared_error: 335863.31 - ETA: 0s - loss: 333875.8423 - mean_squared_error: 333876.06 - ETA: 0s - loss: 333460.6324 - mean_squared_error: 333460.81 - ETA: 0s - loss: 333462.0331 - mean_squared_error: 333462.12 - ETA: 0s - loss: 332697.1732 - mean_squared_error: 332697.28 - 2s 51us/step - loss: 332601.5576 - mean_squared_error: 332601.6562\n",
      "Epoch 67/100\n",
      "39941/39941 [==============================] - ETA: 3s - loss: 247100.5469 - mean_squared_error: 247100.54 - ETA: 1s - loss: 342816.9993 - mean_squared_error: 342816.96 - ETA: 1s - loss: 284909.0502 - mean_squared_error: 284909.06 - ETA: 1s - loss: 286439.3603 - mean_squared_error: 286439.34 - ETA: 1s - loss: 291733.0569 - mean_squared_error: 291733.03 - ETA: 1s - loss: 293437.1561 - mean_squared_error: 293437.09 - ETA: 1s - loss: 307057.1434 - mean_squared_error: 307057.12 - ETA: 1s - loss: 302977.8573 - mean_squared_error: 302977.87 - ETA: 1s - loss: 303807.2117 - mean_squared_error: 303807.28 - ETA: 1s - loss: 312422.9451 - mean_squared_error: 312422.96 - ETA: 1s - loss: 312701.9878 - mean_squared_error: 312702.00 - ETA: 1s - loss: 314373.6473 - mean_squared_error: 314373.71 - ETA: 1s - loss: 321974.1295 - mean_squared_error: 321974.15 - ETA: 1s - loss: 322005.3905 - mean_squared_error: 322005.40 - ETA: 1s - loss: 325026.4342 - mean_squared_error: 325026.46 - ETA: 1s - loss: 329065.7192 - mean_squared_error: 329065.71 - ETA: 1s - loss: 328218.2913 - mean_squared_error: 328218.25 - ETA: 1s - loss: 331485.3440 - mean_squared_error: 331485.25 - ETA: 1s - loss: 335801.5763 - mean_squared_error: 335801.50 - ETA: 1s - loss: 334689.1908 - mean_squared_error: 334689.06 - ETA: 1s - loss: 337482.5378 - mean_squared_error: 337482.40 - ETA: 0s - loss: 340985.8370 - mean_squared_error: 340985.78 - ETA: 0s - loss: 342813.2727 - mean_squared_error: 342813.25 - ETA: 0s - loss: 339712.8773 - mean_squared_error: 339712.90 - ETA: 0s - loss: 342547.7956 - mean_squared_error: 342547.81 - ETA: 0s - loss: 344603.1802 - mean_squared_error: 344603.21 - ETA: 0s - loss: 342855.8656 - mean_squared_error: 342855.96 - ETA: 0s - loss: 344248.4622 - mean_squared_error: 344248.68 - ETA: 0s - loss: 345681.6781 - mean_squared_error: 345681.87 - ETA: 0s - loss: 345628.2299 - mean_squared_error: 345628.37 - ETA: 0s - loss: 346687.4298 - mean_squared_error: 346687.59 - ETA: 0s - loss: 345946.4403 - mean_squared_error: 345946.53 - ETA: 0s - loss: 346027.8153 - mean_squared_error: 346027.90 - ETA: 0s - loss: 343350.3084 - mean_squared_error: 343350.34 - ETA: 0s - loss: 343237.7619 - mean_squared_error: 343237.75 - ETA: 0s - loss: 343775.9706 - mean_squared_error: 343775.93 - ETA: 0s - loss: 341173.4676 - mean_squared_error: 341173.53 - ETA: 0s - loss: 340847.1001 - mean_squared_error: 340847.12 - ETA: 0s - loss: 339047.3096 - mean_squared_error: 339047.31 - ETA: 0s - loss: 337168.4968 - mean_squared_error: 337168.46 - ETA: 0s - loss: 335954.8566 - mean_squared_error: 335954.81 - 2s 52us/step - loss: 335999.9112 - mean_squared_error: 335999.8750\n",
      "Epoch 68/100\n",
      "39941/39941 [==============================] - ETA: 3s - loss: 155466.0156 - mean_squared_error: 155466.01 - ETA: 2s - loss: 278147.9633 - mean_squared_error: 278147.96 - ETA: 2s - loss: 298650.6145 - mean_squared_error: 298650.62 - ETA: 1s - loss: 313510.6368 - mean_squared_error: 313510.62 - ETA: 1s - loss: 297786.6217 - mean_squared_error: 297786.62 - ETA: 1s - loss: 305626.8011 - mean_squared_error: 305626.84 - ETA: 1s - loss: 310880.8448 - mean_squared_error: 310880.90 - ETA: 1s - loss: 317295.7975 - mean_squared_error: 317295.84 - ETA: 1s - loss: 318836.3842 - mean_squared_error: 318836.34 - ETA: 1s - loss: 313211.0294 - mean_squared_error: 313211.03 - ETA: 1s - loss: 313225.2565 - mean_squared_error: 313225.25 - ETA: 1s - loss: 317296.5943 - mean_squared_error: 317296.62 - ETA: 1s - loss: 324572.6947 - mean_squared_error: 324572.71 - ETA: 1s - loss: 321548.8339 - mean_squared_error: 321548.84 - ETA: 1s - loss: 318560.1986 - mean_squared_error: 318560.18 - ETA: 1s - loss: 320255.3241 - mean_squared_error: 320255.31 - ETA: 1s - loss: 317136.4894 - mean_squared_error: 317136.53 - ETA: 1s - loss: 316713.8918 - mean_squared_error: 316713.93 - ETA: 1s - loss: 317897.5162 - mean_squared_error: 317897.56 - ETA: 1s - loss: 317580.4893 - mean_squared_error: 317580.50 - ETA: 1s - loss: 320165.4188 - mean_squared_error: 320165.43 - ETA: 1s - loss: 322693.6585 - mean_squared_error: 322693.65 - ETA: 0s - loss: 322049.4431 - mean_squared_error: 322049.43 - ETA: 0s - loss: 324561.5511 - mean_squared_error: 324561.53 - ETA: 0s - loss: 322599.9709 - mean_squared_error: 322600.00 - ETA: 0s - loss: 322593.8729 - mean_squared_error: 322593.87 - ETA: 0s - loss: 325245.5903 - mean_squared_error: 325245.62 - ETA: 0s - loss: 328631.8529 - mean_squared_error: 328631.84 - ETA: 0s - loss: 328845.0264 - mean_squared_error: 328844.93 - ETA: 0s - loss: 327472.1084 - mean_squared_error: 327472.09 - ETA: 0s - loss: 328306.6503 - mean_squared_error: 328306.59 - ETA: 0s - loss: 326137.9774 - mean_squared_error: 326137.87 - ETA: 0s - loss: 324804.5494 - mean_squared_error: 324804.40 - ETA: 0s - loss: 326480.8848 - mean_squared_error: 326480.65 - ETA: 0s - loss: 327962.5653 - mean_squared_error: 327962.40 - ETA: 0s - loss: 328896.1970 - mean_squared_error: 328896.06 - ETA: 0s - loss: 328710.9819 - mean_squared_error: 328710.84 - ETA: 0s - loss: 328595.1023 - mean_squared_error: 328595.03 - ETA: 0s - loss: 330566.6659 - mean_squared_error: 330566.68 - ETA: 0s - loss: 329812.9394 - mean_squared_error: 329812.87 - ETA: 0s - loss: 329096.1983 - mean_squared_error: 329096.06 - 2s 52us/step - loss: 329680.4736 - mean_squared_error: 329680.3438\n",
      "Epoch 69/100\n"
     ]
    },
    {
     "name": "stdout",
     "output_type": "stream",
     "text": [
      "39941/39941 [==============================] - ETA: 3s - loss: 755438.4375 - mean_squared_error: 755438.43 - ETA: 1s - loss: 289257.8177 - mean_squared_error: 289257.84 - ETA: 1s - loss: 314366.2797 - mean_squared_error: 314366.31 - ETA: 1s - loss: 301919.7643 - mean_squared_error: 301919.78 - ETA: 1s - loss: 294131.6461 - mean_squared_error: 294131.65 - ETA: 1s - loss: 296343.9741 - mean_squared_error: 296343.96 - ETA: 1s - loss: 301077.5682 - mean_squared_error: 301077.59 - ETA: 1s - loss: 312000.0548 - mean_squared_error: 312000.09 - ETA: 1s - loss: 326328.4368 - mean_squared_error: 326328.53 - ETA: 1s - loss: 325121.6470 - mean_squared_error: 325121.75 - ETA: 1s - loss: 328376.2037 - mean_squared_error: 328376.31 - ETA: 1s - loss: 333563.7447 - mean_squared_error: 333563.81 - ETA: 1s - loss: 329850.0771 - mean_squared_error: 329850.15 - ETA: 1s - loss: 327238.0373 - mean_squared_error: 327238.12 - ETA: 1s - loss: 326031.8354 - mean_squared_error: 326031.93 - ETA: 1s - loss: 328837.2474 - mean_squared_error: 328837.37 - ETA: 1s - loss: 327981.3720 - mean_squared_error: 327981.43 - ETA: 1s - loss: 326430.2472 - mean_squared_error: 326430.43 - ETA: 1s - loss: 326519.8163 - mean_squared_error: 326520.06 - ETA: 1s - loss: 329357.4281 - mean_squared_error: 329357.65 - ETA: 1s - loss: 332888.4392 - mean_squared_error: 332888.68 - ETA: 0s - loss: 331190.5061 - mean_squared_error: 331190.78 - ETA: 0s - loss: 329976.9378 - mean_squared_error: 329977.25 - ETA: 0s - loss: 328698.0105 - mean_squared_error: 328698.28 - ETA: 0s - loss: 330717.9636 - mean_squared_error: 330718.21 - ETA: 0s - loss: 330428.1204 - mean_squared_error: 330428.40 - ETA: 0s - loss: 329846.8793 - mean_squared_error: 329847.18 - ETA: 0s - loss: 332083.1747 - mean_squared_error: 332083.40 - ETA: 0s - loss: 332234.0761 - mean_squared_error: 332234.31 - ETA: 0s - loss: 334276.7037 - mean_squared_error: 334276.96 - ETA: 0s - loss: 331831.4658 - mean_squared_error: 331831.71 - ETA: 0s - loss: 331621.5080 - mean_squared_error: 331621.81 - ETA: 0s - loss: 330591.7798 - mean_squared_error: 330592.00 - ETA: 0s - loss: 330343.1618 - mean_squared_error: 330343.37 - ETA: 0s - loss: 330283.9072 - mean_squared_error: 330284.06 - ETA: 0s - loss: 329086.7381 - mean_squared_error: 329086.90 - ETA: 0s - loss: 329203.0996 - mean_squared_error: 329203.37 - ETA: 0s - loss: 331519.2118 - mean_squared_error: 331519.37 - ETA: 0s - loss: 331620.8525 - mean_squared_error: 331620.96 - ETA: 0s - loss: 329994.0488 - mean_squared_error: 329994.18 - 2s 51us/step - loss: 331070.5422 - mean_squared_error: 331070.6875\n",
      "Epoch 70/100\n",
      "39941/39941 [==============================] - ETA: 5s - loss: 240982.2188 - mean_squared_error: 240982.21 - ETA: 2s - loss: 307062.6932 - mean_squared_error: 307062.65 - ETA: 1s - loss: 295096.1332 - mean_squared_error: 295096.09 - ETA: 1s - loss: 325440.7946 - mean_squared_error: 325440.81 - ETA: 1s - loss: 335591.9409 - mean_squared_error: 335591.96 - ETA: 1s - loss: 343591.5934 - mean_squared_error: 343591.62 - ETA: 1s - loss: 338541.2865 - mean_squared_error: 338541.21 - ETA: 1s - loss: 333826.8057 - mean_squared_error: 333826.75 - ETA: 1s - loss: 325622.4871 - mean_squared_error: 325622.53 - ETA: 1s - loss: 317297.3233 - mean_squared_error: 317297.31 - ETA: 1s - loss: 316957.7047 - mean_squared_error: 316957.65 - ETA: 1s - loss: 318083.6086 - mean_squared_error: 318083.59 - ETA: 1s - loss: 317896.5999 - mean_squared_error: 317896.56 - ETA: 1s - loss: 319032.0766 - mean_squared_error: 319032.03 - ETA: 1s - loss: 327015.5301 - mean_squared_error: 327015.50 - ETA: 1s - loss: 328070.3158 - mean_squared_error: 328070.28 - ETA: 1s - loss: 327440.2062 - mean_squared_error: 327440.03 - ETA: 1s - loss: 324156.7978 - mean_squared_error: 324156.65 - ETA: 1s - loss: 323483.3160 - mean_squared_error: 323483.31 - ETA: 1s - loss: 324442.5589 - mean_squared_error: 324442.50 - ETA: 1s - loss: 324308.4840 - mean_squared_error: 324308.40 - ETA: 0s - loss: 322467.0534 - mean_squared_error: 322466.96 - ETA: 0s - loss: 319987.8125 - mean_squared_error: 319987.71 - ETA: 0s - loss: 321851.2602 - mean_squared_error: 321851.18 - ETA: 0s - loss: 328514.4490 - mean_squared_error: 328514.37 - ETA: 0s - loss: 326321.6944 - mean_squared_error: 326321.59 - ETA: 0s - loss: 327831.4527 - mean_squared_error: 327831.37 - ETA: 0s - loss: 326773.1073 - mean_squared_error: 326773.12 - ETA: 0s - loss: 330094.9422 - mean_squared_error: 330095.00 - ETA: 0s - loss: 328921.5822 - mean_squared_error: 328921.59 - ETA: 0s - loss: 330297.8994 - mean_squared_error: 330297.87 - ETA: 0s - loss: 329636.1364 - mean_squared_error: 329636.15 - ETA: 0s - loss: 330586.4319 - mean_squared_error: 330586.46 - ETA: 0s - loss: 330039.5618 - mean_squared_error: 330039.68 - ETA: 0s - loss: 329764.9182 - mean_squared_error: 329765.00 - ETA: 0s - loss: 329093.4461 - mean_squared_error: 329093.50 - ETA: 0s - loss: 330101.4549 - mean_squared_error: 330101.46 - ETA: 0s - loss: 330336.1976 - mean_squared_error: 330336.12 - ETA: 0s - loss: 329343.6651 - mean_squared_error: 329343.56 - ETA: 0s - loss: 329781.5971 - mean_squared_error: 329781.40 - ETA: 0s - loss: 330600.5721 - mean_squared_error: 330600.43 - ETA: 0s - loss: 330795.6792 - mean_squared_error: 330795.53 - 2s 53us/step - loss: 331499.3342 - mean_squared_error: 331499.1875\n",
      "Epoch 71/100\n",
      "39941/39941 [==============================] - ETA: 3s - loss: 264932.3438 - mean_squared_error: 264932.34 - ETA: 1s - loss: 283474.7701 - mean_squared_error: 283474.75 - ETA: 1s - loss: 290596.4500 - mean_squared_error: 290596.46 - ETA: 1s - loss: 311399.9786 - mean_squared_error: 311400.03 - ETA: 1s - loss: 311388.6868 - mean_squared_error: 311388.71 - ETA: 1s - loss: 307165.6836 - mean_squared_error: 307165.68 - ETA: 1s - loss: 310496.5688 - mean_squared_error: 310496.53 - ETA: 2s - loss: 296932.6741 - mean_squared_error: 296932.62 - ETA: 1s - loss: 296761.2784 - mean_squared_error: 296761.25 - ETA: 1s - loss: 308401.0953 - mean_squared_error: 308401.18 - ETA: 1s - loss: 306201.2983 - mean_squared_error: 306201.43 - ETA: 1s - loss: 311373.7120 - mean_squared_error: 311373.84 - ETA: 1s - loss: 314929.5857 - mean_squared_error: 314929.68 - ETA: 1s - loss: 318381.4094 - mean_squared_error: 318381.50 - ETA: 1s - loss: 316255.6402 - mean_squared_error: 316255.71 - ETA: 1s - loss: 318904.6751 - mean_squared_error: 318904.75 - ETA: 1s - loss: 318840.4666 - mean_squared_error: 318840.56 - ETA: 1s - loss: 319025.6036 - mean_squared_error: 319025.71 - ETA: 1s - loss: 324098.6500 - mean_squared_error: 324098.71 - ETA: 1s - loss: 329480.9196 - mean_squared_error: 329481.00 - ETA: 1s - loss: 334429.4457 - mean_squared_error: 334429.50 - ETA: 1s - loss: 332512.8813 - mean_squared_error: 332512.96 - ETA: 1s - loss: 336056.0279 - mean_squared_error: 336056.09 - ETA: 1s - loss: 338887.9171 - mean_squared_error: 338887.93 - ETA: 1s - loss: 334949.1655 - mean_squared_error: 334949.15 - ETA: 1s - loss: 334412.0847 - mean_squared_error: 334412.12 - ETA: 1s - loss: 334094.8341 - mean_squared_error: 334094.87 - ETA: 1s - loss: 334355.0699 - mean_squared_error: 334355.09 - ETA: 0s - loss: 332849.1599 - mean_squared_error: 332849.25 - ETA: 0s - loss: 332380.2404 - mean_squared_error: 332380.28 - ETA: 0s - loss: 331773.2239 - mean_squared_error: 331773.28 - ETA: 0s - loss: 331368.9275 - mean_squared_error: 331369.03 - ETA: 0s - loss: 331423.2993 - mean_squared_error: 331423.40 - ETA: 0s - loss: 332981.6851 - mean_squared_error: 332981.78 - ETA: 0s - loss: 331058.9571 - mean_squared_error: 331059.09 - ETA: 0s - loss: 329635.2768 - mean_squared_error: 329635.37 - ETA: 0s - loss: 329950.5509 - mean_squared_error: 329950.65 - ETA: 0s - loss: 328654.0025 - mean_squared_error: 328654.09 - ETA: 0s - loss: 327225.4811 - mean_squared_error: 327225.65 - ETA: 0s - loss: 327779.1119 - mean_squared_error: 327779.21 - ETA: 0s - loss: 327578.9394 - mean_squared_error: 327579.06 - ETA: 0s - loss: 327682.4891 - mean_squared_error: 327682.56 - ETA: 0s - loss: 328387.2005 - mean_squared_error: 328387.37 - ETA: 0s - loss: 327831.2891 - mean_squared_error: 327831.46 - ETA: 0s - loss: 326700.4675 - mean_squared_error: 326700.62 - ETA: 0s - loss: 327591.8250 - mean_squared_error: 327591.96 - ETA: 0s - loss: 328292.6239 - mean_squared_error: 328292.75 - ETA: 0s - loss: 328876.2631 - mean_squared_error: 328876.40 - ETA: 0s - loss: 330204.8846 - mean_squared_error: 330205.00 - 2s 62us/step - loss: 329785.6903 - mean_squared_error: 329785.7812\n",
      "Epoch 72/100\n",
      "39941/39941 [==============================] - ETA: 5s - loss: 362719.8438 - mean_squared_error: 362719.84 - ETA: 2s - loss: 291031.9482 - mean_squared_error: 291031.93 - ETA: 2s - loss: 318495.7054 - mean_squared_error: 318495.68 - ETA: 2s - loss: 352272.3089 - mean_squared_error: 352272.31 - ETA: 2s - loss: 359617.6632 - mean_squared_error: 359617.65 - ETA: 2s - loss: 333841.9086 - mean_squared_error: 333841.93 - ETA: 2s - loss: 339891.2965 - mean_squared_error: 339891.37 - ETA: 2s - loss: 351949.6841 - mean_squared_error: 351949.71 - ETA: 2s - loss: 349690.9505 - mean_squared_error: 349690.96 - ETA: 2s - loss: 343450.3625 - mean_squared_error: 343450.34 - ETA: 2s - loss: 339049.4066 - mean_squared_error: 339049.43 - ETA: 2s - loss: 340963.3603 - mean_squared_error: 340963.46 - ETA: 1s - loss: 339384.6519 - mean_squared_error: 339384.84 - ETA: 1s - loss: 336574.1328 - mean_squared_error: 336574.31 - ETA: 1s - loss: 337489.1118 - mean_squared_error: 337489.28 - ETA: 1s - loss: 340472.0150 - mean_squared_error: 340472.15 - ETA: 1s - loss: 339499.9969 - mean_squared_error: 339500.15 - ETA: 1s - loss: 336896.1940 - mean_squared_error: 336896.25 - ETA: 1s - loss: 337268.5277 - mean_squared_error: 337268.62 - ETA: 1s - loss: 335856.8842 - mean_squared_error: 335857.06 - ETA: 1s - loss: 334996.9580 - mean_squared_error: 334997.15 - ETA: 1s - loss: 335924.9318 - mean_squared_error: 335925.12 - ETA: 1s - loss: 337911.4912 - mean_squared_error: 337911.71 - ETA: 1s - loss: 341004.4660 - mean_squared_error: 341004.68 - ETA: 1s - loss: 337110.8517 - mean_squared_error: 337111.06 - ETA: 1s - loss: 338024.9047 - mean_squared_error: 338025.12 - ETA: 1s - loss: 336647.0944 - mean_squared_error: 336647.31 - ETA: 1s - loss: 334535.7227 - mean_squared_error: 334535.90 - ETA: 1s - loss: 334444.4047 - mean_squared_error: 334444.53 - ETA: 1s - loss: 333040.3890 - mean_squared_error: 333040.56 - ETA: 1s - loss: 331417.0211 - mean_squared_error: 331417.15 - ETA: 1s - loss: 329982.6424 - mean_squared_error: 329982.81 - ETA: 0s - loss: 330607.0482 - mean_squared_error: 330607.25 - ETA: 0s - loss: 332554.3407 - mean_squared_error: 332554.62 - ETA: 0s - loss: 333557.8837 - mean_squared_error: 333558.15 - ETA: 0s - loss: 330840.8724 - mean_squared_error: 330841.09 - ETA: 0s - loss: 331298.5325 - mean_squared_error: 331298.75 - ETA: 0s - loss: 330494.6697 - mean_squared_error: 330494.90 - ETA: 0s - loss: 330823.0666 - mean_squared_error: 330823.34 - ETA: 0s - loss: 331231.8127 - mean_squared_error: 331232.09 - ETA: 0s - loss: 329683.1653 - mean_squared_error: 329683.46 - ETA: 0s - loss: 329006.9453 - mean_squared_error: 329007.21 - ETA: 0s - loss: 329643.7177 - mean_squared_error: 329643.96 - ETA: 0s - loss: 330471.7840 - mean_squared_error: 330472.03 - ETA: 0s - loss: 331311.1696 - mean_squared_error: 331311.43 - ETA: 0s - loss: 331542.9512 - mean_squared_error: 331543.18 - ETA: 0s - loss: 330863.9929 - mean_squared_error: 330864.21 - ETA: 0s - loss: 331114.9794 - mean_squared_error: 331115.15 - ETA: 0s - loss: 329855.3081 - mean_squared_error: 329855.46 - ETA: 0s - loss: 329997.3420 - mean_squared_error: 329997.56 - 3s 64us/step - loss: 328623.6463 - mean_squared_error: 328623.8438\n",
      "Epoch 73/100\n"
     ]
    },
    {
     "name": "stdout",
     "output_type": "stream",
     "text": [
      "39941/39941 [==============================] - ETA: 3s - loss: 88759.7188 - mean_squared_error: 88759.71 - ETA: 2s - loss: 258376.0439 - mean_squared_error: 258376.04 - ETA: 2s - loss: 292898.3599 - mean_squared_error: 292898.31 - ETA: 2s - loss: 331978.5453 - mean_squared_error: 331978.53 - ETA: 2s - loss: 323946.1797 - mean_squared_error: 323946.18 - ETA: 2s - loss: 336116.8066 - mean_squared_error: 336116.84 - ETA: 2s - loss: 331426.9903 - mean_squared_error: 331426.96 - ETA: 2s - loss: 321340.2307 - mean_squared_error: 321340.18 - ETA: 2s - loss: 332730.6144 - mean_squared_error: 332730.56 - ETA: 1s - loss: 330172.5606 - mean_squared_error: 330172.46 - ETA: 1s - loss: 330269.7213 - mean_squared_error: 330269.62 - ETA: 1s - loss: 330664.6009 - mean_squared_error: 330664.56 - ETA: 1s - loss: 333022.4833 - mean_squared_error: 333022.43 - ETA: 1s - loss: 333687.5487 - mean_squared_error: 333687.59 - ETA: 1s - loss: 335998.6910 - mean_squared_error: 335998.71 - ETA: 1s - loss: 335719.8068 - mean_squared_error: 335719.84 - ETA: 1s - loss: 335056.5037 - mean_squared_error: 335056.56 - ETA: 1s - loss: 336707.5308 - mean_squared_error: 336707.59 - ETA: 1s - loss: 339467.7341 - mean_squared_error: 339467.84 - ETA: 1s - loss: 334813.2367 - mean_squared_error: 334813.37 - ETA: 1s - loss: 332978.6683 - mean_squared_error: 332978.84 - ETA: 1s - loss: 331614.7633 - mean_squared_error: 331614.90 - ETA: 1s - loss: 330003.0427 - mean_squared_error: 330003.18 - ETA: 1s - loss: 330697.3687 - mean_squared_error: 330697.53 - ETA: 1s - loss: 329537.6199 - mean_squared_error: 329537.81 - ETA: 1s - loss: 330900.1382 - mean_squared_error: 330900.37 - ETA: 1s - loss: 330269.2686 - mean_squared_error: 330269.50 - ETA: 1s - loss: 329323.5249 - mean_squared_error: 329323.71 - ETA: 0s - loss: 330654.5855 - mean_squared_error: 330654.78 - ETA: 0s - loss: 331273.5137 - mean_squared_error: 331273.78 - ETA: 0s - loss: 330229.3065 - mean_squared_error: 330229.56 - ETA: 0s - loss: 331530.8717 - mean_squared_error: 331531.12 - ETA: 0s - loss: 330875.5641 - mean_squared_error: 330875.81 - ETA: 0s - loss: 332251.8288 - mean_squared_error: 332252.06 - ETA: 0s - loss: 332960.3636 - mean_squared_error: 332960.56 - ETA: 0s - loss: 332314.6365 - mean_squared_error: 332314.84 - ETA: 0s - loss: 330363.4512 - mean_squared_error: 330363.71 - ETA: 0s - loss: 328428.6466 - mean_squared_error: 328428.84 - ETA: 0s - loss: 329696.9103 - mean_squared_error: 329697.03 - ETA: 0s - loss: 328339.6418 - mean_squared_error: 328339.75 - ETA: 0s - loss: 327631.3323 - mean_squared_error: 327631.43 - ETA: 0s - loss: 329705.3007 - mean_squared_error: 329705.34 - ETA: 0s - loss: 331054.8241 - mean_squared_error: 331054.84 - ETA: 0s - loss: 331029.6022 - mean_squared_error: 331029.59 - ETA: 0s - loss: 330692.2506 - mean_squared_error: 330692.31 - ETA: 0s - loss: 331402.7754 - mean_squared_error: 331402.81 - ETA: 0s - loss: 331643.0395 - mean_squared_error: 331643.03 - ETA: 0s - loss: 330550.5149 - mean_squared_error: 330550.46 - 2s 61us/step - loss: 330006.8427 - mean_squared_error: 330006.8438\n",
      "Epoch 74/100\n",
      "39941/39941 [==============================] - ETA: 4s - loss: 330657.0312 - mean_squared_error: 330657.03 - ETA: 2s - loss: 320617.4157 - mean_squared_error: 320617.43 - ETA: 2s - loss: 321724.9223 - mean_squared_error: 321725.00 - ETA: 2s - loss: 316321.5509 - mean_squared_error: 316321.68 - ETA: 2s - loss: 326013.1227 - mean_squared_error: 326013.25 - ETA: 2s - loss: 318707.6949 - mean_squared_error: 318707.84 - ETA: 2s - loss: 316575.2282 - mean_squared_error: 316575.34 - ETA: 2s - loss: 314938.4205 - mean_squared_error: 314938.53 - ETA: 2s - loss: 319929.6728 - mean_squared_error: 319929.81 - ETA: 2s - loss: 327874.5627 - mean_squared_error: 327874.65 - ETA: 2s - loss: 331851.5567 - mean_squared_error: 331851.68 - ETA: 1s - loss: 331261.5930 - mean_squared_error: 331261.75 - ETA: 1s - loss: 326255.7949 - mean_squared_error: 326255.93 - ETA: 1s - loss: 326062.6335 - mean_squared_error: 326062.78 - ETA: 1s - loss: 323260.5912 - mean_squared_error: 323260.78 - ETA: 1s - loss: 326723.9803 - mean_squared_error: 326724.15 - ETA: 1s - loss: 334138.6242 - mean_squared_error: 334138.81 - ETA: 1s - loss: 332123.0204 - mean_squared_error: 332123.25 - ETA: 1s - loss: 327469.4977 - mean_squared_error: 327469.78 - ETA: 1s - loss: 325817.8476 - mean_squared_error: 325818.15 - ETA: 1s - loss: 323788.0889 - mean_squared_error: 323788.43 - ETA: 1s - loss: 329388.5228 - mean_squared_error: 329388.81 - ETA: 1s - loss: 331280.9273 - mean_squared_error: 331281.18 - ETA: 1s - loss: 330454.2071 - mean_squared_error: 330454.40 - ETA: 1s - loss: 329738.6503 - mean_squared_error: 329738.84 - ETA: 1s - loss: 334001.5174 - mean_squared_error: 334001.68 - ETA: 1s - loss: 332314.3368 - mean_squared_error: 332314.53 - ETA: 1s - loss: 332529.1493 - mean_squared_error: 332529.34 - ETA: 1s - loss: 335777.4272 - mean_squared_error: 335777.62 - ETA: 0s - loss: 337733.1770 - mean_squared_error: 337733.37 - ETA: 0s - loss: 337602.3404 - mean_squared_error: 337602.56 - ETA: 0s - loss: 336290.5856 - mean_squared_error: 336290.84 - ETA: 0s - loss: 334809.5237 - mean_squared_error: 334809.75 - ETA: 0s - loss: 332836.9439 - mean_squared_error: 332837.06 - ETA: 0s - loss: 332881.4214 - mean_squared_error: 332881.46 - ETA: 0s - loss: 329716.6846 - mean_squared_error: 329716.71 - ETA: 0s - loss: 332769.4232 - mean_squared_error: 332769.50 - ETA: 0s - loss: 331998.4836 - mean_squared_error: 331998.56 - ETA: 0s - loss: 332189.5732 - mean_squared_error: 332189.59 - ETA: 0s - loss: 330865.9369 - mean_squared_error: 330865.90 - ETA: 0s - loss: 329554.5408 - mean_squared_error: 329554.56 - ETA: 0s - loss: 328817.7631 - mean_squared_error: 328817.87 - ETA: 0s - loss: 328402.5576 - mean_squared_error: 328402.59 - ETA: 0s - loss: 328838.2479 - mean_squared_error: 328838.34 - ETA: 0s - loss: 326968.2362 - mean_squared_error: 326968.37 - ETA: 0s - loss: 326644.4194 - mean_squared_error: 326644.53 - ETA: 0s - loss: 325983.2279 - mean_squared_error: 325983.28 - ETA: 0s - loss: 326316.4651 - mean_squared_error: 326316.46 - ETA: 0s - loss: 327872.3771 - mean_squared_error: 327872.40 - 2s 61us/step - loss: 327852.3042 - mean_squared_error: 327852.3438\n",
      "Epoch 75/100\n",
      "39941/39941 [==============================] - ETA: 5s - loss: 1015408.0000 - mean_squared_error: 1015408.00 - ETA: 2s - loss: 362294.7777 - mean_squared_error: 362294.7500 - ETA: 2s - loss: 348567.6216 - mean_squared_error: 348567.56 - ETA: 2s - loss: 345638.9006 - mean_squared_error: 345638.87 - ETA: 2s - loss: 330833.9686 - mean_squared_error: 330833.96 - ETA: 2s - loss: 331442.0691 - mean_squared_error: 331442.06 - ETA: 2s - loss: 332691.6033 - mean_squared_error: 332691.59 - ETA: 2s - loss: 333689.6648 - mean_squared_error: 333689.59 - ETA: 2s - loss: 332780.0986 - mean_squared_error: 332780.06 - ETA: 1s - loss: 334277.1959 - mean_squared_error: 334277.12 - ETA: 1s - loss: 335110.9949 - mean_squared_error: 335110.93 - ETA: 1s - loss: 329161.6110 - mean_squared_error: 329161.65 - ETA: 1s - loss: 328685.4561 - mean_squared_error: 328685.50 - ETA: 1s - loss: 332820.2807 - mean_squared_error: 332820.34 - ETA: 1s - loss: 332935.5073 - mean_squared_error: 332935.56 - ETA: 1s - loss: 334916.3991 - mean_squared_error: 334916.43 - ETA: 1s - loss: 339291.6097 - mean_squared_error: 339291.68 - ETA: 1s - loss: 338631.3117 - mean_squared_error: 338631.43 - ETA: 1s - loss: 337445.8038 - mean_squared_error: 337445.81 - ETA: 1s - loss: 334752.9660 - mean_squared_error: 334753.03 - ETA: 1s - loss: 337616.1144 - mean_squared_error: 337616.12 - ETA: 1s - loss: 340195.2698 - mean_squared_error: 340195.25 - ETA: 1s - loss: 341055.3333 - mean_squared_error: 341055.31 - ETA: 1s - loss: 339280.1050 - mean_squared_error: 339280.06 - ETA: 1s - loss: 337891.4432 - mean_squared_error: 337891.37 - ETA: 1s - loss: 337920.3866 - mean_squared_error: 337920.31 - ETA: 1s - loss: 340056.2096 - mean_squared_error: 340056.15 - ETA: 1s - loss: 341983.5253 - mean_squared_error: 341983.37 - ETA: 1s - loss: 340975.9061 - mean_squared_error: 340975.75 - ETA: 0s - loss: 340055.6876 - mean_squared_error: 340055.50 - ETA: 0s - loss: 339073.6332 - mean_squared_error: 339073.50 - ETA: 0s - loss: 335870.2685 - mean_squared_error: 335870.15 - ETA: 0s - loss: 335187.8918 - mean_squared_error: 335187.81 - ETA: 0s - loss: 332670.7791 - mean_squared_error: 332670.81 - ETA: 0s - loss: 336256.6127 - mean_squared_error: 336256.65 - ETA: 0s - loss: 336694.6905 - mean_squared_error: 336694.65 - ETA: 0s - loss: 334678.8665 - mean_squared_error: 334678.84 - ETA: 0s - loss: 333418.6262 - mean_squared_error: 333418.53 - ETA: 0s - loss: 333726.9951 - mean_squared_error: 333726.96 - ETA: 0s - loss: 333783.6684 - mean_squared_error: 333783.59 - ETA: 0s - loss: 333265.8491 - mean_squared_error: 333265.75 - ETA: 0s - loss: 333724.1902 - mean_squared_error: 333724.15 - ETA: 0s - loss: 333536.0162 - mean_squared_error: 333535.96 - ETA: 0s - loss: 332937.6682 - mean_squared_error: 332937.71 - ETA: 0s - loss: 331773.2501 - mean_squared_error: 331773.28 - ETA: 0s - loss: 331449.6942 - mean_squared_error: 331449.68 - ETA: 0s - loss: 332847.9780 - mean_squared_error: 332848.00 - ETA: 0s - loss: 332108.7832 - mean_squared_error: 332108.71 - 2s 61us/step - loss: 330967.1397 - mean_squared_error: 330967.0938\n",
      "Epoch 76/100\n",
      "39941/39941 [==============================] - ETA: 3s - loss: 2025054.5000 - mean_squared_error: 2025054.50 - ETA: 2s - loss: 383347.3813 - mean_squared_error: 383347.4062 - ETA: 2s - loss: 361102.3281 - mean_squared_error: 361102.31 - ETA: 2s - loss: 345888.0286 - mean_squared_error: 345888.03 - ETA: 2s - loss: 340158.5035 - mean_squared_error: 340158.56 - ETA: 2s - loss: 329083.4101 - mean_squared_error: 329083.46 - ETA: 2s - loss: 319939.2891 - mean_squared_error: 319939.34 - ETA: 2s - loss: 314093.6373 - mean_squared_error: 314093.68 - ETA: 2s - loss: 312283.7210 - mean_squared_error: 312283.75 - ETA: 1s - loss: 314076.9665 - mean_squared_error: 314076.96 - ETA: 1s - loss: 315954.6960 - mean_squared_error: 315954.65 - ETA: 1s - loss: 317242.7747 - mean_squared_error: 317242.68 - ETA: 1s - loss: 315186.2740 - mean_squared_error: 315186.21 - ETA: 1s - loss: 309456.1924 - mean_squared_error: 309456.12 - ETA: 1s - loss: 310229.3845 - mean_squared_error: 310229.34 - ETA: 1s - loss: 311612.7889 - mean_squared_error: 311612.71 - ETA: 1s - loss: 310694.2117 - mean_squared_error: 310694.15 - ETA: 1s - loss: 311330.0047 - mean_squared_error: 311329.93 - ETA: 1s - loss: 313696.5973 - mean_squared_error: 313696.43 - ETA: 1s - loss: 309161.1859 - mean_squared_error: 309161.03 - ETA: 1s - loss: 307039.9725 - mean_squared_error: 307039.84 - ETA: 1s - loss: 304787.1198 - mean_squared_error: 304786.93 - ETA: 1s - loss: 307233.6366 - mean_squared_error: 307233.53 - ETA: 1s - loss: 309616.2011 - mean_squared_error: 309616.06 - ETA: 1s - loss: 307929.8588 - mean_squared_error: 307929.68 - ETA: 1s - loss: 311221.5787 - mean_squared_error: 311221.46 - ETA: 1s - loss: 310983.7013 - mean_squared_error: 310983.62 - ETA: 1s - loss: 316166.8517 - mean_squared_error: 316166.78 - ETA: 0s - loss: 316891.9345 - mean_squared_error: 316891.87 - ETA: 0s - loss: 316847.3181 - mean_squared_error: 316847.28 - ETA: 0s - loss: 316542.2594 - mean_squared_error: 316542.18 - ETA: 0s - loss: 319011.2500 - mean_squared_error: 319011.21 - ETA: 0s - loss: 319721.3845 - mean_squared_error: 319721.31 - ETA: 0s - loss: 321906.9935 - mean_squared_error: 321906.84 - ETA: 0s - loss: 323060.3200 - mean_squared_error: 323060.18 - ETA: 0s - loss: 322717.9613 - mean_squared_error: 322717.78 - ETA: 0s - loss: 323656.4187 - mean_squared_error: 323656.28 - ETA: 0s - loss: 325932.4129 - mean_squared_error: 325932.25 - ETA: 0s - loss: 325808.3792 - mean_squared_error: 325808.25 - ETA: 0s - loss: 326584.5722 - mean_squared_error: 326584.40 - ETA: 0s - loss: 327809.0641 - mean_squared_error: 327808.87 - ETA: 0s - loss: 328560.6039 - mean_squared_error: 328560.43 - ETA: 0s - loss: 328015.5872 - mean_squared_error: 328015.37 - ETA: 0s - loss: 327196.7007 - mean_squared_error: 327196.50 - ETA: 0s - loss: 327707.9498 - mean_squared_error: 327707.75 - ETA: 0s - loss: 327881.2508 - mean_squared_error: 327881.03 - ETA: 0s - loss: 326040.1667 - mean_squared_error: 326039.96 - ETA: 0s - loss: 326187.2769 - mean_squared_error: 326187.06 - 2s 60us/step - loss: 326346.9059 - mean_squared_error: 326346.6875\n",
      "Epoch 77/100\n"
     ]
    },
    {
     "name": "stdout",
     "output_type": "stream",
     "text": [
      "39941/39941 [==============================] - ETA: 9s - loss: 356189.5625 - mean_squared_error: 356189.56 - ETA: 2s - loss: 327513.3798 - mean_squared_error: 327513.37 - ETA: 2s - loss: 343452.5283 - mean_squared_error: 343452.50 - ETA: 2s - loss: 312693.8506 - mean_squared_error: 312693.87 - ETA: 2s - loss: 326038.4797 - mean_squared_error: 326038.46 - ETA: 2s - loss: 326454.3866 - mean_squared_error: 326454.40 - ETA: 2s - loss: 319187.2820 - mean_squared_error: 319187.31 - ETA: 2s - loss: 316779.3953 - mean_squared_error: 316779.40 - ETA: 2s - loss: 323668.8410 - mean_squared_error: 323668.84 - ETA: 2s - loss: 318191.9480 - mean_squared_error: 318191.90 - ETA: 2s - loss: 320576.0739 - mean_squared_error: 320575.96 - ETA: 2s - loss: 324283.6242 - mean_squared_error: 324283.53 - ETA: 2s - loss: 330614.5157 - mean_squared_error: 330614.43 - ETA: 1s - loss: 337968.9754 - mean_squared_error: 337968.93 - ETA: 1s - loss: 336236.8123 - mean_squared_error: 336236.81 - ETA: 1s - loss: 334612.3591 - mean_squared_error: 334612.37 - ETA: 1s - loss: 331906.1033 - mean_squared_error: 331906.06 - ETA: 1s - loss: 335229.6653 - mean_squared_error: 335229.62 - ETA: 1s - loss: 336243.1019 - mean_squared_error: 336242.96 - ETA: 1s - loss: 336766.0745 - mean_squared_error: 336766.03 - ETA: 1s - loss: 335485.0433 - mean_squared_error: 335484.84 - ETA: 1s - loss: 335991.9441 - mean_squared_error: 335991.81 - ETA: 1s - loss: 332974.8851 - mean_squared_error: 332974.81 - ETA: 1s - loss: 329940.5745 - mean_squared_error: 329940.46 - ETA: 1s - loss: 329218.2630 - mean_squared_error: 329218.15 - ETA: 1s - loss: 324793.2420 - mean_squared_error: 324793.12 - ETA: 1s - loss: 330300.3713 - mean_squared_error: 330300.28 - ETA: 1s - loss: 329791.1495 - mean_squared_error: 329791.06 - ETA: 1s - loss: 327272.2101 - mean_squared_error: 327272.18 - ETA: 0s - loss: 332018.1250 - mean_squared_error: 332018.06 - ETA: 0s - loss: 331264.3868 - mean_squared_error: 331264.31 - ETA: 0s - loss: 334498.6856 - mean_squared_error: 334498.62 - ETA: 0s - loss: 334187.3663 - mean_squared_error: 334187.43 - ETA: 0s - loss: 331548.5407 - mean_squared_error: 331548.56 - ETA: 0s - loss: 333341.9913 - mean_squared_error: 333342.00 - ETA: 0s - loss: 335632.5471 - mean_squared_error: 335632.59 - ETA: 0s - loss: 333311.4813 - mean_squared_error: 333311.50 - ETA: 0s - loss: 331989.0175 - mean_squared_error: 331989.03 - ETA: 0s - loss: 330351.6768 - mean_squared_error: 330351.71 - ETA: 0s - loss: 330814.5480 - mean_squared_error: 330814.62 - ETA: 0s - loss: 329067.1994 - mean_squared_error: 329067.28 - ETA: 0s - loss: 330210.2759 - mean_squared_error: 330210.34 - ETA: 0s - loss: 329710.8480 - mean_squared_error: 329710.90 - ETA: 0s - loss: 329953.3287 - mean_squared_error: 329953.43 - ETA: 0s - loss: 327781.1111 - mean_squared_error: 327781.21 - ETA: 0s - loss: 328212.4670 - mean_squared_error: 328212.62 - ETA: 0s - loss: 329533.8355 - mean_squared_error: 329533.93 - ETA: 0s - loss: 330093.3833 - mean_squared_error: 330093.43 - 2s 61us/step - loss: 329037.3541 - mean_squared_error: 329037.4375\n",
      "Epoch 78/100\n",
      "39941/39941 [==============================] - ETA: 5s - loss: 250062.5625 - mean_squared_error: 250062.56 - ETA: 2s - loss: 279012.0773 - mean_squared_error: 279012.06 - ETA: 2s - loss: 312192.4025 - mean_squared_error: 312192.37 - ETA: 2s - loss: 315439.6838 - mean_squared_error: 315439.62 - ETA: 2s - loss: 303351.0793 - mean_squared_error: 303351.03 - ETA: 2s - loss: 314676.5677 - mean_squared_error: 314676.56 - ETA: 2s - loss: 314393.2202 - mean_squared_error: 314393.28 - ETA: 2s - loss: 314335.0168 - mean_squared_error: 314335.03 - ETA: 2s - loss: 309411.6033 - mean_squared_error: 309411.56 - ETA: 2s - loss: 316902.5483 - mean_squared_error: 316902.56 - ETA: 1s - loss: 319648.6416 - mean_squared_error: 319648.62 - ETA: 1s - loss: 319029.4666 - mean_squared_error: 319029.46 - ETA: 1s - loss: 317004.0093 - mean_squared_error: 317004.03 - ETA: 1s - loss: 313456.7571 - mean_squared_error: 313456.81 - ETA: 1s - loss: 315133.0542 - mean_squared_error: 315133.06 - ETA: 1s - loss: 313380.3173 - mean_squared_error: 313380.28 - ETA: 1s - loss: 314172.6178 - mean_squared_error: 314172.62 - ETA: 1s - loss: 311530.0951 - mean_squared_error: 311530.06 - ETA: 1s - loss: 317943.4589 - mean_squared_error: 317943.37 - ETA: 1s - loss: 315470.9777 - mean_squared_error: 315470.93 - ETA: 1s - loss: 314790.5824 - mean_squared_error: 314790.56 - ETA: 1s - loss: 313683.1533 - mean_squared_error: 313683.09 - ETA: 1s - loss: 314630.8927 - mean_squared_error: 314630.84 - ETA: 1s - loss: 317178.7601 - mean_squared_error: 317178.68 - ETA: 1s - loss: 316237.5057 - mean_squared_error: 316237.43 - ETA: 1s - loss: 316976.7027 - mean_squared_error: 316976.62 - ETA: 1s - loss: 319306.2481 - mean_squared_error: 319306.21 - ETA: 1s - loss: 324749.1774 - mean_squared_error: 324749.12 - ETA: 1s - loss: 325110.4703 - mean_squared_error: 325110.43 - ETA: 1s - loss: 326421.3232 - mean_squared_error: 326421.28 - ETA: 0s - loss: 327518.8466 - mean_squared_error: 327518.81 - ETA: 0s - loss: 330554.6767 - mean_squared_error: 330554.62 - ETA: 0s - loss: 330410.4585 - mean_squared_error: 330410.40 - ETA: 0s - loss: 329833.1092 - mean_squared_error: 329833.03 - ETA: 0s - loss: 328693.9407 - mean_squared_error: 328693.84 - ETA: 0s - loss: 332229.4550 - mean_squared_error: 332229.40 - ETA: 0s - loss: 330557.9794 - mean_squared_error: 330557.96 - ETA: 0s - loss: 332115.1772 - mean_squared_error: 332115.21 - ETA: 0s - loss: 332245.4724 - mean_squared_error: 332245.56 - ETA: 0s - loss: 333202.3074 - mean_squared_error: 333202.40 - ETA: 0s - loss: 331521.3202 - mean_squared_error: 331521.40 - ETA: 0s - loss: 330765.7439 - mean_squared_error: 330765.87 - ETA: 0s - loss: 331744.2869 - mean_squared_error: 331744.37 - ETA: 0s - loss: 332883.5438 - mean_squared_error: 332883.62 - ETA: 0s - loss: 334239.3208 - mean_squared_error: 334239.37 - ETA: 0s - loss: 335067.6935 - mean_squared_error: 335067.68 - ETA: 0s - loss: 332999.7248 - mean_squared_error: 332999.75 - ETA: 0s - loss: 331123.7825 - mean_squared_error: 331123.84 - ETA: 0s - loss: 330612.1701 - mean_squared_error: 330612.18 - ETA: 0s - loss: 330067.9200 - mean_squared_error: 330067.87 - 3s 63us/step - loss: 329770.5063 - mean_squared_error: 329770.4688\n",
      "Epoch 79/100\n",
      "39941/39941 [==============================] - ETA: 4s - loss: 179369.0625 - mean_squared_error: 179369.06 - ETA: 2s - loss: 377086.6967 - mean_squared_error: 377086.71 - ETA: 2s - loss: 369966.3418 - mean_squared_error: 369966.40 - ETA: 2s - loss: 346408.6615 - mean_squared_error: 346408.71 - ETA: 2s - loss: 350236.6254 - mean_squared_error: 350236.65 - ETA: 2s - loss: 353011.3862 - mean_squared_error: 353011.43 - ETA: 2s - loss: 356110.4835 - mean_squared_error: 356110.59 - ETA: 2s - loss: 342130.6800 - mean_squared_error: 342130.81 - ETA: 2s - loss: 335836.1850 - mean_squared_error: 335836.28 - ETA: 2s - loss: 334364.1318 - mean_squared_error: 334364.21 - ETA: 2s - loss: 330079.5196 - mean_squared_error: 330079.56 - ETA: 2s - loss: 324245.7175 - mean_squared_error: 324245.78 - ETA: 1s - loss: 321234.1572 - mean_squared_error: 321234.18 - ETA: 1s - loss: 322556.7891 - mean_squared_error: 322556.78 - ETA: 1s - loss: 320795.3802 - mean_squared_error: 320795.37 - ETA: 1s - loss: 320992.2401 - mean_squared_error: 320992.21 - ETA: 1s - loss: 320270.4635 - mean_squared_error: 320270.50 - ETA: 1s - loss: 319267.6440 - mean_squared_error: 319267.65 - ETA: 1s - loss: 321080.5836 - mean_squared_error: 321080.62 - ETA: 1s - loss: 317974.0274 - mean_squared_error: 317974.06 - ETA: 1s - loss: 315231.5422 - mean_squared_error: 315231.62 - ETA: 1s - loss: 313888.0839 - mean_squared_error: 313888.12 - ETA: 1s - loss: 314559.1103 - mean_squared_error: 314559.15 - ETA: 1s - loss: 312681.2652 - mean_squared_error: 312681.31 - ETA: 1s - loss: 314987.3827 - mean_squared_error: 314987.46 - ETA: 1s - loss: 314621.3827 - mean_squared_error: 314621.50 - ETA: 1s - loss: 316974.7686 - mean_squared_error: 316974.84 - ETA: 1s - loss: 313873.9348 - mean_squared_error: 313874.00 - ETA: 1s - loss: 313066.1870 - mean_squared_error: 313066.21 - ETA: 1s - loss: 310660.4712 - mean_squared_error: 310660.56 - ETA: 1s - loss: 311071.9571 - mean_squared_error: 311072.03 - ETA: 1s - loss: 313866.7258 - mean_squared_error: 313866.78 - ETA: 1s - loss: 314597.3992 - mean_squared_error: 314597.46 - ETA: 1s - loss: 313803.7806 - mean_squared_error: 313803.84 - ETA: 0s - loss: 311771.3278 - mean_squared_error: 311771.43 - ETA: 0s - loss: 310105.2797 - mean_squared_error: 310105.40 - ETA: 0s - loss: 309675.0468 - mean_squared_error: 309675.25 - ETA: 0s - loss: 313109.0011 - mean_squared_error: 313109.21 - ETA: 0s - loss: 312819.5238 - mean_squared_error: 312819.71 - ETA: 0s - loss: 313221.8869 - mean_squared_error: 313222.09 - ETA: 0s - loss: 314615.0705 - mean_squared_error: 314615.25 - ETA: 0s - loss: 315634.7481 - mean_squared_error: 315634.96 - ETA: 0s - loss: 316255.0140 - mean_squared_error: 316255.18 - ETA: 0s - loss: 314952.0974 - mean_squared_error: 314952.31 - ETA: 0s - loss: 317267.8895 - mean_squared_error: 317268.12 - ETA: 0s - loss: 318875.0994 - mean_squared_error: 318875.37 - ETA: 0s - loss: 320394.2685 - mean_squared_error: 320394.56 - ETA: 0s - loss: 321683.1421 - mean_squared_error: 321683.40 - ETA: 0s - loss: 323322.3148 - mean_squared_error: 323322.53 - ETA: 0s - loss: 322802.2514 - mean_squared_error: 322802.46 - ETA: 0s - loss: 325230.1472 - mean_squared_error: 325230.40 - ETA: 0s - loss: 325943.7206 - mean_squared_error: 325944.03 - ETA: 0s - loss: 324974.5252 - mean_squared_error: 324974.78 - ETA: 0s - loss: 324681.2127 - mean_squared_error: 324681.50 - 3s 69us/step - loss: 324560.2102 - mean_squared_error: 324560.5000\n",
      "Epoch 80/100\n",
      "39941/39941 [==============================] - ETA: 9s - loss: 312157.4688 - mean_squared_error: 312157.46 - ETA: 3s - loss: 323684.2869 - mean_squared_error: 323684.28 - ETA: 3s - loss: 317695.5203 - mean_squared_error: 317695.53 - ETA: 2s - loss: 312361.9249 - mean_squared_error: 312361.93 - ETA: 2s - loss: 317734.6073 - mean_squared_error: 317734.59 - ETA: 2s - loss: 335493.1089 - mean_squared_error: 335493.06 - ETA: 2s - loss: 349193.3977 - mean_squared_error: 349193.31 - ETA: 2s - loss: 344020.9867 - mean_squared_error: 344020.90 - ETA: 2s - loss: 337286.3184 - mean_squared_error: 337286.21 - ETA: 2s - loss: 329268.3575 - mean_squared_error: 329268.28 - ETA: 2s - loss: 324169.4854 - mean_squared_error: 324169.37 - ETA: 2s - loss: 326047.5531 - mean_squared_error: 326047.46 - ETA: 1s - loss: 326327.2804 - mean_squared_error: 326327.18 - ETA: 1s - loss: 322735.5907 - mean_squared_error: 322735.59 - ETA: 1s - loss: 320945.7259 - mean_squared_error: 320945.68 - ETA: 1s - loss: 323716.3771 - mean_squared_error: 323716.34 - ETA: 1s - loss: 323618.8032 - mean_squared_error: 323618.78 - ETA: 1s - loss: 321749.7633 - mean_squared_error: 321749.75 - ETA: 1s - loss: 322563.3444 - mean_squared_error: 322563.37 - ETA: 1s - loss: 321869.4019 - mean_squared_error: 321869.40 - ETA: 1s - loss: 321254.2886 - mean_squared_error: 321254.28 - ETA: 1s - loss: 320882.8358 - mean_squared_error: 320882.84 - ETA: 1s - loss: 320250.1132 - mean_squared_error: 320250.09 - ETA: 1s - loss: 321706.3414 - mean_squared_error: 321706.34 - ETA: 1s - loss: 323483.2323 - mean_squared_error: 323483.25 - ETA: 1s - loss: 326190.1815 - mean_squared_error: 326190.25 - ETA: 1s - loss: 324890.0154 - mean_squared_error: 324890.09 - ETA: 1s - loss: 324987.7220 - mean_squared_error: 324987.75 - ETA: 1s - loss: 319043.6385 - mean_squared_error: 319043.65 - ETA: 1s - loss: 318801.6864 - mean_squared_error: 318801.68 - ETA: 1s - loss: 319355.0287 - mean_squared_error: 319355.03 - ETA: 1s - loss: 318693.6202 - mean_squared_error: 318693.59 - ETA: 0s - loss: 319393.5333 - mean_squared_error: 319393.53 - ETA: 0s - loss: 320961.2791 - mean_squared_error: 320961.28 - ETA: 0s - loss: 321124.1391 - mean_squared_error: 321124.09 - ETA: 0s - loss: 322490.7140 - mean_squared_error: 322490.59 - ETA: 0s - loss: 320220.1534 - mean_squared_error: 320220.03 - ETA: 0s - loss: 319224.6872 - mean_squared_error: 319224.56 - ETA: 0s - loss: 322615.2215 - mean_squared_error: 322615.09 - ETA: 0s - loss: 322136.8665 - mean_squared_error: 322136.75 - ETA: 0s - loss: 320394.4341 - mean_squared_error: 320394.28 - ETA: 0s - loss: 319200.5734 - mean_squared_error: 319200.40 - ETA: 0s - loss: 319159.7141 - mean_squared_error: 319159.56 - ETA: 0s - loss: 319433.3549 - mean_squared_error: 319433.25 - ETA: 0s - loss: 323413.1279 - mean_squared_error: 323413.03 - ETA: 0s - loss: 323872.2242 - mean_squared_error: 323872.18 - ETA: 0s - loss: 326694.8798 - mean_squared_error: 326694.87 - ETA: 0s - loss: 327193.7024 - mean_squared_error: 327193.71 - ETA: 0s - loss: 327920.0905 - mean_squared_error: 327920.09 - ETA: 0s - loss: 327216.9882 - mean_squared_error: 327217.06 - ETA: 0s - loss: 327011.1670 - mean_squared_error: 327011.21 - ETA: 0s - loss: 327233.8884 - mean_squared_error: 327234.03 - 3s 66us/step - loss: 326314.2492 - mean_squared_error: 326314.3438\n",
      "Epoch 81/100\n"
     ]
    },
    {
     "name": "stdout",
     "output_type": "stream",
     "text": [
      "39941/39941 [==============================] - ETA: 5s - loss: 291155.1250 - mean_squared_error: 291155.12 - ETA: 2s - loss: 328908.4544 - mean_squared_error: 328908.46 - ETA: 2s - loss: 314492.6527 - mean_squared_error: 314492.68 - ETA: 2s - loss: 326807.8216 - mean_squared_error: 326807.78 - ETA: 2s - loss: 328708.8486 - mean_squared_error: 328708.78 - ETA: 2s - loss: 337052.9310 - mean_squared_error: 337052.90 - ETA: 2s - loss: 344884.6420 - mean_squared_error: 344884.65 - ETA: 2s - loss: 345728.3836 - mean_squared_error: 345728.34 - ETA: 2s - loss: 341197.2692 - mean_squared_error: 341197.25 - ETA: 2s - loss: 340353.8561 - mean_squared_error: 340353.81 - ETA: 2s - loss: 331272.9900 - mean_squared_error: 331272.93 - ETA: 2s - loss: 331497.5460 - mean_squared_error: 331497.40 - ETA: 2s - loss: 335733.7092 - mean_squared_error: 335733.53 - ETA: 1s - loss: 333251.5432 - mean_squared_error: 333251.43 - ETA: 1s - loss: 329334.5121 - mean_squared_error: 329334.40 - ETA: 1s - loss: 327160.2784 - mean_squared_error: 327160.18 - ETA: 1s - loss: 324251.3525 - mean_squared_error: 324251.25 - ETA: 1s - loss: 331104.9539 - mean_squared_error: 331104.84 - ETA: 1s - loss: 328193.9796 - mean_squared_error: 328193.84 - ETA: 1s - loss: 327494.9982 - mean_squared_error: 327494.90 - ETA: 1s - loss: 321779.6321 - mean_squared_error: 321779.50 - ETA: 1s - loss: 320322.7176 - mean_squared_error: 320322.65 - ETA: 1s - loss: 324410.7498 - mean_squared_error: 324410.68 - ETA: 1s - loss: 323054.4110 - mean_squared_error: 323054.43 - ETA: 1s - loss: 322059.4813 - mean_squared_error: 322059.53 - ETA: 1s - loss: 323327.4936 - mean_squared_error: 323327.53 - ETA: 1s - loss: 322703.0093 - mean_squared_error: 322703.03 - ETA: 1s - loss: 321189.3765 - mean_squared_error: 321189.37 - ETA: 1s - loss: 318593.5275 - mean_squared_error: 318593.50 - ETA: 1s - loss: 322083.7569 - mean_squared_error: 322083.71 - ETA: 0s - loss: 320754.7823 - mean_squared_error: 320754.75 - ETA: 0s - loss: 320318.2522 - mean_squared_error: 320318.21 - ETA: 0s - loss: 323403.0116 - mean_squared_error: 323402.96 - ETA: 0s - loss: 323833.2841 - mean_squared_error: 323833.21 - ETA: 0s - loss: 324154.7183 - mean_squared_error: 324154.71 - ETA: 0s - loss: 322548.7403 - mean_squared_error: 322548.68 - ETA: 0s - loss: 324730.5228 - mean_squared_error: 324730.53 - ETA: 0s - loss: 324128.2576 - mean_squared_error: 324128.25 - ETA: 0s - loss: 322417.4411 - mean_squared_error: 322417.40 - ETA: 0s - loss: 323641.3056 - mean_squared_error: 323641.12 - ETA: 0s - loss: 323960.7310 - mean_squared_error: 323960.62 - ETA: 0s - loss: 325598.2440 - mean_squared_error: 325598.12 - ETA: 0s - loss: 325557.8624 - mean_squared_error: 325557.75 - ETA: 0s - loss: 326867.2490 - mean_squared_error: 326867.18 - ETA: 0s - loss: 326684.2420 - mean_squared_error: 326684.12 - ETA: 0s - loss: 327388.3475 - mean_squared_error: 327388.25 - ETA: 0s - loss: 328290.2115 - mean_squared_error: 328290.06 - ETA: 0s - loss: 328385.3691 - mean_squared_error: 328385.25 - ETA: 0s - loss: 327016.4308 - mean_squared_error: 327016.28 - ETA: 0s - loss: 327906.3075 - mean_squared_error: 327906.12 - 3s 63us/step - loss: 328195.5969 - mean_squared_error: 328195.4375\n",
      "Epoch 82/100\n",
      "39941/39941 [==============================] - ETA: 4s - loss: 118016.2812 - mean_squared_error: 118016.28 - ETA: 3s - loss: 289135.3104 - mean_squared_error: 289135.28 - ETA: 2s - loss: 320748.2135 - mean_squared_error: 320748.15 - ETA: 2s - loss: 353204.5225 - mean_squared_error: 353204.50 - ETA: 2s - loss: 358170.6182 - mean_squared_error: 358170.62 - ETA: 2s - loss: 334799.2666 - mean_squared_error: 334799.31 - ETA: 2s - loss: 339137.6339 - mean_squared_error: 339137.68 - ETA: 2s - loss: 322471.5635 - mean_squared_error: 322471.59 - ETA: 2s - loss: 325729.5106 - mean_squared_error: 325729.56 - ETA: 2s - loss: 331992.9956 - mean_squared_error: 331993.09 - ETA: 2s - loss: 337558.7425 - mean_squared_error: 337558.90 - ETA: 2s - loss: 334537.1066 - mean_squared_error: 334537.25 - ETA: 1s - loss: 331565.1605 - mean_squared_error: 331565.25 - ETA: 1s - loss: 326919.0698 - mean_squared_error: 326919.15 - ETA: 1s - loss: 327053.7542 - mean_squared_error: 327053.84 - ETA: 1s - loss: 330629.0402 - mean_squared_error: 330629.09 - ETA: 1s - loss: 332807.9934 - mean_squared_error: 332808.09 - ETA: 1s - loss: 336783.6022 - mean_squared_error: 336783.71 - ETA: 1s - loss: 335764.0387 - mean_squared_error: 335764.18 - ETA: 1s - loss: 336251.5080 - mean_squared_error: 336251.68 - ETA: 1s - loss: 333903.8073 - mean_squared_error: 333904.00 - ETA: 1s - loss: 331484.0345 - mean_squared_error: 331484.21 - ETA: 1s - loss: 331313.1090 - mean_squared_error: 331313.31 - ETA: 1s - loss: 329127.3196 - mean_squared_error: 329127.43 - ETA: 1s - loss: 325039.0729 - mean_squared_error: 325039.18 - ETA: 1s - loss: 324601.9565 - mean_squared_error: 324602.12 - ETA: 1s - loss: 325074.5211 - mean_squared_error: 325074.65 - ETA: 1s - loss: 327309.1604 - mean_squared_error: 327309.31 - ETA: 1s - loss: 327596.8219 - mean_squared_error: 327596.93 - ETA: 0s - loss: 326691.9811 - mean_squared_error: 326692.06 - ETA: 0s - loss: 328402.8105 - mean_squared_error: 328402.93 - ETA: 0s - loss: 330858.4403 - mean_squared_error: 330858.56 - ETA: 0s - loss: 330162.4937 - mean_squared_error: 330162.62 - ETA: 0s - loss: 330576.5462 - mean_squared_error: 330576.68 - ETA: 0s - loss: 329840.0895 - mean_squared_error: 329840.21 - ETA: 0s - loss: 329952.8128 - mean_squared_error: 329952.93 - ETA: 0s - loss: 328357.3244 - mean_squared_error: 328357.37 - ETA: 0s - loss: 329128.7979 - mean_squared_error: 329128.90 - ETA: 0s - loss: 328318.8036 - mean_squared_error: 328318.90 - ETA: 0s - loss: 328056.2452 - mean_squared_error: 328056.37 - ETA: 0s - loss: 328576.8537 - mean_squared_error: 328576.96 - ETA: 0s - loss: 328014.6474 - mean_squared_error: 328014.78 - ETA: 0s - loss: 328893.6150 - mean_squared_error: 328893.75 - ETA: 0s - loss: 329745.4396 - mean_squared_error: 329745.53 - ETA: 0s - loss: 329562.7932 - mean_squared_error: 329562.90 - ETA: 0s - loss: 330247.5987 - mean_squared_error: 330247.71 - ETA: 0s - loss: 328020.2270 - mean_squared_error: 328020.31 - ETA: 0s - loss: 326409.3706 - mean_squared_error: 326409.43 - ETA: 0s - loss: 327422.4647 - mean_squared_error: 327422.53 - 2s 62us/step - loss: 326630.6372 - mean_squared_error: 326630.7500\n",
      "Epoch 83/100\n",
      "39941/39941 [==============================] - ETA: 5s - loss: 189488.7812 - mean_squared_error: 189488.78 - ETA: 2s - loss: 309392.5272 - mean_squared_error: 309392.53 - ETA: 2s - loss: 286229.3289 - mean_squared_error: 286229.34 - ETA: 2s - loss: 302278.0857 - mean_squared_error: 302278.09 - ETA: 2s - loss: 297351.4491 - mean_squared_error: 297351.46 - ETA: 2s - loss: 299568.5775 - mean_squared_error: 299568.50 - ETA: 2s - loss: 303066.0163 - mean_squared_error: 303065.93 - ETA: 2s - loss: 299777.4930 - mean_squared_error: 299777.43 - ETA: 2s - loss: 298811.6338 - mean_squared_error: 298811.59 - ETA: 2s - loss: 300414.7785 - mean_squared_error: 300414.81 - ETA: 2s - loss: 304348.2080 - mean_squared_error: 304348.15 - ETA: 2s - loss: 297514.1144 - mean_squared_error: 297514.09 - ETA: 2s - loss: 303981.1696 - mean_squared_error: 303981.15 - ETA: 1s - loss: 304874.9486 - mean_squared_error: 304874.93 - ETA: 1s - loss: 307109.9702 - mean_squared_error: 307109.93 - ETA: 1s - loss: 308821.0291 - mean_squared_error: 308821.00 - ETA: 1s - loss: 308755.2101 - mean_squared_error: 308755.18 - ETA: 1s - loss: 310313.4099 - mean_squared_error: 310313.34 - ETA: 1s - loss: 307859.9824 - mean_squared_error: 307859.93 - ETA: 1s - loss: 310804.8897 - mean_squared_error: 310804.84 - ETA: 1s - loss: 311923.5973 - mean_squared_error: 311923.50 - ETA: 1s - loss: 312733.8669 - mean_squared_error: 312733.81 - ETA: 1s - loss: 312521.0361 - mean_squared_error: 312521.00 - ETA: 1s - loss: 312726.3039 - mean_squared_error: 312726.25 - ETA: 1s - loss: 318133.1817 - mean_squared_error: 318133.12 - ETA: 1s - loss: 317096.7708 - mean_squared_error: 317096.78 - ETA: 1s - loss: 321591.3440 - mean_squared_error: 321591.31 - ETA: 1s - loss: 319549.9539 - mean_squared_error: 319549.90 - ETA: 1s - loss: 320837.1601 - mean_squared_error: 320837.06 - ETA: 1s - loss: 320740.0824 - mean_squared_error: 320739.96 - ETA: 1s - loss: 321273.7599 - mean_squared_error: 321273.68 - ETA: 1s - loss: 322062.9165 - mean_squared_error: 322062.84 - ETA: 0s - loss: 326819.3158 - mean_squared_error: 326819.25 - ETA: 0s - loss: 329237.0003 - mean_squared_error: 329236.93 - ETA: 0s - loss: 328225.1840 - mean_squared_error: 328225.09 - ETA: 0s - loss: 329465.5210 - mean_squared_error: 329465.40 - ETA: 0s - loss: 329415.6361 - mean_squared_error: 329415.62 - ETA: 0s - loss: 330688.2256 - mean_squared_error: 330688.25 - ETA: 0s - loss: 331137.2823 - mean_squared_error: 331137.25 - ETA: 0s - loss: 331694.3291 - mean_squared_error: 331694.34 - ETA: 0s - loss: 329080.7490 - mean_squared_error: 329080.71 - ETA: 0s - loss: 331774.0913 - mean_squared_error: 331773.96 - ETA: 0s - loss: 329696.3415 - mean_squared_error: 329696.25 - ETA: 0s - loss: 328575.0191 - mean_squared_error: 328574.87 - ETA: 0s - loss: 329004.4422 - mean_squared_error: 329004.25 - ETA: 0s - loss: 328324.2327 - mean_squared_error: 328324.03 - ETA: 0s - loss: 326709.2156 - mean_squared_error: 326709.03 - ETA: 0s - loss: 326335.4824 - mean_squared_error: 326335.28 - ETA: 0s - loss: 325459.4651 - mean_squared_error: 325459.25 - ETA: 0s - loss: 325668.4149 - mean_squared_error: 325668.25 - 3s 64us/step - loss: 326829.8506 - mean_squared_error: 326829.6562\n",
      "Epoch 84/100\n",
      "39941/39941 [==============================] - ETA: 5s - loss: 343312.5000 - mean_squared_error: 343312.50 - ETA: 2s - loss: 231396.9026 - mean_squared_error: 231396.90 - ETA: 2s - loss: 276537.7601 - mean_squared_error: 276537.75 - ETA: 2s - loss: 320991.9721 - mean_squared_error: 320992.06 - ETA: 2s - loss: 314652.4860 - mean_squared_error: 314652.56 - ETA: 2s - loss: 325908.3360 - mean_squared_error: 325908.46 - ETA: 2s - loss: 349046.0992 - mean_squared_error: 349046.12 - ETA: 2s - loss: 345368.6643 - mean_squared_error: 345368.62 - ETA: 2s - loss: 348453.7959 - mean_squared_error: 348453.68 - ETA: 2s - loss: 351637.1578 - mean_squared_error: 351637.00 - ETA: 2s - loss: 346667.4003 - mean_squared_error: 346667.21 - ETA: 1s - loss: 345355.7811 - mean_squared_error: 345355.65 - ETA: 1s - loss: 342200.4497 - mean_squared_error: 342200.25 - ETA: 1s - loss: 339550.9668 - mean_squared_error: 339550.81 - ETA: 1s - loss: 336314.7538 - mean_squared_error: 336314.56 - ETA: 1s - loss: 337786.9534 - mean_squared_error: 337786.78 - ETA: 1s - loss: 338667.5186 - mean_squared_error: 338667.40 - ETA: 1s - loss: 334216.3023 - mean_squared_error: 334216.28 - ETA: 1s - loss: 332005.6478 - mean_squared_error: 332005.56 - ETA: 1s - loss: 336411.7939 - mean_squared_error: 336411.68 - ETA: 1s - loss: 340125.6695 - mean_squared_error: 340125.56 - ETA: 1s - loss: 337381.5134 - mean_squared_error: 337381.40 - ETA: 1s - loss: 332141.8173 - mean_squared_error: 332141.75 - ETA: 1s - loss: 327880.8407 - mean_squared_error: 327880.78 - ETA: 1s - loss: 331086.1292 - mean_squared_error: 331086.12 - ETA: 1s - loss: 328700.5732 - mean_squared_error: 328700.59 - ETA: 1s - loss: 328745.8012 - mean_squared_error: 328745.78 - ETA: 1s - loss: 329068.0935 - mean_squared_error: 329068.03 - ETA: 1s - loss: 328565.8526 - mean_squared_error: 328565.78 - ETA: 1s - loss: 328271.6399 - mean_squared_error: 328271.56 - ETA: 0s - loss: 326065.8591 - mean_squared_error: 326065.78 - ETA: 0s - loss: 328045.7356 - mean_squared_error: 328045.71 - ETA: 0s - loss: 326961.2748 - mean_squared_error: 326961.25 - ETA: 0s - loss: 327329.1236 - mean_squared_error: 327329.15 - ETA: 0s - loss: 327306.0047 - mean_squared_error: 327306.00 - ETA: 0s - loss: 327316.4524 - mean_squared_error: 327316.43 - ETA: 0s - loss: 327551.0985 - mean_squared_error: 327551.12 - ETA: 0s - loss: 326922.1219 - mean_squared_error: 326922.15 - ETA: 0s - loss: 326659.1695 - mean_squared_error: 326659.21 - ETA: 0s - loss: 326583.8191 - mean_squared_error: 326583.87 - ETA: 0s - loss: 325286.1904 - mean_squared_error: 325286.25 - ETA: 0s - loss: 325975.9221 - mean_squared_error: 325976.03 - ETA: 0s - loss: 325893.6023 - mean_squared_error: 325893.71 - ETA: 0s - loss: 326407.7080 - mean_squared_error: 326407.87 - ETA: 0s - loss: 324107.4328 - mean_squared_error: 324107.59 - ETA: 0s - loss: 323537.2947 - mean_squared_error: 323537.50 - ETA: 0s - loss: 324159.7977 - mean_squared_error: 324160.03 - ETA: 0s - loss: 324228.6982 - mean_squared_error: 324228.93 - ETA: 0s - loss: 324301.4189 - mean_squared_error: 324301.75 - 2s 61us/step - loss: 324464.2208 - mean_squared_error: 324464.5938\n",
      "Epoch 85/100\n"
     ]
    },
    {
     "name": "stdout",
     "output_type": "stream",
     "text": [
      "39941/39941 [==============================] - ETA: 4s - loss: 71773.5312 - mean_squared_error: 71773.53 - ETA: 2s - loss: 315898.0775 - mean_squared_error: 315898.06 - ETA: 2s - loss: 314845.0697 - mean_squared_error: 314845.03 - ETA: 2s - loss: 312245.2046 - mean_squared_error: 312245.25 - ETA: 2s - loss: 305501.7720 - mean_squared_error: 305501.81 - ETA: 2s - loss: 307426.7807 - mean_squared_error: 307426.84 - ETA: 2s - loss: 311548.9796 - mean_squared_error: 311549.09 - ETA: 2s - loss: 325834.1744 - mean_squared_error: 325834.34 - ETA: 2s - loss: 329873.8736 - mean_squared_error: 329874.03 - ETA: 2s - loss: 327245.3764 - mean_squared_error: 327245.53 - ETA: 2s - loss: 318887.4096 - mean_squared_error: 318887.56 - ETA: 1s - loss: 311990.5815 - mean_squared_error: 311990.71 - ETA: 1s - loss: 320933.2358 - mean_squared_error: 320933.31 - ETA: 1s - loss: 319389.0608 - mean_squared_error: 319389.09 - ETA: 1s - loss: 326075.7348 - mean_squared_error: 326075.84 - ETA: 1s - loss: 329415.2281 - mean_squared_error: 329415.31 - ETA: 1s - loss: 330271.4507 - mean_squared_error: 330271.53 - ETA: 1s - loss: 330603.3562 - mean_squared_error: 330603.40 - ETA: 1s - loss: 326168.1702 - mean_squared_error: 326168.18 - ETA: 1s - loss: 330500.2069 - mean_squared_error: 330500.28 - ETA: 1s - loss: 330098.0040 - mean_squared_error: 330098.06 - ETA: 1s - loss: 331047.8087 - mean_squared_error: 331047.84 - ETA: 1s - loss: 328461.0926 - mean_squared_error: 328461.15 - ETA: 1s - loss: 327337.1281 - mean_squared_error: 327337.18 - ETA: 1s - loss: 326483.0410 - mean_squared_error: 326483.12 - ETA: 1s - loss: 323123.4422 - mean_squared_error: 323123.53 - ETA: 1s - loss: 326039.5669 - mean_squared_error: 326039.62 - ETA: 1s - loss: 325461.0776 - mean_squared_error: 325461.12 - ETA: 1s - loss: 328832.8649 - mean_squared_error: 328832.84 - ETA: 1s - loss: 327600.6804 - mean_squared_error: 327600.68 - ETA: 0s - loss: 330244.6691 - mean_squared_error: 330244.68 - ETA: 0s - loss: 330510.6282 - mean_squared_error: 330510.59 - ETA: 0s - loss: 329784.1337 - mean_squared_error: 329784.09 - ETA: 0s - loss: 329209.7707 - mean_squared_error: 329209.78 - ETA: 0s - loss: 327279.3637 - mean_squared_error: 327279.40 - ETA: 0s - loss: 325108.0232 - mean_squared_error: 325108.00 - ETA: 0s - loss: 328917.6043 - mean_squared_error: 328917.56 - ETA: 0s - loss: 329143.2486 - mean_squared_error: 329143.12 - ETA: 0s - loss: 331199.5391 - mean_squared_error: 331199.40 - ETA: 0s - loss: 329309.3286 - mean_squared_error: 329309.12 - ETA: 0s - loss: 330764.4614 - mean_squared_error: 330764.34 - ETA: 0s - loss: 330418.9609 - mean_squared_error: 330418.81 - ETA: 0s - loss: 329557.4543 - mean_squared_error: 329557.28 - ETA: 0s - loss: 327426.1688 - mean_squared_error: 327425.96 - ETA: 0s - loss: 326670.4156 - mean_squared_error: 326670.21 - ETA: 0s - loss: 325134.6457 - mean_squared_error: 325134.43 - ETA: 0s - loss: 325133.8099 - mean_squared_error: 325133.53 - ETA: 0s - loss: 324696.6724 - mean_squared_error: 324696.43 - ETA: 0s - loss: 324557.5075 - mean_squared_error: 324557.31 - 2s 61us/step - loss: 324523.4619 - mean_squared_error: 324523.2812\n",
      "Epoch 86/100\n",
      "39941/39941 [==============================] - ETA: 3s - loss: 539526.5000 - mean_squared_error: 539526.50 - ETA: 2s - loss: 364996.7443 - mean_squared_error: 364996.71 - ETA: 2s - loss: 327427.7320 - mean_squared_error: 327427.78 - ETA: 2s - loss: 325365.7049 - mean_squared_error: 325365.78 - ETA: 2s - loss: 319207.3730 - mean_squared_error: 319207.34 - ETA: 2s - loss: 318065.8813 - mean_squared_error: 318065.87 - ETA: 2s - loss: 308017.0916 - mean_squared_error: 308017.06 - ETA: 2s - loss: 301339.6319 - mean_squared_error: 301339.59 - ETA: 2s - loss: 306029.2786 - mean_squared_error: 306029.31 - ETA: 2s - loss: 314471.5737 - mean_squared_error: 314471.59 - ETA: 2s - loss: 326219.3334 - mean_squared_error: 326219.34 - ETA: 2s - loss: 328153.0537 - mean_squared_error: 328153.00 - ETA: 2s - loss: 327906.9687 - mean_squared_error: 327906.93 - ETA: 1s - loss: 324449.9059 - mean_squared_error: 324449.93 - ETA: 1s - loss: 320851.0232 - mean_squared_error: 320851.00 - ETA: 1s - loss: 323157.8209 - mean_squared_error: 323157.75 - ETA: 1s - loss: 321009.2830 - mean_squared_error: 321009.25 - ETA: 1s - loss: 316758.8644 - mean_squared_error: 316758.84 - ETA: 1s - loss: 315050.0364 - mean_squared_error: 315050.06 - ETA: 1s - loss: 318659.2440 - mean_squared_error: 318659.28 - ETA: 1s - loss: 320483.7156 - mean_squared_error: 320483.78 - ETA: 1s - loss: 325301.9935 - mean_squared_error: 325302.03 - ETA: 1s - loss: 326460.1642 - mean_squared_error: 326460.21 - ETA: 1s - loss: 327536.1637 - mean_squared_error: 327536.18 - ETA: 1s - loss: 324960.1481 - mean_squared_error: 324960.21 - ETA: 1s - loss: 322360.2736 - mean_squared_error: 322360.31 - ETA: 1s - loss: 321802.7866 - mean_squared_error: 321802.78 - ETA: 1s - loss: 320796.9942 - mean_squared_error: 320797.00 - ETA: 1s - loss: 322092.5381 - mean_squared_error: 322092.53 - ETA: 0s - loss: 325013.5594 - mean_squared_error: 325013.59 - ETA: 0s - loss: 326245.6068 - mean_squared_error: 326245.65 - ETA: 0s - loss: 326595.1868 - mean_squared_error: 326595.28 - ETA: 0s - loss: 327674.7430 - mean_squared_error: 327674.84 - ETA: 0s - loss: 328707.6454 - mean_squared_error: 328707.71 - ETA: 0s - loss: 328517.4468 - mean_squared_error: 328517.53 - ETA: 0s - loss: 328896.5764 - mean_squared_error: 328896.68 - ETA: 0s - loss: 329529.0261 - mean_squared_error: 329529.12 - ETA: 0s - loss: 330028.2742 - mean_squared_error: 330028.43 - ETA: 0s - loss: 329616.1825 - mean_squared_error: 329616.31 - ETA: 0s - loss: 329668.4655 - mean_squared_error: 329668.56 - ETA: 0s - loss: 329001.8377 - mean_squared_error: 329001.93 - ETA: 0s - loss: 327447.3959 - mean_squared_error: 327447.53 - ETA: 0s - loss: 328021.4452 - mean_squared_error: 328021.53 - ETA: 0s - loss: 326587.1538 - mean_squared_error: 326587.21 - ETA: 0s - loss: 326113.2353 - mean_squared_error: 326113.28 - ETA: 0s - loss: 328743.3113 - mean_squared_error: 328743.40 - ETA: 0s - loss: 327578.1425 - mean_squared_error: 327578.21 - ETA: 0s - loss: 326770.1723 - mean_squared_error: 326770.25 - ETA: 0s - loss: 326245.1634 - mean_squared_error: 326245.28 - ETA: 0s - loss: 324753.4666 - mean_squared_error: 324753.56 - 3s 64us/step - loss: 325687.5102 - mean_squared_error: 325687.5938\n",
      "Epoch 87/100\n",
      "39941/39941 [==============================] - ETA: 6s - loss: 639994.7500 - mean_squared_error: 639994.75 - ETA: 2s - loss: 319246.9947 - mean_squared_error: 319247.00 - ETA: 2s - loss: 358235.3682 - mean_squared_error: 358235.37 - ETA: 2s - loss: 362789.2494 - mean_squared_error: 362789.28 - ETA: 2s - loss: 344709.3003 - mean_squared_error: 344709.34 - ETA: 2s - loss: 355940.6634 - mean_squared_error: 355940.78 - ETA: 2s - loss: 345811.2854 - mean_squared_error: 345811.40 - ETA: 2s - loss: 340921.9950 - mean_squared_error: 340922.15 - ETA: 2s - loss: 334702.3261 - mean_squared_error: 334702.46 - ETA: 2s - loss: 334360.7863 - mean_squared_error: 334360.87 - ETA: 1s - loss: 334020.1484 - mean_squared_error: 334020.18 - ETA: 1s - loss: 330959.3979 - mean_squared_error: 330959.43 - ETA: 1s - loss: 323786.6630 - mean_squared_error: 323786.71 - ETA: 1s - loss: 318852.5361 - mean_squared_error: 318852.56 - ETA: 1s - loss: 320529.8690 - mean_squared_error: 320529.90 - ETA: 1s - loss: 321215.0763 - mean_squared_error: 321215.12 - ETA: 1s - loss: 320308.1934 - mean_squared_error: 320308.21 - ETA: 1s - loss: 320916.0565 - mean_squared_error: 320916.09 - ETA: 1s - loss: 319265.9642 - mean_squared_error: 319266.06 - ETA: 1s - loss: 316196.6193 - mean_squared_error: 316196.71 - ETA: 1s - loss: 324812.4470 - mean_squared_error: 324812.59 - ETA: 1s - loss: 323811.6673 - mean_squared_error: 323811.78 - ETA: 1s - loss: 325846.7306 - mean_squared_error: 325846.81 - ETA: 1s - loss: 324207.3234 - mean_squared_error: 324207.37 - ETA: 1s - loss: 323381.8442 - mean_squared_error: 323381.87 - ETA: 1s - loss: 320820.2458 - mean_squared_error: 320820.18 - ETA: 1s - loss: 323627.4865 - mean_squared_error: 323627.43 - ETA: 1s - loss: 329134.2827 - mean_squared_error: 329134.21 - ETA: 1s - loss: 331945.7443 - mean_squared_error: 331945.65 - ETA: 0s - loss: 330479.3521 - mean_squared_error: 330479.28 - ETA: 0s - loss: 328011.7755 - mean_squared_error: 328011.68 - ETA: 0s - loss: 327254.1253 - mean_squared_error: 327254.03 - ETA: 0s - loss: 327090.4139 - mean_squared_error: 327090.28 - ETA: 0s - loss: 325367.4261 - mean_squared_error: 325367.37 - ETA: 0s - loss: 326138.5115 - mean_squared_error: 326138.50 - ETA: 0s - loss: 325453.2919 - mean_squared_error: 325453.34 - ETA: 0s - loss: 325820.6801 - mean_squared_error: 325820.78 - ETA: 0s - loss: 326108.7470 - mean_squared_error: 326108.78 - ETA: 0s - loss: 327177.4591 - mean_squared_error: 327177.53 - ETA: 0s - loss: 325461.8092 - mean_squared_error: 325461.90 - ETA: 0s - loss: 326402.7312 - mean_squared_error: 326402.81 - ETA: 0s - loss: 327794.2421 - mean_squared_error: 327794.25 - ETA: 0s - loss: 326602.0927 - mean_squared_error: 326602.12 - ETA: 0s - loss: 325912.8446 - mean_squared_error: 325912.90 - ETA: 0s - loss: 326059.3599 - mean_squared_error: 326059.37 - ETA: 0s - loss: 326029.2126 - mean_squared_error: 326029.12 - ETA: 0s - loss: 324932.1694 - mean_squared_error: 324932.09 - ETA: 0s - loss: 324979.4178 - mean_squared_error: 324979.37 - 2s 61us/step - loss: 324038.7339 - mean_squared_error: 324038.7500\n",
      "Epoch 88/100\n",
      "39941/39941 [==============================] - ETA: 6s - loss: 338248.1875 - mean_squared_error: 338248.18 - ETA: 2s - loss: 311757.1228 - mean_squared_error: 311757.15 - ETA: 2s - loss: 351753.6183 - mean_squared_error: 351753.62 - ETA: 2s - loss: 340734.5047 - mean_squared_error: 340734.53 - ETA: 2s - loss: 323212.1814 - mean_squared_error: 323212.18 - ETA: 2s - loss: 317747.2447 - mean_squared_error: 317747.25 - ETA: 2s - loss: 324604.1328 - mean_squared_error: 324604.18 - ETA: 2s - loss: 328431.3000 - mean_squared_error: 328431.34 - ETA: 2s - loss: 323571.9314 - mean_squared_error: 323571.96 - ETA: 1s - loss: 327954.8358 - mean_squared_error: 327954.90 - ETA: 1s - loss: 324070.6243 - mean_squared_error: 324070.71 - ETA: 1s - loss: 323210.5476 - mean_squared_error: 323210.65 - ETA: 1s - loss: 318746.1645 - mean_squared_error: 318746.34 - ETA: 1s - loss: 316654.8200 - mean_squared_error: 316655.00 - ETA: 1s - loss: 315863.8607 - mean_squared_error: 315864.03 - ETA: 1s - loss: 312891.2392 - mean_squared_error: 312891.40 - ETA: 1s - loss: 309348.9460 - mean_squared_error: 309349.15 - ETA: 1s - loss: 310260.1058 - mean_squared_error: 310260.28 - ETA: 1s - loss: 310281.9098 - mean_squared_error: 310282.12 - ETA: 1s - loss: 313847.2999 - mean_squared_error: 313847.53 - ETA: 1s - loss: 310743.8127 - mean_squared_error: 310744.09 - ETA: 1s - loss: 311678.9977 - mean_squared_error: 311679.28 - ETA: 1s - loss: 312609.1210 - mean_squared_error: 312609.40 - ETA: 1s - loss: 315166.4395 - mean_squared_error: 315166.75 - ETA: 1s - loss: 315412.9596 - mean_squared_error: 315413.25 - ETA: 1s - loss: 312930.4928 - mean_squared_error: 312930.81 - ETA: 1s - loss: 312292.0393 - mean_squared_error: 312292.43 - ETA: 1s - loss: 311889.6010 - mean_squared_error: 311889.96 - ETA: 1s - loss: 311831.2967 - mean_squared_error: 311831.71 - ETA: 0s - loss: 312201.6517 - mean_squared_error: 312202.06 - ETA: 0s - loss: 313787.1118 - mean_squared_error: 313787.50 - ETA: 0s - loss: 313154.3583 - mean_squared_error: 313154.75 - ETA: 0s - loss: 311973.0815 - mean_squared_error: 311973.50 - ETA: 0s - loss: 311770.0530 - mean_squared_error: 311770.46 - ETA: 0s - loss: 313700.0795 - mean_squared_error: 313700.56 - ETA: 0s - loss: 312434.1046 - mean_squared_error: 312434.62 - ETA: 0s - loss: 311901.0850 - mean_squared_error: 311901.62 - ETA: 0s - loss: 314409.7965 - mean_squared_error: 314410.37 - ETA: 0s - loss: 313694.0613 - mean_squared_error: 313694.59 - ETA: 0s - loss: 316480.0821 - mean_squared_error: 316480.62 - ETA: 0s - loss: 316273.0927 - mean_squared_error: 316273.62 - ETA: 0s - loss: 317627.0776 - mean_squared_error: 317627.65 - ETA: 0s - loss: 317555.4778 - mean_squared_error: 317556.00 - ETA: 0s - loss: 317358.1385 - mean_squared_error: 317358.56 - ETA: 0s - loss: 317747.6255 - mean_squared_error: 317748.03 - ETA: 0s - loss: 321305.6734 - mean_squared_error: 321306.09 - ETA: 0s - loss: 319503.9027 - mean_squared_error: 319504.31 - ETA: 0s - loss: 318709.5129 - mean_squared_error: 318709.87 - ETA: 0s - loss: 321069.9014 - mean_squared_error: 321070.21 - 2s 61us/step - loss: 321226.4120 - mean_squared_error: 321226.7188\n",
      "Epoch 89/100\n"
     ]
    },
    {
     "name": "stdout",
     "output_type": "stream",
     "text": [
      "39941/39941 [==============================] - ETA: 5s - loss: 240062.7031 - mean_squared_error: 240062.70 - ETA: 2s - loss: 249770.9366 - mean_squared_error: 249770.93 - ETA: 2s - loss: 292430.5380 - mean_squared_error: 292430.56 - ETA: 2s - loss: 287856.9615 - mean_squared_error: 287856.96 - ETA: 2s - loss: 300168.3322 - mean_squared_error: 300168.34 - ETA: 2s - loss: 312579.1248 - mean_squared_error: 312579.12 - ETA: 2s - loss: 312676.0253 - mean_squared_error: 312676.06 - ETA: 2s - loss: 318218.5447 - mean_squared_error: 318218.53 - ETA: 2s - loss: 311512.3202 - mean_squared_error: 311512.31 - ETA: 3s - loss: 308282.5037 - mean_squared_error: 308282.53 - ETA: 3s - loss: 309147.1499 - mean_squared_error: 309147.15 - ETA: 3s - loss: 316548.3624 - mean_squared_error: 316548.37 - ETA: 3s - loss: 316650.0603 - mean_squared_error: 316650.06 - ETA: 3s - loss: 315224.5508 - mean_squared_error: 315224.56 - ETA: 3s - loss: 317858.0118 - mean_squared_error: 317858.03 - ETA: 3s - loss: 320480.1432 - mean_squared_error: 320480.18 - ETA: 3s - loss: 322180.1300 - mean_squared_error: 322180.15 - ETA: 3s - loss: 324524.3640 - mean_squared_error: 324524.34 - ETA: 3s - loss: 324305.3971 - mean_squared_error: 324305.34 - ETA: 3s - loss: 327293.6363 - mean_squared_error: 327293.59 - ETA: 3s - loss: 335903.9398 - mean_squared_error: 335903.90 - ETA: 3s - loss: 337395.7488 - mean_squared_error: 337395.65 - ETA: 3s - loss: 334300.6587 - mean_squared_error: 334300.59 - ETA: 3s - loss: 332031.1009 - mean_squared_error: 332030.96 - ETA: 3s - loss: 331458.9672 - mean_squared_error: 331458.84 - ETA: 3s - loss: 332592.8777 - mean_squared_error: 332592.75 - ETA: 3s - loss: 333348.7507 - mean_squared_error: 333348.65 - ETA: 3s - loss: 331125.5833 - mean_squared_error: 331125.50 - ETA: 3s - loss: 332412.5346 - mean_squared_error: 332412.43 - ETA: 3s - loss: 330915.1421 - mean_squared_error: 330915.06 - ETA: 3s - loss: 328574.5365 - mean_squared_error: 328574.46 - ETA: 3s - loss: 331224.7678 - mean_squared_error: 331224.71 - ETA: 3s - loss: 329210.0058 - mean_squared_error: 329209.93 - ETA: 3s - loss: 328588.8487 - mean_squared_error: 328588.78 - ETA: 3s - loss: 329414.7618 - mean_squared_error: 329414.65 - ETA: 3s - loss: 326342.0861 - mean_squared_error: 326341.93 - ETA: 3s - loss: 330242.8640 - mean_squared_error: 330242.68 - ETA: 2s - loss: 327244.9178 - mean_squared_error: 327244.78 - ETA: 2s - loss: 326784.6704 - mean_squared_error: 326784.46 - ETA: 2s - loss: 325860.8313 - mean_squared_error: 325860.62 - ETA: 2s - loss: 325885.3423 - mean_squared_error: 325885.21 - ETA: 2s - loss: 323092.5694 - mean_squared_error: 323092.46 - ETA: 2s - loss: 324221.1331 - mean_squared_error: 324221.06 - ETA: 1s - loss: 326398.8354 - mean_squared_error: 326398.68 - ETA: 1s - loss: 326908.6415 - mean_squared_error: 326908.46 - ETA: 1s - loss: 325277.9337 - mean_squared_error: 325277.75 - ETA: 1s - loss: 326322.3600 - mean_squared_error: 326322.18 - ETA: 1s - loss: 326777.9972 - mean_squared_error: 326777.81 - ETA: 1s - loss: 324596.3247 - mean_squared_error: 324596.15 - ETA: 1s - loss: 323453.7494 - mean_squared_error: 323453.59 - ETA: 1s - loss: 324142.4510 - mean_squared_error: 324142.31 - ETA: 1s - loss: 324143.1662 - mean_squared_error: 324143.09 - ETA: 1s - loss: 325527.0725 - mean_squared_error: 325527.03 - ETA: 0s - loss: 325831.9121 - mean_squared_error: 325831.90 - ETA: 0s - loss: 325936.9806 - mean_squared_error: 325937.03 - ETA: 0s - loss: 328813.2975 - mean_squared_error: 328813.28 - ETA: 0s - loss: 327261.8309 - mean_squared_error: 327261.75 - ETA: 0s - loss: 326080.5417 - mean_squared_error: 326080.37 - ETA: 0s - loss: 326769.0631 - mean_squared_error: 326768.90 - ETA: 0s - loss: 327017.4693 - mean_squared_error: 327017.25 - ETA: 0s - loss: 325472.6801 - mean_squared_error: 325472.50 - ETA: 0s - loss: 325250.3699 - mean_squared_error: 325250.15 - ETA: 0s - loss: 324965.9483 - mean_squared_error: 324965.68 - ETA: 0s - loss: 325267.0412 - mean_squared_error: 325266.78 - ETA: 0s - loss: 327037.8368 - mean_squared_error: 327037.62 - ETA: 0s - loss: 325083.7983 - mean_squared_error: 325083.56 - 3s 85us/step - loss: 325381.6395 - mean_squared_error: 325381.4062\n",
      "Epoch 90/100\n",
      "39941/39941 [==============================] - ETA: 6s - loss: 334465.6250 - mean_squared_error: 334465.62 - ETA: 2s - loss: 378231.3398 - mean_squared_error: 378231.34 - ETA: 2s - loss: 339321.5755 - mean_squared_error: 339321.56 - ETA: 2s - loss: 323806.1863 - mean_squared_error: 323806.18 - ETA: 2s - loss: 323898.8939 - mean_squared_error: 323898.87 - ETA: 2s - loss: 325100.6498 - mean_squared_error: 325100.68 - ETA: 2s - loss: 317368.8947 - mean_squared_error: 317369.00 - ETA: 2s - loss: 321315.4533 - mean_squared_error: 321315.56 - ETA: 2s - loss: 324741.3590 - mean_squared_error: 324741.46 - ETA: 2s - loss: 320178.4737 - mean_squared_error: 320178.59 - ETA: 2s - loss: 313889.7542 - mean_squared_error: 313889.87 - ETA: 2s - loss: 319014.5271 - mean_squared_error: 319014.59 - ETA: 2s - loss: 318169.9323 - mean_squared_error: 318169.93 - ETA: 1s - loss: 319236.0975 - mean_squared_error: 319236.06 - ETA: 1s - loss: 316201.8540 - mean_squared_error: 316201.81 - ETA: 1s - loss: 321993.0515 - mean_squared_error: 321993.00 - ETA: 1s - loss: 324517.0388 - mean_squared_error: 324517.03 - ETA: 1s - loss: 320095.0277 - mean_squared_error: 320095.00 - ETA: 1s - loss: 313895.1443 - mean_squared_error: 313895.18 - ETA: 1s - loss: 313450.2604 - mean_squared_error: 313450.31 - ETA: 1s - loss: 316589.9081 - mean_squared_error: 316590.00 - ETA: 1s - loss: 319906.9215 - mean_squared_error: 319907.03 - ETA: 1s - loss: 320732.0237 - mean_squared_error: 320732.06 - ETA: 1s - loss: 322377.4989 - mean_squared_error: 322377.59 - ETA: 1s - loss: 320923.0081 - mean_squared_error: 320922.96 - ETA: 1s - loss: 321733.2100 - mean_squared_error: 321733.12 - ETA: 1s - loss: 321748.1696 - mean_squared_error: 321748.12 - ETA: 1s - loss: 323006.6361 - mean_squared_error: 323006.56 - ETA: 1s - loss: 323270.1236 - mean_squared_error: 323270.03 - ETA: 1s - loss: 321662.7185 - mean_squared_error: 321662.59 - ETA: 1s - loss: 321781.0422 - mean_squared_error: 321780.93 - ETA: 0s - loss: 319917.4837 - mean_squared_error: 319917.37 - ETA: 0s - loss: 318842.9578 - mean_squared_error: 318842.84 - ETA: 0s - loss: 315926.9336 - mean_squared_error: 315926.87 - ETA: 0s - loss: 315064.3700 - mean_squared_error: 315064.31 - ETA: 0s - loss: 316751.4050 - mean_squared_error: 316751.37 - ETA: 0s - loss: 315481.4945 - mean_squared_error: 315481.43 - ETA: 0s - loss: 315315.9161 - mean_squared_error: 315315.87 - ETA: 0s - loss: 316003.5294 - mean_squared_error: 316003.46 - ETA: 0s - loss: 316625.7693 - mean_squared_error: 316625.75 - ETA: 0s - loss: 317376.6752 - mean_squared_error: 317376.59 - ETA: 0s - loss: 317132.9563 - mean_squared_error: 317132.84 - ETA: 0s - loss: 317457.3938 - mean_squared_error: 317457.25 - ETA: 0s - loss: 318739.2984 - mean_squared_error: 318739.15 - ETA: 0s - loss: 321471.1640 - mean_squared_error: 321471.15 - ETA: 0s - loss: 322515.5873 - mean_squared_error: 322515.59 - ETA: 0s - loss: 321033.2260 - mean_squared_error: 321033.21 - ETA: 0s - loss: 320647.4615 - mean_squared_error: 320647.43 - ETA: 0s - loss: 320734.7201 - mean_squared_error: 320734.68 - 2s 63us/step - loss: 320689.6997 - mean_squared_error: 320689.6562\n",
      "Epoch 91/100\n",
      "39941/39941 [==============================] - ETA: 5s - loss: 259523.1875 - mean_squared_error: 259523.18 - ETA: 2s - loss: 312573.8298 - mean_squared_error: 312573.78 - ETA: 2s - loss: 297462.8683 - mean_squared_error: 297462.84 - ETA: 2s - loss: 298064.0895 - mean_squared_error: 298064.15 - ETA: 2s - loss: 298211.6499 - mean_squared_error: 298211.68 - ETA: 2s - loss: 302407.5789 - mean_squared_error: 302407.65 - ETA: 2s - loss: 292756.5182 - mean_squared_error: 292756.59 - ETA: 2s - loss: 295206.3793 - mean_squared_error: 295206.50 - ETA: 2s - loss: 296119.0380 - mean_squared_error: 296119.18 - ETA: 2s - loss: 297710.2507 - mean_squared_error: 297710.40 - ETA: 2s - loss: 304528.7518 - mean_squared_error: 304528.93 - ETA: 2s - loss: 317118.6357 - mean_squared_error: 317118.78 - ETA: 1s - loss: 317513.7219 - mean_squared_error: 317513.84 - ETA: 1s - loss: 319173.6450 - mean_squared_error: 319173.78 - ETA: 1s - loss: 319726.3123 - mean_squared_error: 319726.50 - ETA: 1s - loss: 316367.9819 - mean_squared_error: 316368.18 - ETA: 1s - loss: 315391.3848 - mean_squared_error: 315391.53 - ETA: 1s - loss: 311774.8207 - mean_squared_error: 311774.93 - ETA: 1s - loss: 314944.8668 - mean_squared_error: 314945.03 - ETA: 1s - loss: 317632.0473 - mean_squared_error: 317632.18 - ETA: 1s - loss: 319473.9244 - mean_squared_error: 319474.06 - ETA: 1s - loss: 319600.8314 - mean_squared_error: 319600.93 - ETA: 1s - loss: 324730.5758 - mean_squared_error: 324730.65 - ETA: 1s - loss: 323847.7955 - mean_squared_error: 323847.84 - ETA: 1s - loss: 321074.0061 - mean_squared_error: 321074.03 - ETA: 1s - loss: 324624.8957 - mean_squared_error: 324624.90 - ETA: 1s - loss: 324521.1243 - mean_squared_error: 324521.21 - ETA: 1s - loss: 325310.0189 - mean_squared_error: 325310.12 - ETA: 1s - loss: 326385.4116 - mean_squared_error: 326385.53 - ETA: 1s - loss: 325551.1995 - mean_squared_error: 325551.31 - ETA: 0s - loss: 324963.0751 - mean_squared_error: 324963.18 - ETA: 0s - loss: 323801.8699 - mean_squared_error: 323801.93 - ETA: 0s - loss: 321452.4807 - mean_squared_error: 321452.56 - ETA: 0s - loss: 322419.4713 - mean_squared_error: 322419.59 - ETA: 0s - loss: 322439.5388 - mean_squared_error: 322439.62 - ETA: 0s - loss: 324555.2255 - mean_squared_error: 324555.31 - ETA: 0s - loss: 322579.0797 - mean_squared_error: 322579.21 - ETA: 0s - loss: 322942.1349 - mean_squared_error: 322942.31 - ETA: 0s - loss: 322662.0194 - mean_squared_error: 322662.25 - ETA: 0s - loss: 321456.8597 - mean_squared_error: 321457.12 - ETA: 0s - loss: 322683.1004 - mean_squared_error: 322683.31 - ETA: 0s - loss: 322523.3542 - mean_squared_error: 322523.59 - ETA: 0s - loss: 320366.5176 - mean_squared_error: 320366.75 - ETA: 0s - loss: 320557.9377 - mean_squared_error: 320558.21 - ETA: 0s - loss: 323428.7069 - mean_squared_error: 323428.96 - ETA: 0s - loss: 323041.4220 - mean_squared_error: 323041.68 - ETA: 0s - loss: 323454.5664 - mean_squared_error: 323454.78 - ETA: 0s - loss: 323307.0410 - mean_squared_error: 323307.28 - ETA: 0s - loss: 323758.6570 - mean_squared_error: 323758.93 - 2s 62us/step - loss: 323250.1046 - mean_squared_error: 323250.3125\n",
      "Epoch 92/100\n",
      "39941/39941 [==============================] - ETA: 6s - loss: 391540.5625 - mean_squared_error: 391540.56 - ETA: 2s - loss: 350239.2391 - mean_squared_error: 350239.25 - ETA: 2s - loss: 350518.4794 - mean_squared_error: 350518.50 - ETA: 2s - loss: 352759.8235 - mean_squared_error: 352759.90 - ETA: 2s - loss: 364007.1842 - mean_squared_error: 364007.31 - ETA: 2s - loss: 347728.6023 - mean_squared_error: 347728.65 - ETA: 2s - loss: 339828.9191 - mean_squared_error: 339828.96 - ETA: 2s - loss: 326471.5500 - mean_squared_error: 326471.62 - ETA: 2s - loss: 317699.4343 - mean_squared_error: 317699.53 - ETA: 2s - loss: 321563.9241 - mean_squared_error: 321564.00 - ETA: 2s - loss: 322086.9483 - mean_squared_error: 322087.00 - ETA: 1s - loss: 315000.2633 - mean_squared_error: 315000.31 - ETA: 1s - loss: 319744.1841 - mean_squared_error: 319744.15 - ETA: 1s - loss: 323919.5321 - mean_squared_error: 323919.50 - ETA: 1s - loss: 320818.3341 - mean_squared_error: 320818.34 - ETA: 1s - loss: 319603.2448 - mean_squared_error: 319603.21 - ETA: 1s - loss: 318495.1301 - mean_squared_error: 318495.09 - ETA: 1s - loss: 317602.3681 - mean_squared_error: 317602.34 - ETA: 1s - loss: 322947.4805 - mean_squared_error: 322947.43 - ETA: 1s - loss: 322289.0654 - mean_squared_error: 322289.06 - ETA: 1s - loss: 322339.0138 - mean_squared_error: 322339.00 - ETA: 1s - loss: 327341.0527 - mean_squared_error: 327341.00 - ETA: 1s - loss: 326823.4783 - mean_squared_error: 326823.43 - ETA: 1s - loss: 326469.5330 - mean_squared_error: 326469.53 - ETA: 1s - loss: 326102.8679 - mean_squared_error: 326102.87 - ETA: 1s - loss: 323912.4997 - mean_squared_error: 323912.56 - ETA: 1s - loss: 323358.9359 - mean_squared_error: 323359.00 - ETA: 1s - loss: 324994.3528 - mean_squared_error: 324994.34 - ETA: 1s - loss: 325506.4849 - mean_squared_error: 325506.46 - ETA: 0s - loss: 325139.9900 - mean_squared_error: 325139.93 - ETA: 0s - loss: 324777.1492 - mean_squared_error: 324777.12 - ETA: 0s - loss: 325109.0501 - mean_squared_error: 325109.03 - ETA: 0s - loss: 325252.4911 - mean_squared_error: 325252.40 - ETA: 0s - loss: 325287.2221 - mean_squared_error: 325287.15 - ETA: 0s - loss: 324120.2667 - mean_squared_error: 324120.25 - ETA: 0s - loss: 324567.7270 - mean_squared_error: 324567.75 - ETA: 0s - loss: 324672.0648 - mean_squared_error: 324672.09 - ETA: 0s - loss: 325631.8014 - mean_squared_error: 325631.84 - ETA: 0s - loss: 323029.8070 - mean_squared_error: 323029.78 - ETA: 0s - loss: 322634.4814 - mean_squared_error: 322634.56 - ETA: 0s - loss: 324300.5409 - mean_squared_error: 324300.59 - ETA: 0s - loss: 324475.3087 - mean_squared_error: 324475.34 - ETA: 0s - loss: 326460.4161 - mean_squared_error: 326460.43 - ETA: 0s - loss: 325809.1002 - mean_squared_error: 325809.18 - ETA: 0s - loss: 326515.1626 - mean_squared_error: 326515.21 - ETA: 0s - loss: 326111.3868 - mean_squared_error: 326111.40 - ETA: 0s - loss: 325874.1208 - mean_squared_error: 325874.12 - ETA: 0s - loss: 324734.7441 - mean_squared_error: 324734.75 - ETA: 0s - loss: 324646.7194 - mean_squared_error: 324646.78 - ETA: 0s - loss: 324061.8518 - mean_squared_error: 324061.87 - 3s 64us/step - loss: 325511.1723 - mean_squared_error: 325511.2188\n",
      "Epoch 93/100\n"
     ]
    },
    {
     "name": "stdout",
     "output_type": "stream",
     "text": [
      "39941/39941 [==============================] - ETA: 4s - loss: 390087.7188 - mean_squared_error: 390087.71 - ETA: 2s - loss: 342646.6522 - mean_squared_error: 342646.59 - ETA: 2s - loss: 329003.4722 - mean_squared_error: 329003.46 - ETA: 2s - loss: 333296.7455 - mean_squared_error: 333296.68 - ETA: 2s - loss: 330448.5680 - mean_squared_error: 330448.50 - ETA: 2s - loss: 345013.0293 - mean_squared_error: 345012.96 - ETA: 2s - loss: 341587.4734 - mean_squared_error: 341587.40 - ETA: 2s - loss: 338819.8635 - mean_squared_error: 338819.75 - ETA: 2s - loss: 340425.6106 - mean_squared_error: 340425.46 - ETA: 2s - loss: 339162.9000 - mean_squared_error: 339162.81 - ETA: 2s - loss: 336218.1346 - mean_squared_error: 336218.12 - ETA: 2s - loss: 333593.4967 - mean_squared_error: 333593.46 - ETA: 2s - loss: 330758.2992 - mean_squared_error: 330758.25 - ETA: 2s - loss: 330959.0407 - mean_squared_error: 330959.00 - ETA: 2s - loss: 327432.2947 - mean_squared_error: 327432.28 - ETA: 2s - loss: 325280.0656 - mean_squared_error: 325280.06 - ETA: 2s - loss: 324461.1063 - mean_squared_error: 324461.12 - ETA: 2s - loss: 323786.0327 - mean_squared_error: 323786.03 - ETA: 2s - loss: 323036.4086 - mean_squared_error: 323036.43 - ETA: 1s - loss: 325397.6813 - mean_squared_error: 325397.71 - ETA: 1s - loss: 322750.5167 - mean_squared_error: 322750.46 - ETA: 1s - loss: 323344.5959 - mean_squared_error: 323344.56 - ETA: 1s - loss: 320175.8099 - mean_squared_error: 320175.78 - ETA: 1s - loss: 320675.6265 - mean_squared_error: 320675.59 - ETA: 1s - loss: 322204.2449 - mean_squared_error: 322204.21 - ETA: 1s - loss: 320304.9844 - mean_squared_error: 320305.06 - ETA: 1s - loss: 318707.1088 - mean_squared_error: 318707.18 - ETA: 1s - loss: 321608.7306 - mean_squared_error: 321608.81 - ETA: 1s - loss: 321069.3013 - mean_squared_error: 321069.37 - ETA: 1s - loss: 320504.5347 - mean_squared_error: 320504.59 - ETA: 1s - loss: 319845.7287 - mean_squared_error: 319845.81 - ETA: 1s - loss: 321676.1353 - mean_squared_error: 321676.18 - ETA: 1s - loss: 320666.6113 - mean_squared_error: 320666.71 - ETA: 1s - loss: 318370.2368 - mean_squared_error: 318370.34 - ETA: 0s - loss: 319508.2370 - mean_squared_error: 319508.34 - ETA: 0s - loss: 320217.3207 - mean_squared_error: 320217.43 - ETA: 0s - loss: 319773.0567 - mean_squared_error: 319773.18 - ETA: 0s - loss: 321911.1478 - mean_squared_error: 321911.25 - ETA: 0s - loss: 320917.3608 - mean_squared_error: 320917.43 - ETA: 0s - loss: 320935.2401 - mean_squared_error: 320935.25 - ETA: 0s - loss: 320637.8293 - mean_squared_error: 320637.81 - ETA: 0s - loss: 320189.6406 - mean_squared_error: 320189.62 - ETA: 0s - loss: 321050.4168 - mean_squared_error: 321050.37 - ETA: 0s - loss: 320174.0086 - mean_squared_error: 320173.96 - ETA: 0s - loss: 323826.2562 - mean_squared_error: 323826.31 - ETA: 0s - loss: 323030.4911 - mean_squared_error: 323030.56 - ETA: 0s - loss: 323392.4834 - mean_squared_error: 323392.53 - ETA: 0s - loss: 323084.9232 - mean_squared_error: 323084.96 - ETA: 0s - loss: 323117.9211 - mean_squared_error: 323117.93 - ETA: 0s - loss: 323147.6021 - mean_squared_error: 323147.59 - ETA: 0s - loss: 323872.0006 - mean_squared_error: 323872.00 - ETA: 0s - loss: 323253.1457 - mean_squared_error: 323253.15 - 3s 65us/step - loss: 323151.3926 - mean_squared_error: 323151.3750\n",
      "Epoch 94/100\n",
      "39941/39941 [==============================] - ETA: 5s - loss: 567049.2500 - mean_squared_error: 567049.25 - ETA: 2s - loss: 291731.3157 - mean_squared_error: 291731.31 - ETA: 2s - loss: 278287.6346 - mean_squared_error: 278287.68 - ETA: 2s - loss: 298811.2394 - mean_squared_error: 298811.28 - ETA: 2s - loss: 311121.6644 - mean_squared_error: 311121.68 - ETA: 2s - loss: 316119.8893 - mean_squared_error: 316119.87 - ETA: 2s - loss: 314684.5353 - mean_squared_error: 314684.50 - ETA: 2s - loss: 316647.7668 - mean_squared_error: 316647.75 - ETA: 2s - loss: 317932.7721 - mean_squared_error: 317932.71 - ETA: 2s - loss: 323302.2635 - mean_squared_error: 323302.15 - ETA: 2s - loss: 321970.2875 - mean_squared_error: 321970.28 - ETA: 2s - loss: 314004.1125 - mean_squared_error: 314004.12 - ETA: 2s - loss: 317491.9778 - mean_squared_error: 317491.96 - ETA: 2s - loss: 318227.9640 - mean_squared_error: 318227.93 - ETA: 2s - loss: 325419.2466 - mean_squared_error: 325419.25 - ETA: 1s - loss: 323516.1245 - mean_squared_error: 323516.15 - ETA: 1s - loss: 320953.9401 - mean_squared_error: 320953.96 - ETA: 1s - loss: 319868.5276 - mean_squared_error: 319868.56 - ETA: 1s - loss: 321461.7952 - mean_squared_error: 321461.78 - ETA: 1s - loss: 320905.7148 - mean_squared_error: 320905.71 - ETA: 1s - loss: 319520.5777 - mean_squared_error: 319520.59 - ETA: 1s - loss: 316267.1412 - mean_squared_error: 316267.15 - ETA: 1s - loss: 317902.9059 - mean_squared_error: 317902.93 - ETA: 1s - loss: 320317.2101 - mean_squared_error: 320317.18 - ETA: 1s - loss: 320088.8990 - mean_squared_error: 320088.87 - ETA: 1s - loss: 318628.7160 - mean_squared_error: 318628.68 - ETA: 1s - loss: 316834.4391 - mean_squared_error: 316834.46 - ETA: 1s - loss: 315800.7076 - mean_squared_error: 315800.81 - ETA: 1s - loss: 315363.0299 - mean_squared_error: 315363.12 - ETA: 1s - loss: 314073.0595 - mean_squared_error: 314073.15 - ETA: 1s - loss: 313598.4592 - mean_squared_error: 313598.53 - ETA: 0s - loss: 315966.5635 - mean_squared_error: 315966.65 - ETA: 0s - loss: 315810.0501 - mean_squared_error: 315810.15 - ETA: 0s - loss: 316120.9378 - mean_squared_error: 316120.96 - ETA: 0s - loss: 315464.2660 - mean_squared_error: 315464.28 - ETA: 0s - loss: 315789.3955 - mean_squared_error: 315789.40 - ETA: 0s - loss: 315068.7862 - mean_squared_error: 315068.75 - ETA: 0s - loss: 315863.7705 - mean_squared_error: 315863.75 - ETA: 0s - loss: 316438.8345 - mean_squared_error: 316438.84 - ETA: 0s - loss: 317942.4251 - mean_squared_error: 317942.43 - ETA: 0s - loss: 318736.6730 - mean_squared_error: 318736.68 - ETA: 0s - loss: 319168.7165 - mean_squared_error: 319168.81 - ETA: 0s - loss: 319578.4511 - mean_squared_error: 319578.50 - ETA: 0s - loss: 321177.1499 - mean_squared_error: 321177.12 - ETA: 0s - loss: 321033.9143 - mean_squared_error: 321033.93 - ETA: 0s - loss: 320069.9780 - mean_squared_error: 320070.00 - ETA: 0s - loss: 321027.9108 - mean_squared_error: 321027.90 - ETA: 0s - loss: 321753.1623 - mean_squared_error: 321753.18 - ETA: 0s - loss: 320847.9757 - mean_squared_error: 320848.00 - ETA: 0s - loss: 319395.1760 - mean_squared_error: 319395.18 - 3s 63us/step - loss: 319419.3042 - mean_squared_error: 319419.2812\n",
      "Epoch 95/100\n",
      "39941/39941 [==============================] - ETA: 4s - loss: 69666.0078 - mean_squared_error: 69666.00 - ETA: 2s - loss: 441249.2656 - mean_squared_error: 441249.28 - ETA: 2s - loss: 381199.5703 - mean_squared_error: 381199.56 - ETA: 2s - loss: 335679.9335 - mean_squared_error: 335679.90 - ETA: 2s - loss: 349107.6641 - mean_squared_error: 349107.62 - ETA: 2s - loss: 333303.8961 - mean_squared_error: 333303.87 - ETA: 2s - loss: 321989.5316 - mean_squared_error: 321989.59 - ETA: 2s - loss: 324635.3241 - mean_squared_error: 324635.40 - ETA: 2s - loss: 317962.3907 - mean_squared_error: 317962.43 - ETA: 2s - loss: 316382.7149 - mean_squared_error: 316382.71 - ETA: 2s - loss: 316453.9284 - mean_squared_error: 316453.93 - ETA: 2s - loss: 317617.2021 - mean_squared_error: 317617.21 - ETA: 1s - loss: 314783.9179 - mean_squared_error: 314783.96 - ETA: 1s - loss: 317424.5516 - mean_squared_error: 317424.62 - ETA: 1s - loss: 317673.3024 - mean_squared_error: 317673.37 - ETA: 1s - loss: 317911.8737 - mean_squared_error: 317911.96 - ETA: 1s - loss: 314316.2560 - mean_squared_error: 314316.34 - ETA: 1s - loss: 315215.3683 - mean_squared_error: 315215.40 - ETA: 1s - loss: 318184.2467 - mean_squared_error: 318184.28 - ETA: 1s - loss: 319818.4761 - mean_squared_error: 319818.56 - ETA: 1s - loss: 319545.3888 - mean_squared_error: 319545.43 - ETA: 1s - loss: 319732.0360 - mean_squared_error: 319732.09 - ETA: 1s - loss: 320422.3378 - mean_squared_error: 320422.40 - ETA: 1s - loss: 327366.0765 - mean_squared_error: 327366.15 - ETA: 1s - loss: 327782.7394 - mean_squared_error: 327782.84 - ETA: 1s - loss: 327099.9692 - mean_squared_error: 327100.06 - ETA: 1s - loss: 327094.7116 - mean_squared_error: 327094.84 - ETA: 1s - loss: 326134.0828 - mean_squared_error: 326134.15 - ETA: 1s - loss: 326305.1338 - mean_squared_error: 326305.18 - ETA: 1s - loss: 326663.6870 - mean_squared_error: 326663.75 - ETA: 1s - loss: 328196.1149 - mean_squared_error: 328196.15 - ETA: 1s - loss: 324672.2872 - mean_squared_error: 324672.34 - ETA: 0s - loss: 325062.1978 - mean_squared_error: 325062.25 - ETA: 0s - loss: 324888.7179 - mean_squared_error: 324888.81 - ETA: 0s - loss: 327378.8247 - mean_squared_error: 327378.96 - ETA: 0s - loss: 328012.9741 - mean_squared_error: 328013.12 - ETA: 0s - loss: 326717.5679 - mean_squared_error: 326717.75 - ETA: 0s - loss: 326818.6200 - mean_squared_error: 326818.71 - ETA: 0s - loss: 325795.9004 - mean_squared_error: 325795.93 - ETA: 0s - loss: 326740.6945 - mean_squared_error: 326740.71 - ETA: 0s - loss: 327349.8706 - mean_squared_error: 327349.90 - ETA: 0s - loss: 326631.9342 - mean_squared_error: 326631.96 - ETA: 0s - loss: 327519.7997 - mean_squared_error: 327519.84 - ETA: 0s - loss: 327891.4924 - mean_squared_error: 327891.46 - ETA: 0s - loss: 326572.3395 - mean_squared_error: 326572.31 - ETA: 0s - loss: 325637.0546 - mean_squared_error: 325637.00 - ETA: 0s - loss: 324938.1945 - mean_squared_error: 324938.21 - ETA: 0s - loss: 323927.7227 - mean_squared_error: 323927.68 - ETA: 0s - loss: 324810.2084 - mean_squared_error: 324810.21 - ETA: 0s - loss: 324761.5930 - mean_squared_error: 324761.56 - 3s 64us/step - loss: 325362.9792 - mean_squared_error: 325362.9688\n",
      "Epoch 96/100\n",
      "39941/39941 [==============================] - ETA: 11s - loss: 216334.9688 - mean_squared_error: 216334.968 - ETA: 2s - loss: 305958.0547 - mean_squared_error: 305958.031 - ETA: 2s - loss: 283495.6662 - mean_squared_error: 283495.65 - ETA: 2s - loss: 288691.5793 - mean_squared_error: 288691.56 - ETA: 2s - loss: 296134.0087 - mean_squared_error: 296133.96 - ETA: 2s - loss: 303316.4303 - mean_squared_error: 303316.46 - ETA: 2s - loss: 308498.6524 - mean_squared_error: 308498.62 - ETA: 2s - loss: 315898.2215 - mean_squared_error: 315898.15 - ETA: 2s - loss: 316636.4379 - mean_squared_error: 316636.31 - ETA: 2s - loss: 309297.9564 - mean_squared_error: 309297.90 - ETA: 2s - loss: 311004.2407 - mean_squared_error: 311004.15 - ETA: 2s - loss: 315550.7838 - mean_squared_error: 315550.65 - ETA: 1s - loss: 314589.4334 - mean_squared_error: 314589.31 - ETA: 1s - loss: 312512.7326 - mean_squared_error: 312512.68 - ETA: 1s - loss: 308338.8290 - mean_squared_error: 308338.75 - ETA: 1s - loss: 310266.3544 - mean_squared_error: 310266.31 - ETA: 1s - loss: 305945.9452 - mean_squared_error: 305945.87 - ETA: 1s - loss: 310380.7373 - mean_squared_error: 310380.68 - ETA: 1s - loss: 309958.1100 - mean_squared_error: 309957.96 - ETA: 1s - loss: 313131.8064 - mean_squared_error: 313131.75 - ETA: 1s - loss: 314941.4047 - mean_squared_error: 314941.31 - ETA: 1s - loss: 315713.0699 - mean_squared_error: 315712.96 - ETA: 1s - loss: 316828.5930 - mean_squared_error: 316828.53 - ETA: 1s - loss: 316104.9092 - mean_squared_error: 316104.84 - ETA: 1s - loss: 318199.8542 - mean_squared_error: 318199.75 - ETA: 1s - loss: 317606.7195 - mean_squared_error: 317606.65 - ETA: 1s - loss: 318476.2391 - mean_squared_error: 318476.18 - ETA: 1s - loss: 320523.7647 - mean_squared_error: 320523.71 - ETA: 1s - loss: 319709.1184 - mean_squared_error: 319709.06 - ETA: 1s - loss: 322278.8477 - mean_squared_error: 322278.78 - ETA: 1s - loss: 319854.4527 - mean_squared_error: 319854.40 - ETA: 0s - loss: 318709.0380 - mean_squared_error: 318708.96 - ETA: 0s - loss: 323313.7063 - mean_squared_error: 323313.56 - ETA: 0s - loss: 325167.8121 - mean_squared_error: 325167.68 - ETA: 0s - loss: 325864.3499 - mean_squared_error: 325864.15 - ETA: 0s - loss: 325021.3691 - mean_squared_error: 325021.15 - ETA: 0s - loss: 323697.5114 - mean_squared_error: 323697.37 - ETA: 0s - loss: 322042.5973 - mean_squared_error: 322042.50 - ETA: 0s - loss: 324581.6499 - mean_squared_error: 324581.56 - ETA: 0s - loss: 323695.1410 - mean_squared_error: 323695.06 - ETA: 0s - loss: 323291.1765 - mean_squared_error: 323291.03 - ETA: 0s - loss: 322313.9223 - mean_squared_error: 322313.75 - ETA: 0s - loss: 320745.6474 - mean_squared_error: 320745.50 - ETA: 0s - loss: 320115.1275 - mean_squared_error: 320114.93 - ETA: 0s - loss: 320285.1854 - mean_squared_error: 320284.96 - ETA: 0s - loss: 319309.1639 - mean_squared_error: 319308.90 - ETA: 0s - loss: 320428.0265 - mean_squared_error: 320427.84 - ETA: 0s - loss: 321095.5646 - mean_squared_error: 321095.40 - ETA: 0s - loss: 321054.9264 - mean_squared_error: 321054.68 - 2s 62us/step - loss: 320151.0630 - mean_squared_error: 320150.7812\n",
      "Epoch 97/100\n"
     ]
    },
    {
     "name": "stdout",
     "output_type": "stream",
     "text": [
      "39941/39941 [==============================] - ETA: 5s - loss: 665733.6250 - mean_squared_error: 665733.62 - ETA: 2s - loss: 284692.0156 - mean_squared_error: 284692.00 - ETA: 2s - loss: 271865.8861 - mean_squared_error: 271865.90 - ETA: 2s - loss: 295645.1916 - mean_squared_error: 295645.25 - ETA: 2s - loss: 296790.9506 - mean_squared_error: 296791.00 - ETA: 2s - loss: 297273.3453 - mean_squared_error: 297273.37 - ETA: 2s - loss: 301650.8423 - mean_squared_error: 301650.90 - ETA: 2s - loss: 303662.6192 - mean_squared_error: 303662.62 - ETA: 2s - loss: 301345.6565 - mean_squared_error: 301345.68 - ETA: 2s - loss: 309194.7555 - mean_squared_error: 309194.75 - ETA: 2s - loss: 307587.4496 - mean_squared_error: 307587.40 - ETA: 2s - loss: 301345.9413 - mean_squared_error: 301345.93 - ETA: 2s - loss: 297914.4526 - mean_squared_error: 297914.46 - ETA: 2s - loss: 301449.2326 - mean_squared_error: 301449.31 - ETA: 2s - loss: 304987.8869 - mean_squared_error: 304988.00 - ETA: 1s - loss: 308624.1370 - mean_squared_error: 308624.28 - ETA: 1s - loss: 311092.5730 - mean_squared_error: 311092.71 - ETA: 1s - loss: 311351.5472 - mean_squared_error: 311351.71 - ETA: 1s - loss: 316932.6733 - mean_squared_error: 316932.81 - ETA: 1s - loss: 320495.0030 - mean_squared_error: 320495.09 - ETA: 1s - loss: 320916.1260 - mean_squared_error: 320916.12 - ETA: 1s - loss: 316716.2182 - mean_squared_error: 316716.21 - ETA: 1s - loss: 320777.8454 - mean_squared_error: 320777.87 - ETA: 1s - loss: 322201.2745 - mean_squared_error: 322201.34 - ETA: 1s - loss: 322078.0070 - mean_squared_error: 322078.06 - ETA: 1s - loss: 326703.9854 - mean_squared_error: 326704.06 - ETA: 1s - loss: 326432.7005 - mean_squared_error: 326432.75 - ETA: 1s - loss: 326642.9069 - mean_squared_error: 326643.00 - ETA: 1s - loss: 327478.1656 - mean_squared_error: 327478.28 - ETA: 1s - loss: 325368.3310 - mean_squared_error: 325368.43 - ETA: 0s - loss: 324922.1861 - mean_squared_error: 324922.28 - ETA: 0s - loss: 323969.9755 - mean_squared_error: 323970.09 - ETA: 0s - loss: 322815.1900 - mean_squared_error: 322815.28 - ETA: 0s - loss: 326554.4644 - mean_squared_error: 326554.56 - ETA: 0s - loss: 327521.7139 - mean_squared_error: 327521.87 - ETA: 0s - loss: 324904.9497 - mean_squared_error: 324905.06 - ETA: 0s - loss: 324437.8808 - mean_squared_error: 324438.06 - ETA: 0s - loss: 323245.3719 - mean_squared_error: 323245.56 - ETA: 0s - loss: 322527.8845 - mean_squared_error: 322528.03 - ETA: 0s - loss: 324947.9777 - mean_squared_error: 324948.12 - ETA: 0s - loss: 324188.1921 - mean_squared_error: 324188.34 - ETA: 0s - loss: 325240.4352 - mean_squared_error: 325240.53 - ETA: 0s - loss: 323398.5777 - mean_squared_error: 323398.75 - ETA: 0s - loss: 323910.5428 - mean_squared_error: 323910.78 - ETA: 0s - loss: 323532.0321 - mean_squared_error: 323532.28 - ETA: 0s - loss: 323455.6988 - mean_squared_error: 323455.96 - ETA: 0s - loss: 322382.0638 - mean_squared_error: 322382.25 - ETA: 0s - loss: 320781.0118 - mean_squared_error: 320781.12 - ETA: 0s - loss: 321358.5330 - mean_squared_error: 321358.62 - 2s 62us/step - loss: 321172.1035 - mean_squared_error: 321172.2188\n",
      "Epoch 98/100\n",
      "39941/39941 [==============================] - ETA: 3s - loss: 179775.8750 - mean_squared_error: 179775.87 - ETA: 2s - loss: 299723.6328 - mean_squared_error: 299723.62 - ETA: 2s - loss: 300926.5593 - mean_squared_error: 300926.53 - ETA: 2s - loss: 300762.3619 - mean_squared_error: 300762.34 - ETA: 2s - loss: 296359.2227 - mean_squared_error: 296359.21 - ETA: 2s - loss: 299939.8245 - mean_squared_error: 299939.87 - ETA: 2s - loss: 294283.6805 - mean_squared_error: 294283.68 - ETA: 2s - loss: 303826.7079 - mean_squared_error: 303826.65 - ETA: 2s - loss: 311204.8887 - mean_squared_error: 311204.78 - ETA: 2s - loss: 315163.7663 - mean_squared_error: 315163.62 - ETA: 1s - loss: 323634.3687 - mean_squared_error: 323634.09 - ETA: 1s - loss: 321319.1059 - mean_squared_error: 321318.84 - ETA: 1s - loss: 321271.2148 - mean_squared_error: 321270.96 - ETA: 1s - loss: 323279.3086 - mean_squared_error: 323279.06 - ETA: 1s - loss: 323478.6157 - mean_squared_error: 323478.31 - ETA: 1s - loss: 323578.0012 - mean_squared_error: 323577.75 - ETA: 1s - loss: 320582.1216 - mean_squared_error: 320581.93 - ETA: 1s - loss: 321492.6283 - mean_squared_error: 321492.46 - ETA: 1s - loss: 320972.0255 - mean_squared_error: 320971.84 - ETA: 1s - loss: 323560.9849 - mean_squared_error: 323560.78 - ETA: 1s - loss: 320763.7156 - mean_squared_error: 320763.53 - ETA: 1s - loss: 323150.5986 - mean_squared_error: 323150.43 - ETA: 1s - loss: 323439.9919 - mean_squared_error: 323439.84 - ETA: 1s - loss: 326636.2483 - mean_squared_error: 326636.12 - ETA: 1s - loss: 327646.5808 - mean_squared_error: 327646.46 - ETA: 1s - loss: 324253.9725 - mean_squared_error: 324253.90 - ETA: 1s - loss: 323231.5704 - mean_squared_error: 323231.53 - ETA: 1s - loss: 321476.7702 - mean_squared_error: 321476.71 - ETA: 1s - loss: 325812.3624 - mean_squared_error: 325812.34 - ETA: 0s - loss: 325485.0895 - mean_squared_error: 325485.09 - ETA: 0s - loss: 325081.7090 - mean_squared_error: 325081.71 - ETA: 0s - loss: 322984.7577 - mean_squared_error: 322984.81 - ETA: 0s - loss: 324452.6986 - mean_squared_error: 324452.75 - ETA: 0s - loss: 321949.3105 - mean_squared_error: 321949.37 - ETA: 0s - loss: 323234.3720 - mean_squared_error: 323234.43 - ETA: 0s - loss: 325472.0567 - mean_squared_error: 325472.25 - ETA: 0s - loss: 323729.2588 - mean_squared_error: 323729.46 - ETA: 0s - loss: 323162.1637 - mean_squared_error: 323162.40 - ETA: 0s - loss: 322902.0553 - mean_squared_error: 322902.31 - ETA: 0s - loss: 321511.0309 - mean_squared_error: 321511.34 - ETA: 0s - loss: 322024.7827 - mean_squared_error: 322025.03 - ETA: 0s - loss: 320082.3205 - mean_squared_error: 320082.56 - ETA: 0s - loss: 320325.2967 - mean_squared_error: 320325.53 - ETA: 0s - loss: 320909.7713 - mean_squared_error: 320910.03 - ETA: 0s - loss: 321146.0431 - mean_squared_error: 321146.25 - ETA: 0s - loss: 320711.6753 - mean_squared_error: 320711.96 - ETA: 0s - loss: 319674.7061 - mean_squared_error: 319674.93 - ETA: 0s - loss: 319121.1727 - mean_squared_error: 319121.31 - ETA: 0s - loss: 318003.8755 - mean_squared_error: 318004.03 - 2s 61us/step - loss: 317743.9270 - mean_squared_error: 317744.0938\n",
      "Epoch 99/100\n",
      "39941/39941 [==============================] - ETA: 4s - loss: 398282.8125 - mean_squared_error: 398282.81 - ETA: 2s - loss: 351729.7404 - mean_squared_error: 351729.78 - ETA: 2s - loss: 345034.7989 - mean_squared_error: 345034.84 - ETA: 2s - loss: 324706.1035 - mean_squared_error: 324706.09 - ETA: 2s - loss: 303043.5120 - mean_squared_error: 303043.46 - ETA: 2s - loss: 302207.0699 - mean_squared_error: 302206.96 - ETA: 2s - loss: 312982.7894 - mean_squared_error: 312982.71 - ETA: 2s - loss: 315197.7642 - mean_squared_error: 315197.62 - ETA: 2s - loss: 319880.2809 - mean_squared_error: 319880.21 - ETA: 2s - loss: 314578.7331 - mean_squared_error: 314578.71 - ETA: 2s - loss: 309707.3881 - mean_squared_error: 309707.40 - ETA: 2s - loss: 309612.5382 - mean_squared_error: 309612.59 - ETA: 2s - loss: 313167.0432 - mean_squared_error: 313167.06 - ETA: 2s - loss: 309675.3333 - mean_squared_error: 309675.28 - ETA: 2s - loss: 316137.3727 - mean_squared_error: 316137.28 - ETA: 1s - loss: 318049.3632 - mean_squared_error: 318049.31 - ETA: 1s - loss: 312065.5318 - mean_squared_error: 312065.50 - ETA: 1s - loss: 314429.5736 - mean_squared_error: 314429.56 - ETA: 1s - loss: 315231.8317 - mean_squared_error: 315231.81 - ETA: 1s - loss: 313009.8943 - mean_squared_error: 313009.96 - ETA: 1s - loss: 312091.7475 - mean_squared_error: 312091.84 - ETA: 1s - loss: 314005.4940 - mean_squared_error: 314005.56 - ETA: 1s - loss: 310938.1224 - mean_squared_error: 310938.18 - ETA: 1s - loss: 309805.6379 - mean_squared_error: 309805.68 - ETA: 1s - loss: 307011.2952 - mean_squared_error: 307011.28 - ETA: 1s - loss: 309103.6120 - mean_squared_error: 309103.62 - ETA: 1s - loss: 310034.4031 - mean_squared_error: 310034.40 - ETA: 1s - loss: 310119.3750 - mean_squared_error: 310119.43 - ETA: 1s - loss: 310000.7717 - mean_squared_error: 310000.87 - ETA: 1s - loss: 311196.0975 - mean_squared_error: 311196.18 - ETA: 1s - loss: 314432.0640 - mean_squared_error: 314432.18 - ETA: 1s - loss: 313620.5656 - mean_squared_error: 313620.65 - ETA: 0s - loss: 311405.6900 - mean_squared_error: 311405.81 - ETA: 0s - loss: 312860.4377 - mean_squared_error: 312860.56 - ETA: 0s - loss: 313268.0313 - mean_squared_error: 313268.09 - ETA: 0s - loss: 314380.9621 - mean_squared_error: 314381.00 - ETA: 0s - loss: 314309.1034 - mean_squared_error: 314309.12 - ETA: 0s - loss: 316208.4002 - mean_squared_error: 316208.37 - ETA: 0s - loss: 314891.4815 - mean_squared_error: 314891.50 - ETA: 0s - loss: 316294.7173 - mean_squared_error: 316294.75 - ETA: 0s - loss: 317623.7051 - mean_squared_error: 317623.68 - ETA: 0s - loss: 317693.2256 - mean_squared_error: 317693.25 - ETA: 0s - loss: 319162.2074 - mean_squared_error: 319162.18 - ETA: 0s - loss: 320074.4021 - mean_squared_error: 320074.37 - ETA: 0s - loss: 320228.3022 - mean_squared_error: 320228.31 - ETA: 0s - loss: 320427.1510 - mean_squared_error: 320427.12 - ETA: 0s - loss: 320316.4744 - mean_squared_error: 320316.46 - ETA: 0s - loss: 320206.8275 - mean_squared_error: 320206.75 - ETA: 0s - loss: 320767.9679 - mean_squared_error: 320767.87 - ETA: 0s - loss: 321571.5073 - mean_squared_error: 321571.40 - ETA: 0s - loss: 321523.8068 - mean_squared_error: 321523.65 - 3s 64us/step - loss: 322327.2076 - mean_squared_error: 322327.0312\n",
      "Epoch 100/100\n",
      "39941/39941 [==============================] - ETA: 4s - loss: 398198.5000 - mean_squared_error: 398198.50 - ETA: 3s - loss: 289140.1789 - mean_squared_error: 289140.21 - ETA: 2s - loss: 270212.1172 - mean_squared_error: 270212.12 - ETA: 2s - loss: 294274.0250 - mean_squared_error: 294274.06 - ETA: 2s - loss: 316010.9654 - mean_squared_error: 316011.00 - ETA: 2s - loss: 316453.8236 - mean_squared_error: 316453.84 - ETA: 2s - loss: 305126.2084 - mean_squared_error: 305126.18 - ETA: 2s - loss: 299507.0887 - mean_squared_error: 299507.09 - ETA: 2s - loss: 302996.8338 - mean_squared_error: 302996.81 - ETA: 2s - loss: 296610.2749 - mean_squared_error: 296610.18 - ETA: 2s - loss: 295249.4060 - mean_squared_error: 295249.31 - ETA: 1s - loss: 306225.7745 - mean_squared_error: 306225.65 - ETA: 1s - loss: 306986.9285 - mean_squared_error: 306986.84 - ETA: 1s - loss: 304146.3280 - mean_squared_error: 304146.21 - ETA: 1s - loss: 307361.3461 - mean_squared_error: 307361.21 - ETA: 1s - loss: 307379.7869 - mean_squared_error: 307379.65 - ETA: 1s - loss: 307533.7859 - mean_squared_error: 307533.65 - ETA: 1s - loss: 307385.1180 - mean_squared_error: 307384.96 - ETA: 1s - loss: 310589.5832 - mean_squared_error: 310589.43 - ETA: 1s - loss: 310914.0135 - mean_squared_error: 310913.93 - ETA: 1s - loss: 311968.8127 - mean_squared_error: 311968.78 - ETA: 1s - loss: 314049.5349 - mean_squared_error: 314049.53 - ETA: 1s - loss: 312671.8169 - mean_squared_error: 312671.78 - ETA: 1s - loss: 314986.6929 - mean_squared_error: 314986.65 - ETA: 1s - loss: 316774.1784 - mean_squared_error: 316774.15 - ETA: 1s - loss: 317387.5399 - mean_squared_error: 317387.53 - ETA: 1s - loss: 317194.7329 - mean_squared_error: 317194.78 - ETA: 1s - loss: 318258.7057 - mean_squared_error: 318258.71 - ETA: 1s - loss: 317906.1013 - mean_squared_error: 317906.12 - ETA: 1s - loss: 321151.2949 - mean_squared_error: 321151.28 - ETA: 1s - loss: 321706.6107 - mean_squared_error: 321706.59 - ETA: 0s - loss: 320622.1464 - mean_squared_error: 320622.09 - ETA: 0s - loss: 318648.8729 - mean_squared_error: 318648.84 - ETA: 0s - loss: 319190.5556 - mean_squared_error: 319190.53 - ETA: 0s - loss: 317911.2165 - mean_squared_error: 317911.18 - ETA: 0s - loss: 317782.0364 - mean_squared_error: 317782.03 - ETA: 0s - loss: 316518.1176 - mean_squared_error: 316518.12 - ETA: 0s - loss: 316386.5089 - mean_squared_error: 316386.59 - ETA: 0s - loss: 315756.4212 - mean_squared_error: 315756.50 - ETA: 0s - loss: 314210.3225 - mean_squared_error: 314210.43 - ETA: 0s - loss: 314307.4774 - mean_squared_error: 314307.59 - ETA: 0s - loss: 313819.7672 - mean_squared_error: 313819.93 - ETA: 0s - loss: 315301.0860 - mean_squared_error: 315301.28 - ETA: 0s - loss: 314938.6970 - mean_squared_error: 314938.87 - ETA: 0s - loss: 315369.3049 - mean_squared_error: 315369.50 - ETA: 0s - loss: 315751.4556 - mean_squared_error: 315751.62 - ETA: 0s - loss: 316277.9872 - mean_squared_error: 316278.09 - ETA: 0s - loss: 317760.1669 - mean_squared_error: 317760.28 - ETA: 0s - loss: 318066.2175 - mean_squared_error: 318066.31 - ETA: 0s - loss: 317396.6814 - mean_squared_error: 317396.81 - ETA: 0s - loss: 319106.3364 - mean_squared_error: 319106.43 - 3s 64us/step - loss: 318870.5025 - mean_squared_error: 318870.6250\n"
     ]
    },
    {
     "data": {
      "text/plain": [
       "<keras.callbacks.callbacks.History at 0x7efe4d0c3cc0>"
      ]
     },
     "execution_count": 195,
     "metadata": {},
     "output_type": "execute_result"
    }
   ],
   "source": [
    "model_keras.compile(loss= \"mean_squared_error\" , optimizer=\"adam\", metrics=[\"mean_squared_error\"])\n",
    "model_keras.fit(X_train, y_train, epochs=100)"
   ]
  },
  {
   "cell_type": "code",
   "execution_count": 196,
   "metadata": {},
   "outputs": [
    {
     "name": "stdout",
     "output_type": "stream",
     "text": [
      "556.912768198343\n",
      "586.0857542498393\n"
     ]
    }
   ],
   "source": [
    "pred_train= model_keras.predict(X_train)\n",
    "print(np.sqrt(mean_squared_error(y_train,pred_train)))\n",
    "\n",
    "pred= model_keras.predict(X_test)\n",
    "print(np.sqrt(mean_squared_error(y_test,pred))) "
   ]
  },
  {
   "cell_type": "code",
   "execution_count": 198,
   "metadata": {},
   "outputs": [
    {
     "name": "stdout",
     "output_type": "stream",
     "text": [
      "METRIC SUMMARY\n",
      "MSE 343496.51133460307\n",
      "RMSE 586.0857542498393\n",
      "MSLE 0.023088280772529862\n",
      "MAE 321.013180761054\n",
      "R2 0.9794389617490411\n"
     ]
    }
   ],
   "source": [
    "print('METRIC SUMMARY')\n",
    "print('MSE', mean_squared_error(y_test, model_keras.predict(X_test)))\n",
    "print('RMSE', np.sqrt(mean_squared_error(y_test, model_keras.predict(X_test))))\n",
    "print('MSLE', mean_squared_log_error(y_test, model_keras.predict(X_test)))\n",
    "print('MAE', mean_absolute_error(y_test, model_keras.predict(X_test)))\n",
    "print('R2', r2_score(y_test, model_keras.predict(X_test)))"
   ]
  },
  {
   "cell_type": "markdown",
   "metadata": {},
   "source": [
    "# Diamonds Test"
   ]
  },
  {
   "cell_type": "code",
   "execution_count": 199,
   "metadata": {},
   "outputs": [],
   "source": [
    "diamonds_test = pd.read_csv('input/diamonds_test.csv')"
   ]
  },
  {
   "cell_type": "code",
   "execution_count": 200,
   "metadata": {},
   "outputs": [
    {
     "data": {
      "text/html": [
       "<div>\n",
       "<style scoped>\n",
       "    .dataframe tbody tr th:only-of-type {\n",
       "        vertical-align: middle;\n",
       "    }\n",
       "\n",
       "    .dataframe tbody tr th {\n",
       "        vertical-align: top;\n",
       "    }\n",
       "\n",
       "    .dataframe thead th {\n",
       "        text-align: right;\n",
       "    }\n",
       "</style>\n",
       "<table border=\"1\" class=\"dataframe\">\n",
       "  <thead>\n",
       "    <tr style=\"text-align: right;\">\n",
       "      <th></th>\n",
       "      <th>id</th>\n",
       "      <th>carat</th>\n",
       "      <th>cut</th>\n",
       "      <th>color</th>\n",
       "      <th>clarity</th>\n",
       "      <th>depth</th>\n",
       "      <th>table</th>\n",
       "      <th>x</th>\n",
       "      <th>y</th>\n",
       "      <th>z</th>\n",
       "    </tr>\n",
       "  </thead>\n",
       "  <tbody>\n",
       "    <tr>\n",
       "      <th>0</th>\n",
       "      <td>0</td>\n",
       "      <td>1.10</td>\n",
       "      <td>Premium</td>\n",
       "      <td>H</td>\n",
       "      <td>SI2</td>\n",
       "      <td>62.2</td>\n",
       "      <td>58.0</td>\n",
       "      <td>6.69</td>\n",
       "      <td>6.60</td>\n",
       "      <td>4.13</td>\n",
       "    </tr>\n",
       "    <tr>\n",
       "      <th>1</th>\n",
       "      <td>1</td>\n",
       "      <td>0.51</td>\n",
       "      <td>Ideal</td>\n",
       "      <td>I</td>\n",
       "      <td>SI1</td>\n",
       "      <td>62.5</td>\n",
       "      <td>57.0</td>\n",
       "      <td>5.07</td>\n",
       "      <td>5.10</td>\n",
       "      <td>3.18</td>\n",
       "    </tr>\n",
       "    <tr>\n",
       "      <th>2</th>\n",
       "      <td>2</td>\n",
       "      <td>2.03</td>\n",
       "      <td>Premium</td>\n",
       "      <td>G</td>\n",
       "      <td>SI1</td>\n",
       "      <td>61.9</td>\n",
       "      <td>59.0</td>\n",
       "      <td>8.14</td>\n",
       "      <td>8.09</td>\n",
       "      <td>5.02</td>\n",
       "    </tr>\n",
       "    <tr>\n",
       "      <th>3</th>\n",
       "      <td>3</td>\n",
       "      <td>1.21</td>\n",
       "      <td>Premium</td>\n",
       "      <td>F</td>\n",
       "      <td>SI1</td>\n",
       "      <td>60.0</td>\n",
       "      <td>60.0</td>\n",
       "      <td>6.96</td>\n",
       "      <td>6.91</td>\n",
       "      <td>4.16</td>\n",
       "    </tr>\n",
       "    <tr>\n",
       "      <th>4</th>\n",
       "      <td>4</td>\n",
       "      <td>0.55</td>\n",
       "      <td>Ideal</td>\n",
       "      <td>F</td>\n",
       "      <td>SI1</td>\n",
       "      <td>61.8</td>\n",
       "      <td>55.0</td>\n",
       "      <td>5.27</td>\n",
       "      <td>5.22</td>\n",
       "      <td>3.24</td>\n",
       "    </tr>\n",
       "    <tr>\n",
       "      <th>...</th>\n",
       "      <td>...</td>\n",
       "      <td>...</td>\n",
       "      <td>...</td>\n",
       "      <td>...</td>\n",
       "      <td>...</td>\n",
       "      <td>...</td>\n",
       "      <td>...</td>\n",
       "      <td>...</td>\n",
       "      <td>...</td>\n",
       "      <td>...</td>\n",
       "    </tr>\n",
       "    <tr>\n",
       "      <th>13444</th>\n",
       "      <td>13444</td>\n",
       "      <td>0.30</td>\n",
       "      <td>Premium</td>\n",
       "      <td>E</td>\n",
       "      <td>VS2</td>\n",
       "      <td>60.0</td>\n",
       "      <td>58.0</td>\n",
       "      <td>4.37</td>\n",
       "      <td>4.40</td>\n",
       "      <td>2.63</td>\n",
       "    </tr>\n",
       "    <tr>\n",
       "      <th>13445</th>\n",
       "      <td>13445</td>\n",
       "      <td>0.55</td>\n",
       "      <td>Ideal</td>\n",
       "      <td>D</td>\n",
       "      <td>VVS2</td>\n",
       "      <td>60.8</td>\n",
       "      <td>56.0</td>\n",
       "      <td>5.31</td>\n",
       "      <td>5.34</td>\n",
       "      <td>3.24</td>\n",
       "    </tr>\n",
       "    <tr>\n",
       "      <th>13446</th>\n",
       "      <td>13446</td>\n",
       "      <td>0.23</td>\n",
       "      <td>Very Good</td>\n",
       "      <td>E</td>\n",
       "      <td>VVS1</td>\n",
       "      <td>61.3</td>\n",
       "      <td>58.0</td>\n",
       "      <td>3.94</td>\n",
       "      <td>3.96</td>\n",
       "      <td>2.42</td>\n",
       "    </tr>\n",
       "    <tr>\n",
       "      <th>13447</th>\n",
       "      <td>13447</td>\n",
       "      <td>0.30</td>\n",
       "      <td>Ideal</td>\n",
       "      <td>D</td>\n",
       "      <td>VS2</td>\n",
       "      <td>61.4</td>\n",
       "      <td>58.0</td>\n",
       "      <td>4.29</td>\n",
       "      <td>4.31</td>\n",
       "      <td>2.64</td>\n",
       "    </tr>\n",
       "    <tr>\n",
       "      <th>13448</th>\n",
       "      <td>13448</td>\n",
       "      <td>0.54</td>\n",
       "      <td>Ideal</td>\n",
       "      <td>D</td>\n",
       "      <td>VS1</td>\n",
       "      <td>61.4</td>\n",
       "      <td>53.0</td>\n",
       "      <td>5.28</td>\n",
       "      <td>5.30</td>\n",
       "      <td>3.25</td>\n",
       "    </tr>\n",
       "  </tbody>\n",
       "</table>\n",
       "<p>13449 rows × 10 columns</p>\n",
       "</div>"
      ],
      "text/plain": [
       "          id  carat        cut color clarity  depth  table     x     y     z\n",
       "0          0   1.10    Premium     H     SI2   62.2   58.0  6.69  6.60  4.13\n",
       "1          1   0.51      Ideal     I     SI1   62.5   57.0  5.07  5.10  3.18\n",
       "2          2   2.03    Premium     G     SI1   61.9   59.0  8.14  8.09  5.02\n",
       "3          3   1.21    Premium     F     SI1   60.0   60.0  6.96  6.91  4.16\n",
       "4          4   0.55      Ideal     F     SI1   61.8   55.0  5.27  5.22  3.24\n",
       "...      ...    ...        ...   ...     ...    ...    ...   ...   ...   ...\n",
       "13444  13444   0.30    Premium     E     VS2   60.0   58.0  4.37  4.40  2.63\n",
       "13445  13445   0.55      Ideal     D    VVS2   60.8   56.0  5.31  5.34  3.24\n",
       "13446  13446   0.23  Very Good     E    VVS1   61.3   58.0  3.94  3.96  2.42\n",
       "13447  13447   0.30      Ideal     D     VS2   61.4   58.0  4.29  4.31  2.64\n",
       "13448  13448   0.54      Ideal     D     VS1   61.4   53.0  5.28  5.30  3.25\n",
       "\n",
       "[13449 rows x 10 columns]"
      ]
     },
     "execution_count": 200,
     "metadata": {},
     "output_type": "execute_result"
    }
   ],
   "source": [
    "diamonds_test"
   ]
  },
  {
   "cell_type": "code",
   "execution_count": 201,
   "metadata": {},
   "outputs": [],
   "source": [
    "diamonds_test.set_index('id',inplace=True)"
   ]
  },
  {
   "cell_type": "code",
   "execution_count": 202,
   "metadata": {},
   "outputs": [
    {
     "data": {
      "text/html": [
       "<div>\n",
       "<style scoped>\n",
       "    .dataframe tbody tr th:only-of-type {\n",
       "        vertical-align: middle;\n",
       "    }\n",
       "\n",
       "    .dataframe tbody tr th {\n",
       "        vertical-align: top;\n",
       "    }\n",
       "\n",
       "    .dataframe thead th {\n",
       "        text-align: right;\n",
       "    }\n",
       "</style>\n",
       "<table border=\"1\" class=\"dataframe\">\n",
       "  <thead>\n",
       "    <tr style=\"text-align: right;\">\n",
       "      <th></th>\n",
       "      <th>carat</th>\n",
       "      <th>cut</th>\n",
       "      <th>color</th>\n",
       "      <th>clarity</th>\n",
       "      <th>depth</th>\n",
       "      <th>table</th>\n",
       "      <th>x</th>\n",
       "      <th>y</th>\n",
       "      <th>z</th>\n",
       "    </tr>\n",
       "    <tr>\n",
       "      <th>id</th>\n",
       "      <th></th>\n",
       "      <th></th>\n",
       "      <th></th>\n",
       "      <th></th>\n",
       "      <th></th>\n",
       "      <th></th>\n",
       "      <th></th>\n",
       "      <th></th>\n",
       "      <th></th>\n",
       "    </tr>\n",
       "  </thead>\n",
       "  <tbody>\n",
       "    <tr>\n",
       "      <th>0</th>\n",
       "      <td>1.10</td>\n",
       "      <td>Premium</td>\n",
       "      <td>H</td>\n",
       "      <td>SI2</td>\n",
       "      <td>62.2</td>\n",
       "      <td>58.0</td>\n",
       "      <td>6.69</td>\n",
       "      <td>6.60</td>\n",
       "      <td>4.13</td>\n",
       "    </tr>\n",
       "    <tr>\n",
       "      <th>1</th>\n",
       "      <td>0.51</td>\n",
       "      <td>Ideal</td>\n",
       "      <td>I</td>\n",
       "      <td>SI1</td>\n",
       "      <td>62.5</td>\n",
       "      <td>57.0</td>\n",
       "      <td>5.07</td>\n",
       "      <td>5.10</td>\n",
       "      <td>3.18</td>\n",
       "    </tr>\n",
       "    <tr>\n",
       "      <th>2</th>\n",
       "      <td>2.03</td>\n",
       "      <td>Premium</td>\n",
       "      <td>G</td>\n",
       "      <td>SI1</td>\n",
       "      <td>61.9</td>\n",
       "      <td>59.0</td>\n",
       "      <td>8.14</td>\n",
       "      <td>8.09</td>\n",
       "      <td>5.02</td>\n",
       "    </tr>\n",
       "    <tr>\n",
       "      <th>3</th>\n",
       "      <td>1.21</td>\n",
       "      <td>Premium</td>\n",
       "      <td>F</td>\n",
       "      <td>SI1</td>\n",
       "      <td>60.0</td>\n",
       "      <td>60.0</td>\n",
       "      <td>6.96</td>\n",
       "      <td>6.91</td>\n",
       "      <td>4.16</td>\n",
       "    </tr>\n",
       "    <tr>\n",
       "      <th>4</th>\n",
       "      <td>0.55</td>\n",
       "      <td>Ideal</td>\n",
       "      <td>F</td>\n",
       "      <td>SI1</td>\n",
       "      <td>61.8</td>\n",
       "      <td>55.0</td>\n",
       "      <td>5.27</td>\n",
       "      <td>5.22</td>\n",
       "      <td>3.24</td>\n",
       "    </tr>\n",
       "    <tr>\n",
       "      <th>...</th>\n",
       "      <td>...</td>\n",
       "      <td>...</td>\n",
       "      <td>...</td>\n",
       "      <td>...</td>\n",
       "      <td>...</td>\n",
       "      <td>...</td>\n",
       "      <td>...</td>\n",
       "      <td>...</td>\n",
       "      <td>...</td>\n",
       "    </tr>\n",
       "    <tr>\n",
       "      <th>13444</th>\n",
       "      <td>0.30</td>\n",
       "      <td>Premium</td>\n",
       "      <td>E</td>\n",
       "      <td>VS2</td>\n",
       "      <td>60.0</td>\n",
       "      <td>58.0</td>\n",
       "      <td>4.37</td>\n",
       "      <td>4.40</td>\n",
       "      <td>2.63</td>\n",
       "    </tr>\n",
       "    <tr>\n",
       "      <th>13445</th>\n",
       "      <td>0.55</td>\n",
       "      <td>Ideal</td>\n",
       "      <td>D</td>\n",
       "      <td>VVS2</td>\n",
       "      <td>60.8</td>\n",
       "      <td>56.0</td>\n",
       "      <td>5.31</td>\n",
       "      <td>5.34</td>\n",
       "      <td>3.24</td>\n",
       "    </tr>\n",
       "    <tr>\n",
       "      <th>13446</th>\n",
       "      <td>0.23</td>\n",
       "      <td>Very Good</td>\n",
       "      <td>E</td>\n",
       "      <td>VVS1</td>\n",
       "      <td>61.3</td>\n",
       "      <td>58.0</td>\n",
       "      <td>3.94</td>\n",
       "      <td>3.96</td>\n",
       "      <td>2.42</td>\n",
       "    </tr>\n",
       "    <tr>\n",
       "      <th>13447</th>\n",
       "      <td>0.30</td>\n",
       "      <td>Ideal</td>\n",
       "      <td>D</td>\n",
       "      <td>VS2</td>\n",
       "      <td>61.4</td>\n",
       "      <td>58.0</td>\n",
       "      <td>4.29</td>\n",
       "      <td>4.31</td>\n",
       "      <td>2.64</td>\n",
       "    </tr>\n",
       "    <tr>\n",
       "      <th>13448</th>\n",
       "      <td>0.54</td>\n",
       "      <td>Ideal</td>\n",
       "      <td>D</td>\n",
       "      <td>VS1</td>\n",
       "      <td>61.4</td>\n",
       "      <td>53.0</td>\n",
       "      <td>5.28</td>\n",
       "      <td>5.30</td>\n",
       "      <td>3.25</td>\n",
       "    </tr>\n",
       "  </tbody>\n",
       "</table>\n",
       "<p>13449 rows × 9 columns</p>\n",
       "</div>"
      ],
      "text/plain": [
       "       carat        cut color clarity  depth  table     x     y     z\n",
       "id                                                                   \n",
       "0       1.10    Premium     H     SI2   62.2   58.0  6.69  6.60  4.13\n",
       "1       0.51      Ideal     I     SI1   62.5   57.0  5.07  5.10  3.18\n",
       "2       2.03    Premium     G     SI1   61.9   59.0  8.14  8.09  5.02\n",
       "3       1.21    Premium     F     SI1   60.0   60.0  6.96  6.91  4.16\n",
       "4       0.55      Ideal     F     SI1   61.8   55.0  5.27  5.22  3.24\n",
       "...      ...        ...   ...     ...    ...    ...   ...   ...   ...\n",
       "13444   0.30    Premium     E     VS2   60.0   58.0  4.37  4.40  2.63\n",
       "13445   0.55      Ideal     D    VVS2   60.8   56.0  5.31  5.34  3.24\n",
       "13446   0.23  Very Good     E    VVS1   61.3   58.0  3.94  3.96  2.42\n",
       "13447   0.30      Ideal     D     VS2   61.4   58.0  4.29  4.31  2.64\n",
       "13448   0.54      Ideal     D     VS1   61.4   53.0  5.28  5.30  3.25\n",
       "\n",
       "[13449 rows x 9 columns]"
      ]
     },
     "execution_count": 202,
     "metadata": {},
     "output_type": "execute_result"
    }
   ],
   "source": [
    "diamonds_test"
   ]
  },
  {
   "cell_type": "code",
   "execution_count": 203,
   "metadata": {},
   "outputs": [],
   "source": [
    "color = {'D': 1,'E': 2,'F':3, 'G':4, 'H':5, 'I': 6, 'J':7}\n",
    "diamonds_test.color = [color[item] for item in diamonds_test.color]"
   ]
  },
  {
   "cell_type": "code",
   "execution_count": 204,
   "metadata": {},
   "outputs": [],
   "source": [
    "clarity = {'SI1': 1, 'VS2': 2,'SI2': 3,'VS1':4, 'VVS2':5, 'VVS1':6, 'IF': 7, 'I1':8}\n",
    "diamonds_test.clarity = [clarity[item] for item in diamonds_test.clarity]"
   ]
  },
  {
   "cell_type": "code",
   "execution_count": 205,
   "metadata": {},
   "outputs": [],
   "source": [
    "cut = {'Ideal': 1, 'Premium': 2,'Very Good': 3,'Good':4, 'Fair':5}\n",
    "diamonds_test.cut = [cut[item] for item in diamonds_test.cut]"
   ]
  },
  {
   "cell_type": "code",
   "execution_count": 206,
   "metadata": {},
   "outputs": [
    {
     "data": {
      "text/html": [
       "<div>\n",
       "<style scoped>\n",
       "    .dataframe tbody tr th:only-of-type {\n",
       "        vertical-align: middle;\n",
       "    }\n",
       "\n",
       "    .dataframe tbody tr th {\n",
       "        vertical-align: top;\n",
       "    }\n",
       "\n",
       "    .dataframe thead th {\n",
       "        text-align: right;\n",
       "    }\n",
       "</style>\n",
       "<table border=\"1\" class=\"dataframe\">\n",
       "  <thead>\n",
       "    <tr style=\"text-align: right;\">\n",
       "      <th></th>\n",
       "      <th>carat</th>\n",
       "      <th>cut</th>\n",
       "      <th>color</th>\n",
       "      <th>clarity</th>\n",
       "      <th>depth</th>\n",
       "      <th>table</th>\n",
       "      <th>x</th>\n",
       "      <th>y</th>\n",
       "      <th>z</th>\n",
       "    </tr>\n",
       "    <tr>\n",
       "      <th>id</th>\n",
       "      <th></th>\n",
       "      <th></th>\n",
       "      <th></th>\n",
       "      <th></th>\n",
       "      <th></th>\n",
       "      <th></th>\n",
       "      <th></th>\n",
       "      <th></th>\n",
       "      <th></th>\n",
       "    </tr>\n",
       "  </thead>\n",
       "  <tbody>\n",
       "    <tr>\n",
       "      <th>0</th>\n",
       "      <td>1.10</td>\n",
       "      <td>2</td>\n",
       "      <td>5</td>\n",
       "      <td>3</td>\n",
       "      <td>62.2</td>\n",
       "      <td>58.0</td>\n",
       "      <td>6.69</td>\n",
       "      <td>6.60</td>\n",
       "      <td>4.13</td>\n",
       "    </tr>\n",
       "    <tr>\n",
       "      <th>1</th>\n",
       "      <td>0.51</td>\n",
       "      <td>1</td>\n",
       "      <td>6</td>\n",
       "      <td>1</td>\n",
       "      <td>62.5</td>\n",
       "      <td>57.0</td>\n",
       "      <td>5.07</td>\n",
       "      <td>5.10</td>\n",
       "      <td>3.18</td>\n",
       "    </tr>\n",
       "    <tr>\n",
       "      <th>2</th>\n",
       "      <td>2.03</td>\n",
       "      <td>2</td>\n",
       "      <td>4</td>\n",
       "      <td>1</td>\n",
       "      <td>61.9</td>\n",
       "      <td>59.0</td>\n",
       "      <td>8.14</td>\n",
       "      <td>8.09</td>\n",
       "      <td>5.02</td>\n",
       "    </tr>\n",
       "    <tr>\n",
       "      <th>3</th>\n",
       "      <td>1.21</td>\n",
       "      <td>2</td>\n",
       "      <td>3</td>\n",
       "      <td>1</td>\n",
       "      <td>60.0</td>\n",
       "      <td>60.0</td>\n",
       "      <td>6.96</td>\n",
       "      <td>6.91</td>\n",
       "      <td>4.16</td>\n",
       "    </tr>\n",
       "    <tr>\n",
       "      <th>4</th>\n",
       "      <td>0.55</td>\n",
       "      <td>1</td>\n",
       "      <td>3</td>\n",
       "      <td>1</td>\n",
       "      <td>61.8</td>\n",
       "      <td>55.0</td>\n",
       "      <td>5.27</td>\n",
       "      <td>5.22</td>\n",
       "      <td>3.24</td>\n",
       "    </tr>\n",
       "    <tr>\n",
       "      <th>...</th>\n",
       "      <td>...</td>\n",
       "      <td>...</td>\n",
       "      <td>...</td>\n",
       "      <td>...</td>\n",
       "      <td>...</td>\n",
       "      <td>...</td>\n",
       "      <td>...</td>\n",
       "      <td>...</td>\n",
       "      <td>...</td>\n",
       "    </tr>\n",
       "    <tr>\n",
       "      <th>13444</th>\n",
       "      <td>0.30</td>\n",
       "      <td>2</td>\n",
       "      <td>2</td>\n",
       "      <td>2</td>\n",
       "      <td>60.0</td>\n",
       "      <td>58.0</td>\n",
       "      <td>4.37</td>\n",
       "      <td>4.40</td>\n",
       "      <td>2.63</td>\n",
       "    </tr>\n",
       "    <tr>\n",
       "      <th>13445</th>\n",
       "      <td>0.55</td>\n",
       "      <td>1</td>\n",
       "      <td>1</td>\n",
       "      <td>5</td>\n",
       "      <td>60.8</td>\n",
       "      <td>56.0</td>\n",
       "      <td>5.31</td>\n",
       "      <td>5.34</td>\n",
       "      <td>3.24</td>\n",
       "    </tr>\n",
       "    <tr>\n",
       "      <th>13446</th>\n",
       "      <td>0.23</td>\n",
       "      <td>3</td>\n",
       "      <td>2</td>\n",
       "      <td>6</td>\n",
       "      <td>61.3</td>\n",
       "      <td>58.0</td>\n",
       "      <td>3.94</td>\n",
       "      <td>3.96</td>\n",
       "      <td>2.42</td>\n",
       "    </tr>\n",
       "    <tr>\n",
       "      <th>13447</th>\n",
       "      <td>0.30</td>\n",
       "      <td>1</td>\n",
       "      <td>1</td>\n",
       "      <td>2</td>\n",
       "      <td>61.4</td>\n",
       "      <td>58.0</td>\n",
       "      <td>4.29</td>\n",
       "      <td>4.31</td>\n",
       "      <td>2.64</td>\n",
       "    </tr>\n",
       "    <tr>\n",
       "      <th>13448</th>\n",
       "      <td>0.54</td>\n",
       "      <td>1</td>\n",
       "      <td>1</td>\n",
       "      <td>4</td>\n",
       "      <td>61.4</td>\n",
       "      <td>53.0</td>\n",
       "      <td>5.28</td>\n",
       "      <td>5.30</td>\n",
       "      <td>3.25</td>\n",
       "    </tr>\n",
       "  </tbody>\n",
       "</table>\n",
       "<p>13449 rows × 9 columns</p>\n",
       "</div>"
      ],
      "text/plain": [
       "       carat  cut  color  clarity  depth  table     x     y     z\n",
       "id                                                               \n",
       "0       1.10    2      5        3   62.2   58.0  6.69  6.60  4.13\n",
       "1       0.51    1      6        1   62.5   57.0  5.07  5.10  3.18\n",
       "2       2.03    2      4        1   61.9   59.0  8.14  8.09  5.02\n",
       "3       1.21    2      3        1   60.0   60.0  6.96  6.91  4.16\n",
       "4       0.55    1      3        1   61.8   55.0  5.27  5.22  3.24\n",
       "...      ...  ...    ...      ...    ...    ...   ...   ...   ...\n",
       "13444   0.30    2      2        2   60.0   58.0  4.37  4.40  2.63\n",
       "13445   0.55    1      1        5   60.8   56.0  5.31  5.34  3.24\n",
       "13446   0.23    3      2        6   61.3   58.0  3.94  3.96  2.42\n",
       "13447   0.30    1      1        2   61.4   58.0  4.29  4.31  2.64\n",
       "13448   0.54    1      1        4   61.4   53.0  5.28  5.30  3.25\n",
       "\n",
       "[13449 rows x 9 columns]"
      ]
     },
     "execution_count": 206,
     "metadata": {},
     "output_type": "execute_result"
    }
   ],
   "source": [
    "diamonds_test"
   ]
  },
  {
   "cell_type": "code",
   "execution_count": 207,
   "metadata": {},
   "outputs": [],
   "source": [
    "pipeline = [\n",
    "    StandardScaler(),\n",
    "#     Normalizer(),\n",
    "]\n",
    "\n",
    "tr = make_pipeline(*pipeline)\n",
    "\n",
    "X_norm_test = tr.fit_transform(diamonds_test)\n",
    "X_norm_test = pd.DataFrame(X_norm_test, columns = diamonds_test.columns)"
   ]
  },
  {
   "cell_type": "code",
   "execution_count": 208,
   "metadata": {},
   "outputs": [
    {
     "data": {
      "text/html": [
       "<div>\n",
       "<style scoped>\n",
       "    .dataframe tbody tr th:only-of-type {\n",
       "        vertical-align: middle;\n",
       "    }\n",
       "\n",
       "    .dataframe tbody tr th {\n",
       "        vertical-align: top;\n",
       "    }\n",
       "\n",
       "    .dataframe thead th {\n",
       "        text-align: right;\n",
       "    }\n",
       "</style>\n",
       "<table border=\"1\" class=\"dataframe\">\n",
       "  <thead>\n",
       "    <tr style=\"text-align: right;\">\n",
       "      <th></th>\n",
       "      <th>carat</th>\n",
       "      <th>cut</th>\n",
       "      <th>color</th>\n",
       "      <th>clarity</th>\n",
       "      <th>depth</th>\n",
       "      <th>table</th>\n",
       "      <th>x</th>\n",
       "      <th>y</th>\n",
       "      <th>z</th>\n",
       "    </tr>\n",
       "  </thead>\n",
       "  <tbody>\n",
       "    <tr>\n",
       "      <th>0</th>\n",
       "      <td>0.641654</td>\n",
       "      <td>-0.090572</td>\n",
       "      <td>0.825150</td>\n",
       "      <td>-0.004962</td>\n",
       "      <td>0.318043</td>\n",
       "      <td>0.231081</td>\n",
       "      <td>0.856946</td>\n",
       "      <td>0.780253</td>\n",
       "      <td>0.802251</td>\n",
       "    </tr>\n",
       "    <tr>\n",
       "      <th>1</th>\n",
       "      <td>-0.612003</td>\n",
       "      <td>-0.984925</td>\n",
       "      <td>1.412535</td>\n",
       "      <td>-1.126452</td>\n",
       "      <td>0.526896</td>\n",
       "      <td>-0.216898</td>\n",
       "      <td>-0.592755</td>\n",
       "      <td>-0.571521</td>\n",
       "      <td>-0.491658</td>\n",
       "    </tr>\n",
       "    <tr>\n",
       "      <th>2</th>\n",
       "      <td>2.617757</td>\n",
       "      <td>-0.090572</td>\n",
       "      <td>0.237766</td>\n",
       "      <td>-1.126452</td>\n",
       "      <td>0.109191</td>\n",
       "      <td>0.679059</td>\n",
       "      <td>2.154518</td>\n",
       "      <td>2.123014</td>\n",
       "      <td>2.014439</td>\n",
       "    </tr>\n",
       "    <tr>\n",
       "      <th>3</th>\n",
       "      <td>0.875386</td>\n",
       "      <td>-0.090572</td>\n",
       "      <td>-0.349618</td>\n",
       "      <td>-1.126452</td>\n",
       "      <td>-1.213540</td>\n",
       "      <td>1.127037</td>\n",
       "      <td>1.098563</td>\n",
       "      <td>1.059619</td>\n",
       "      <td>0.843111</td>\n",
       "    </tr>\n",
       "    <tr>\n",
       "      <th>4</th>\n",
       "      <td>-0.527010</td>\n",
       "      <td>-0.984925</td>\n",
       "      <td>-0.349618</td>\n",
       "      <td>-1.126452</td>\n",
       "      <td>0.039574</td>\n",
       "      <td>-1.112854</td>\n",
       "      <td>-0.413779</td>\n",
       "      <td>-0.463379</td>\n",
       "      <td>-0.409938</td>\n",
       "    </tr>\n",
       "    <tr>\n",
       "      <th>...</th>\n",
       "      <td>...</td>\n",
       "      <td>...</td>\n",
       "      <td>...</td>\n",
       "      <td>...</td>\n",
       "      <td>...</td>\n",
       "      <td>...</td>\n",
       "      <td>...</td>\n",
       "      <td>...</td>\n",
       "      <td>...</td>\n",
       "    </tr>\n",
       "    <tr>\n",
       "      <th>13444</th>\n",
       "      <td>-1.058220</td>\n",
       "      <td>-0.090572</td>\n",
       "      <td>-0.937002</td>\n",
       "      <td>-0.565707</td>\n",
       "      <td>-1.213540</td>\n",
       "      <td>0.231081</td>\n",
       "      <td>-1.219169</td>\n",
       "      <td>-1.202348</td>\n",
       "      <td>-1.240763</td>\n",
       "    </tr>\n",
       "    <tr>\n",
       "      <th>13445</th>\n",
       "      <td>-0.527010</td>\n",
       "      <td>-0.984925</td>\n",
       "      <td>-1.524386</td>\n",
       "      <td>1.116529</td>\n",
       "      <td>-0.656601</td>\n",
       "      <td>-0.664876</td>\n",
       "      <td>-0.377984</td>\n",
       "      <td>-0.355237</td>\n",
       "      <td>-0.409938</td>\n",
       "    </tr>\n",
       "    <tr>\n",
       "      <th>13446</th>\n",
       "      <td>-1.206959</td>\n",
       "      <td>0.803780</td>\n",
       "      <td>-0.937002</td>\n",
       "      <td>1.677274</td>\n",
       "      <td>-0.308514</td>\n",
       "      <td>0.231081</td>\n",
       "      <td>-1.603966</td>\n",
       "      <td>-1.598868</td>\n",
       "      <td>-1.526785</td>\n",
       "    </tr>\n",
       "    <tr>\n",
       "      <th>13447</th>\n",
       "      <td>-1.058220</td>\n",
       "      <td>-0.984925</td>\n",
       "      <td>-1.524386</td>\n",
       "      <td>-0.565707</td>\n",
       "      <td>-0.238896</td>\n",
       "      <td>0.231081</td>\n",
       "      <td>-1.290759</td>\n",
       "      <td>-1.283454</td>\n",
       "      <td>-1.227143</td>\n",
       "    </tr>\n",
       "    <tr>\n",
       "      <th>13448</th>\n",
       "      <td>-0.548258</td>\n",
       "      <td>-0.984925</td>\n",
       "      <td>-1.524386</td>\n",
       "      <td>0.555783</td>\n",
       "      <td>-0.238896</td>\n",
       "      <td>-2.008810</td>\n",
       "      <td>-0.404831</td>\n",
       "      <td>-0.391284</td>\n",
       "      <td>-0.396317</td>\n",
       "    </tr>\n",
       "  </tbody>\n",
       "</table>\n",
       "<p>13449 rows × 9 columns</p>\n",
       "</div>"
      ],
      "text/plain": [
       "          carat       cut     color   clarity     depth     table         x  \\\n",
       "0      0.641654 -0.090572  0.825150 -0.004962  0.318043  0.231081  0.856946   \n",
       "1     -0.612003 -0.984925  1.412535 -1.126452  0.526896 -0.216898 -0.592755   \n",
       "2      2.617757 -0.090572  0.237766 -1.126452  0.109191  0.679059  2.154518   \n",
       "3      0.875386 -0.090572 -0.349618 -1.126452 -1.213540  1.127037  1.098563   \n",
       "4     -0.527010 -0.984925 -0.349618 -1.126452  0.039574 -1.112854 -0.413779   \n",
       "...         ...       ...       ...       ...       ...       ...       ...   \n",
       "13444 -1.058220 -0.090572 -0.937002 -0.565707 -1.213540  0.231081 -1.219169   \n",
       "13445 -0.527010 -0.984925 -1.524386  1.116529 -0.656601 -0.664876 -0.377984   \n",
       "13446 -1.206959  0.803780 -0.937002  1.677274 -0.308514  0.231081 -1.603966   \n",
       "13447 -1.058220 -0.984925 -1.524386 -0.565707 -0.238896  0.231081 -1.290759   \n",
       "13448 -0.548258 -0.984925 -1.524386  0.555783 -0.238896 -2.008810 -0.404831   \n",
       "\n",
       "              y         z  \n",
       "0      0.780253  0.802251  \n",
       "1     -0.571521 -0.491658  \n",
       "2      2.123014  2.014439  \n",
       "3      1.059619  0.843111  \n",
       "4     -0.463379 -0.409938  \n",
       "...         ...       ...  \n",
       "13444 -1.202348 -1.240763  \n",
       "13445 -0.355237 -0.409938  \n",
       "13446 -1.598868 -1.526785  \n",
       "13447 -1.283454 -1.227143  \n",
       "13448 -0.391284 -0.396317  \n",
       "\n",
       "[13449 rows x 9 columns]"
      ]
     },
     "execution_count": 208,
     "metadata": {},
     "output_type": "execute_result"
    }
   ],
   "source": [
    "X_norm_test"
   ]
  },
  {
   "cell_type": "code",
   "execution_count": 209,
   "metadata": {},
   "outputs": [],
   "source": [
    "X_norm_test = X_norm_test.iloc[:,:-4]"
   ]
  },
  {
   "cell_type": "code",
   "execution_count": 210,
   "metadata": {},
   "outputs": [
    {
     "data": {
      "text/html": [
       "<div>\n",
       "<style scoped>\n",
       "    .dataframe tbody tr th:only-of-type {\n",
       "        vertical-align: middle;\n",
       "    }\n",
       "\n",
       "    .dataframe tbody tr th {\n",
       "        vertical-align: top;\n",
       "    }\n",
       "\n",
       "    .dataframe thead th {\n",
       "        text-align: right;\n",
       "    }\n",
       "</style>\n",
       "<table border=\"1\" class=\"dataframe\">\n",
       "  <thead>\n",
       "    <tr style=\"text-align: right;\">\n",
       "      <th></th>\n",
       "      <th>carat</th>\n",
       "      <th>cut</th>\n",
       "      <th>color</th>\n",
       "      <th>clarity</th>\n",
       "      <th>depth</th>\n",
       "    </tr>\n",
       "  </thead>\n",
       "  <tbody>\n",
       "    <tr>\n",
       "      <th>0</th>\n",
       "      <td>0.641654</td>\n",
       "      <td>-0.090572</td>\n",
       "      <td>0.825150</td>\n",
       "      <td>-0.004962</td>\n",
       "      <td>0.318043</td>\n",
       "    </tr>\n",
       "    <tr>\n",
       "      <th>1</th>\n",
       "      <td>-0.612003</td>\n",
       "      <td>-0.984925</td>\n",
       "      <td>1.412535</td>\n",
       "      <td>-1.126452</td>\n",
       "      <td>0.526896</td>\n",
       "    </tr>\n",
       "    <tr>\n",
       "      <th>2</th>\n",
       "      <td>2.617757</td>\n",
       "      <td>-0.090572</td>\n",
       "      <td>0.237766</td>\n",
       "      <td>-1.126452</td>\n",
       "      <td>0.109191</td>\n",
       "    </tr>\n",
       "    <tr>\n",
       "      <th>3</th>\n",
       "      <td>0.875386</td>\n",
       "      <td>-0.090572</td>\n",
       "      <td>-0.349618</td>\n",
       "      <td>-1.126452</td>\n",
       "      <td>-1.213540</td>\n",
       "    </tr>\n",
       "    <tr>\n",
       "      <th>4</th>\n",
       "      <td>-0.527010</td>\n",
       "      <td>-0.984925</td>\n",
       "      <td>-0.349618</td>\n",
       "      <td>-1.126452</td>\n",
       "      <td>0.039574</td>\n",
       "    </tr>\n",
       "    <tr>\n",
       "      <th>...</th>\n",
       "      <td>...</td>\n",
       "      <td>...</td>\n",
       "      <td>...</td>\n",
       "      <td>...</td>\n",
       "      <td>...</td>\n",
       "    </tr>\n",
       "    <tr>\n",
       "      <th>13444</th>\n",
       "      <td>-1.058220</td>\n",
       "      <td>-0.090572</td>\n",
       "      <td>-0.937002</td>\n",
       "      <td>-0.565707</td>\n",
       "      <td>-1.213540</td>\n",
       "    </tr>\n",
       "    <tr>\n",
       "      <th>13445</th>\n",
       "      <td>-0.527010</td>\n",
       "      <td>-0.984925</td>\n",
       "      <td>-1.524386</td>\n",
       "      <td>1.116529</td>\n",
       "      <td>-0.656601</td>\n",
       "    </tr>\n",
       "    <tr>\n",
       "      <th>13446</th>\n",
       "      <td>-1.206959</td>\n",
       "      <td>0.803780</td>\n",
       "      <td>-0.937002</td>\n",
       "      <td>1.677274</td>\n",
       "      <td>-0.308514</td>\n",
       "    </tr>\n",
       "    <tr>\n",
       "      <th>13447</th>\n",
       "      <td>-1.058220</td>\n",
       "      <td>-0.984925</td>\n",
       "      <td>-1.524386</td>\n",
       "      <td>-0.565707</td>\n",
       "      <td>-0.238896</td>\n",
       "    </tr>\n",
       "    <tr>\n",
       "      <th>13448</th>\n",
       "      <td>-0.548258</td>\n",
       "      <td>-0.984925</td>\n",
       "      <td>-1.524386</td>\n",
       "      <td>0.555783</td>\n",
       "      <td>-0.238896</td>\n",
       "    </tr>\n",
       "  </tbody>\n",
       "</table>\n",
       "<p>13449 rows × 5 columns</p>\n",
       "</div>"
      ],
      "text/plain": [
       "          carat       cut     color   clarity     depth\n",
       "0      0.641654 -0.090572  0.825150 -0.004962  0.318043\n",
       "1     -0.612003 -0.984925  1.412535 -1.126452  0.526896\n",
       "2      2.617757 -0.090572  0.237766 -1.126452  0.109191\n",
       "3      0.875386 -0.090572 -0.349618 -1.126452 -1.213540\n",
       "4     -0.527010 -0.984925 -0.349618 -1.126452  0.039574\n",
       "...         ...       ...       ...       ...       ...\n",
       "13444 -1.058220 -0.090572 -0.937002 -0.565707 -1.213540\n",
       "13445 -0.527010 -0.984925 -1.524386  1.116529 -0.656601\n",
       "13446 -1.206959  0.803780 -0.937002  1.677274 -0.308514\n",
       "13447 -1.058220 -0.984925 -1.524386 -0.565707 -0.238896\n",
       "13448 -0.548258 -0.984925 -1.524386  0.555783 -0.238896\n",
       "\n",
       "[13449 rows x 5 columns]"
      ]
     },
     "execution_count": 210,
     "metadata": {},
     "output_type": "execute_result"
    }
   ],
   "source": [
    "X_norm_test"
   ]
  },
  {
   "cell_type": "markdown",
   "metadata": {},
   "source": [
    "# Sklearn"
   ]
  },
  {
   "cell_type": "code",
   "execution_count": null,
   "metadata": {},
   "outputs": [],
   "source": [
    "regre_forest_test = rf_reg.predict(X_norm_test)"
   ]
  },
  {
   "cell_type": "code",
   "execution_count": null,
   "metadata": {},
   "outputs": [],
   "source": [
    "regre_forest_test"
   ]
  },
  {
   "cell_type": "code",
   "execution_count": null,
   "metadata": {},
   "outputs": [],
   "source": [
    "X_norm_forest = X_norm_test.copy()"
   ]
  },
  {
   "cell_type": "code",
   "execution_count": null,
   "metadata": {},
   "outputs": [],
   "source": [
    "X_norm_test"
   ]
  },
  {
   "cell_type": "code",
   "execution_count": null,
   "metadata": {},
   "outputs": [],
   "source": [
    "X_norm_forest['price'] = regre_forest_test"
   ]
  },
  {
   "cell_type": "code",
   "execution_count": null,
   "metadata": {},
   "outputs": [],
   "source": [
    "X_norm_forest"
   ]
  },
  {
   "cell_type": "code",
   "execution_count": null,
   "metadata": {},
   "outputs": [],
   "source": [
    "regre_forest_price = X_norm_forest[['price']]"
   ]
  },
  {
   "cell_type": "code",
   "execution_count": null,
   "metadata": {},
   "outputs": [],
   "source": [
    "regre_forest_price.reset_index(inplace=True)"
   ]
  },
  {
   "cell_type": "code",
   "execution_count": null,
   "metadata": {},
   "outputs": [],
   "source": [
    "regre_forest_price.rename(columns={'index':'id'}, inplace=True)"
   ]
  },
  {
   "cell_type": "code",
   "execution_count": null,
   "metadata": {},
   "outputs": [],
   "source": [
    "regre_forest_price.set_index('id',inplace=True)"
   ]
  },
  {
   "cell_type": "code",
   "execution_count": null,
   "metadata": {},
   "outputs": [],
   "source": [
    "regre_forest_price.to_csv('output/diamonds_predict_forest.csv')"
   ]
  },
  {
   "cell_type": "code",
   "execution_count": null,
   "metadata": {},
   "outputs": [],
   "source": [
    "X_norm_test"
   ]
  },
  {
   "cell_type": "code",
   "execution_count": null,
   "metadata": {},
   "outputs": [],
   "source": [
    "gradient_boost_test = gb_reg.predict(X_norm_test)"
   ]
  },
  {
   "cell_type": "code",
   "execution_count": null,
   "metadata": {},
   "outputs": [],
   "source": [
    "gradient_boost_test"
   ]
  },
  {
   "cell_type": "code",
   "execution_count": null,
   "metadata": {},
   "outputs": [],
   "source": [
    "X_norm_test['price'] = gradient_boost_test"
   ]
  },
  {
   "cell_type": "code",
   "execution_count": null,
   "metadata": {},
   "outputs": [],
   "source": [
    "gradient_boost_test = X_norm_test[['price']]"
   ]
  },
  {
   "cell_type": "code",
   "execution_count": null,
   "metadata": {},
   "outputs": [],
   "source": [
    "gradient_boost_test.reset_index(inplace=True)"
   ]
  },
  {
   "cell_type": "code",
   "execution_count": null,
   "metadata": {},
   "outputs": [],
   "source": [
    "gradient_boost_test.rename(columns={'index':'id'}, inplace=True)"
   ]
  },
  {
   "cell_type": "code",
   "execution_count": null,
   "metadata": {},
   "outputs": [],
   "source": [
    "gradient_boost_test.set_index('id',inplace=True)"
   ]
  },
  {
   "cell_type": "code",
   "execution_count": null,
   "metadata": {},
   "outputs": [],
   "source": [
    "gradient_boost_test.to_csv('output/diamonds_predict_gradient.csv')"
   ]
  },
  {
   "cell_type": "code",
   "execution_count": null,
   "metadata": {},
   "outputs": [],
   "source": []
  },
  {
   "cell_type": "markdown",
   "metadata": {},
   "source": [
    "# H2O "
   ]
  },
  {
   "cell_type": "code",
   "execution_count": 139,
   "metadata": {},
   "outputs": [
    {
     "name": "stdout",
     "output_type": "stream",
     "text": [
      "Parse progress: |█████████████████████████████████████████████████████████| 100%\n",
      "stackedensemble prediction progress: |████████████████████████████████████| 100%\n"
     ]
    }
   ],
   "source": [
    "data = h2o.H2OFrame(X_norm_test)\n",
    "h2o_auto = model_auto_h2o.leader.predict(data)"
   ]
  },
  {
   "cell_type": "code",
   "execution_count": 140,
   "metadata": {},
   "outputs": [
    {
     "name": "stdout",
     "output_type": "stream",
     "text": [
      "\n",
      "ModelMetricsRegressionGLM: stackedensemble\n",
      "** Reported on test data. **\n",
      "\n",
      "MSE: 158340.6344937245\n",
      "RMSE: 397.9203871300445\n",
      "MAE: 209.57212716493058\n",
      "RMSLE: 0.07590528476722236\n",
      "R^2: 0.9901121222239553\n",
      "Mean Residual Deviance: 158340.6344937245\n",
      "Null degrees of freedom: 7954\n",
      "Residual degrees of freedom: 7947\n",
      "Null deviance: 127388547860.82004\n",
      "Residual deviance: 1259599747.3975785\n",
      "AIC: 117834.58063454155\n"
     ]
    },
    {
     "data": {
      "text/plain": []
     },
     "execution_count": 140,
     "metadata": {},
     "output_type": "execute_result"
    }
   ],
   "source": [
    "perf = model_auto_h2o.leader.model_performance(test)\n",
    "perf"
   ]
  },
  {
   "cell_type": "code",
   "execution_count": 156,
   "metadata": {},
   "outputs": [],
   "source": [
    "auto_df = h2o.as_list(h2o_auto)"
   ]
  },
  {
   "cell_type": "code",
   "execution_count": 157,
   "metadata": {},
   "outputs": [],
   "source": [
    "auto_df.rename(columns={'predict':'price'}, inplace=True)\n",
    "auto_df.reset_index(inplace=True)\n",
    "auto_df.rename(columns={'index':'id'}, inplace=True)\n",
    "auto_df.set_index('id',inplace=True)"
   ]
  },
  {
   "cell_type": "code",
   "execution_count": 158,
   "metadata": {},
   "outputs": [
    {
     "data": {
      "text/html": [
       "<div>\n",
       "<style scoped>\n",
       "    .dataframe tbody tr th:only-of-type {\n",
       "        vertical-align: middle;\n",
       "    }\n",
       "\n",
       "    .dataframe tbody tr th {\n",
       "        vertical-align: top;\n",
       "    }\n",
       "\n",
       "    .dataframe thead th {\n",
       "        text-align: right;\n",
       "    }\n",
       "</style>\n",
       "<table border=\"1\" class=\"dataframe\">\n",
       "  <thead>\n",
       "    <tr style=\"text-align: right;\">\n",
       "      <th></th>\n",
       "      <th>price</th>\n",
       "    </tr>\n",
       "    <tr>\n",
       "      <th>id</th>\n",
       "      <th></th>\n",
       "    </tr>\n",
       "  </thead>\n",
       "  <tbody>\n",
       "    <tr>\n",
       "      <th>0</th>\n",
       "      <td>4438.893932</td>\n",
       "    </tr>\n",
       "    <tr>\n",
       "      <th>1</th>\n",
       "      <td>1027.419480</td>\n",
       "    </tr>\n",
       "    <tr>\n",
       "      <th>2</th>\n",
       "      <td>17347.587827</td>\n",
       "    </tr>\n",
       "    <tr>\n",
       "      <th>3</th>\n",
       "      <td>6926.247360</td>\n",
       "    </tr>\n",
       "    <tr>\n",
       "      <th>4</th>\n",
       "      <td>1496.481904</td>\n",
       "    </tr>\n",
       "    <tr>\n",
       "      <th>...</th>\n",
       "      <td>...</td>\n",
       "    </tr>\n",
       "    <tr>\n",
       "      <th>13444</th>\n",
       "      <td>776.605107</td>\n",
       "    </tr>\n",
       "    <tr>\n",
       "      <th>13445</th>\n",
       "      <td>2623.395189</td>\n",
       "    </tr>\n",
       "    <tr>\n",
       "      <th>13446</th>\n",
       "      <td>513.513511</td>\n",
       "    </tr>\n",
       "    <tr>\n",
       "      <th>13447</th>\n",
       "      <td>760.746538</td>\n",
       "    </tr>\n",
       "    <tr>\n",
       "      <th>13448</th>\n",
       "      <td>2081.627185</td>\n",
       "    </tr>\n",
       "  </tbody>\n",
       "</table>\n",
       "<p>13449 rows × 1 columns</p>\n",
       "</div>"
      ],
      "text/plain": [
       "              price\n",
       "id                 \n",
       "0       4438.893932\n",
       "1       1027.419480\n",
       "2      17347.587827\n",
       "3       6926.247360\n",
       "4       1496.481904\n",
       "...             ...\n",
       "13444    776.605107\n",
       "13445   2623.395189\n",
       "13446    513.513511\n",
       "13447    760.746538\n",
       "13448   2081.627185\n",
       "\n",
       "[13449 rows x 1 columns]"
      ]
     },
     "execution_count": 158,
     "metadata": {},
     "output_type": "execute_result"
    }
   ],
   "source": [
    "auto_df"
   ]
  },
  {
   "cell_type": "code",
   "execution_count": 159,
   "metadata": {},
   "outputs": [],
   "source": [
    "auto_df.to_csv('output/diamonds_predict_h2o_automl.csv')"
   ]
  },
  {
   "cell_type": "code",
   "execution_count": 131,
   "metadata": {},
   "outputs": [
    {
     "name": "stdout",
     "output_type": "stream",
     "text": [
      "Parse progress: |█████████████████████████████████████████████████████████| 100%\n",
      "drf prediction progress: |████████████████████████████████████████████████| 100%\n"
     ]
    }
   ],
   "source": [
    "data = h2o.H2OFrame(X_norm_test)\n",
    "h2o_forest = model_forest_h2o.predict(data)"
   ]
  },
  {
   "cell_type": "code",
   "execution_count": 132,
   "metadata": {},
   "outputs": [
    {
     "name": "stdout",
     "output_type": "stream",
     "text": [
      "\n",
      "ModelMetricsRegression: drf\n",
      "** Reported on test data. **\n",
      "\n",
      "MSE: 1949148.9665854329\n",
      "RMSE: 1396.1192522794865\n",
      "MAE: 950.2870498290099\n",
      "RMSLE: 0.5368236045174317\n",
      "Mean Residual Deviance: 1949148.9665854329\n"
     ]
    },
    {
     "data": {
      "text/plain": []
     },
     "execution_count": 132,
     "metadata": {},
     "output_type": "execute_result"
    }
   ],
   "source": [
    "perf = model_forest_h2o.model_performance(test)\n",
    "perf"
   ]
  },
  {
   "cell_type": "code",
   "execution_count": 136,
   "metadata": {},
   "outputs": [],
   "source": [
    "forest_as_pandas = h2o.as_list(h2o_forest)"
   ]
  },
  {
   "cell_type": "code",
   "execution_count": 137,
   "metadata": {},
   "outputs": [
    {
     "data": {
      "text/html": [
       "<div>\n",
       "<style scoped>\n",
       "    .dataframe tbody tr th:only-of-type {\n",
       "        vertical-align: middle;\n",
       "    }\n",
       "\n",
       "    .dataframe tbody tr th {\n",
       "        vertical-align: top;\n",
       "    }\n",
       "\n",
       "    .dataframe thead th {\n",
       "        text-align: right;\n",
       "    }\n",
       "</style>\n",
       "<table border=\"1\" class=\"dataframe\">\n",
       "  <thead>\n",
       "    <tr style=\"text-align: right;\">\n",
       "      <th></th>\n",
       "      <th>predict</th>\n",
       "    </tr>\n",
       "  </thead>\n",
       "  <tbody>\n",
       "    <tr>\n",
       "      <th>0</th>\n",
       "      <td>4743.801943</td>\n",
       "    </tr>\n",
       "    <tr>\n",
       "      <th>1</th>\n",
       "      <td>2170.153005</td>\n",
       "    </tr>\n",
       "    <tr>\n",
       "      <th>2</th>\n",
       "      <td>12827.232265</td>\n",
       "    </tr>\n",
       "    <tr>\n",
       "      <th>3</th>\n",
       "      <td>6058.212419</td>\n",
       "    </tr>\n",
       "    <tr>\n",
       "      <th>4</th>\n",
       "      <td>2012.727200</td>\n",
       "    </tr>\n",
       "    <tr>\n",
       "      <th>...</th>\n",
       "      <td>...</td>\n",
       "    </tr>\n",
       "    <tr>\n",
       "      <th>13444</th>\n",
       "      <td>1623.722622</td>\n",
       "    </tr>\n",
       "    <tr>\n",
       "      <th>13445</th>\n",
       "      <td>2377.489515</td>\n",
       "    </tr>\n",
       "    <tr>\n",
       "      <th>13446</th>\n",
       "      <td>1081.434553</td>\n",
       "    </tr>\n",
       "    <tr>\n",
       "      <th>13447</th>\n",
       "      <td>1673.811379</td>\n",
       "    </tr>\n",
       "    <tr>\n",
       "      <th>13448</th>\n",
       "      <td>2097.568140</td>\n",
       "    </tr>\n",
       "  </tbody>\n",
       "</table>\n",
       "<p>13449 rows × 1 columns</p>\n",
       "</div>"
      ],
      "text/plain": [
       "            predict\n",
       "0       4743.801943\n",
       "1       2170.153005\n",
       "2      12827.232265\n",
       "3       6058.212419\n",
       "4       2012.727200\n",
       "...             ...\n",
       "13444   1623.722622\n",
       "13445   2377.489515\n",
       "13446   1081.434553\n",
       "13447   1673.811379\n",
       "13448   2097.568140\n",
       "\n",
       "[13449 rows x 1 columns]"
      ]
     },
     "execution_count": 137,
     "metadata": {},
     "output_type": "execute_result"
    }
   ],
   "source": [
    "forest_as_pandas"
   ]
  },
  {
   "cell_type": "markdown",
   "metadata": {},
   "source": [
    "# Keras"
   ]
  },
  {
   "cell_type": "code",
   "execution_count": 237,
   "metadata": {},
   "outputs": [],
   "source": [
    "keras_test = model_keras.predict(X_norm_test)"
   ]
  },
  {
   "cell_type": "code",
   "execution_count": 238,
   "metadata": {},
   "outputs": [
    {
     "data": {
      "text/plain": [
       "array([[ 4339.766  ],\n",
       "       [ 1075.472  ],\n",
       "       [16776.107  ],\n",
       "       ...,\n",
       "       [  423.84988],\n",
       "       [  737.6876 ],\n",
       "       [ 2061.2976 ]], dtype=float32)"
      ]
     },
     "execution_count": 238,
     "metadata": {},
     "output_type": "execute_result"
    }
   ],
   "source": [
    "keras_test"
   ]
  },
  {
   "cell_type": "code",
   "execution_count": 239,
   "metadata": {},
   "outputs": [],
   "source": [
    "keras_test = pd.DataFrame(keras_test)"
   ]
  },
  {
   "cell_type": "code",
   "execution_count": 240,
   "metadata": {},
   "outputs": [],
   "source": [
    "keras_test.rename(columns={0:'price'}, inplace=True)\n",
    "keras_test.reset_index(inplace=True)\n",
    "keras_test.rename(columns={'index':'id'}, inplace=True)\n",
    "keras_test.set_index('id',inplace=True)"
   ]
  },
  {
   "cell_type": "code",
   "execution_count": 241,
   "metadata": {},
   "outputs": [
    {
     "data": {
      "text/html": [
       "<div>\n",
       "<style scoped>\n",
       "    .dataframe tbody tr th:only-of-type {\n",
       "        vertical-align: middle;\n",
       "    }\n",
       "\n",
       "    .dataframe tbody tr th {\n",
       "        vertical-align: top;\n",
       "    }\n",
       "\n",
       "    .dataframe thead th {\n",
       "        text-align: right;\n",
       "    }\n",
       "</style>\n",
       "<table border=\"1\" class=\"dataframe\">\n",
       "  <thead>\n",
       "    <tr style=\"text-align: right;\">\n",
       "      <th></th>\n",
       "      <th>price</th>\n",
       "    </tr>\n",
       "    <tr>\n",
       "      <th>id</th>\n",
       "      <th></th>\n",
       "    </tr>\n",
       "  </thead>\n",
       "  <tbody>\n",
       "    <tr>\n",
       "      <th>0</th>\n",
       "      <td>4339.766113</td>\n",
       "    </tr>\n",
       "    <tr>\n",
       "      <th>1</th>\n",
       "      <td>1075.472046</td>\n",
       "    </tr>\n",
       "    <tr>\n",
       "      <th>2</th>\n",
       "      <td>16776.107422</td>\n",
       "    </tr>\n",
       "    <tr>\n",
       "      <th>3</th>\n",
       "      <td>6704.907715</td>\n",
       "    </tr>\n",
       "    <tr>\n",
       "      <th>4</th>\n",
       "      <td>1495.950073</td>\n",
       "    </tr>\n",
       "    <tr>\n",
       "      <th>...</th>\n",
       "      <td>...</td>\n",
       "    </tr>\n",
       "    <tr>\n",
       "      <th>13444</th>\n",
       "      <td>604.650879</td>\n",
       "    </tr>\n",
       "    <tr>\n",
       "      <th>13445</th>\n",
       "      <td>2470.573242</td>\n",
       "    </tr>\n",
       "    <tr>\n",
       "      <th>13446</th>\n",
       "      <td>423.849884</td>\n",
       "    </tr>\n",
       "    <tr>\n",
       "      <th>13447</th>\n",
       "      <td>737.687622</td>\n",
       "    </tr>\n",
       "    <tr>\n",
       "      <th>13448</th>\n",
       "      <td>2061.297607</td>\n",
       "    </tr>\n",
       "  </tbody>\n",
       "</table>\n",
       "<p>13449 rows × 1 columns</p>\n",
       "</div>"
      ],
      "text/plain": [
       "              price\n",
       "id                 \n",
       "0       4339.766113\n",
       "1       1075.472046\n",
       "2      16776.107422\n",
       "3       6704.907715\n",
       "4       1495.950073\n",
       "...             ...\n",
       "13444    604.650879\n",
       "13445   2470.573242\n",
       "13446    423.849884\n",
       "13447    737.687622\n",
       "13448   2061.297607\n",
       "\n",
       "[13449 rows x 1 columns]"
      ]
     },
     "execution_count": 241,
     "metadata": {},
     "output_type": "execute_result"
    }
   ],
   "source": [
    "keras_test"
   ]
  },
  {
   "cell_type": "code",
   "execution_count": 242,
   "metadata": {},
   "outputs": [],
   "source": [
    "keras_test.to_csv('output/diamonds_predict_keras.csv')"
   ]
  },
  {
   "cell_type": "code",
   "execution_count": null,
   "metadata": {},
   "outputs": [],
   "source": []
  }
 ],
 "metadata": {
  "kernelspec": {
   "display_name": "Python 3",
   "language": "python",
   "name": "python3"
  },
  "language_info": {
   "codemirror_mode": {
    "name": "ipython",
    "version": 3
   },
   "file_extension": ".py",
   "mimetype": "text/x-python",
   "name": "python",
   "nbconvert_exporter": "python",
   "pygments_lexer": "ipython3",
   "version": "3.6.9"
  }
 },
 "nbformat": 4,
 "nbformat_minor": 2
}
